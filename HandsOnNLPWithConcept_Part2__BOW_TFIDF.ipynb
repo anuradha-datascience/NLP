{
  "nbformat": 4,
  "nbformat_minor": 0,
  "metadata": {
    "colab": {
      "provenance": [],
      "authorship_tag": "ABX9TyPmhftV8I/POe+c7CsGcYMM",
      "include_colab_link": true
    },
    "kernelspec": {
      "name": "python3",
      "display_name": "Python 3"
    },
    "language_info": {
      "name": "python"
    }
  },
  "cells": [
    {
      "cell_type": "markdown",
      "metadata": {
        "id": "view-in-github",
        "colab_type": "text"
      },
      "source": [
        "<a href=\"https://colab.research.google.com/github/anuradha-datascience/NLP/blob/main/HandsOnNLPWithConcept_Part2__BOW_TFIDF.ipynb\" target=\"_parent\"><img src=\"https://colab.research.google.com/assets/colab-badge.svg\" alt=\"Open In Colab\"/></a>"
      ]
    },
    {
      "cell_type": "code",
      "execution_count": 58,
      "metadata": {
        "id": "j_BHsgg4wb2C"
      },
      "outputs": [],
      "source": [
        "import pandas as pd\n",
        "import chardet\n",
        "with open('SMSSpamCollection.csv', 'rb') as f:\n",
        "    encoding = chardet.detect(f.read())['encoding']\n"
      ]
    },
    {
      "cell_type": "code",
      "source": [
        "df=pd.read_csv('SMSSpamCollection.csv',sep=\"\\t\",names=[\"label\",\"message\"],encoding=encoding)"
      ],
      "metadata": {
        "id": "uyV8Dnpzx4mj"
      },
      "execution_count": 59,
      "outputs": []
    },
    {
      "cell_type": "code",
      "source": [
        "df.head()"
      ],
      "metadata": {
        "colab": {
          "base_uri": "https://localhost:8080/",
          "height": 206
        },
        "id": "lp9zqksix6A1",
        "outputId": "b8921aec-efa6-4a79-e28a-04a9384f3a1d"
      },
      "execution_count": 60,
      "outputs": [
        {
          "output_type": "execute_result",
          "data": {
            "text/plain": [
              "  label                                            message\n",
              "0   ham  Go until jurong point, crazy.. Available only ...\n",
              "1   ham                      Ok lar... Joking wif u oni...\n",
              "2  spam  Free entry in 2 a wkly comp to win FA Cup fina...\n",
              "3   ham  U dun say so early hor... U c already then say...\n",
              "4   ham  Nah I don't think he goes to usf, he lives aro..."
            ],
            "text/html": [
              "\n",
              "  <div id=\"df-d0922361-d286-45cf-9437-253bf28520f0\" class=\"colab-df-container\">\n",
              "    <div>\n",
              "<style scoped>\n",
              "    .dataframe tbody tr th:only-of-type {\n",
              "        vertical-align: middle;\n",
              "    }\n",
              "\n",
              "    .dataframe tbody tr th {\n",
              "        vertical-align: top;\n",
              "    }\n",
              "\n",
              "    .dataframe thead th {\n",
              "        text-align: right;\n",
              "    }\n",
              "</style>\n",
              "<table border=\"1\" class=\"dataframe\">\n",
              "  <thead>\n",
              "    <tr style=\"text-align: right;\">\n",
              "      <th></th>\n",
              "      <th>label</th>\n",
              "      <th>message</th>\n",
              "    </tr>\n",
              "  </thead>\n",
              "  <tbody>\n",
              "    <tr>\n",
              "      <th>0</th>\n",
              "      <td>ham</td>\n",
              "      <td>Go until jurong point, crazy.. Available only ...</td>\n",
              "    </tr>\n",
              "    <tr>\n",
              "      <th>1</th>\n",
              "      <td>ham</td>\n",
              "      <td>Ok lar... Joking wif u oni...</td>\n",
              "    </tr>\n",
              "    <tr>\n",
              "      <th>2</th>\n",
              "      <td>spam</td>\n",
              "      <td>Free entry in 2 a wkly comp to win FA Cup fina...</td>\n",
              "    </tr>\n",
              "    <tr>\n",
              "      <th>3</th>\n",
              "      <td>ham</td>\n",
              "      <td>U dun say so early hor... U c already then say...</td>\n",
              "    </tr>\n",
              "    <tr>\n",
              "      <th>4</th>\n",
              "      <td>ham</td>\n",
              "      <td>Nah I don't think he goes to usf, he lives aro...</td>\n",
              "    </tr>\n",
              "  </tbody>\n",
              "</table>\n",
              "</div>\n",
              "    <div class=\"colab-df-buttons\">\n",
              "\n",
              "  <div class=\"colab-df-container\">\n",
              "    <button class=\"colab-df-convert\" onclick=\"convertToInteractive('df-d0922361-d286-45cf-9437-253bf28520f0')\"\n",
              "            title=\"Convert this dataframe to an interactive table.\"\n",
              "            style=\"display:none;\">\n",
              "\n",
              "  <svg xmlns=\"http://www.w3.org/2000/svg\" height=\"24px\" viewBox=\"0 -960 960 960\">\n",
              "    <path d=\"M120-120v-720h720v720H120Zm60-500h600v-160H180v160Zm220 220h160v-160H400v160Zm0 220h160v-160H400v160ZM180-400h160v-160H180v160Zm440 0h160v-160H620v160ZM180-180h160v-160H180v160Zm440 0h160v-160H620v160Z\"/>\n",
              "  </svg>\n",
              "    </button>\n",
              "\n",
              "  <style>\n",
              "    .colab-df-container {\n",
              "      display:flex;\n",
              "      gap: 12px;\n",
              "    }\n",
              "\n",
              "    .colab-df-convert {\n",
              "      background-color: #E8F0FE;\n",
              "      border: none;\n",
              "      border-radius: 50%;\n",
              "      cursor: pointer;\n",
              "      display: none;\n",
              "      fill: #1967D2;\n",
              "      height: 32px;\n",
              "      padding: 0 0 0 0;\n",
              "      width: 32px;\n",
              "    }\n",
              "\n",
              "    .colab-df-convert:hover {\n",
              "      background-color: #E2EBFA;\n",
              "      box-shadow: 0px 1px 2px rgba(60, 64, 67, 0.3), 0px 1px 3px 1px rgba(60, 64, 67, 0.15);\n",
              "      fill: #174EA6;\n",
              "    }\n",
              "\n",
              "    .colab-df-buttons div {\n",
              "      margin-bottom: 4px;\n",
              "    }\n",
              "\n",
              "    [theme=dark] .colab-df-convert {\n",
              "      background-color: #3B4455;\n",
              "      fill: #D2E3FC;\n",
              "    }\n",
              "\n",
              "    [theme=dark] .colab-df-convert:hover {\n",
              "      background-color: #434B5C;\n",
              "      box-shadow: 0px 1px 3px 1px rgba(0, 0, 0, 0.15);\n",
              "      filter: drop-shadow(0px 1px 2px rgba(0, 0, 0, 0.3));\n",
              "      fill: #FFFFFF;\n",
              "    }\n",
              "  </style>\n",
              "\n",
              "    <script>\n",
              "      const buttonEl =\n",
              "        document.querySelector('#df-d0922361-d286-45cf-9437-253bf28520f0 button.colab-df-convert');\n",
              "      buttonEl.style.display =\n",
              "        google.colab.kernel.accessAllowed ? 'block' : 'none';\n",
              "\n",
              "      async function convertToInteractive(key) {\n",
              "        const element = document.querySelector('#df-d0922361-d286-45cf-9437-253bf28520f0');\n",
              "        const dataTable =\n",
              "          await google.colab.kernel.invokeFunction('convertToInteractive',\n",
              "                                                    [key], {});\n",
              "        if (!dataTable) return;\n",
              "\n",
              "        const docLinkHtml = 'Like what you see? Visit the ' +\n",
              "          '<a target=\"_blank\" href=https://colab.research.google.com/notebooks/data_table.ipynb>data table notebook</a>'\n",
              "          + ' to learn more about interactive tables.';\n",
              "        element.innerHTML = '';\n",
              "        dataTable['output_type'] = 'display_data';\n",
              "        await google.colab.output.renderOutput(dataTable, element);\n",
              "        const docLink = document.createElement('div');\n",
              "        docLink.innerHTML = docLinkHtml;\n",
              "        element.appendChild(docLink);\n",
              "      }\n",
              "    </script>\n",
              "  </div>\n",
              "\n",
              "\n",
              "<div id=\"df-8b9e5369-0ca0-4ffa-9c69-4bbac00dedb0\">\n",
              "  <button class=\"colab-df-quickchart\" onclick=\"quickchart('df-8b9e5369-0ca0-4ffa-9c69-4bbac00dedb0')\"\n",
              "            title=\"Suggest charts\"\n",
              "            style=\"display:none;\">\n",
              "\n",
              "<svg xmlns=\"http://www.w3.org/2000/svg\" height=\"24px\"viewBox=\"0 0 24 24\"\n",
              "     width=\"24px\">\n",
              "    <g>\n",
              "        <path d=\"M19 3H5c-1.1 0-2 .9-2 2v14c0 1.1.9 2 2 2h14c1.1 0 2-.9 2-2V5c0-1.1-.9-2-2-2zM9 17H7v-7h2v7zm4 0h-2V7h2v10zm4 0h-2v-4h2v4z\"/>\n",
              "    </g>\n",
              "</svg>\n",
              "  </button>\n",
              "\n",
              "<style>\n",
              "  .colab-df-quickchart {\n",
              "      --bg-color: #E8F0FE;\n",
              "      --fill-color: #1967D2;\n",
              "      --hover-bg-color: #E2EBFA;\n",
              "      --hover-fill-color: #174EA6;\n",
              "      --disabled-fill-color: #AAA;\n",
              "      --disabled-bg-color: #DDD;\n",
              "  }\n",
              "\n",
              "  [theme=dark] .colab-df-quickchart {\n",
              "      --bg-color: #3B4455;\n",
              "      --fill-color: #D2E3FC;\n",
              "      --hover-bg-color: #434B5C;\n",
              "      --hover-fill-color: #FFFFFF;\n",
              "      --disabled-bg-color: #3B4455;\n",
              "      --disabled-fill-color: #666;\n",
              "  }\n",
              "\n",
              "  .colab-df-quickchart {\n",
              "    background-color: var(--bg-color);\n",
              "    border: none;\n",
              "    border-radius: 50%;\n",
              "    cursor: pointer;\n",
              "    display: none;\n",
              "    fill: var(--fill-color);\n",
              "    height: 32px;\n",
              "    padding: 0;\n",
              "    width: 32px;\n",
              "  }\n",
              "\n",
              "  .colab-df-quickchart:hover {\n",
              "    background-color: var(--hover-bg-color);\n",
              "    box-shadow: 0 1px 2px rgba(60, 64, 67, 0.3), 0 1px 3px 1px rgba(60, 64, 67, 0.15);\n",
              "    fill: var(--button-hover-fill-color);\n",
              "  }\n",
              "\n",
              "  .colab-df-quickchart-complete:disabled,\n",
              "  .colab-df-quickchart-complete:disabled:hover {\n",
              "    background-color: var(--disabled-bg-color);\n",
              "    fill: var(--disabled-fill-color);\n",
              "    box-shadow: none;\n",
              "  }\n",
              "\n",
              "  .colab-df-spinner {\n",
              "    border: 2px solid var(--fill-color);\n",
              "    border-color: transparent;\n",
              "    border-bottom-color: var(--fill-color);\n",
              "    animation:\n",
              "      spin 1s steps(1) infinite;\n",
              "  }\n",
              "\n",
              "  @keyframes spin {\n",
              "    0% {\n",
              "      border-color: transparent;\n",
              "      border-bottom-color: var(--fill-color);\n",
              "      border-left-color: var(--fill-color);\n",
              "    }\n",
              "    20% {\n",
              "      border-color: transparent;\n",
              "      border-left-color: var(--fill-color);\n",
              "      border-top-color: var(--fill-color);\n",
              "    }\n",
              "    30% {\n",
              "      border-color: transparent;\n",
              "      border-left-color: var(--fill-color);\n",
              "      border-top-color: var(--fill-color);\n",
              "      border-right-color: var(--fill-color);\n",
              "    }\n",
              "    40% {\n",
              "      border-color: transparent;\n",
              "      border-right-color: var(--fill-color);\n",
              "      border-top-color: var(--fill-color);\n",
              "    }\n",
              "    60% {\n",
              "      border-color: transparent;\n",
              "      border-right-color: var(--fill-color);\n",
              "    }\n",
              "    80% {\n",
              "      border-color: transparent;\n",
              "      border-right-color: var(--fill-color);\n",
              "      border-bottom-color: var(--fill-color);\n",
              "    }\n",
              "    90% {\n",
              "      border-color: transparent;\n",
              "      border-bottom-color: var(--fill-color);\n",
              "    }\n",
              "  }\n",
              "</style>\n",
              "\n",
              "  <script>\n",
              "    async function quickchart(key) {\n",
              "      const quickchartButtonEl =\n",
              "        document.querySelector('#' + key + ' button');\n",
              "      quickchartButtonEl.disabled = true;  // To prevent multiple clicks.\n",
              "      quickchartButtonEl.classList.add('colab-df-spinner');\n",
              "      try {\n",
              "        const charts = await google.colab.kernel.invokeFunction(\n",
              "            'suggestCharts', [key], {});\n",
              "      } catch (error) {\n",
              "        console.error('Error during call to suggestCharts:', error);\n",
              "      }\n",
              "      quickchartButtonEl.classList.remove('colab-df-spinner');\n",
              "      quickchartButtonEl.classList.add('colab-df-quickchart-complete');\n",
              "    }\n",
              "    (() => {\n",
              "      let quickchartButtonEl =\n",
              "        document.querySelector('#df-8b9e5369-0ca0-4ffa-9c69-4bbac00dedb0 button');\n",
              "      quickchartButtonEl.style.display =\n",
              "        google.colab.kernel.accessAllowed ? 'block' : 'none';\n",
              "    })();\n",
              "  </script>\n",
              "</div>\n",
              "\n",
              "    </div>\n",
              "  </div>\n"
            ],
            "application/vnd.google.colaboratory.intrinsic+json": {
              "type": "dataframe",
              "variable_name": "df",
              "summary": "{\n  \"name\": \"df\",\n  \"rows\": 5572,\n  \"fields\": [\n    {\n      \"column\": \"label\",\n      \"properties\": {\n        \"dtype\": \"category\",\n        \"samples\": [\n          \"spam\",\n          \"ham\"\n        ],\n        \"num_unique_values\": 2,\n        \"semantic_type\": \"\",\n        \"description\": \"\"\n      }\n    },\n    {\n      \"column\": \"message\",\n      \"properties\": {\n        \"dtype\": \"string\",\n        \"samples\": [\n          \"K, makes sense, btw carlos is being difficult so you guys are gonna smoke while I go pick up the second batch and get gas\",\n          \"URGENT! Your mobile No *********** WON a \\u00a32,000 Bonus Caller Prize on 02/06/03! This is the 2nd attempt to reach YOU! Call 09066362220 ASAP! BOX97N7QP, 150ppm\"\n        ],\n        \"num_unique_values\": 5169,\n        \"semantic_type\": \"\",\n        \"description\": \"\"\n      }\n    }\n  ]\n}"
            }
          },
          "metadata": {},
          "execution_count": 60
        }
      ]
    },
    {
      "cell_type": "code",
      "source": [
        "df.shape"
      ],
      "metadata": {
        "colab": {
          "base_uri": "https://localhost:8080/"
        },
        "id": "ERh49bvv5ndc",
        "outputId": "54d0e759-ced8-4679-8dcf-a2493d19c159"
      },
      "execution_count": 61,
      "outputs": [
        {
          "output_type": "execute_result",
          "data": {
            "text/plain": [
              "(5572, 2)"
            ]
          },
          "metadata": {},
          "execution_count": 61
        }
      ]
    },
    {
      "cell_type": "code",
      "source": [
        "df['message'].loc[100]"
      ],
      "metadata": {
        "colab": {
          "base_uri": "https://localhost:8080/",
          "height": 35
        },
        "id": "qnf3c6OA6G_-",
        "outputId": "8f46b7a0-2ff0-4654-af33-76d865629b2a"
      },
      "execution_count": 62,
      "outputs": [
        {
          "output_type": "execute_result",
          "data": {
            "text/plain": [
              "\"Please don't text me anymore. I have nothing else to say.\""
            ],
            "application/vnd.google.colaboratory.intrinsic+json": {
              "type": "string"
            }
          },
          "metadata": {},
          "execution_count": 62
        }
      ]
    },
    {
      "cell_type": "markdown",
      "source": [
        "\n",
        "**Data Cleaning and Preprocessing**\n",
        "\n",
        "\n",
        "1.   Text Preprocessing\n",
        "  *   Tokenization\n",
        "  *   Stop Words\n",
        "  *   Stemming\n",
        "  *   POS Tagging\n",
        "  *   Lemmetization\n",
        "  *   NLTK Library\n",
        "\n",
        "2.   Word Embeddings\n",
        "\n",
        "Frequency-based Embedding\n",
        "  *   BOW\n",
        "  *   TFIDF\n",
        "  *   Glove\n",
        "\n",
        "Prediction-based Embedding\n",
        "  *   Word2Vec\n",
        "  *   AvgWord2Vec\n",
        "  *   BERT\n",
        "\n",
        "\n",
        "\n",
        "\n"
      ],
      "metadata": {
        "id": "Ic0OrPfs6Q_U"
      }
    },
    {
      "cell_type": "code",
      "source": [
        "\n",
        "import nltk\n",
        "import string\n",
        "#download resources\n",
        "nltk.download('stopwords')\n",
        "nltk.download('punkt')\n",
        "nltk.download('wordnet')"
      ],
      "metadata": {
        "colab": {
          "base_uri": "https://localhost:8080/"
        },
        "id": "wxf501Lh6hna",
        "outputId": "10bbf8c8-ceae-4804-ebe7-622cc03c7d6d"
      },
      "execution_count": 63,
      "outputs": [
        {
          "output_type": "stream",
          "name": "stderr",
          "text": [
            "[nltk_data] Downloading package stopwords to /root/nltk_data...\n",
            "[nltk_data]   Package stopwords is already up-to-date!\n",
            "[nltk_data] Downloading package punkt to /root/nltk_data...\n",
            "[nltk_data]   Package punkt is already up-to-date!\n",
            "[nltk_data] Downloading package wordnet to /root/nltk_data...\n",
            "[nltk_data]   Package wordnet is already up-to-date!\n"
          ]
        },
        {
          "output_type": "execute_result",
          "data": {
            "text/plain": [
              "True"
            ]
          },
          "metadata": {},
          "execution_count": 63
        }
      ]
    },
    {
      "cell_type": "code",
      "source": [
        "from nltk.corpus import stopwords\n",
        "from nltk.tokenize import word_tokenize\n"
      ],
      "metadata": {
        "id": "q8dnbiEo74BY"
      },
      "execution_count": 64,
      "outputs": []
    },
    {
      "cell_type": "code",
      "source": [
        "#tokenize text\n",
        "df[\"message_preprocess\"]=df['message'].apply(lambda x: word_tokenize(x))\n",
        "df[\"message_preprocess\"].head()"
      ],
      "metadata": {
        "colab": {
          "base_uri": "https://localhost:8080/"
        },
        "id": "TW4ZXHNP8S7S",
        "outputId": "d7eb11fa-34b5-4f10-d3b7-9b1bf1ff55a9"
      },
      "execution_count": 65,
      "outputs": [
        {
          "output_type": "execute_result",
          "data": {
            "text/plain": [
              "0    [Go, until, jurong, point, ,, crazy, .., Avail...\n",
              "1             [Ok, lar, ..., Joking, wif, u, oni, ...]\n",
              "2    [Free, entry, in, 2, a, wkly, comp, to, win, F...\n",
              "3    [U, dun, say, so, early, hor, ..., U, c, alrea...\n",
              "4    [Nah, I, do, n't, think, he, goes, to, usf, ,,...\n",
              "Name: message_preprocess, dtype: object"
            ]
          },
          "metadata": {},
          "execution_count": 65
        }
      ]
    },
    {
      "cell_type": "code",
      "source": [
        "df[\"message_preprocess\"].loc[100]\n",
        "\n"
      ],
      "metadata": {
        "colab": {
          "base_uri": "https://localhost:8080/"
        },
        "id": "jGobNwW1CAVv",
        "outputId": "d5579299-7733-44c3-da30-37c6afa2545c"
      },
      "execution_count": 66,
      "outputs": [
        {
          "output_type": "execute_result",
          "data": {
            "text/plain": [
              "['Please',\n",
              " 'do',\n",
              " \"n't\",\n",
              " 'text',\n",
              " 'me',\n",
              " 'anymore',\n",
              " '.',\n",
              " 'I',\n",
              " 'have',\n",
              " 'nothing',\n",
              " 'else',\n",
              " 'to',\n",
              " 'say',\n",
              " '.']"
            ]
          },
          "metadata": {},
          "execution_count": 66
        }
      ]
    },
    {
      "cell_type": "code",
      "source": [
        "# Get the English stopwords list\n",
        "stopwords_list = stopwords.words('english')\n",
        "\n",
        "# Print the stopwords list\n",
        "print(stopwords_list)\n",
        "\n",
        "print(string.punctuation)"
      ],
      "metadata": {
        "colab": {
          "base_uri": "https://localhost:8080/"
        },
        "id": "FUIN7FxLCzjr",
        "outputId": "d8b067b7-9b0c-4a2f-d97e-7244bf838331"
      },
      "execution_count": 67,
      "outputs": [
        {
          "output_type": "stream",
          "name": "stdout",
          "text": [
            "['i', 'me', 'my', 'myself', 'we', 'our', 'ours', 'ourselves', 'you', \"you're\", \"you've\", \"you'll\", \"you'd\", 'your', 'yours', 'yourself', 'yourselves', 'he', 'him', 'his', 'himself', 'she', \"she's\", 'her', 'hers', 'herself', 'it', \"it's\", 'its', 'itself', 'they', 'them', 'their', 'theirs', 'themselves', 'what', 'which', 'who', 'whom', 'this', 'that', \"that'll\", 'these', 'those', 'am', 'is', 'are', 'was', 'were', 'be', 'been', 'being', 'have', 'has', 'had', 'having', 'do', 'does', 'did', 'doing', 'a', 'an', 'the', 'and', 'but', 'if', 'or', 'because', 'as', 'until', 'while', 'of', 'at', 'by', 'for', 'with', 'about', 'against', 'between', 'into', 'through', 'during', 'before', 'after', 'above', 'below', 'to', 'from', 'up', 'down', 'in', 'out', 'on', 'off', 'over', 'under', 'again', 'further', 'then', 'once', 'here', 'there', 'when', 'where', 'why', 'how', 'all', 'any', 'both', 'each', 'few', 'more', 'most', 'other', 'some', 'such', 'no', 'nor', 'not', 'only', 'own', 'same', 'so', 'than', 'too', 'very', 's', 't', 'can', 'will', 'just', 'don', \"don't\", 'should', \"should've\", 'now', 'd', 'll', 'm', 'o', 're', 've', 'y', 'ain', 'aren', \"aren't\", 'couldn', \"couldn't\", 'didn', \"didn't\", 'doesn', \"doesn't\", 'hadn', \"hadn't\", 'hasn', \"hasn't\", 'haven', \"haven't\", 'isn', \"isn't\", 'ma', 'mightn', \"mightn't\", 'mustn', \"mustn't\", 'needn', \"needn't\", 'shan', \"shan't\", 'shouldn', \"shouldn't\", 'wasn', \"wasn't\", 'weren', \"weren't\", 'won', \"won't\", 'wouldn', \"wouldn't\"]\n",
            "!\"#$%&'()*+,-./:;<=>?@[\\]^_`{|}~\n"
          ]
        }
      ]
    },
    {
      "cell_type": "code",
      "source": [
        "# remove punctuations and stop words\n",
        "stop_words = stopwords.words('english') + list(string.punctuation)\n"
      ],
      "metadata": {
        "id": "pEtBeyZLCJpr"
      },
      "execution_count": 68,
      "outputs": []
    },
    {
      "cell_type": "code",
      "source": [
        "#word lowering , stop word and punctuation removal, number removal\n",
        "def filter_tokens(tokens):\n",
        "    filtered_tokens = [word.lower() for word in tokens if word.lower() not in stop_words]\n",
        "    filtered_tokens=[token for token in filtered_tokens if token.isalpha()]\n",
        "    return filtered_tokens"
      ],
      "metadata": {
        "id": "WHG5l99FDNCO"
      },
      "execution_count": 69,
      "outputs": []
    },
    {
      "cell_type": "code",
      "source": [
        "df[\"message_preprocess\"]=df['message_preprocess'].apply(lambda x: filter_tokens(x))\n",
        "df[\"message_preprocess\"].head()"
      ],
      "metadata": {
        "colab": {
          "base_uri": "https://localhost:8080/"
        },
        "id": "lNec17W7Dmqm",
        "outputId": "5202b8a0-6a3d-45be-8cd1-48d58256b81e"
      },
      "execution_count": 70,
      "outputs": [
        {
          "output_type": "execute_result",
          "data": {
            "text/plain": [
              "0    [go, jurong, point, crazy, available, bugis, n...\n",
              "1                       [ok, lar, joking, wif, u, oni]\n",
              "2    [free, entry, wkly, comp, win, fa, cup, final,...\n",
              "3        [u, dun, say, early, hor, u, c, already, say]\n",
              "4       [nah, think, goes, usf, lives, around, though]\n",
              "Name: message_preprocess, dtype: object"
            ]
          },
          "metadata": {},
          "execution_count": 70
        }
      ]
    },
    {
      "cell_type": "code",
      "source": [
        "df[\"message_preprocess\"].loc[1100]"
      ],
      "metadata": {
        "colab": {
          "base_uri": "https://localhost:8080/"
        },
        "id": "-V9jKxVuD3_t",
        "outputId": "2d8db1c4-bce5-4a77-bbc7-f3e2ef7ce694"
      },
      "execution_count": 71,
      "outputs": [
        {
          "output_type": "execute_result",
          "data": {
            "text/plain": [
              "['ne',\n",
              " 'thing',\n",
              " 'interesting',\n",
              " 'good',\n",
              " 'birthday',\n",
              " 'u',\n",
              " 'wrking',\n",
              " 'nxt',\n",
              " 'started',\n",
              " 'uni',\n",
              " 'today']"
            ]
          },
          "metadata": {},
          "execution_count": 71
        }
      ]
    },
    {
      "cell_type": "code",
      "source": [
        "#stemming vs lemmatization\n",
        "from nltk.stem.porter import PorterStemmer\n",
        "stemmer = PorterStemmer()\n",
        "def stemming(tokens):\n",
        "\n",
        "  tokens = [stemmer.stem(token) for token in tokens]\n",
        "  return tokens"
      ],
      "metadata": {
        "id": "JNUg3UazEAwy"
      },
      "execution_count": 72,
      "outputs": []
    },
    {
      "cell_type": "code",
      "source": [],
      "metadata": {
        "id": "ww_8BSBMUYS0"
      },
      "execution_count": 72,
      "outputs": []
    },
    {
      "cell_type": "code",
      "source": [
        "# df[\"message_preprocess_new\"]=df['message_preprocess'].apply(lambda x: stemming(x))\n",
        "# df[\"message_preprocess_new\"].head()"
      ],
      "metadata": {
        "id": "q3JFWsOcUAkk"
      },
      "execution_count": 73,
      "outputs": []
    },
    {
      "cell_type": "code",
      "source": [
        "tokens =[\"ok\", \"lar\", \"jokinging\", \"wif\", \"u\", \"oni\",\"joining\"]\n",
        "new=stemming(tokens)\n",
        "print(new)"
      ],
      "metadata": {
        "colab": {
          "base_uri": "https://localhost:8080/"
        },
        "id": "oCzLMcLpW674",
        "outputId": "0e97f72f-5421-413c-af5b-d9dc58d7ed8c"
      },
      "execution_count": 74,
      "outputs": [
        {
          "output_type": "stream",
          "name": "stdout",
          "text": [
            "['ok', 'lar', 'joking', 'wif', 'u', 'oni', 'join']\n"
          ]
        }
      ]
    },
    {
      "cell_type": "code",
      "source": [
        "from nltk.stem import WordNetLemmatizer\n",
        "from nltk.corpus import wordnet\n",
        "nltk.download('averaged_perceptron_tagger')\n",
        "nltk.download('wordnet')\n",
        "\n",
        "def get_wordnet_pos(word):\n",
        "    \"\"\"Map POS tag to first character lemmatize() accepts\"\"\"\n",
        "    tag = nltk.pos_tag([word])[0][1][0].upper()\n",
        "    tag_dict = {\"J\": wordnet.ADJ,\n",
        "                \"N\": wordnet.NOUN,\n",
        "                \"V\": wordnet.VERB,\n",
        "                \"R\": wordnet.ADV}\n",
        "    return tag_dict.get(tag, wordnet.NOUN)\n",
        "\n",
        "def lemmatization(tokens):\n",
        "    # Lemmatization with POS tagging\n",
        "    lemmatizer = WordNetLemmatizer()\n",
        "    lem_tokens = [lemmatizer.lemmatize(token, get_wordnet_pos(token)) for token in tokens]\n",
        "    return lem_tokens\n",
        "\n",
        "# Example usage\n",
        "tokens = [\"running\", \"cars\", \"swimming\"]\n",
        "lemmatized_tokens = lemmatization(tokens)\n",
        "print(lemmatized_tokens)"
      ],
      "metadata": {
        "colab": {
          "base_uri": "https://localhost:8080/"
        },
        "id": "bMF_TlYWYU7z",
        "outputId": "f9bcd1bb-8133-4cb6-ca33-f54b0333459a"
      },
      "execution_count": 75,
      "outputs": [
        {
          "output_type": "stream",
          "name": "stdout",
          "text": [
            "['run', 'car', 'swim']\n"
          ]
        },
        {
          "output_type": "stream",
          "name": "stderr",
          "text": [
            "[nltk_data] Downloading package averaged_perceptron_tagger to\n",
            "[nltk_data]     /root/nltk_data...\n",
            "[nltk_data]   Package averaged_perceptron_tagger is already up-to-\n",
            "[nltk_data]       date!\n",
            "[nltk_data] Downloading package wordnet to /root/nltk_data...\n",
            "[nltk_data]   Package wordnet is already up-to-date!\n"
          ]
        }
      ]
    },
    {
      "cell_type": "code",
      "source": [
        "df[\"message_preprocess\"]=df['message_preprocess'].apply(lambda x: stemming(x))\n",
        "df[\"message_preprocess\"].head()"
      ],
      "metadata": {
        "colab": {
          "base_uri": "https://localhost:8080/"
        },
        "id": "ByZNsWmCZty6",
        "outputId": "aa72a6ac-ab76-4253-fff8-b6f1d7489e6e"
      },
      "execution_count": 76,
      "outputs": [
        {
          "output_type": "execute_result",
          "data": {
            "text/plain": [
              "0    [go, jurong, point, crazi, avail, bugi, n, gre...\n",
              "1                         [ok, lar, joke, wif, u, oni]\n",
              "2    [free, entri, wkli, comp, win, fa, cup, final,...\n",
              "3        [u, dun, say, earli, hor, u, c, alreadi, say]\n",
              "4         [nah, think, goe, usf, live, around, though]\n",
              "Name: message_preprocess, dtype: object"
            ]
          },
          "metadata": {},
          "execution_count": 76
        }
      ]
    },
    {
      "cell_type": "code",
      "source": [
        "# let's make a single function for preprocessing using nltk\n",
        "def get_wordnet_pos(word):\n",
        "  \"\"\"Map POS tag to first character lemmatize() accepts\"\"\"\n",
        "  tag = nltk.pos_tag([word])[0][1][0].upper()\n",
        "  tag_dict = {\"J\": wordnet.ADJ,\n",
        "              \"N\": wordnet.NOUN,\n",
        "              \"V\": wordnet.VERB,\n",
        "              \"R\": wordnet.ADV}\n",
        "  return tag_dict.get(tag, wordnet.NOUN)\n",
        "\n",
        "def preprocess_data(text):\n",
        "  #tokenizing\n",
        "  preprocess_tokens=word_tokenize(text)\n",
        "\n",
        "  #stop word| lowering | punctuation| only alpha\n",
        "  stopwords_list = stopwords.words('english')\n",
        "  preprocess_tokens = [word.lower() for word in preprocess_tokens if word.lower() not in stop_words]\n",
        "  preprocess_tokens=[token for token in preprocess_tokens if token.isalpha()]\n",
        "\n",
        "  # Lemmatization with POS tagging\n",
        "  lemmatizer = WordNetLemmatizer()\n",
        "  preprocess_tokens = [lemmatizer.lemmatize(token, get_wordnet_pos(token)) for token in preprocess_tokens]\n",
        "  return preprocess_tokens\n",
        "\n",
        "sample_df=pd.read_csv('SMSSpamCollection.csv',sep=\"\\t\",names=[\"label\",\"message\"],encoding=encoding)\n",
        "\n",
        "sample_df[\"message_preprocess\"]=sample_df['message'].apply(lambda x: preprocess_data(x))"
      ],
      "metadata": {
        "id": "UVev7FlGAdrS"
      },
      "execution_count": 77,
      "outputs": []
    },
    {
      "cell_type": "code",
      "source": [
        "sample_df.head()"
      ],
      "metadata": {
        "colab": {
          "base_uri": "https://localhost:8080/",
          "height": 206
        },
        "id": "VlYrLX0jBQov",
        "outputId": "cc204805-ee61-46a9-addd-85886c3ed764"
      },
      "execution_count": 78,
      "outputs": [
        {
          "output_type": "execute_result",
          "data": {
            "text/plain": [
              "  label                                            message  \\\n",
              "0   ham  Go until jurong point, crazy.. Available only ...   \n",
              "1   ham                      Ok lar... Joking wif u oni...   \n",
              "2  spam  Free entry in 2 a wkly comp to win FA Cup fina...   \n",
              "3   ham  U dun say so early hor... U c already then say...   \n",
              "4   ham  Nah I don't think he goes to usf, he lives aro...   \n",
              "\n",
              "                                  message_preprocess  \n",
              "0  [go, jurong, point, crazy, available, bugis, n...  \n",
              "1                     [ok, lar, joking, wif, u, oni]  \n",
              "2  [free, entry, wkly, comp, win, fa, cup, final,...  \n",
              "3      [u, dun, say, early, hor, u, c, already, say]  \n",
              "4        [nah, think, go, usf, life, around, though]  "
            ],
            "text/html": [
              "\n",
              "  <div id=\"df-94275670-0084-470c-9de1-a0cf1a47a0e7\" class=\"colab-df-container\">\n",
              "    <div>\n",
              "<style scoped>\n",
              "    .dataframe tbody tr th:only-of-type {\n",
              "        vertical-align: middle;\n",
              "    }\n",
              "\n",
              "    .dataframe tbody tr th {\n",
              "        vertical-align: top;\n",
              "    }\n",
              "\n",
              "    .dataframe thead th {\n",
              "        text-align: right;\n",
              "    }\n",
              "</style>\n",
              "<table border=\"1\" class=\"dataframe\">\n",
              "  <thead>\n",
              "    <tr style=\"text-align: right;\">\n",
              "      <th></th>\n",
              "      <th>label</th>\n",
              "      <th>message</th>\n",
              "      <th>message_preprocess</th>\n",
              "    </tr>\n",
              "  </thead>\n",
              "  <tbody>\n",
              "    <tr>\n",
              "      <th>0</th>\n",
              "      <td>ham</td>\n",
              "      <td>Go until jurong point, crazy.. Available only ...</td>\n",
              "      <td>[go, jurong, point, crazy, available, bugis, n...</td>\n",
              "    </tr>\n",
              "    <tr>\n",
              "      <th>1</th>\n",
              "      <td>ham</td>\n",
              "      <td>Ok lar... Joking wif u oni...</td>\n",
              "      <td>[ok, lar, joking, wif, u, oni]</td>\n",
              "    </tr>\n",
              "    <tr>\n",
              "      <th>2</th>\n",
              "      <td>spam</td>\n",
              "      <td>Free entry in 2 a wkly comp to win FA Cup fina...</td>\n",
              "      <td>[free, entry, wkly, comp, win, fa, cup, final,...</td>\n",
              "    </tr>\n",
              "    <tr>\n",
              "      <th>3</th>\n",
              "      <td>ham</td>\n",
              "      <td>U dun say so early hor... U c already then say...</td>\n",
              "      <td>[u, dun, say, early, hor, u, c, already, say]</td>\n",
              "    </tr>\n",
              "    <tr>\n",
              "      <th>4</th>\n",
              "      <td>ham</td>\n",
              "      <td>Nah I don't think he goes to usf, he lives aro...</td>\n",
              "      <td>[nah, think, go, usf, life, around, though]</td>\n",
              "    </tr>\n",
              "  </tbody>\n",
              "</table>\n",
              "</div>\n",
              "    <div class=\"colab-df-buttons\">\n",
              "\n",
              "  <div class=\"colab-df-container\">\n",
              "    <button class=\"colab-df-convert\" onclick=\"convertToInteractive('df-94275670-0084-470c-9de1-a0cf1a47a0e7')\"\n",
              "            title=\"Convert this dataframe to an interactive table.\"\n",
              "            style=\"display:none;\">\n",
              "\n",
              "  <svg xmlns=\"http://www.w3.org/2000/svg\" height=\"24px\" viewBox=\"0 -960 960 960\">\n",
              "    <path d=\"M120-120v-720h720v720H120Zm60-500h600v-160H180v160Zm220 220h160v-160H400v160Zm0 220h160v-160H400v160ZM180-400h160v-160H180v160Zm440 0h160v-160H620v160ZM180-180h160v-160H180v160Zm440 0h160v-160H620v160Z\"/>\n",
              "  </svg>\n",
              "    </button>\n",
              "\n",
              "  <style>\n",
              "    .colab-df-container {\n",
              "      display:flex;\n",
              "      gap: 12px;\n",
              "    }\n",
              "\n",
              "    .colab-df-convert {\n",
              "      background-color: #E8F0FE;\n",
              "      border: none;\n",
              "      border-radius: 50%;\n",
              "      cursor: pointer;\n",
              "      display: none;\n",
              "      fill: #1967D2;\n",
              "      height: 32px;\n",
              "      padding: 0 0 0 0;\n",
              "      width: 32px;\n",
              "    }\n",
              "\n",
              "    .colab-df-convert:hover {\n",
              "      background-color: #E2EBFA;\n",
              "      box-shadow: 0px 1px 2px rgba(60, 64, 67, 0.3), 0px 1px 3px 1px rgba(60, 64, 67, 0.15);\n",
              "      fill: #174EA6;\n",
              "    }\n",
              "\n",
              "    .colab-df-buttons div {\n",
              "      margin-bottom: 4px;\n",
              "    }\n",
              "\n",
              "    [theme=dark] .colab-df-convert {\n",
              "      background-color: #3B4455;\n",
              "      fill: #D2E3FC;\n",
              "    }\n",
              "\n",
              "    [theme=dark] .colab-df-convert:hover {\n",
              "      background-color: #434B5C;\n",
              "      box-shadow: 0px 1px 3px 1px rgba(0, 0, 0, 0.15);\n",
              "      filter: drop-shadow(0px 1px 2px rgba(0, 0, 0, 0.3));\n",
              "      fill: #FFFFFF;\n",
              "    }\n",
              "  </style>\n",
              "\n",
              "    <script>\n",
              "      const buttonEl =\n",
              "        document.querySelector('#df-94275670-0084-470c-9de1-a0cf1a47a0e7 button.colab-df-convert');\n",
              "      buttonEl.style.display =\n",
              "        google.colab.kernel.accessAllowed ? 'block' : 'none';\n",
              "\n",
              "      async function convertToInteractive(key) {\n",
              "        const element = document.querySelector('#df-94275670-0084-470c-9de1-a0cf1a47a0e7');\n",
              "        const dataTable =\n",
              "          await google.colab.kernel.invokeFunction('convertToInteractive',\n",
              "                                                    [key], {});\n",
              "        if (!dataTable) return;\n",
              "\n",
              "        const docLinkHtml = 'Like what you see? Visit the ' +\n",
              "          '<a target=\"_blank\" href=https://colab.research.google.com/notebooks/data_table.ipynb>data table notebook</a>'\n",
              "          + ' to learn more about interactive tables.';\n",
              "        element.innerHTML = '';\n",
              "        dataTable['output_type'] = 'display_data';\n",
              "        await google.colab.output.renderOutput(dataTable, element);\n",
              "        const docLink = document.createElement('div');\n",
              "        docLink.innerHTML = docLinkHtml;\n",
              "        element.appendChild(docLink);\n",
              "      }\n",
              "    </script>\n",
              "  </div>\n",
              "\n",
              "\n",
              "<div id=\"df-57722af2-cc2f-4e3e-a04e-6e47eee0d769\">\n",
              "  <button class=\"colab-df-quickchart\" onclick=\"quickchart('df-57722af2-cc2f-4e3e-a04e-6e47eee0d769')\"\n",
              "            title=\"Suggest charts\"\n",
              "            style=\"display:none;\">\n",
              "\n",
              "<svg xmlns=\"http://www.w3.org/2000/svg\" height=\"24px\"viewBox=\"0 0 24 24\"\n",
              "     width=\"24px\">\n",
              "    <g>\n",
              "        <path d=\"M19 3H5c-1.1 0-2 .9-2 2v14c0 1.1.9 2 2 2h14c1.1 0 2-.9 2-2V5c0-1.1-.9-2-2-2zM9 17H7v-7h2v7zm4 0h-2V7h2v10zm4 0h-2v-4h2v4z\"/>\n",
              "    </g>\n",
              "</svg>\n",
              "  </button>\n",
              "\n",
              "<style>\n",
              "  .colab-df-quickchart {\n",
              "      --bg-color: #E8F0FE;\n",
              "      --fill-color: #1967D2;\n",
              "      --hover-bg-color: #E2EBFA;\n",
              "      --hover-fill-color: #174EA6;\n",
              "      --disabled-fill-color: #AAA;\n",
              "      --disabled-bg-color: #DDD;\n",
              "  }\n",
              "\n",
              "  [theme=dark] .colab-df-quickchart {\n",
              "      --bg-color: #3B4455;\n",
              "      --fill-color: #D2E3FC;\n",
              "      --hover-bg-color: #434B5C;\n",
              "      --hover-fill-color: #FFFFFF;\n",
              "      --disabled-bg-color: #3B4455;\n",
              "      --disabled-fill-color: #666;\n",
              "  }\n",
              "\n",
              "  .colab-df-quickchart {\n",
              "    background-color: var(--bg-color);\n",
              "    border: none;\n",
              "    border-radius: 50%;\n",
              "    cursor: pointer;\n",
              "    display: none;\n",
              "    fill: var(--fill-color);\n",
              "    height: 32px;\n",
              "    padding: 0;\n",
              "    width: 32px;\n",
              "  }\n",
              "\n",
              "  .colab-df-quickchart:hover {\n",
              "    background-color: var(--hover-bg-color);\n",
              "    box-shadow: 0 1px 2px rgba(60, 64, 67, 0.3), 0 1px 3px 1px rgba(60, 64, 67, 0.15);\n",
              "    fill: var(--button-hover-fill-color);\n",
              "  }\n",
              "\n",
              "  .colab-df-quickchart-complete:disabled,\n",
              "  .colab-df-quickchart-complete:disabled:hover {\n",
              "    background-color: var(--disabled-bg-color);\n",
              "    fill: var(--disabled-fill-color);\n",
              "    box-shadow: none;\n",
              "  }\n",
              "\n",
              "  .colab-df-spinner {\n",
              "    border: 2px solid var(--fill-color);\n",
              "    border-color: transparent;\n",
              "    border-bottom-color: var(--fill-color);\n",
              "    animation:\n",
              "      spin 1s steps(1) infinite;\n",
              "  }\n",
              "\n",
              "  @keyframes spin {\n",
              "    0% {\n",
              "      border-color: transparent;\n",
              "      border-bottom-color: var(--fill-color);\n",
              "      border-left-color: var(--fill-color);\n",
              "    }\n",
              "    20% {\n",
              "      border-color: transparent;\n",
              "      border-left-color: var(--fill-color);\n",
              "      border-top-color: var(--fill-color);\n",
              "    }\n",
              "    30% {\n",
              "      border-color: transparent;\n",
              "      border-left-color: var(--fill-color);\n",
              "      border-top-color: var(--fill-color);\n",
              "      border-right-color: var(--fill-color);\n",
              "    }\n",
              "    40% {\n",
              "      border-color: transparent;\n",
              "      border-right-color: var(--fill-color);\n",
              "      border-top-color: var(--fill-color);\n",
              "    }\n",
              "    60% {\n",
              "      border-color: transparent;\n",
              "      border-right-color: var(--fill-color);\n",
              "    }\n",
              "    80% {\n",
              "      border-color: transparent;\n",
              "      border-right-color: var(--fill-color);\n",
              "      border-bottom-color: var(--fill-color);\n",
              "    }\n",
              "    90% {\n",
              "      border-color: transparent;\n",
              "      border-bottom-color: var(--fill-color);\n",
              "    }\n",
              "  }\n",
              "</style>\n",
              "\n",
              "  <script>\n",
              "    async function quickchart(key) {\n",
              "      const quickchartButtonEl =\n",
              "        document.querySelector('#' + key + ' button');\n",
              "      quickchartButtonEl.disabled = true;  // To prevent multiple clicks.\n",
              "      quickchartButtonEl.classList.add('colab-df-spinner');\n",
              "      try {\n",
              "        const charts = await google.colab.kernel.invokeFunction(\n",
              "            'suggestCharts', [key], {});\n",
              "      } catch (error) {\n",
              "        console.error('Error during call to suggestCharts:', error);\n",
              "      }\n",
              "      quickchartButtonEl.classList.remove('colab-df-spinner');\n",
              "      quickchartButtonEl.classList.add('colab-df-quickchart-complete');\n",
              "    }\n",
              "    (() => {\n",
              "      let quickchartButtonEl =\n",
              "        document.querySelector('#df-57722af2-cc2f-4e3e-a04e-6e47eee0d769 button');\n",
              "      quickchartButtonEl.style.display =\n",
              "        google.colab.kernel.accessAllowed ? 'block' : 'none';\n",
              "    })();\n",
              "  </script>\n",
              "</div>\n",
              "\n",
              "    </div>\n",
              "  </div>\n"
            ],
            "application/vnd.google.colaboratory.intrinsic+json": {
              "type": "dataframe",
              "variable_name": "sample_df",
              "repr_error": "unhashable type: 'list'"
            }
          },
          "metadata": {},
          "execution_count": 78
        }
      ]
    },
    {
      "cell_type": "code",
      "source": [
        "#create corpus of messages\n",
        "corpus=df[\"message_preprocess\"].tolist()\n",
        "corpus[2:5]"
      ],
      "metadata": {
        "colab": {
          "base_uri": "https://localhost:8080/"
        },
        "id": "VkTlfcziju31",
        "outputId": "078a0b60-ce81-4995-f88f-6cfb7e01374e"
      },
      "execution_count": 79,
      "outputs": [
        {
          "output_type": "execute_result",
          "data": {
            "text/plain": [
              "[['free',\n",
              "  'entri',\n",
              "  'wkli',\n",
              "  'comp',\n",
              "  'win',\n",
              "  'fa',\n",
              "  'cup',\n",
              "  'final',\n",
              "  'tkt',\n",
              "  'may',\n",
              "  'text',\n",
              "  'fa',\n",
              "  'receiv',\n",
              "  'entri',\n",
              "  'question',\n",
              "  'std',\n",
              "  'txt',\n",
              "  'rate',\n",
              "  'c',\n",
              "  'appli'],\n",
              " ['u', 'dun', 'say', 'earli', 'hor', 'u', 'c', 'alreadi', 'say'],\n",
              " ['nah', 'think', 'goe', 'usf', 'live', 'around', 'though']]"
            ]
          },
          "metadata": {},
          "execution_count": 79
        }
      ]
    },
    {
      "cell_type": "code",
      "source": [],
      "metadata": {
        "id": "RggxmG0WkehK"
      },
      "execution_count": 79,
      "outputs": []
    },
    {
      "cell_type": "code",
      "source": [
        "\n",
        "\n"
      ],
      "metadata": {
        "id": "XV_VLI2k-zoO"
      },
      "execution_count": 79,
      "outputs": []
    },
    {
      "cell_type": "code",
      "source": [],
      "metadata": {
        "id": "jrcc3vUeAV5J"
      },
      "execution_count": 79,
      "outputs": []
    },
    {
      "cell_type": "markdown",
      "source": [
        "# Frequency based word Embeddings\n",
        " - BOW\n",
        " - TFIDF"
      ],
      "metadata": {
        "id": "LxzSowjm-U64"
      }
    },
    {
      "cell_type": "code",
      "source": [
        "import numpy as np\n",
        "from collections import Counter\n",
        "from math import log\n",
        "\n",
        "# Corpus\n",
        "example_corpus = [\n",
        "    [\"This\", \"movie\", \"is\", \"very\", \"scary\", \"and\", \"long\"],\n",
        "    [\"This\", \"movie\", \"is\", \"not\", \"scary\", \"and\", \"is\", \"slow\"],\n",
        "    [\"This\", \"movie\", \"is\", \"spooky\", \"and\", \"good\"]\n",
        "]\n",
        "\n",
        "# Function to create Bag-of-Words matrix\n",
        "def create_bow_matrix(corpus):\n",
        "    unique_words = set(word for doc in corpus for word in doc)\n",
        "    word_to_index = {word: i for i, word in enumerate(unique_words)}\n",
        "    bow_matrix = np.zeros((len(corpus), len(unique_words)))\n",
        "    for i, doc in enumerate(corpus):\n",
        "        word_counts = Counter(doc)\n",
        "        for word, count in word_counts.items():\n",
        "            bow_matrix[i, word_to_index[word]] = count\n",
        "    return bow_matrix, list(unique_words)\n",
        "\n",
        "# Function to create TF-IDF matrix\n",
        "def create_tfidf_matrix(corpus):\n",
        "    bow_matrix, unique_words = create_bow_matrix(corpus)\n",
        "    tfidf_matrix = np.zeros(bow_matrix.shape)\n",
        "    doc_count = len(corpus)\n",
        "    for i, doc in enumerate(corpus):\n",
        "        word_counts = Counter(doc)\n",
        "        doc_length = sum(word_counts.values())\n",
        "        for word, count in word_counts.items():\n",
        "            word_index = unique_words.index(word)\n",
        "            tf = log(count / doc_length +1)\n",
        "            idf = log(doc_count / sum(1 for doc in corpus if word in doc))\n",
        "            tfidf_matrix[i, word_index] = tf * idf\n",
        "    return tfidf_matrix, unique_words\n",
        "\n",
        "# Create Bag-of-Words matrix\n",
        "bow_matrix, bow_feature_names = create_bow_matrix(example_corpus)\n",
        "\n",
        "# Create TF-IDF matrix\n",
        "tfidf_matrix, tfidf_feature_names = create_tfidf_matrix(example_corpus)\n",
        "\n",
        "# Print Bag-of-Words matrix and feature names\n",
        "print(\"Bag-of-Words Matrix:\")\n",
        "print(bow_matrix)\n",
        "print(\"\\nFeature Names:\")\n",
        "print(bow_feature_names)\n",
        "\n",
        "# Print TF-IDF matrix and feature names\n",
        "print(\"\\nTF-IDF Matrix:\")\n",
        "print(tfidf_matrix)\n",
        "print(\"\\nFeature Names:\")\n",
        "print(tfidf_feature_names)"
      ],
      "metadata": {
        "colab": {
          "base_uri": "https://localhost:8080/"
        },
        "id": "o4xRBa0pHtjo",
        "outputId": "addc58f2-0b36-4bdf-bcdb-83904ec6f6b0"
      },
      "execution_count": 80,
      "outputs": [
        {
          "output_type": "stream",
          "name": "stdout",
          "text": [
            "Bag-of-Words Matrix:\n",
            "[[0. 1. 0. 1. 1. 1. 0. 1. 1. 0. 1.]\n",
            " [0. 1. 1. 0. 1. 1. 0. 1. 2. 1. 0.]\n",
            " [1. 1. 0. 0. 1. 1. 1. 0. 1. 0. 0.]]\n",
            "\n",
            "Feature Names:\n",
            "['spooky', 'This', 'not', 'very', 'movie', 'and', 'good', 'scary', 'is', 'slow', 'long']\n",
            "\n",
            "TF-IDF Matrix:\n",
            "[[0.         0.         0.         0.14669923 0.         0.\n",
            "  0.         0.05414232 0.         0.         0.14669923]\n",
            " [0.         0.         0.12939789 0.         0.         0.\n",
            "  0.         0.04775691 0.         0.12939789 0.        ]\n",
            " [0.16935183 0.         0.         0.         0.         0.\n",
            "  0.16935183 0.         0.         0.         0.        ]]\n",
            "\n",
            "Feature Names:\n",
            "['spooky', 'This', 'not', 'very', 'movie', 'and', 'good', 'scary', 'is', 'slow', 'long']\n"
          ]
        }
      ]
    },
    {
      "cell_type": "code",
      "source": [
        "# Create Bag-of-Words matrix\n",
        "bow_matrix, bow_feature_names = create_bow_matrix(corpus)\n",
        "\n",
        "# Create TF-IDF matrix\n",
        "tfidf_matrix, tfidf_feature_names = create_tfidf_matrix(corpus)\n",
        "\n",
        "# Print Bag-of-Words matrix and feature names\n",
        "print(\"Bag-of-Words Matrix:\")\n",
        "print(bow_matrix)\n",
        "print(\"\\nFeature Names:\")\n",
        "print(bow_feature_names)\n",
        "\n",
        "# Print TF-IDF matrix and feature names\n",
        "print(\"\\nTF-IDF Matrix:\")\n",
        "print(tfidf_matrix)\n",
        "print(\"\\nFeature Names:\")\n",
        "print(tfidf_feature_names)\n",
        "# Print shape of Bag-of-Words matrix\n",
        "print(\"Shape of Bag-of-Words Matrix:\", bow_matrix.shape)\n",
        "\n",
        "# Print shape of TF-IDF matrix\n",
        "print(\"Shape of TF-IDF Matrix:\", tfidf_matrix.shape)"
      ],
      "metadata": {
        "colab": {
          "base_uri": "https://localhost:8080/"
        },
        "id": "IV9iE8ACfV9G",
        "outputId": "ed542c57-ceb0-469a-baa9-8ea472764843"
      },
      "execution_count": 57,
      "outputs": [
        {
          "output_type": "stream",
          "name": "stdout",
          "text": [
            "Bag-of-Words Matrix:\n",
            "[[0. 0. 0. ... 0. 0. 0.]\n",
            " [0. 0. 0. ... 0. 0. 0.]\n",
            " [0. 0. 0. ... 0. 0. 0.]\n",
            " ...\n",
            " [0. 0. 0. ... 0. 0. 0.]\n",
            " [0. 0. 0. ... 0. 0. 0.]\n",
            " [0. 0. 0. ... 0. 0. 0.]]\n",
            "\n",
            "Feature Names:\n",
            "['ashley', 'texa', 'ca', 'ttyl', 'fraud', 'lara', 'hat', 'honeybe', 'unusu', 'laxinorf', 'pthi', 'role', 'ratio', 'eye', 'hiya', 'lovabl', 'placement', 'persev', 'player', 'cours', 'dey', 'job', 'eightish', 'ab', 'craziest', 'pie', 'shame', 'mess', 'kit', 'credit', 'adrian', 'ben', 'badli', 'okey', 'mall', 'server', 'imag', 'digit', 'slip', 'etc', 'ticket', 'aburo', 'edha', 'spous', 'theme', 'via', 'safeti', 'everywher', 'arrest', 'onlin', 'aathi', 'gibb', 'seat', 'thx', 'dict', 'tomo', 'dippeditinadew', 'eatin', 'xxx', 'mila', 'mmsto', 'unit', 'shhhhh', 'chosen', 'kaypoh', 'loyalti', 'brisk', 'blastin', 'evon', 'lobbi', 'jurong', 'diwali', 'unev', 'umma', 'non', 'sch', 'hard', 'takin', 'dad', 'cm', 'q', 'troubl', 'fluid', 'arabian', 'sundayish', 'tht', 'number', 'goodeven', 'tmrw', 'wonder', 'dizzamn', 'subtoitl', 'taka', 'simpler', 'lucyxx', 'incid', 'restrict', 'sac', 'swollen', 'shelf', 'loooooool', 'qet', 'inev', 'eek', 'your', 'careless', 'live', 'assum', 'doubt', 'concentr', 'fifth', 'ibn', 'rv', 'noun', 'dough', 'affection', 'verifi', 'yesterday', 'invad', 'disast', 'tul', 'promptli', 'access', 'sign', 'chip', 'rayman', 'must', 'trauma', 'disappoint', 'becom', 'receivea', 'kolathupalayam', 'comp', 'afghanistan', 'countin', 'tallent', 'boatin', 'evapor', 'mutat', 'texd', 'sold', 'major', 'aberdeen', 'finger', 'parti', 'paint', 'cinema', 'cheeri', 'argu', 'lab', 'mustprovid', 'se', 'anyway', 'multimedia', 'hair', 'belli', 'gorgeou', 'cardin', 'pressur', 'reg', 'bu', 'byatch', 'thinkin', 'chop', 'orno', 'prizeawait', 'grownup', 'enuff', 'nat', 'manag', 'freak', 'mere', 'wewa', 'allo', 'occur', 'marvel', 'simul', 'jo', 'fatti', 'remain', 'postcard', 'australia', 'pocket', 'right', 'saw', 'hp', 'usual', 'corvett', 'gpr', 'iter', 'weed', 'merri', 'iron', 'nalla', 'subsequ', 'nipost', 'he', 'manual', 'emot', 'hon', 'ho', 'hr', 'old', 'night', 'rude', 'chillin', 'otherwis', 'julianaland', 'hous', 'formal', 'light', 'gland', 'weightloss', 'princess', 'dessert', 'gotmarri', 'properti', 'unni', 'sort', 'tire', 'clear', 'falconerf', 'teletext', 'cheek', 'dress', 'beer', 'hourish', 'dha', 'blur', 'dan', 'accumul', 'kintu', 'tightli', 'world', 'barolla', 'imp', 'hot', 'softwar', 'swim', 'ortxt', 'nose', 'tenant', 'gnt', 'naal', 'xclusiv', 'goodi', 'somewhr', 'kilo', 'hppnss', 'yan', 'satan', 'roger', 'monoc', 'karnan', 'allah', 'shell', 'smack', 'restaur', 'reboot', 'maneesha', 'dengra', 'hors', 'hui', 'splle', 'nolin', 'courtroom', 'treat', 'octob', 'neighbor', 'concert', 'todo', 'cme', 'exercis', 'opportun', 'wkg', 'gastroenter', 'speak', 'beyond', 'slave', 'sheet', 'cuddl', 'side', 'resort', 'cozi', 'grasp', 'special', 'water', 'remb', 'surround', 'bec', 'milk', 'tendenc', 'smoothli', 'given', 'matter', 'engin', 'burnt', 'grandma', 'bruce', 'tight', 'journey', 'doubletxt', 'trav', 'freek', 'disk', 'buzz', 'lack', 'thank', 'logoff', 'shivratri', 'pandi', 'resum', 'wml', 'shant', 'belt', 'fan', 'sarasota', 'worri', 'porn', 'break', 'coat', 'jstfrnd', 'queri', 'ladi', 'sux', 'contact', 'deserv', 'rofl', 'tmw', 'creat', 'afternon', 'velusami', 'jan', 'callon', 'sashimi', 'mfl', 'power', 'recycl', 'exhibit', 'wave', 'foot', 'scold', 'tom', 'priscilla', 'ey', 'smith', 'melodi', 'treatin', 'printer', 'mone', 'nervou', 'yeesh', 'z', 'ambrith', 'textand', 'thnk', 'complex', 'fall', 'piss', 'prakasam', 'grl', 'kb', 'jule', 'adam', 'gon', 'smarter', 'chain', 'scrappi', 'yunni', 'neth', 'snog', 'becau', 'brought', 'miller', 'joke', 'tnc', 'ponnungal', 'incorrect', 'recharg', 'cheat', 'esp', 'street', 'xxxxx', 'god', 'error', 'resent', 'lololo', 'yaxxx', 'browni', 'manchest', 'fli', 'blond', 'million', 'easi', 'hardli', 'erutupalam', 'ondu', 'soryda', 'thou', 'chap', 'batteri', 'panti', 'charact', 'stuf', 'jay', 'jobyet', 'victoria', 'stun', 'reslov', 'envi', 'kill', 'accentur', 'nattil', 'mcat', 'tyron', 'shag', 'ryder', 'goin', 'boob', 'tata', 'dun', 'sudden', 'maat', 'fail', 'weddingfriend', 'companion', 'slo', 'take', 'man', 'callcost', 'os', 'spanish', 'year', 'leona', 'courag', 'lux', 'frwd', 'lipo', 'misundrstud', 'room', 'reveal', 'studdi', 'jog', 'desir', 'admiss', 'surf', 'price', 'warn', 'prop', 'cooki', 'spiral', 'stayin', 'grand', 'haunt', 'carpark', 'comingdown', 'local', 'bsn', 'calcul', 'bot', 'oga', 'guy', 'aust', 'halla', 'bread', 'kindli', 'item', 'may', 'jenxxx', 'artist', 'technic', 'uncount', 'ah', 'madodu', 'gudnyt', 'express', 'befor', 'cali', 'suganya', 'el', 'alaipayuth', 'degre', 'hmph', 'cl', 'rite', 'responc', 'howev', 'yoga', 'chic', 'gotto', 'christma', 'twilight', 'state', 'prompt', 'natali', 'prashanthettan', 'rise', 'grief', 'woohoo', 'awkward', 'theoret', 'maxim', 'knw', 'promot', 'moseley', 'rich', 'ibuprofen', 'min', 'chanc', 'choic', 'serena', 'emigr', 'mnth', 'hairdress', 'meal', 'novelti', 'path', 'great', 'gate', 'pictur', 'suprem', 'spoke', 'gave', 'finest', 'hill', 'witot', 'garag', 'lotz', 'kalainar', 'pehl', 'delici', 'yo', 'gram', 'amaz', 'im', 'wheel', 'meaningless', 'pattern', 'phone', 'flirt', 'drvgsto', 'nigpun', 'thrown', 'wuldnt', 'shite', 'tund', 'monkey', 'lool', 'block', 'vth', 'apnt', 'corrupt', 'mudyadhu', 'citylink', 'linux', 'landlin', 'weigh', 'wa', 'air', 'outgo', 'glo', 'tech', 'determin', 'figur', 'tp', 'format', 'bleh', 'unfold', 'creep', 'save', 'sem', 'rhode', 'raj', 'sex', 'po', 'stopcost', 'identifi', 'nonetheless', 'expect', 'blue', 'dracula', 'sacrific', 'long', 'agenc', 'wellda', 'domain', 'commit', 'xavier', 'toll', 'assess', 'liter', 'mmmmmm', 'lookatm', 'director', 'cell', 'relax', 'sneham', 'readi', 'phoenix', 'trainner', 'prof', 'messi', 'descript', 'lousi', 'plz', 'goto', 'shatter', 'pant', 'unless', 'zhong', 'home', 'wallet', 'bam', 'flurri', 'stopc', 'ding', 'cover', 'piah', 'maaaan', 'arm', 'child', 'frm', 'lovli', 'collaps', 'retir', 'sumthin', 'zac', 'reduc', 'moji', 'dub', 'flat', 'decis', 'faber', 'aaniy', 'corect', 'employ', 'deni', 'unsub', 'that', 'wisdom', 'salt', 'ru', 'desk', 'bstfrnd', 'point', 'mist', 'promin', 'consid', 'welp', 'yoyyooo', 'swtheart', 'hor', 'mahal', 'sang', 'boss', 'woould', 'remix', 'continu', 'wipro', 'plate', 'allow', 'gokila', 'toshiba', 'leh', 'second', 'birla', 'heaven', 'tripl', 'ya', 'involv', 'goigng', 'orc', 'reassur', 'prescripiton', 'hallaq', 'cuz', 'dusk', 'dialogu', 'financi', 'dock', 'diseas', 'fro', 'sptv', 'tonit', 'rpl', 'nuerologist', 'pretti', 'okday', 'prone', 'silli', 'cla', 'theori', 'slot', 'regret', 'snicker', 'buffet', 'queen', 'tea', 'femal', 'golf', 'skilgm', 'afraid', 'connect', 'lone', 'barcelona', 'stripe', 'curri', 'battl', 'shanghai', 'nearli', 'count', 'topic', 'card', 'iwana', 'young', 'difficulti', 'boytoy', 'throat', 'inclus', 'hostel', 'maintain', 'book', 'execut', 'cabin', 'nick', 'outag', 'needl', 'five', 'dodgey', 'absolutli', 'zoom', 'pure', 'wi', 'shudvetold', 'holi', 'pongal', 'pink', 'tiim', 'tsc', 'consist', 'firmwar', 'customercar', 'aco', 'tesco', 'best', 'utter', 'canlov', 'defo', 'rington', 'ax', 'incomm', 'hospit', 'bedroom', 'chloe', 'quizclub', 'mountain', 'clue', 'audiit', 'weather', 'nitw', 'sopha', 'nu', 'diall', 'loung', 'tarot', 'promo', 'curiou', 'thk', 'dave', 'nothin', 'ello', 'breath', 'particular', 'fart', 'word', 'pickl', 'particularli', 'seri', 'ray', 'unkempt', 'vid', 'asian', 'thnq', 'dime', 'sleepingwith', 'alex', 'practis', 'common', 'oppos', 'sullivan', 'bye', 'tirupur', 'asleep', 'search', 'camp', 'spent', 'shout', 'stereophon', 'upcharg', 'eve', 'anythingtomorrow', 'pokkiri', 'cabl', 'asu', 'txtin', 'fake', 'jon', 'whenevr', 'hugh', 'resub', 'korean', 'bw', 'avoid', 'colleagu', 'poke', 'mre', 'wenev', 'work', 'consol', 'durban', 'digi', 'librari', 'puttin', 'morphin', 'usb', 'lucki', 'beta', 'p', 'view', 'lunch', 'senthil', 'gay', 'follow', 'cultur', 'younger', 'earn', 'youi', 'organis', 'dartboard', 'excus', 'anim', 'idu', 'sarcast', 'njan', 'footbal', 'liao', 'dogg', 'addict', 'idk', 'wipe', 'partner', 'intro', 'damn', 'dammit', 'shexi', 'avalarr', 'chez', 'made', 'interest', 'improv', 'guild', 'tee', 'machin', 'histori', 'detail', 'bawl', 'case', 'croydon', 'theseday', 'peni', 'leg', 'iouri', 'nit', 'latr', 'dial', 'sunday', 'proof', 'sum', 'haiz', 'wen', 'vale', 'spontan', 'super', 'goal', 'ahhhh', 'ugadi', 'review', 'shah', 'fund', 'juz', 'achan', 'or', 'famili', 'poorli', 'fuell', 'fun', 'hire', 'mega', 'rememb', 'kalli', 'atten', 'lrg', 'ny', 'sam', 'sf', 'antelop', 'chg', 'gm', 'actor', 'clubsaisai', 'iphon', 'press', 'interviw', 'doug', 'buz', 'bx', 'nag', 'tahan', 'yaxx', 'tok', 'wow', 'ee', 'badass', 'mum', 'hurri', 'websit', 'headset', 'call', 'receipt', 'icki', 'bin', 'wizzl', 'eckankar', 'ok', 'fishrman', 'toler', 'dull', 'ja', 'ctter', 'enough', 'txtauction', 'wun', 'ami', 'ha', 'flag', 'draw', 'tranquil', 'yetti', 'unnecessarili', 'takecar', 'fb', 'cthen', 'propos', 'anyon', 'penni', 'camcord', 'coz', 'cannam', 'tact', 'gv', 'langport', 'msg', 'prepaid', 'gover', 'java', 'unabl', 'last', 'cook', 'hsbc', 'idp', 'line', 'reformat', 'wyli', 'disturb', 'nosi', 'love', 'hudgi', 'é', 'abstract', 'suck', 'pleassssssseeeee', 'taxt', 'gaze', 'yifeng', 'racal', 'imat', 'clever', 'truli', 'transport', 'holbi', 'bookedth', 'luk', 'partnership', 'soul', 'apo', 'adventur', 'edison', 'northampton', 'janinexx', 'potato', 'dl', 'either', 'untam', 'stolen', 'getsleep', 'planet', 'cloud', 'camera', 'carlo', 'hesit', 'download', 'webadr', 'natur', 'read', 'keyword', 'set', 'toyota', 'caveboy', 'thirtyeight', 'edward', 'ovr', 'helen', 'assist', 'oli', 'lar', 'award', 'sublet', 'agre', 'plum', 'punto', 'prometazin', 'motorola', 'nurungu', 'gloucesterroad', 'esaplanad', 'wamma', 'pizza', 'barm', 'apolog', 'hai', 'infact', 'arab', 'pixel', 'aiyo', 'adjust', 'reckon', 'ultimatum', 'toothpast', 'travel', 'bbq', 'term', 'pack', 'bulb', 'curtsey', 'dysentri', 'fakey', 'confer', 'somon', 'test', 'appendix', 'messeng', 'ask', 'drive', 'murder', 'yarasu', 'sorta', 'hint', 'boost', 'busi', 'mandan', 'vomitin', 'entri', 'brother', 'cereal', 'peripher', 'oncal', 'staff', 'footbl', 'fredericksburg', 'itwhichturnedinto', 'univers', 'chang', 'prakasamanu', 'toledo', 'foreign', 'vehicl', 'rout', 'aha', 'prizeswith', 'moment', 'wound', 'nammanna', 'toss', 'yellow', 'barrel', 'problemat', 'cedar', 'yr', 'wrk', 'anythin', 'ure', 'urgent', 'comedi', 'floppi', 'marri', 'advisor', 'imin', 'tariff', 'kochi', 'way', 'pract', 'cruis', 'temp', 'vic', 'cam', 'shangela', 'trouser', 'fonin', 'upstair', 'mono', 'ice', 'reflect', 'smth', 'yourinclus', 'act', 'panren', 'bollox', 'inshah', 'dozen', 'dino', 'http', 'titl', 'leo', 'along', 'confirmd', 'shave', 'fink', 'bff', 'mmmm', 'sweet', 'applic', 'mysteri', 'itz', 'tron', 'loxahatche', 'percent', 'drugdeal', 'ever', 'meiv', 'fp', 'iraq', 'fraction', 'citizen', 'sc', 'cri', 'trackmarqu', 'blah', 'system', 'exact', 'samachara', 'ban', 'wil', 'blind', 'horo', 'msn', 'aight', 'twigg', 'wild', 'sari', 'xy', 'fieldof', 'granit', 'thangam', 'replac', 'raglan', 'nitz', 'forgiv', 'oxygen', 'happi', 'list', 'html', 'scorabl', 'eerulli', 'loan', 'hi', 'panalam', 'high', 'reach', 'matric', 'uawak', 'bath', 'woot', 'sausag', 'endow', 'due', 'father', 'record', 'anthoni', 'watchin', 'matthew', 'uniform', 'jamz', 'colleg', 'shoe', 'attend', 'valuabl', 'think', 'learn', 'ma', 'dinner', 'ovarian', 'olowoyey', 'pout', 'exorcist', 'ibiza', 'rgent', 'molest', 'shahjahan', 'rumbl', 'sonetim', 'shd', 'destini', 'pick', 'meanwhil', 'dabbl', 'karo', 'standard', 'zed', 'garment', 'apt', 'eleven', 'hostil', 'poop', 'skirt', 'golddigg', 'x', 'tram', 'chk', 'studyn', 'tear', 'oyea', 'compass', 'upset', 'faggi', 'sugabab', 'open', 'sed', 'amt', 'halloween', 'av', 'beauti', 'deepest', 'juliana', 'kitti', 'fourth', 'apeshit', 'bluray', 'usp', 'madurai', 'hall', 'season', 'admin', 'uup', 'top', 'olayiwola', 'teju', 'south', 'toclaim', 'chinnu', 'xxxmobilemovieclub', 'senor', 'guess', 'tiz', 'lip', 'pansi', 'goodnoon', 'slide', 'configur', 'polyc', 'ericson', 'avail', 'sib', 'tlk', 'profit', 'factori', 'cudnt', 'imma', 'meh', 'prais', 'witout', 'colour', 'largest', 'hold', 'hu', 'girlfrnd', 'abi', 'dirti', 'timin', 'jess', 'pshew', 'spjanuari', 'fgkslpo', 'shrink', 'brandi', 'uve', 'sync', 'resid', 'florida', 'diff', 'lotr', 'wrote', 'oh', 'iz', 'holder', 'diesel', 'away', 'seek', 'perspect', 'stylish', 'intha', 'selfish', 'left', 'soon', 'lose', 'yor', 'fast', 'polyphon', 'space', 'band', 'annoy', 'lasagna', 'mrng', 'atlast', 'oso', 'strongli', 'pushbutton', 'inperson', 'end', 'babe', 'essenti', 'eeri', 'come', 'perman', 'ur', 'mell', 'sooner', 'prefer', 'lul', 'wetherspoon', 'never', 'iscom', 'mittelschmertz', 'apologis', 'idc', 'stomach', 'parish', 'stop', 'wahala', 'acid', 'tortur', 'abel', 'bedreal', 'xt', 'diet', 'bowl', 'bullshit', 'ninish', 'infect', 'piti', 'railway', 'dictionari', 'ithink', 'approv', 'haul', 'aunti', 'instant', 'pple', 'ridden', 'bear', 'servic', 'lingo', 'fever', 'rajnik', 'avin', 'gota', 'iq', 'toilet', 'hoop', 'thin', 'past', 'solihul', 'abl', 'afternoon', 'antha', 'drug', 'greec', 'bull', 'hear', 'impos', 'carolina', 'vco', 'reappli', 'na', 'jiu', 'videosound', 'closer', 'mobi', 'respons', 'hearin', 'fav', 'regist', 'insha', 'dnt', 'password', 'truffl', 'terrif', 'womdarful', 'give', 'soni', 'favor', 'agent', 'chachi', 'twitter', 'vodka', 'rentl', 'cruisin', 'done', 'nvq', 'secretari', 'treadmil', 'amount', 'coax', 'part', 'nail', 'mufti', 'ws', 'paypal', 'ship', 'allalo', 'spif', 'monkeyaround', 'touch', 'summer', 'psp', 'box', 'jump', 'rightio', 'zouk', 'wed', 'religi', 'mite', 'black', 'hol', 'avatar', 'faint', 'floor', 'temper', 'tot', 'scous', 'salad', 'bookmark', 'ffffuuuuuuu', 'lost', 'beendrop', 'congrat', 'ghost', 'conact', 'wud', 'investig', 'mag', 'destin', 'tamilnadu', 'freaki', 'survey', 'larg', 'ofcours', 'yuou', 'shut', 'recount', 'fate', 'psychiatrist', 'str', 'xuhui', 'cya', 'villag', 'beneath', 'cross', 'cp', 'princ', 'bother', 'eat', 'neshanth', 'simpli', 'supli', 'chuck', 'shola', 'justbeen', 'fri', 'costum', 'thkin', 'lmao', 'heehe', 'doom', 'rupaul', 'event', 'pussi', 'dentist', 'countinlot', 'restock', 'who', 'swann', 'prior', 'heavi', 'twenti', 'blackberri', 'stagwood', 'owe', 'mayb', 'rudi', 'mitsak', 'hep', 'marriag', 'twice', 'w', 'western', 'gim', 'scammer', 'later', 'zyada', 'archiv', 'yell', 'doll', 'throwin', 'prob', 'v', 'grr', 'virtual', 'forum', 'kent', 'porridg', 'cal', 'shun', 'matur', 'borrow', 'angri', 'satsgettin', 'boyfriend', 'motiv', 'respect', 'musta', 'mf', 'lead', 'import', 'xxxxxxx', 'roll', 'afew', 'ml', 'sd', 'percentag', 'vaazhthukk', 'steyn', 'sic', 'recpt', 'varma', 'pilat', 'lucozad', 'island', 'constant', 'rhythm', 'flame', 'spain', 'dehydr', 'er', 'unbeliev', 'throw', 'center', 'tddnewslett', 'fal', 'duffer', 'show', 'cop', 'temal', 'delhi', 'salmon', 'nyt', 'danger', 'logon', 'charl', 'yest', 'sunscreen', 'txtstop', 'shi', 'cute', 'wick', 'patrick', 'exchang', 'vri', 'jsut', 'irrit', 'news', 'beach', 'establish', 'length', 'door', 'sathi', 'steamboat', 'sourc', 'billi', 'lt', 'grab', 'chase', 'fumbl', 'rel', 'landlineonli', 'vinobanagar', 'hangin', 'xin', 'gaug', 'aslamalaikkum', 'share', 'breezi', 'pride', 'spotti', 'affair', 'short', 'lim', 'date', 'wheat', 'jada', 'rwm', 'pix', 'limit', 'lark', 'kama', 'atm', 'christmassi', 'gray', 'employe', 'deu', 'burden', 'drunk', 'bleak', 'wallpap', 'huim', 'hole', 'shoulder', 'lido', 'cage', 'eshxxxxxxxxxxx', 'politician', 'map', 'meaning', 'british', 'shelv', 'eurodisinc', 'regular', 'per', 'marsm', 'housework', 'ikea', 'male', 'bailiff', 'bhaskar', 'steak', 'soooo', 'kettoda', 'danc', 'premium', 'ai', 'drink', 'chord', 'want', 'arrang', 'genu', 'crush', 'shracomorsglsuplt', 'urgoin', 'carryin', 'version', 'intend', 'notifi', 'post', 'go', 'suit', 'height', 'neglect', 'belliger', 'wait', 'conform', 'swat', 'english', 'gamestar', 'wtc', 'supplier', 'frndz', 'studio', 'vega', 'actual', 'enemi', 'slove', 'pura', 'crowd', 'secur', 'reliev', 'jungl', 'will', 'dearli', 'wedlunch', 'blank', 'sir', 'physic', 'le', 'aroundn', 'taunton', 'rec', 'wine', 'cheyyamo', 'debat', 'noon', 'epi', 'doggin', 'belov', 'itna', 'ground', 'duchess', 'probthat', 'place', 'dontignor', 'vodafon', 'india', 'leonardo', 'smaller', 'juswok', 'hectic', 'proverb', 'wet', 'flower', 'duvet', 'creepi', 'wee', 'race', 'mumbai', 'laden', 'rem', 'captain', 'hopeu', 'browser', 'digniti', 'unrecogn', 'poor', 'provinc', 'entitl', 'def', 'spl', 'one', 'opt', 'hubbi', 'surya', 'geoenvironment', 'ilol', 'tue', 'jesu', 'michael', 'field', 'tooo', 'town', 'textbook', 'workout', 'afterward', 'jeevithathil', 'haughaighgtujhyguj', 'tog', 'blame', 'iam', 'tote', 'skill', 'document', 'mari', 'doin', 'relationship', 'bakrid', 'yovil', 'enketa', 'lou', 'ps', 'imprtant', 'bday', 'mandara', 'alibi', 'felt', 'minapn', 'evil', 'click', 'goodtim', 'legitimat', 'stdtxtrate', 'dubsack', 'ptbo', 'linear', 'baig', 'fantast', 'unconsci', 'eldest', 'perhap', 'nw', 'medic', 'wrld', 'gandhipuram', 'pei', 'compani', 'eleph', 'play', 'maximum', 'dread', 'dare', 'shade', 'possess', 'dead', 'invnt', 'info', 'westonzoyland', 'across', 'textin', 'hhahhaahahah', 'goodmorn', 'ranjith', 'std', 'sall', 'offc', 'siguviri', 'everyth', 'revis', 'tap', 'keralacircl', 'await', 'snake', 'orchard', 'didnt', 'hmv', 'pole', 'tkt', 'sick', 'wid', 'gym', 'weird', 'next', 'maneg', 'surnam', 'coher', 'haiyoh', 'evri', 'sankranti', 'swashbuckl', 'cream', 'uwana', 'checkbox', 'laugh', 'resiz', 'sun', 'mack', 'arrow', 'virgil', 'harish', 'sad', 'pin', 'maraikara', 'dancc', 'gt', 'depress', 'siva', 'dedic', 'bootydeli', 'voic', 'baaaaab', 'languag', 'grahmbel', 'hun', 'aa', 'patient', 'makin', 'nosh', 'knock', 'mob', 'ac', 'arngd', 'narcot', 'gnun', 'still', 'practic', 'talent', 'edrunk', 'self', 'video', 'everyboy', 'shoranur', 'serv', 'shija', 'spark', 'cliff', 'tarpon', 'kerala', 'prepay', 'chiong', 'arti', 'mr', 'brilliantli', 'ga', 'headach', 'crave', 'prioriti', 'design', 'westshor', 'request', 'sunroof', 'threw', 'youuuuu', 'glass', 'prasad', 'eachoth', 'but', 'proov', 'daywith', 'snatch', 'drpd', 'daddi', 'tootsi', 'thinl', 'chocol', 'splash', 'maggi', 'slice', 'mu', 'cap', 'bak', 'favour', 'hava', 'explain', 'ahmad', 'file', 'velli', 'north', 'autocorrect', 'doke', 'geniu', 'anythi', 'hittng', 'ana', 'lennon', 'bundl', 'wot', 'gin', 'gee', 'jelli', 'cheap', 'lol', 'khelat', 'kanagu', 'royal', 'aretak', 'mental', 'rip', 'final', 'wish', 'expir', 'peep', 'port', 'yupz', 'mcr', 'thankyou', 'gd', 'add', 'squishi', 'whore', 'perfect', 'uni', 'mind', 'hm', 'censu', 'yam', 'intent', 'marley', 'wit', 'presnt', 'cyst', 'macha', 'ayo', 'windi', 'bead', 'inconveni', 'plumb', 'midnight', 'pan', 'obes', 'welcom', 'beth', 'mca', 'ritten', 'andro', 'soonlot', 'paus', 'refil', 'wherear', 'mask', 'rcv', 'ukp', 'hamper', 'harder', 'eighth', 'necklac', 'balloon', 'payasam', 'soz', 'deduct', 'function', 'aeroplan', 'bergkamp', 'furnitur', 'gold', 'scrape', 'phil', 'upto', 'ard', 'kickoff', 'chees', 'anytim', 'everythin', 'milta', 'kisi', 'hide', 'qatar', 'dryer', 'groov', 'knee', 'net', 'snuggl', 'signin', 'torch', 'money', 'jot', 'wear', 'prize', 'med', 'smoke', 'pillow', 'orig', 'color', 'kvb', 'whatev', 'reader', 'salam', 'longer', 'jap', 'stapati', 'eastend', 'lookin', 'nasdaq', 'howu', 'hopeso', 'e', 'hav', 'dogwood', 'dhanush', 'kinda', 'diaper', 'insect', 'thecd', 'reset', 'nottingham', 'youwanna', 'ts', 'everi', 'yalrigu', 'erupt', 'tome', 'franyxxxxx', 'slap', 'wing', 'amp', 'webpag', 'margin', 'trishul', 'anybodi', 'ore', 'bcm', 'pisc', 'conclus', 'grumpi', 'transfer', 'nickey', 'smsing', 'contain', 'muht', 'vijaykanth', 'own', 'token', 'dual', 'mentor', 'hmmmm', 'ba', 'shakara', 'ennal', 'lick', 'baaaaaaaab', 'moan', 'easili', 'housew', 'swan', 'necessarili', 'neces', 'braini', 'bluetooth', 'memori', 'tobe', 'secret', 'customersqueri', 'ko', 'speedchat', 'kaitlyn', 'meatbal', 'spook', 'impost', 'offlin', 'song', 'betta', 'lanr', 'kind', 'sao', 'overh', 'mark', 'sure', 'tongu', 'behind', 'basket', 'stewarts', 'possibl', 'sapna', 'disappear', 'jokin', 'chrgd', 'signal', 'natalja', 'realis', 'experi', 'anniversari', 'feet', 'coulda', 'imposs', 'geeeee', 'thatmum', 'shitinnit', 'film', 'gotten', 'polic', 'drunkard', 'gent', 'lancast', 'ra', 'none', 'txting', 'all', 'eaten', 'explos', 'aris', 'blog', 'backdoor', 'asthma', 'noisi', 'sane', 'vat', 'fffff', 'va', 'wheellock', 'bbd', 'name', 'snappi', 'bang', 'gailxx', 'upgrad', 'bought', 'petey', 'commun', 'forc', 'sian', 'juici', 'compromis', 'brat', 'drum', 'sitll', 'evo', 'wicklow', 'abbey', 'splat', 'aid', 'hmm', 'southern', 'june', 'happier', 'certif', 'robinson', 'fathima', 'zealand', 'dhort', 'broth', 'abta', 'blimey', 'concern', 'pooja', 'prsn', 'initi', 'though', 'remembr', 'hogli', 'satisfi', 'evn', 'trip', 'yup', 'haha', 'breez', 'thought', 'affidavit', 'subscrit', 'kay', 'smell', 'pooki', 'gravi', 'becoz', 'zoe', 'cust', 'hex', 'st', 'vday', 'flood', 'sterl', 'needa', 'deck', 'btw', 'bakra', 'unredeem', 'sponsor', 'wrking', 'talkbut', 'unsubscrib', 'warwick', 'area', 'chex', 'gravel', 'rounder', 'fat', 'ham', 'neway', 'fastest', 'seen', 'healer', 'mile', 'frnd', 'peril', 'loo', 'dri', 'machan', 'busetop', 'geti', 'parent', 'smiley', 'reali', 'burrito', 'timi', 'shoppin', 'wiskey', 'free', 'hotel', 'smidgin', 'massiv', 'someth', 'differ', 'lov', 'gdeve', 'loko', 'jerri', 'letter', 'nig', 'account', 'chore', 'yourjob', 'ryan', 'worm', 'admir', 'support', 'citi', 'coop', 'plaza', 'depart', 'nightnight', 'wate', 'alett', 'volcano', 'might', 'math', 'cre', 'santa', 'egbon', 'landmark', 'twink', 'impress', 'flake', 'correctli', 'seem', 'gain', 'around', 'terribl', 'unlik', 'couch', 'brain', 'trial', 'posit', 'wall', 'gopalettan', 'frontiervil', 'despit', 'flim', 'advis', 'ent', 'shampain', 'netflix', 'vasai', 'strict', 'diamond', 'somewheresomeon', 'slurp', 'babysit', 'fedex', 'august', 'lock', 'notic', 'worthless', 'inning', 'whether', 'jide', 'jen', 'mobilesdirect', 'lifei', 'thanx', 'feelingood', 'jolt', 'gift', 'am', 'sugar', 'treacl', 'everyon', 'hotmix', 'randi', 'boooo', 'wotz', 'tgxxrz', 'flyng', 'pig', 'spirit', 'birthdat', 'sp', 'accordingli', 'kalaachutaarama', 'ecstasi', 'behalf', 'nz', 'devour', 'nap', 'cd', 'favorit', 'meow', 'bk', 'reason', 'viva', 'fren', 'helplin', 'dabook', 'upload', 'passion', 'tai', 'escal', 'darkest', 'hank', 'batt', 'warner', 'outbid', 'togeth', 'food', 'canteen', 'willpow', 'sparkl', 'violenc', 'spot', 'ela', 'ppl', 'wereth', 'borin', 'psxtra', 'borderlin', 'lighter', 'explicitli', 'stair', 'onluy', 'bluetoothhdset', 'fishhead', 'bridgwat', 'steal', 'admit', 'f', 'sauci', 'authoris', 'lyf', 'pest', 'yorg', 'bore', 'like', 'februari', 'nobodi', 'everybodi', 'aldrin', 'financ', 'bloodi', 'hidden', 'offens', 'paragraph', 'car', 'icon', 'woulda', 'copi', 'budget', 'student', 'wt', 'banter', 'beat', 'winterston', 'rakhesh', 'amanda', 'slp', 'poker', 'hunni', 'payback', 'much', 'project', 'howz', 'stressful', 'achiev', 'type', 'headin', 'arcad', 'petrol', 'drinkin', 'boat', 'ahead', 'kort', 'lil', 'nagar', 'qlynnbv', 'payment', 'check', 'gibe', 'misbehav', 'obey', 'gari', 'site', 'folk', 'asda', 'wind', 'cash', 'pint', 'scotch', 'recoveri', 'half', 'basq', 'idea', 'roast', 'offer', 'pear', 'aww', 'showroom', 'repeat', 'imagin', 'netcollex', 'peski', 'stamp', 'nìte', 'accordin', 'fond', 'icic', 'certainli', 'urgran', 'slaaaaav', 'prey', 'look', 'outta', 'avo', 'ertini', 'ipad', 'an', 'engag', 'pleasant', 'missionari', 'salon', 'yi', 'stabil', 'wrc', 'write', 'pass', 'champney', 'bless', 'increas', 'practicum', 'whoever', 'shock', 'posibl', 'nighter', 'chat', 'ye', 'hook', 'sae', 'reserv', 'remov', 'imf', 'audri', 'teas', 'tall', 'thursday', 'swear', 'ooh', 'carolin', 'auto', 'hyde', 'macho', 'thout', 'loud', 'mood', 'lag', 'dawn', 'funer', 'korli', 'real', 'peak', 'raji', 'mathemat', 'babyjontet', 'sceneri', 'jez', 'said', 'wif', 'spoil', 'payoh', 'mostli', 'trust', 'cc', 'american', 'comfey', 'magazin', 'ideal', 'gsoh', 'muchxxlov', 'passabl', 'drastic', 'jeremiah', 'flow', 'anjola', 'rstm', 'judgement', 'rajitha', 'refer', 'stylist', 'necess', 'duo', 'yalru', 'bridg', 'ummifi', 'dvd', 'lifebook', 'plenti', 'neglet', 'get', 'jenni', 'sagamu', 'yen', 'cocksuck', 'gobi', 'rpli', 'wthout', 'shld', 'today', 'brand', 'slightli', 'anni', 'lie', 'iknow', 'chess', 'horni', 'prap', 'born', 'badrith', 'schedul', 'updat', 'tactless', 'poem', 'melnit', 'combin', 'juli', 'jaya', 'pudunga', 'track', 'jock', 'soo', 'jd', 'somewher', 'brighten', 'innoc', 'progress', 'portion', 'upgrdcentr', 'handset', 'elect', 'beforehand', 'month', 'alon', 'belovd', 'henc', 'cashto', 'interflora', 'hope', 'ntwk', 'apologet', 'develop', 'inc', 'secondari', 'barbi', 'station', 'lv', 'hmmm', 'burn', 'kegger', 'age', 'typic', 'tomarrow', 'sometim', 'asia', 'especi', 'toppoli', 'believ', 'lambu', 'complain', 'garden', 'hate', 'tx', 'ourback', 'tosend', 'monday', 'c', 'prod', 'charg', 'hlp', 'weight', 'socht', 'dontpleas', 'increment', 'hustl', 'datz', 'nob', 'gymnast', 'west', 'unconvinc', 'blown', 'entertain', 'answerin', 'contribut', 'meat', 'txt', 'transcrib', 'perpetu', 'new', 'flip', 'definit', 'complaint', 'answr', 'ashwini', 'refus', 'offici', 'tantrum', 'cuppa', 'heltini', 'bed', 'amrita', 'alertfrom', 'john', 'kath', 'astoundingli', 'arriv', 'death', 'cum', 'cst', 'thepub', 'dobbi', 'uwant', 'sexychat', 'zebra', 'wherr', 'wrench', 'dismay', 'adrink', 'swayz', 'mix', 'outfor', 'sori', 'select', 'weekend', 'vip', 'curfew', 'kate', 'far', 'spice', 'jamster', 'desert', 'followin', 'toa', 'howard', 'sexi', 'mush', 'nic', 'cribb', 'problem', 'omw', 'fuckin', 'alwa', 'underdtand', 'hanumanji', 'lot', 'cbe', 'foley', 'chariti', 'waqt', 'bt', 'lifetim', 'exorc', 'thur', 'wednesday', 'normal', 'load', 'puppi', 'airport', 'mtnl', 'benni', 'chinchilla', 'ajith', 'statu', 'darl', 'discreet', 'incred', 'earth', 'phase', 'movi', 'vu', 'riley', 'ave', 'omg', 'mailbox', 'broadband', 'prepar', 'what', 'brave', 'rs', 'minut', 'murali', 'regard', 'unjalur', 'massag', 'yep', 'ralli', 'uv', 'mid', 'actin', 'tulip', 'stay', 'quiet', 'greatest', 'motor', 'us', 'hogidh', 'tunji', 'watevr', 'basic', 'rais', 'puriti', 'forward', 'sachin', 'saristar', 'havnt', 'fifa', 'squid', 'oreo', 'ceil', 'thi', 'slipperi', 'prescript', 'papa', 'anand', 'lord', 'kfc', 'reloc', 'alian', 'accommodationvouch', 'button', 'callertun', 'mini', 'withdraw', 'gower', 'riddanc', 'gettin', 'gener', 'push', 'bad', 'katexxx', 'fwiw', 'loss', 'bathroom', 'fret', 'co', 'rgd', 'need', 'bike', 'found', 'window', 'duck', 'reallyne', 'magic', 'maki', 'profession', 'success', 'somebodi', 'ogunrind', 'win', 'prepon', 'franxx', 'contract', 'childporn', 'scotsman', 'inr', 'onam', 'obvious', 'chechi', 'entrepreneur', 'flaki', 'breakin', 'bell', 'punish', 'true', 'drop', 'ge', 'bugi', 'nxt', 'weirdi', 'mei', 'stil', 'tau', 'chastiti', 'porteg', 'ikno', 'reject', 'lareadi', 'iccha', 'affect', 'spoon', 'snowman', 'unmit', 'versu', 'pleasur', 'collect', 'rose', 'fine', 'dirtiest', 'howdi', 'que', 'easiest', 'careabout', 'deltomorrow', 'huh', 'sm', 'respond', 'ibm', 'struggl', 'happili', 'intrepid', 'trubl', 'least', 'kappa', 'bare', 'bbc', 'happend', 'coveragd', 'control', 'skateboard', 'spk', 'random', 'ayn', 'edit', 'shortli', 'forgot', 'facebook', 'birth', 'waheeda', 'mous', 'steed', 'glad', 'uteru', 'cnl', 'je', 'theplac', 'forev', 'gete', 'slept', 'eventu', 'sec', 'teresa', 'gudnit', 'evrey', 'beg', 'kiosk', 'red', 'attitud', 'goodnit', 'newest', 'sake', 'elaya', 'scream', 'kept', 'yck', 'angel', 'associ', 'rain', 'buy', 'recept', 'ta', 'church', 'wither', 'sherawat', 'spoilt', 'tke', 'instal', 'textoper', 'waaaat', 'nurs', 'worst', 'friendsar', 'jaykwon', 'tc', 'asusu', 'radio', 'rate', 'morefrmmob', 'boston', 'dancin', 'surgic', 'lambda', 'proze', 'extermin', 'accomod', 'ruin', 'unfortun', 'pic', 'breakfast', 'chinki', 'filthyguy', 'drunken', 'sez', 'plaid', 'head', 'romant', 'variou', 'ach', 'colani', 'swalpa', 'alreadi', 'photo', 'wn', 'jade', 'invest', 'graviti', 'frmcloud', 'toxic', 'sday', 'roommat', 'king', 'build', 'nevamind', 'ton', 'yummi', 'stroke', 'visa', 'forfeit', 'shesil', 'jet', 'attempt', 'armand', 'shortcod', 'zogtoriu', 'seriou', 'mouth', 'doc', 'neva', 'pour', 'sorrow', 'mj', 'donat', 'chapter', 'hasbro', 'inch', 'symptom', 'mwah', 'hack', 'shrub', 'cancel', 'lo', 'tv', 'subscrib', 'trade', 'laundri', 'gmw', 'shb', 'gentli', 'anywher', 'horribl', 'join', 'embarass', 'violet', 'prestig', 'wo', 'user', 'comment', 'knacker', 'visitor', 'carton', 'return', 'two', 'parchi', 'lingeri', 'dat', 'andr', 'driver', 'applebe', 'mecaus', 'invoic', 'compliment', 'mobil', 'bcum', 'sh', 'slowli', 'cold', 'mmmmmmm', 'evng', 'african', 'heater', 'pub', 'accept', 'litr', 'faglord', 'interfu', 'agalla', 'section', 'wesley', 'whassup', 'birthday', 'presid', 'starv', 'ivatt', 'leftov', 'commerci', 'lotta', 'cup', 'raksha', 'carlin', 'uin', 'enna', 'ag', 'wuld', 'farm', 'entir', 'hey', 'asap', 'sore', 'huge', 'intern', 'ate', 'clover', 'spin', 'mandi', 'tuth', 'neck', 'fetch', 'depend', 'hrishi', 'expens', 'intellig', 'ger', 'exhaust', 'devil', 'low', 'hw', 'owo', 'geeee', 'display', 'resolut', 'hannaford', 'rest', 'tonex', 'b', 'platt', 'everyday', 'rto', 'coincid', 'fifteen', 'zaher', 'fuuuuck', 'helloooo', 'sound', 'tiwari', 'violat', 'newport', 'ü', 'illspeak', 'oyster', 'cafe', 'doinat', 'class', 'starshin', 'visit', 'hee', 'dealer', 'vewi', 'big', 'norm', 'seventeen', 'die', 'lk', 'ethnic', 'mission', 'semest', 'feed', 'georg', 'rock', 'rat', 'tat', 'tirunelvali', 'bunker', 'crore', 'overa', 'hvae', 'chik', 'snap', 'dream', 'sleepin', 'spageddi', 'vomit', 'loos', 'knew', 'thasa', 'smeon', 'smear', 'de', 'graze', 'resend', 'dao', 'ext', 'noic', 'odalebeku', 'beverag', 'failur', 'notif', 'muah', 'hussey', 'owl', 'silver', 'enufcredeit', 'proper', 'layin', 'begin', 'level', 'ash', 'holla', 'edukkukaye', 'sura', 'tait', 'stomp', 'freind', 'jeetey', 'premier', 'jia', 'spam', 'sabarish', 'bfore', 'morn', 'dob', 'action', 'loverboy', 'yar', 'dick', 'alwi', 'crazyin', 'freemsg', 'fade', 'ex', 'christ', 'trash', 'inspect', 'xxxx', 'bone', 'camri', 'dismissi', 'shldxxxx', 'claimcod', 'redeem', 'leadership', 'soire', 'ay', 'jason', 'sumf', 'max', 'taylor', 'polo', 'famamu', 'app', 'inlud', 'classic', 'cdgt', 'bpo', 'lei', 'tick', 'thriller', 'legal', 'goggl', 'musthu', 'mg', 'luton', 'land', 'mode', 'den', 'cha', 'appli', 'code', 'inconsider', 'jazz', 'outdoor', 'declar', 'anonym', 'accent', 'problm', 'fell', 'categori', 'ettan', 'beerag', 'lightli', 'listen', 'clash', 'happiest', 'hut', 'laid', 'hunt', 'opinion', 'hell', 'ubandu', 'champ', 'earli', 'bill', 'nh', 'vl', 'bat', 'misss', 'msging', 'henri', 'sportsx', 'compar', 'pull', 'chick', 'worth', 'frog', 'attent', 'gei', 'tt', 'nav', 'tank', 'pod', 'stoner', 'srsli', 'chad', 'theatr', 'extrem', 'friend', 'triumph', 'social', 'emili', 'among', 'thia', 'havin', 'miracl', 'mtalk', 'fee', 'boo', 'swoop', 'besid', 'sway', 'email', 'ad', 'videophon', 'empti', 'hitman', 'selfindepend', 'macedonia', 'mention', 'ref', 'aiya', 'britney', 'taught', 'chef', 'chennai', 'malarki', 'lift', 'sent', 'thanku', 'anoth', 'liverpool', 'pre', 'ahold', 'reliant', 'shove', 'suppli', 'sofa', 'aft', 'ccna', 'nytho', 'warranti', 'ou', 'rcd', 'sweeti', 'everytim', 'yiju', 'punch', 'vatian', 'thandiyachu', 'dirt', 'calm', 'faster', 'atleast', 'nudist', 'divis', 'stranger', 'checkmat', 'ride', 'izzit', 'rdi', 'rael', 'en', 'pressi', 'somerset', 'husband', 'nuther', 'arun', 'nite', 'lanka', 'dark', 'forget', 'grumbl', 'law', 'friday', 'care', 'luckili', 'woul', 'hont', 'complementari', 'ranju', 'content', 'tone', 'pc', 'shindig', 'js', 'lautech', 'contin', 'bck', 'prem', 'dom', 'lit', 'brows', 'deliv', 'priest', 'innu', 'my', 'merememberin', 'ignor', 'came', 'minu', 'mc', 'vibrat', 'alter', 'demand', 'addi', 'singapor', 'avenu', 'mm', 'heavili', 'bet', 'ive', 'svc', 'ish', 'walkin', 'miwa', 'ofic', 'parco', 'uniqu', 'rawr', 'divorc', 'marrg', 'opponent', 'stalk', 'chinatown', 'sweater', 'huai', 'optout', 'dine', 'spend', 'revers', 'announc', 'audit', 'thgt', 'directli', 'comin', 'lage', 'whatsup', 'lac', 'dokey', 'dizze', 'requir', 'realiti', 'size', 'mb', 'freez', 'swhrt', 'wildlif', 'posh', 'full', 'ro', 'bloo', 'moon', 'gotani', 'envelop', 'pharmaci', 'retriev', 'day', 'campu', 'mobno', 'mw', 'string', 'sayin', 'priya', 'yetund', 'nvm', 'resubmit', 'chikku', 'stool', 'ramen', 'grave', 'whose', 'oi', 'closebi', 'walmart', 'usher', 'workag', 'tini', 'canada', 'ujhhhhhhh', 'shirt', 'strip', 'wasnt', 'pool', 'jjc', 'argh', 'recd', 'rightli', 'lyric', 'purs', 'dip', 'experiencehttp', 'paul', 'clark', 'els', 'nevil', 'foward', 'ebay', 'tor', 'xxxxxxxx', 'oic', 'drama', 'web', 'famou', 'motherfuck', 'ear', 'stifl', 'good', 'isnt', 'bangbab', 'dload', 'straight', 'rough', 'result', 'otsid', 'fidalf', 'heard', 'uncondit', 'cantdo', 'ralph', 'mn', 'analysi', 'cloth', 'gloriou', 'uk', 'consent', 'atroci', 'thing', 'interview', 'bf', 'no', 'doublemin', 'kanji', 'memor', 'elliot', 'matra', 'ti', 'fudg', 'cardiff', 'expos', 'laptop', 'lifpartnr', 'em', 'si', 'pen', 'weapon', 'data', 'wnt', 'misplac', 'shit', 'hdd', 'mushi', 'someonon', 'monthlysubscript', 'sunshin', 'l', 'evrydi', 'erm', 'galileo', 'mate', 'lunsford', 'evalu', 'homeown', 'surpris', 'tough', 'advic', 'syrup', 'cer', 'argentina', 'athlet', 'algorithm', 'himso', 'fujitsu', 'period', 'norcorp', 'outsid', 'approx', 'strong', 'persian', 'rice', 'kadeem', 'pocay', 'sunoco', 'nike', 'xoxo', 'identif', 'antibiot', 'dificult', 'vpod', 'hoo', 'till', 'monkeespeopl', 'relat', 'unfortuntli', 'cave', 'told', 'brdget', 'nan', 'someday', 'chief', 'tim', 'burial', 'plm', 'up', 'xxuk', 'brilliant', 'maretar', 'rahul', 'da', 'sunlight', 'optimist', 'gsex', 'centuri', 'somtim', 'lauri', 'hottest', 'appreci', 'muz', 'jontin', 'fifti', 'spacebuck', 'storm', 'page', 'goss', 'rct', 'somethin', 'libertin', 'usf', 'ind', 'guai', 'gimmi', 'ph', 'londn', 'noooooooo', 'channel', 'teenag', 'jam', 'see', 'dunno', 'doggi', 'cancer', 'ct', 'chapel', 'snowboard', 'fowler', 'prabha', 'wrnog', 'decor', 'miiiiiiissssssssss', 'xafter', 'tampa', 'sympathet', 'fgkslpopw', 'meetin', 'plan', 'crazi', 'probpop', 'pobox', 'bbdelux', 'lovin', 'wer', 'stockport', 'youphon', 'nte', 'singl', 'darren', 'rcvd', 'potenti', 'voucher', 'escap', 'middl', 'nichol', 'dental', 'quiz', 'research', 'atlanta', 'anderson', 'gosh', 'men', 'mylif', 'ambiti', 'china', 'ringtonek', 'idiot', 'evict', 'sweetheart', 'cherish', 'earlier', 'chatter', 'mornin', 'infra', 'enjoyin', 'strain', 'forgiven', 'float', 'marandratha', 'person', 'indian', 'sub', 'finalis', 'abdomen', 'xam', 'eta', 'text', 'confirm', 'fox', 'inperialmus', 'spose', 'prescrib', 'six', 'misscal', 'hv', 'grinul', 'promis', 'cab', 'goodmat', 'transact', 'permiss', 'career', 'naughti', 'chequ', 'scienc', 'calicut', 'measur', 'capac', 'gving', 'lane', 'grinder', 'japanes', 'ball', 'auction', 'buddi', 'doesnt', 'cough', 'outfit', 'sip', 'aunt', 'wkend', 'dogbreath', 'voila', 'vivek', 'stupid', 'veggi', 'unemploy', 'prin', 'hella', 'realiz', 'funni', 'mutai', 'desper', 'coast', 'hail', 'lager', 'trebl', 'vitamin', 'fill', 'thesi', 'mojibiola', 'ow', 'twat', 'otbox', 'batchlor', 'capit', 'cud', 'cld', 'weirdo', 'mesag', 'compulsori', 'glasgow', 'missi', 'easier', 'quick', 'csc', 'disc', 'flash', 'bedbut', 'gam', 'locat', 'jetton', 'spiritu', 'flight', 'referin', 'skype', 'disconnect', 'smile', 'hooch', 'acknowledg', 'thirunelvali', 'lionm', 'leagu', 'deposit', 'balanc', 'walik', 'eppolum', 'nope', 'fone', 'put', 'buffi', 'extra', 'pound', 'splashmobil', 'paid', 'wan', 'prakesh', 'callback', 'la', 'disclos', 'expert', 'malaria', 'iff', 'bold', 'plural', 'honi', 'nokia', 'outstand', 'includ', 'xx', 'abiola', 'mt', 'suffer', 'wkli', 'bigger', 'telephon', 'nyc', 'ugo', 'wotu', 'privat', 'headstart', 'pair', 'luv', 'nowher', 'court', 'bmw', 'offic', 'reflex', 'easter', 'fix', 'vill', 'switch', 'lem', 'jumper', 'lavend', 'hogolo', 'jiayin', 'cttergg', 'mokka', 'semiobscur', 'luxuri', 'ecstaci', 'pleas', 'smartcal', 'swatch', 'darlin', 'postpon', 'thanksgiv', 'gauti', 'joanna', 'know', 'barri', 'g', 'evey', 'cmon', 'shifad', 'educ', 'thedailydraw', 'chill', 'except', 'mia', 'settl', 'th', 'adewal', 'trek', 'sometext', 'studentfinanci', 'nver', 'accident', 'fm', 'filth', 'ingredi', 'oper', 'fab', 'kodthini', 'how', 'congratul', 'wale', 'sitter', 'ju', 'aftr', 'object', 'fondli', 'hip', 'score', 'surli', 'hockey', 'goodo', 'sonathaya', 'tuition', 'heal', 'walsal', 'plough', 'equal', 'funk', 'catch', 'purpl', 'cochin', 'shot', 'backward', 'thuglyf', 'elain', 'ago', 'ldn', 'sandiago', 'understood', 'happenin', 'wrongli', 'ese', 'cs', 'cstore', 'describ', 'shinco', 'urn', 'fair', 'lap', 'children', 'ltd', 'lakh', 'highest', 'appropri', 'dint', 'bit', 'phne', 'tirunelvai', 'unlimit', 'yavnt', 'whole', 'tellmiss', 'orh', 'parantella', 'splendid', 'knicker', 'influx', 'reffer', 'gyno', 'looovvv', 'technolog', 'arr', 'urgnt', 'wat', 'boy', 'stream', 'fruit', 'sehwag', 'macleran', 'nuclear', 'machi', 'girl', 'armenia', 'bian', 'tradit', 'theyr', 'coco', 'bodi', 'raviyog', 'fromwrk', 'tol', 'cock', 'favourit', 'xxxxxxxxxxxxxx', 'rum', 'comb', 'reaction', 'lovem', 'hit', 'margaret', 'lodg', 'youdo', 'spree', 'comprehens', 'jealou', 'approach', 'poet', 'mad', 'minecraft', 'err', 'bahama', 'telugu', 'zero', 'ola', 'ador', 'mquiz', 'plumber', 'frndshp', 'baller', 'muhommad', 'workand', 'beggar', 'woodland', 'latest', 'toplay', 'wocay', 'delet', 'logo', 'oru', 'ink', 'mel', 'buzi', 'blacko', 'itxt', 'spell', 'unbreak', 'childish', 'mother', 'biatch', 'jsco', 'purchas', 'anot', 'crap', 'kudi', 'green', 'form', 'nigh', 'internet', 'got', 'entrop', 'nahi', 'kick', 'stereo', 'jolli', 'amplikat', 'futur', 'dorothi', 'templ', 'sutra', 'fassyol', 'whenev', 'guoyang', 'wahay', 'friendship', 'oz', 'mumha', 'yahoo', 'endless', 'okmail', 'termsappli', 'okor', 'nydc', 'attack', 'guessin', 'mallika', 'ibor', 'winner', 'perform', 'fight', 'foundurself', 'callin', 'sweetest', 'bring', 'rvx', 'twin', 'cramp', 'steve', 'lyfu', 'lotto', 'distanc', 'watchng', 'excel', 'lnli', 'nationwid', 'footprint', 'ovul', 'london', 'bambl', 'mine', 'thnx', 'ful', 'amongst', 'php', 'sculptur', 'bognor', 'begun', 'astronom', 'panic', 'jp', 'close', 'excit', 'okden', 'heat', 'appoint', 'venugop', 'rimac', 'skyve', 'out', 'kicchu', 'syd', 'decemb', 'walk', 'alfi', 'ammo', 'charm', 'guilti', 'bun', 'voicemail', 'brison', 'gang', 'shitin', 'back', 'cn', 'claypot', 'hypertens', 'would', 'rush', 'pretsovru', 'mee', 'bro', 'mofo', 'ffffffffff', 'theacus', 'saturday', 'grate', 'freephon', 'awww', 'defeat', 'absenc', 'howda', 'thekingshead', 'burger', 'gf', 'eruku', 'madstini', 'joy', 'coupla', 'crucial', 'hug', 'slower', 'apart', 'tape', 'burgundi', 'ym', 'golden', 'sarcasm', 'cumin', 'steer', 'comput', 'u', 'downstem', 'stand', 'everyso', 'skip', 'repair', 'broken', 'consensu', 'nowaday', 'alert', 'postcod', 'crash', 'textcomp', 'kidz', 'donyt', 'celebr', 'scotland', 'stock', 'featur', 'rubber', 'shitstorm', 'anji', 'bilo', 'hardcor', 'administr', 'convers', 'qualiti', 'butt', 'caus', 'del', 'without', 'gal', 'taken', 'snd', 'piggi', 'yeh', 'attract', 'sri', 'hardest', 'jaklin', 'lovingli', 'annonc', 'fuck', 'oja', 'belong', 'pain', 'torrent', 'peach', 'jacuzzi', 'clarifi', 'biro', 'swimsuit', 'parad', 'paye', 'nooooooo', 'grace', 'prevent', 'inner', 'eng', 'noe', 'shine', 'tag', 'missin', 'tiger', 'luvd', 'carri', 'endof', 'ds', 'ahhh', 'lesser', 'hero', 'within', 'face', 'suppos', 'spinout', 'il', 'refresh', 'sooo', 'perumbavoor', 'alway', 'skillgam', 'instruct', 'sight', 'jb', 'giv', 'hassl', 'nordstrom', 'madam', 'panason', 'blanket', 'craigslist', 'amus', 'fault', 'dasara', 'wlcome', 'dinero', 'clair', 'instantli', 'blood', 'weiyi', 'plane', 'teeth', 'unsecur', 'bag', 'dlf', 'olol', 'instead', 'plu', 'venaam', 'wendi', 'road', 'leav', 'buzzzz', 'amma', 'europ', 'dramastorm', 'bay', 'ia', 'tension', 'cheaper', 'classmat', 'sender', 'genuin', 'registr', 'watev', 'prayer', 'aspect', 'vari', 'nimya', 'cyclist', 'situat', 'con', 'bowa', 'flippin', 'keep', 'ooooooh', 'r', 'quickli', 'mac', 'parkin', 'custcar', 'lastest', 'medicin', 'ocean', 'sariyag', 'gender', 'electr', 'petexxx', 'insid', 'art', 'program', 'maga', 'confus', 'better', 'lovejen', 'sim', 'syllabu', 'plyr', 'problum', 'dungere', 'gist', 'firsg', 'familiar', 'quit', 'brb', 'pai', 'lotsof', 'cutter', 'satthen', 'peac', 'start', 'nasti', 'nearbi', 'dem', 'passport', 'cuti', 'neekunna', 'watch', 'adult', 'philosoph', 'monster', 'hlday', 'wiv', 'cost', 'boggi', 'guarante', 'diddi', 'dog', 'patti', 'reward', 'ass', 'realli', 'daili', 'aint', 'onword', 'egg', 'someon', 'album', 'doesdiscount', 'fran', 'exam', 'silent', 'mumtaz', 'cutest', 'shrek', 'epsilon', 'she', 'swiss', 'gigolo', 'okay', 'n', 'lect', 'bishan', 'tiempo', 'train', 'speechless', 'tour', 'lonlin', 'lush', 'bar', 'make', 'liver', 'swap', 'loosu', 'split', 'subscript', 'mummi', 'outreach', 'bari', 'lekdog', 'march', 'gene', 'manki', 'oblising', 'conserv', 'stink', 'tyler', 'wrong', 'showr', 'gbp', 'rummer', 'natwest', 'bettr', 'nalli', 'jacket', 'hoodi', 'oblivi', 'frequent', 'din', 'soil', 'kittum', 'hillsborough', 'elvi', 'littl', 'clock', 'occas', 'rub', 'took', 'essay', 'ijust', 'myspac', 'doctor', 'veget', 'glori', 'gurl', 'tune', 'aig', 'summon', 'secretli', 'limp', 'brah', 'particip', 'radiat', 'screen', 'ill', 'oooh', 'prix', 'melt', 'gossip', 'bruv', 'method', 'phd', 'scarcasim', 'mani', 'organ', 'suprman', 'keen', 'shortag', 'j', 'spider', 'num', 'yah', 'wildest', 'lazi', 'locaxx', 'sol', 'pouch', 'solv', 'asssssholeee', 'kothi', 'pl', 'nri', 'psychologist', 'say', 'fne', 'spoken', 'oil', 'mom', 'squat', 'rememberi', 'girli', 'starer', 'abil', 'key', 'ew', 'reunion', 'newspap', 'elama', 'cooper', 'nimbomson', 'minnaminungint', 'odi', 'pretend', 'tohar', 'habit', 'thousand', 'twelv', 'tast', 'pataistha', 'gre', 'jod', 'overdid', 'edg', 'hiphop', 'enjoy', 'bc', 'gone', 'rd', 'pete', 'strike', 'ak', 'adsens', 'luck', 'babi', 'salesman', 'lili', 'havent', 'yer', 'babygoodby', 'messag', 'privaci', 'writh', 'qi', 'adp', 'notebook', 'uncomfort', 'spring', 'allday', 'videochat', 'garbag', 'pile', 'arestaur', 'stick', 'chatlin', 'clip', 'forevr', 'flea', 'xchat', 'implic', 'fanci', 'goldvik', 'valid', 'distract', 'ms', 'dai', 'addamsfa', 'karaok', 'beehoon', 'paperwork', 'risk', 'kid', 'semi', 'villa', 'modul', 'bb', 'discount', 'nbme', 'avbl', 'specialis', 'attribut', 'olav', 'exist', 'nino', 'loneli', 'blake', 'raiden', 'werebor', 'sky', 'janarig', 'inst', 'franki', 'com', 'carli', 'turn', 'someplac', 'tel', 'dormitori', 'propsd', 'checkup', 'oredi', 'dhoni', 'talk', 'studi', 'cr', 'oki', 'steam', 'immedi', 'nok', 'eg', 'sit', 'jame', 'amk', 'oni', 'wicket', 'log', 'gong', 'superb', 'gap', 'axi', 'valu', 'ape', 'emerg', 'week', 'fresher', 'bslvyl', 'victor', 'dena', 'haventcn', 'boundari', 'woman', 'olymp', 'luci', 'suddenli', 'qing', 'adress', 'lunchtim', 'neft', 'shuhui', 'gentl', 'bcoz', 'shanil', 'wifi', 'taxi', 'aquariu', 'uncut', 'hungov', 'ned', 'grown', 'chile', 'nitro', 'wad', 'tb', 'cupboard', 'zindgi', 'kodstini', 'tonight', 'independ', 'necessari', 'euro', 'havebeen', 'drivin', 'linerent', 'strtd', 'supervisor', 'computerless', 'sr', 'hypotheticalhuagauahahuagahyuhagga', 'membership', 'small', 'energi', 'infern', 'issu', 'report', 'minimum', 'sheffield', 'decim', 'tattoo', 'lik', 'celeb', 'guid', 'entey', 'uworld', 'even', 'smart', 'voda', 'cast', 'suffici', 'tip', 'yun', 'breaker', 'ileav', 'tomeandsaid', 'broad', 'individu', 'mon', 'weddin', 'smash', 'cut', 'wknd', 'agidhan', 'unicef', 'pimpl', 'saibaba', 'textbuddi', 'claim', 'vagu', 'rumour', 'dislik', 'bandag', 'ctla', 'aiyah', 'deep', 'taco', 'tax', 'spatula', 'shower', 'talkin', 'aah', 'brum', 'cuck', 'harri', 'prayr', 'btwn', 'teacher', 'poortiyagi', 'dr', 'culdnt', 'attach', 'cricket', 'drove', 'outsomewher', 'tex', 'spele', 'suzi', 'feb', 'smsservic', 'so', 'jenn', 'match', 'prolli', 'kalisidar', 'deal', 'randomlli', 'blow', 'jaz', 'difficult', 'sat', 'arnt', 'screwd', 'sara', 'postal', 'could', 'wihtuot', 'dudett', 'jst', 'canal', 'reciev', 'soladha', 'truck', 'ctagg', 'phew', 'sth', 'sup', 'question', 'hundr', 'kickbox', 'pace', 'whilltak', 'conect', 'shake', 'wood', 'bhayandar', 'punj', 'wtf', 'lindsay', 'deer', 'repli', 'bewar', 'happen', 'fed', 'stu', 'appar', 'sudn', 'react', 'keluviri', 'dane', 'graduat', 'base', 'shijutta', 'breather', 'ar', 'preview', 'complac', 'delux', 'tri', 'resolv', 'sleepi', 'french', 'getstop', 'sentenc', 'optin', 'fizz', 'haf', 'bellearli', 'met', 'naseeb', 'theater', 'skinni', 'swell', 'freefon', 'ip', 'hurrican', 'avent', 'bud', 'dust', 'velacheri', 'aka', 'der', 'brown', 'erot', 'woah', 'fave', 'rental', 'yeah', 'asa', 'competit', 'gran', 'iriv', 'beeen', 'troubleshoot', 'market', 'quiteamuz', 'hitler', 'convert', 'keri', 'onward', 'late', 'insur', 'stare', 'champlaxig', 'ne', 'lor', 'jersey', 'sleepwel', 'current', 'uncl', 'flavour', 'aiyar', 'fring', 'sorri', 'brotha', 'kane', 'acc', 'pump', 'inde', 'dodda', 'textpod', 'oath', 'enc', 'woke', 'sprint', 'prasanth', 'afford', 'link', 'overtim', 'billion', 'tmr', 'photoshop', 'dearer', 'honestli', 'ugh', 'engalnd', 'accommod', 'kusruthi', 'chart', 'hour', 'fightng', 'shape', 'weekli', 'saeed', 'coin', 'fixd', 'process', 'anyhow', 'walkabout', 'soup', 'feel', 'chest', 'benefit', 'dude', 'tsunami', 'fresh', 'bettersn', 'penc', 'oscar', 'lionp', 'unclaim', 'irulina', 'aliv', 'purpos', 'checkin', 'crab', 'predict', 'kavalan', 'treasur', 'dd', 'menu', 'syria', 'pale', 'mi', 'shitload', 'varaya', 'psychic', 'grin', 'nake', 'pm', 'anymor', 'embassi', 'ultim', 'april', 'coimbator', 'effect', 'coccoon', 'outrag', 'toke', 'kg', 'othr', 'sar', 'nelson', 'kano', 'dang', 'phoni', 'pray', 'custom', 'ibhltd', 'sell', 'caller', 'lotsli', 'ubi', 'urself', 'undrstndng', 'wana', 'cool', 'txtstar', 'facil', 'lapdanc', 'recent', 'decid', 'paracetamol', 'vargu', 'anyplac', 'sweatter', 'shoot', 'team', 'east', 'fuckinnic', 'maniac', 'audrey', 'misfit', 'snow', 'sea', 'lst', 'uhhhhrmm', 'meant', 'brief', 'product', 'palm', 'fundament', 'evr', 'england', 'fact', 'wishlist', 'likeyour', 'intrud', 'complimentari', 'inclu', 'nah', 'jack', 'tabl', 'recreat', 'gep', 'grow', 'known', 'soc', 'gautham', 'overdos', 'wenwecan', 'scratch', 'gumbi', 'xma', 'main', 'onlyfound', 'quarter', 'global', 'mail', 'nacho', 'esplanad', 'brin', 'supos', 'fold', 'woozl', 'pathaya', 'alcohol', 'hcl', 'albi', 'amrca', 'korch', 'academ', 'sens', 'oral', 'ali', 'bra', 'clearli', 'stage', 'eir', 'well', 'crckt', 'address', 'stuff', 'tih', 'mathew', 'finn', 'busti', 'tell', 'guidanc', 'ken', 'ishtamayoo', 'popcorn', 'mina', 'browsin', 'run', 'wld', 'dreamz', 'signific', 'sport', 'coffe', 'complet', 'funki', 'lyricalladi', 'dontcha', 'faith', 'bash', 'dice', 'ditto', 'shorter', 'foreg', 'accid', 'seh', 'canari', 'clearer', 'corrct', 'submit', 'buck', 'biola', 'sathya', 'breadstick', 'flew', 'goodnight', 'frndship', 'cheeto', 'mobilesvari', 'gua', 'argument', 'opposit', 'buen', 'chicken', 'mth', 'nicki', 'callfreefon', 'quot', 'underwear', 'step', 'worc', 'kalstiya', 'winnersclub', 'perf', 'dear', 'newscast', 'ron', 'anna', 'sindu', 'ghodbandar', 'properli', 'rearrang', 'tm', 'protect', 'poo', 'bout', 'iyo', 'kingdom', 'statement', 'bhaji', 'tens', 'tallahasse', 'basketbal', 'needi', 'juan', 'sayi', 'ipaditan', 'tenerif', 'gpu', 'print', 'undrstnd', 'sept', 'freeli', 'public', 'shall', 'almost', 'sue', 'sing', 'sale', 'kiss', 'divert', 'oclock', 'coach', 'trend', 'previous', 'nanni', 'gud', 'miser', 'sink', 'pg', 'fusion', 'sinc', 'three', 'bank', 'durham', 'although', 'txtno', 'fa', 'nb', 'erod', 'whn', 'di', 'loser', 'junna', 'ten', 'vikki', 'music', 'loyal', 'dwn', 'hen', 'exmpel', 'mmm', 'peopl', 'thm', 'paru', 'groovi', 'tree', 'gn', 'collag', 'feng', 'downon', 'wright', 'lesson', 'warm', 'tigress', 'spi', 'alrit', 'wannatel', 'unintent', 'ran', 'club', 'acnt', 'bob', 'mo', 'lamp', 'mat', 'rinu', 'rebtel', 'deepak', 'fulfil', 'tonsolitusaswel', 'jordan', 'meet', 'abt', 'tomorw', 'telphon', 'aproach', 'liquor', 'vibrant', 'seper', 'janx', 'multi', 'dump', 'sexiest', 'shadow', 'vava', 'tsandc', 'pa', 'sucker', 'greet', 'keypad', 'tackl', 'dollar', 'ericsson', 'style', 'ring', 'algebra', 'model', 'obedi', 'specif', 'amnow', 'packag', 'ummmmmaah', 'nois', 'nation', 'ciao', 'prabu', 'rayan', 'repres', 'tuesday', 'superior', 'sporad', 'phrase', 'refund', 'occupi', 'yogasana', 'sugardad', 'activ', 'scare', 'option', 'neg', 'id', 'vilikkam', 'sunni', 'casualti', 'bac', 'nutter', 'wherev', 'modl', 'butther', 'bend', 'skin', 'stash', 'pari', 'skye', 'prospect', 'bimbo', 'shore', 'spreadsheet', 'probabl', 'heap', 'reltnship', 'cant', 'sensibl', 'ansr', 'wors', 'move', 'bcaz', 'mahfuuz', 'cheer', 'fromm', 'fortun', 'convey', 'pendent', 'lolnic', 'feelin', 'fml', 'qbank', 'themob', 'filthi', 'konw', 'wishin', 'fr', 'stuck', 'repent', 'woken', 'serious', 'upon', 'fallen', 'usml', 'biggest', 'dec', 'toughest', 'broke', 'vettam', 'ki', 'ktv', 'shop', 'univ', 'souveni', 'mobcudb', 'elsewher', 'farrel', 'cu', 'wrkin', 'understand', 'fellow', 'blu', 'januari', 'behav', 'toward', 'thet', 'waitin', 'convinc', 'al', 'sppok', 'whr', 'finish', 'mymobi', 'opp', 'fear', 'coupl', 'asshol', 'crucifi', 'turkey', 'ymca', 'justifi', 'rajini', 'hamster', 'row', 'suggest', 'bunch', 'decad', 'thread', 'kaaj', 'also', 'bangb', 'adi', 'yard', 'mileag', 'notixiqu', 'urgh', 'madok', 'donno', 'askd', 'nora', 'gucci', 'ji', 'weak', 'mirror', 'sef', 'pretsorginta', 'expiri', 'noth', 'greatli', 'castor', 'poyyarikatur', 'footi', 'abus', 'ltdhelpdesk', 'bsnl', 'mjzgroup', 'use', 'sleep', 'guitar', 'nearer', 'elabor', 'kip', 'traffic', 'sister', 'shini', 'url', 'hollalat', 'lyk', 'prove', 'gyna', 'wth', 'fit', 'unhappi', 'correct', 'healthi', 'receiv', 'pmt', 'neither', 'school', 'fixedlin', 'abouta', 'strewn', 'mistak', 'haircut', 'anti', 'inmind', 'strt', 'um', 'virgin', 'near', 'white', 'cttargg', 'featheri', 'stadium', 'googl', 'hurt', 'slipper', 'cutefrnd', 'tobacco', 'hype', 'abj', 'eight', 'nd', 'sen', 'direct', 'latelyxxx', 'cheesi', 'phonebook', 'let', 'symbol', 'tomorrow', 'scalli', 'xxxxxx', 'fire', 'playng', 'arul', 'sterm', 'asther', 'tonght', 'raja', 'christian', 'panther', 'parachut', 'puzzl', 'paragon', 'pose', 'airtel', 'deliveredtomorrow', 'anal', 'stabl', 'rtm', 'hello', 'urfeel', 'wife', 'txtx', 'handl', 'hand', 'kr', 'brolli', 'ctargg', 'handsom', 'ing', 'bristol', 'k', 'taj', 'firefox', 'tookplac', 'flute', 'listn', 'disagre', 'toaday', 'nigeria', 'nurseri', 'sever', 'grocer', 'washob', 'graphic', 'importantli', 'explicit', 'poli', 'human', 'aom', 'lvblefrnd', 'nauseou', 'game', 'fantasi', 'gayl', 'condit', 'boltblu', 'ic', 'defer', 'cope', 'hum', 'detroit', 'waht', 'surrend', 'aptitud', 'hungri', 'other', 'dorm', 'perfum', 'kote', 'efreefon', 'freeentri', 'booti', 'dresser', 'weekday', 'pock', 'silenc', 'appi', 'creativ', 'li', 'mycal', 'subpoli', 'miss', 'bedrm', 'mango', 'confid', 'mypar', 'somewhat', 'hop', 'amigo', 'profil', 'sonyericsson', 'cine', 'barkley', 'arng', 'spec', 'dont', 'presenc', 'down', 'hunk', 'availa', 'freedom', 'bite', 'definitli', 'derek', 'dvg', 'costa', 'labor', 'echo', 'tessi', 'wahe', 'immunis', 'squeez', 'spile', 'chillaxin', 'network', 'mrt', 'hanger', 'jerk', 'rodger', 'salari', 'skint', 'effici', 'nookii', 'brainless', 'nice', 'poci', 'grandfath', 'amor', 'goe', 'wah', 'conveni', 'wast', 'piec', 'sittin', 'discuss', 'muchand', 'romcapspam', 'disastr', 'jane', 'bid', 'bird', 'philosophi', 'releas', 'arsen', 'wake', 'invit', 'colin', 'forgotten', 'sack', 'squeeeeez', 'mapquest', 'septemb', 'smokin', 'mise', 'corpor', 'feellikw', 'cake', 'remind', 'witin', 'renew', 'strang', 'jackson', 'nmde', 'thru', 'heart', 'tryin', 'shoul', 'store', 'bray', 'becausethey', 'drm', 'yummmm', 'enter', 'yelow', 'frnt', 'stopbcm', 'frndsship', 'fish', 'urin', 'itcould', 'lttr', 'heron', 'manda', 'finishd', 'snowbal', 'when', 'forth', 'ke', 'invent', 'previou', 'dept', 'total', 'telli', 'dosometh', 'h', 'savamob', 'goodfriend', 'monthli', 'rr', 'command', 'playin', 'login', 'sometm', 'paranoid', 'webeburnin', 'dt', 'lay', 'navig', 'despar', 'cappuccino', 'ganesh', 'sigh', 'forgt', 'bthere', 'bong', 'nevr', 'advanc', 'tomorro', 'lower', 'crisi', 'grant', 'astrolog', 'crickit', 'bao', 'offcampu', 'buse', 'fridg', 'professor', 'doubl', 'ouch', 'women', 'scroung', 'kaiez', 'tool', 'honeymoon', 'nusstu', 'cnn', 'becz', 'wont', 'drizzl', 'compens', 'rugbi', 'bein', 'absolut', 'gona', 'board', 'countri', 'batsman', 'germani', 'appear', 'origin', 'fletcher', 'wise', 'publish', 'yuo', 'exp', 'batch', 'annoyin', 'lccltd', 'member', 'noncomitt', 'alright', 'devic', 'gonnamissu', 'fite', 'multipli', 'mean', 'bomb', 'pro', 'impati', 'rob', 'comfort', 'find', 'dumb', 'hl', 'lib', 'pierr', 'italian', 'tablet', 'sha', 'sn', 'life', 'master', 'missunderstd', 'darker', 'safe', 'hasnt', 'group', 'exactli', 'rent', 'calld', 'bluff', 'bonu', 'westlif', 'choos', 'yeovil', 'kuch', 'rather', 'republ', 'dent', 'tming', 'swing', 'abroad', 'ceri', 'banneduk', 'habba', 'lion', 'tho', 'lover', 'stitch', 'ibh', 'fool', 'soundtrack', 'dled', 'chines', 'truro', 'often', 'nigro', 'lubli', 'justthought', 'centr', 'onto', 'quizz', 'kz', 'tix', 'bright', 'pay', 'send', 'shud', 'stori', 'thot', 'scenario', 'festiv', 'watt', 'offdam', 'didntgiv', 'mint', 'useless', 'woo', 'recess', 'cat', 'openin', 'dot', 'hehe', 'exe', 'stress', 'nt', 'crack', 'flung', 'vital', 'gnarl', 'bani', 'polyph', 'first', 'horniest', 'rape', 'sticki', 'answer', 'wk', 'reppurcuss', 'ree', 'front', 'simpl', 'ctxt', 'infront', 'sinco', 'thu', 'ppm', 'bloke', 'teach', 'masteriast', 'truth', 'honesti', 'jone', 'rang', 'chuckin', 'seven', 'samantha', 'alot', 'ofsi', 'selfless', 'built', 'bottom', 'slack', 'inform', 'bloomberg', 'arent', 'delay', 'cartoon', 'olag', 'unsold', 'unknown', 'novemb', 'beliv', 'provid', 'portal', 'pend', 'minor', 'park', 'slow', 'simpson', 'ihav', 'seeker', 'ava', 'bookshelf', 'suntec', 'munster', 'earliest', 'kaila', 'river', 'pase', 'held', 'jewelri', 'harlem', 'askin', 'hellogorg', 'wreck', 'jeri', 'ie', 'appt', 'uh', 'specifi', 'moral', 'conduct', 'cornwal', 'retard', 'vijay', 'panick', 'scari', 'beneficiari', 'note', 'athom', 'weirdest', 'giggl', 'toot', 'cram', 'patent', 'dimens', 'charli', 'deeraj', 'ntt', 'extract', 'subject', 'aaooooright', 'mundh', 'randomli', 'orang', 'whisper', 'thinkthi', 'yhl', 'sayhey', 'rebel', 'oooooh', 'boyf', 'ipod', 'constantli', 'bcz', 'srt', 'flatter', 'ego', 'indic', 'buff', 'algarv', 'gut', 'mah', 'time', 'round', 'awesom', 'valentin', 'weasel', 'jean', 'stretch', 'four', 'star', 'fo', 'honey', 'onum', 'sipix', 'less', 'bitch', 'wondar', 'transfr', 'spare', 'yowif', 'arithmet', 'til', 'dhina', 'derp', 'yay', 'roomat', 'puzzel', 'gentleman', 'yet', 'paper', 'usc', 'frank', 'jabo', 'exet', 'tui', 'sexual', 'abnorm', 'sooooo', 'speed', 'challeng', 'swt', 'suitem', 'pee', 'clarif', 'soft', 'awak', 'eh', 'anyth', 'aeronaut', 'vote', 'presley', 'help', 'wondarful', 'went', 'unspoken', 'shu', 'samu', 'honest', 'gail', 'daytim', 'caught', 'holiday', 'recognis', 'africa', 'lectur', 'oop', 'wap', 'ari', 'stubborn', 'potter', 'pop', 'california', 'aveng', 'tayseer', 'xxsp', 'hang', 'roller', 'havbeen', 'fireplac', 'embarrass', 'deliveri', 'workin', 'dp', 'mmmmm', 'scrumptiou', 'cosign', 'pap', 'dramat', 'sensit', 'dose', 'nang', 'threat', 'order', 'jackpot', 'abeg', 'appeal', 'ifink', 'bribe', 'cousin', 'stone', 'frosti', 'wherevr', 'tortilla', 'tissco', 'polyh', 'bottl', 'present', 'buyer', 'clean', 'astn', 'fyi', 'hahaha', 'seed', 'rule', 'there', 'un', 'hme']\n",
            "\n",
            "TF-IDF Matrix:\n",
            "[[0. 0. 0. ... 0. 0. 0.]\n",
            " [0. 0. 0. ... 0. 0. 0.]\n",
            " [0. 0. 0. ... 0. 0. 0.]\n",
            " ...\n",
            " [0. 0. 0. ... 0. 0. 0.]\n",
            " [0. 0. 0. ... 0. 0. 0.]\n",
            " [0. 0. 0. ... 0. 0. 0.]]\n",
            "\n",
            "Feature Names:\n",
            "['ashley', 'texa', 'ca', 'ttyl', 'fraud', 'lara', 'hat', 'honeybe', 'unusu', 'laxinorf', 'pthi', 'role', 'ratio', 'eye', 'hiya', 'lovabl', 'placement', 'persev', 'player', 'cours', 'dey', 'job', 'eightish', 'ab', 'craziest', 'pie', 'shame', 'mess', 'kit', 'credit', 'adrian', 'ben', 'badli', 'okey', 'mall', 'server', 'imag', 'digit', 'slip', 'etc', 'ticket', 'aburo', 'edha', 'spous', 'theme', 'via', 'safeti', 'everywher', 'arrest', 'onlin', 'aathi', 'gibb', 'seat', 'thx', 'dict', 'tomo', 'dippeditinadew', 'eatin', 'xxx', 'mila', 'mmsto', 'unit', 'shhhhh', 'chosen', 'kaypoh', 'loyalti', 'brisk', 'blastin', 'evon', 'lobbi', 'jurong', 'diwali', 'unev', 'umma', 'non', 'sch', 'hard', 'takin', 'dad', 'cm', 'q', 'troubl', 'fluid', 'arabian', 'sundayish', 'tht', 'number', 'goodeven', 'tmrw', 'wonder', 'dizzamn', 'subtoitl', 'taka', 'simpler', 'lucyxx', 'incid', 'restrict', 'sac', 'swollen', 'shelf', 'loooooool', 'qet', 'inev', 'eek', 'your', 'careless', 'live', 'assum', 'doubt', 'concentr', 'fifth', 'ibn', 'rv', 'noun', 'dough', 'affection', 'verifi', 'yesterday', 'invad', 'disast', 'tul', 'promptli', 'access', 'sign', 'chip', 'rayman', 'must', 'trauma', 'disappoint', 'becom', 'receivea', 'kolathupalayam', 'comp', 'afghanistan', 'countin', 'tallent', 'boatin', 'evapor', 'mutat', 'texd', 'sold', 'major', 'aberdeen', 'finger', 'parti', 'paint', 'cinema', 'cheeri', 'argu', 'lab', 'mustprovid', 'se', 'anyway', 'multimedia', 'hair', 'belli', 'gorgeou', 'cardin', 'pressur', 'reg', 'bu', 'byatch', 'thinkin', 'chop', 'orno', 'prizeawait', 'grownup', 'enuff', 'nat', 'manag', 'freak', 'mere', 'wewa', 'allo', 'occur', 'marvel', 'simul', 'jo', 'fatti', 'remain', 'postcard', 'australia', 'pocket', 'right', 'saw', 'hp', 'usual', 'corvett', 'gpr', 'iter', 'weed', 'merri', 'iron', 'nalla', 'subsequ', 'nipost', 'he', 'manual', 'emot', 'hon', 'ho', 'hr', 'old', 'night', 'rude', 'chillin', 'otherwis', 'julianaland', 'hous', 'formal', 'light', 'gland', 'weightloss', 'princess', 'dessert', 'gotmarri', 'properti', 'unni', 'sort', 'tire', 'clear', 'falconerf', 'teletext', 'cheek', 'dress', 'beer', 'hourish', 'dha', 'blur', 'dan', 'accumul', 'kintu', 'tightli', 'world', 'barolla', 'imp', 'hot', 'softwar', 'swim', 'ortxt', 'nose', 'tenant', 'gnt', 'naal', 'xclusiv', 'goodi', 'somewhr', 'kilo', 'hppnss', 'yan', 'satan', 'roger', 'monoc', 'karnan', 'allah', 'shell', 'smack', 'restaur', 'reboot', 'maneesha', 'dengra', 'hors', 'hui', 'splle', 'nolin', 'courtroom', 'treat', 'octob', 'neighbor', 'concert', 'todo', 'cme', 'exercis', 'opportun', 'wkg', 'gastroenter', 'speak', 'beyond', 'slave', 'sheet', 'cuddl', 'side', 'resort', 'cozi', 'grasp', 'special', 'water', 'remb', 'surround', 'bec', 'milk', 'tendenc', 'smoothli', 'given', 'matter', 'engin', 'burnt', 'grandma', 'bruce', 'tight', 'journey', 'doubletxt', 'trav', 'freek', 'disk', 'buzz', 'lack', 'thank', 'logoff', 'shivratri', 'pandi', 'resum', 'wml', 'shant', 'belt', 'fan', 'sarasota', 'worri', 'porn', 'break', 'coat', 'jstfrnd', 'queri', 'ladi', 'sux', 'contact', 'deserv', 'rofl', 'tmw', 'creat', 'afternon', 'velusami', 'jan', 'callon', 'sashimi', 'mfl', 'power', 'recycl', 'exhibit', 'wave', 'foot', 'scold', 'tom', 'priscilla', 'ey', 'smith', 'melodi', 'treatin', 'printer', 'mone', 'nervou', 'yeesh', 'z', 'ambrith', 'textand', 'thnk', 'complex', 'fall', 'piss', 'prakasam', 'grl', 'kb', 'jule', 'adam', 'gon', 'smarter', 'chain', 'scrappi', 'yunni', 'neth', 'snog', 'becau', 'brought', 'miller', 'joke', 'tnc', 'ponnungal', 'incorrect', 'recharg', 'cheat', 'esp', 'street', 'xxxxx', 'god', 'error', 'resent', 'lololo', 'yaxxx', 'browni', 'manchest', 'fli', 'blond', 'million', 'easi', 'hardli', 'erutupalam', 'ondu', 'soryda', 'thou', 'chap', 'batteri', 'panti', 'charact', 'stuf', 'jay', 'jobyet', 'victoria', 'stun', 'reslov', 'envi', 'kill', 'accentur', 'nattil', 'mcat', 'tyron', 'shag', 'ryder', 'goin', 'boob', 'tata', 'dun', 'sudden', 'maat', 'fail', 'weddingfriend', 'companion', 'slo', 'take', 'man', 'callcost', 'os', 'spanish', 'year', 'leona', 'courag', 'lux', 'frwd', 'lipo', 'misundrstud', 'room', 'reveal', 'studdi', 'jog', 'desir', 'admiss', 'surf', 'price', 'warn', 'prop', 'cooki', 'spiral', 'stayin', 'grand', 'haunt', 'carpark', 'comingdown', 'local', 'bsn', 'calcul', 'bot', 'oga', 'guy', 'aust', 'halla', 'bread', 'kindli', 'item', 'may', 'jenxxx', 'artist', 'technic', 'uncount', 'ah', 'madodu', 'gudnyt', 'express', 'befor', 'cali', 'suganya', 'el', 'alaipayuth', 'degre', 'hmph', 'cl', 'rite', 'responc', 'howev', 'yoga', 'chic', 'gotto', 'christma', 'twilight', 'state', 'prompt', 'natali', 'prashanthettan', 'rise', 'grief', 'woohoo', 'awkward', 'theoret', 'maxim', 'knw', 'promot', 'moseley', 'rich', 'ibuprofen', 'min', 'chanc', 'choic', 'serena', 'emigr', 'mnth', 'hairdress', 'meal', 'novelti', 'path', 'great', 'gate', 'pictur', 'suprem', 'spoke', 'gave', 'finest', 'hill', 'witot', 'garag', 'lotz', 'kalainar', 'pehl', 'delici', 'yo', 'gram', 'amaz', 'im', 'wheel', 'meaningless', 'pattern', 'phone', 'flirt', 'drvgsto', 'nigpun', 'thrown', 'wuldnt', 'shite', 'tund', 'monkey', 'lool', 'block', 'vth', 'apnt', 'corrupt', 'mudyadhu', 'citylink', 'linux', 'landlin', 'weigh', 'wa', 'air', 'outgo', 'glo', 'tech', 'determin', 'figur', 'tp', 'format', 'bleh', 'unfold', 'creep', 'save', 'sem', 'rhode', 'raj', 'sex', 'po', 'stopcost', 'identifi', 'nonetheless', 'expect', 'blue', 'dracula', 'sacrific', 'long', 'agenc', 'wellda', 'domain', 'commit', 'xavier', 'toll', 'assess', 'liter', 'mmmmmm', 'lookatm', 'director', 'cell', 'relax', 'sneham', 'readi', 'phoenix', 'trainner', 'prof', 'messi', 'descript', 'lousi', 'plz', 'goto', 'shatter', 'pant', 'unless', 'zhong', 'home', 'wallet', 'bam', 'flurri', 'stopc', 'ding', 'cover', 'piah', 'maaaan', 'arm', 'child', 'frm', 'lovli', 'collaps', 'retir', 'sumthin', 'zac', 'reduc', 'moji', 'dub', 'flat', 'decis', 'faber', 'aaniy', 'corect', 'employ', 'deni', 'unsub', 'that', 'wisdom', 'salt', 'ru', 'desk', 'bstfrnd', 'point', 'mist', 'promin', 'consid', 'welp', 'yoyyooo', 'swtheart', 'hor', 'mahal', 'sang', 'boss', 'woould', 'remix', 'continu', 'wipro', 'plate', 'allow', 'gokila', 'toshiba', 'leh', 'second', 'birla', 'heaven', 'tripl', 'ya', 'involv', 'goigng', 'orc', 'reassur', 'prescripiton', 'hallaq', 'cuz', 'dusk', 'dialogu', 'financi', 'dock', 'diseas', 'fro', 'sptv', 'tonit', 'rpl', 'nuerologist', 'pretti', 'okday', 'prone', 'silli', 'cla', 'theori', 'slot', 'regret', 'snicker', 'buffet', 'queen', 'tea', 'femal', 'golf', 'skilgm', 'afraid', 'connect', 'lone', 'barcelona', 'stripe', 'curri', 'battl', 'shanghai', 'nearli', 'count', 'topic', 'card', 'iwana', 'young', 'difficulti', 'boytoy', 'throat', 'inclus', 'hostel', 'maintain', 'book', 'execut', 'cabin', 'nick', 'outag', 'needl', 'five', 'dodgey', 'absolutli', 'zoom', 'pure', 'wi', 'shudvetold', 'holi', 'pongal', 'pink', 'tiim', 'tsc', 'consist', 'firmwar', 'customercar', 'aco', 'tesco', 'best', 'utter', 'canlov', 'defo', 'rington', 'ax', 'incomm', 'hospit', 'bedroom', 'chloe', 'quizclub', 'mountain', 'clue', 'audiit', 'weather', 'nitw', 'sopha', 'nu', 'diall', 'loung', 'tarot', 'promo', 'curiou', 'thk', 'dave', 'nothin', 'ello', 'breath', 'particular', 'fart', 'word', 'pickl', 'particularli', 'seri', 'ray', 'unkempt', 'vid', 'asian', 'thnq', 'dime', 'sleepingwith', 'alex', 'practis', 'common', 'oppos', 'sullivan', 'bye', 'tirupur', 'asleep', 'search', 'camp', 'spent', 'shout', 'stereophon', 'upcharg', 'eve', 'anythingtomorrow', 'pokkiri', 'cabl', 'asu', 'txtin', 'fake', 'jon', 'whenevr', 'hugh', 'resub', 'korean', 'bw', 'avoid', 'colleagu', 'poke', 'mre', 'wenev', 'work', 'consol', 'durban', 'digi', 'librari', 'puttin', 'morphin', 'usb', 'lucki', 'beta', 'p', 'view', 'lunch', 'senthil', 'gay', 'follow', 'cultur', 'younger', 'earn', 'youi', 'organis', 'dartboard', 'excus', 'anim', 'idu', 'sarcast', 'njan', 'footbal', 'liao', 'dogg', 'addict', 'idk', 'wipe', 'partner', 'intro', 'damn', 'dammit', 'shexi', 'avalarr', 'chez', 'made', 'interest', 'improv', 'guild', 'tee', 'machin', 'histori', 'detail', 'bawl', 'case', 'croydon', 'theseday', 'peni', 'leg', 'iouri', 'nit', 'latr', 'dial', 'sunday', 'proof', 'sum', 'haiz', 'wen', 'vale', 'spontan', 'super', 'goal', 'ahhhh', 'ugadi', 'review', 'shah', 'fund', 'juz', 'achan', 'or', 'famili', 'poorli', 'fuell', 'fun', 'hire', 'mega', 'rememb', 'kalli', 'atten', 'lrg', 'ny', 'sam', 'sf', 'antelop', 'chg', 'gm', 'actor', 'clubsaisai', 'iphon', 'press', 'interviw', 'doug', 'buz', 'bx', 'nag', 'tahan', 'yaxx', 'tok', 'wow', 'ee', 'badass', 'mum', 'hurri', 'websit', 'headset', 'call', 'receipt', 'icki', 'bin', 'wizzl', 'eckankar', 'ok', 'fishrman', 'toler', 'dull', 'ja', 'ctter', 'enough', 'txtauction', 'wun', 'ami', 'ha', 'flag', 'draw', 'tranquil', 'yetti', 'unnecessarili', 'takecar', 'fb', 'cthen', 'propos', 'anyon', 'penni', 'camcord', 'coz', 'cannam', 'tact', 'gv', 'langport', 'msg', 'prepaid', 'gover', 'java', 'unabl', 'last', 'cook', 'hsbc', 'idp', 'line', 'reformat', 'wyli', 'disturb', 'nosi', 'love', 'hudgi', 'é', 'abstract', 'suck', 'pleassssssseeeee', 'taxt', 'gaze', 'yifeng', 'racal', 'imat', 'clever', 'truli', 'transport', 'holbi', 'bookedth', 'luk', 'partnership', 'soul', 'apo', 'adventur', 'edison', 'northampton', 'janinexx', 'potato', 'dl', 'either', 'untam', 'stolen', 'getsleep', 'planet', 'cloud', 'camera', 'carlo', 'hesit', 'download', 'webadr', 'natur', 'read', 'keyword', 'set', 'toyota', 'caveboy', 'thirtyeight', 'edward', 'ovr', 'helen', 'assist', 'oli', 'lar', 'award', 'sublet', 'agre', 'plum', 'punto', 'prometazin', 'motorola', 'nurungu', 'gloucesterroad', 'esaplanad', 'wamma', 'pizza', 'barm', 'apolog', 'hai', 'infact', 'arab', 'pixel', 'aiyo', 'adjust', 'reckon', 'ultimatum', 'toothpast', 'travel', 'bbq', 'term', 'pack', 'bulb', 'curtsey', 'dysentri', 'fakey', 'confer', 'somon', 'test', 'appendix', 'messeng', 'ask', 'drive', 'murder', 'yarasu', 'sorta', 'hint', 'boost', 'busi', 'mandan', 'vomitin', 'entri', 'brother', 'cereal', 'peripher', 'oncal', 'staff', 'footbl', 'fredericksburg', 'itwhichturnedinto', 'univers', 'chang', 'prakasamanu', 'toledo', 'foreign', 'vehicl', 'rout', 'aha', 'prizeswith', 'moment', 'wound', 'nammanna', 'toss', 'yellow', 'barrel', 'problemat', 'cedar', 'yr', 'wrk', 'anythin', 'ure', 'urgent', 'comedi', 'floppi', 'marri', 'advisor', 'imin', 'tariff', 'kochi', 'way', 'pract', 'cruis', 'temp', 'vic', 'cam', 'shangela', 'trouser', 'fonin', 'upstair', 'mono', 'ice', 'reflect', 'smth', 'yourinclus', 'act', 'panren', 'bollox', 'inshah', 'dozen', 'dino', 'http', 'titl', 'leo', 'along', 'confirmd', 'shave', 'fink', 'bff', 'mmmm', 'sweet', 'applic', 'mysteri', 'itz', 'tron', 'loxahatche', 'percent', 'drugdeal', 'ever', 'meiv', 'fp', 'iraq', 'fraction', 'citizen', 'sc', 'cri', 'trackmarqu', 'blah', 'system', 'exact', 'samachara', 'ban', 'wil', 'blind', 'horo', 'msn', 'aight', 'twigg', 'wild', 'sari', 'xy', 'fieldof', 'granit', 'thangam', 'replac', 'raglan', 'nitz', 'forgiv', 'oxygen', 'happi', 'list', 'html', 'scorabl', 'eerulli', 'loan', 'hi', 'panalam', 'high', 'reach', 'matric', 'uawak', 'bath', 'woot', 'sausag', 'endow', 'due', 'father', 'record', 'anthoni', 'watchin', 'matthew', 'uniform', 'jamz', 'colleg', 'shoe', 'attend', 'valuabl', 'think', 'learn', 'ma', 'dinner', 'ovarian', 'olowoyey', 'pout', 'exorcist', 'ibiza', 'rgent', 'molest', 'shahjahan', 'rumbl', 'sonetim', 'shd', 'destini', 'pick', 'meanwhil', 'dabbl', 'karo', 'standard', 'zed', 'garment', 'apt', 'eleven', 'hostil', 'poop', 'skirt', 'golddigg', 'x', 'tram', 'chk', 'studyn', 'tear', 'oyea', 'compass', 'upset', 'faggi', 'sugabab', 'open', 'sed', 'amt', 'halloween', 'av', 'beauti', 'deepest', 'juliana', 'kitti', 'fourth', 'apeshit', 'bluray', 'usp', 'madurai', 'hall', 'season', 'admin', 'uup', 'top', 'olayiwola', 'teju', 'south', 'toclaim', 'chinnu', 'xxxmobilemovieclub', 'senor', 'guess', 'tiz', 'lip', 'pansi', 'goodnoon', 'slide', 'configur', 'polyc', 'ericson', 'avail', 'sib', 'tlk', 'profit', 'factori', 'cudnt', 'imma', 'meh', 'prais', 'witout', 'colour', 'largest', 'hold', 'hu', 'girlfrnd', 'abi', 'dirti', 'timin', 'jess', 'pshew', 'spjanuari', 'fgkslpo', 'shrink', 'brandi', 'uve', 'sync', 'resid', 'florida', 'diff', 'lotr', 'wrote', 'oh', 'iz', 'holder', 'diesel', 'away', 'seek', 'perspect', 'stylish', 'intha', 'selfish', 'left', 'soon', 'lose', 'yor', 'fast', 'polyphon', 'space', 'band', 'annoy', 'lasagna', 'mrng', 'atlast', 'oso', 'strongli', 'pushbutton', 'inperson', 'end', 'babe', 'essenti', 'eeri', 'come', 'perman', 'ur', 'mell', 'sooner', 'prefer', 'lul', 'wetherspoon', 'never', 'iscom', 'mittelschmertz', 'apologis', 'idc', 'stomach', 'parish', 'stop', 'wahala', 'acid', 'tortur', 'abel', 'bedreal', 'xt', 'diet', 'bowl', 'bullshit', 'ninish', 'infect', 'piti', 'railway', 'dictionari', 'ithink', 'approv', 'haul', 'aunti', 'instant', 'pple', 'ridden', 'bear', 'servic', 'lingo', 'fever', 'rajnik', 'avin', 'gota', 'iq', 'toilet', 'hoop', 'thin', 'past', 'solihul', 'abl', 'afternoon', 'antha', 'drug', 'greec', 'bull', 'hear', 'impos', 'carolina', 'vco', 'reappli', 'na', 'jiu', 'videosound', 'closer', 'mobi', 'respons', 'hearin', 'fav', 'regist', 'insha', 'dnt', 'password', 'truffl', 'terrif', 'womdarful', 'give', 'soni', 'favor', 'agent', 'chachi', 'twitter', 'vodka', 'rentl', 'cruisin', 'done', 'nvq', 'secretari', 'treadmil', 'amount', 'coax', 'part', 'nail', 'mufti', 'ws', 'paypal', 'ship', 'allalo', 'spif', 'monkeyaround', 'touch', 'summer', 'psp', 'box', 'jump', 'rightio', 'zouk', 'wed', 'religi', 'mite', 'black', 'hol', 'avatar', 'faint', 'floor', 'temper', 'tot', 'scous', 'salad', 'bookmark', 'ffffuuuuuuu', 'lost', 'beendrop', 'congrat', 'ghost', 'conact', 'wud', 'investig', 'mag', 'destin', 'tamilnadu', 'freaki', 'survey', 'larg', 'ofcours', 'yuou', 'shut', 'recount', 'fate', 'psychiatrist', 'str', 'xuhui', 'cya', 'villag', 'beneath', 'cross', 'cp', 'princ', 'bother', 'eat', 'neshanth', 'simpli', 'supli', 'chuck', 'shola', 'justbeen', 'fri', 'costum', 'thkin', 'lmao', 'heehe', 'doom', 'rupaul', 'event', 'pussi', 'dentist', 'countinlot', 'restock', 'who', 'swann', 'prior', 'heavi', 'twenti', 'blackberri', 'stagwood', 'owe', 'mayb', 'rudi', 'mitsak', 'hep', 'marriag', 'twice', 'w', 'western', 'gim', 'scammer', 'later', 'zyada', 'archiv', 'yell', 'doll', 'throwin', 'prob', 'v', 'grr', 'virtual', 'forum', 'kent', 'porridg', 'cal', 'shun', 'matur', 'borrow', 'angri', 'satsgettin', 'boyfriend', 'motiv', 'respect', 'musta', 'mf', 'lead', 'import', 'xxxxxxx', 'roll', 'afew', 'ml', 'sd', 'percentag', 'vaazhthukk', 'steyn', 'sic', 'recpt', 'varma', 'pilat', 'lucozad', 'island', 'constant', 'rhythm', 'flame', 'spain', 'dehydr', 'er', 'unbeliev', 'throw', 'center', 'tddnewslett', 'fal', 'duffer', 'show', 'cop', 'temal', 'delhi', 'salmon', 'nyt', 'danger', 'logon', 'charl', 'yest', 'sunscreen', 'txtstop', 'shi', 'cute', 'wick', 'patrick', 'exchang', 'vri', 'jsut', 'irrit', 'news', 'beach', 'establish', 'length', 'door', 'sathi', 'steamboat', 'sourc', 'billi', 'lt', 'grab', 'chase', 'fumbl', 'rel', 'landlineonli', 'vinobanagar', 'hangin', 'xin', 'gaug', 'aslamalaikkum', 'share', 'breezi', 'pride', 'spotti', 'affair', 'short', 'lim', 'date', 'wheat', 'jada', 'rwm', 'pix', 'limit', 'lark', 'kama', 'atm', 'christmassi', 'gray', 'employe', 'deu', 'burden', 'drunk', 'bleak', 'wallpap', 'huim', 'hole', 'shoulder', 'lido', 'cage', 'eshxxxxxxxxxxx', 'politician', 'map', 'meaning', 'british', 'shelv', 'eurodisinc', 'regular', 'per', 'marsm', 'housework', 'ikea', 'male', 'bailiff', 'bhaskar', 'steak', 'soooo', 'kettoda', 'danc', 'premium', 'ai', 'drink', 'chord', 'want', 'arrang', 'genu', 'crush', 'shracomorsglsuplt', 'urgoin', 'carryin', 'version', 'intend', 'notifi', 'post', 'go', 'suit', 'height', 'neglect', 'belliger', 'wait', 'conform', 'swat', 'english', 'gamestar', 'wtc', 'supplier', 'frndz', 'studio', 'vega', 'actual', 'enemi', 'slove', 'pura', 'crowd', 'secur', 'reliev', 'jungl', 'will', 'dearli', 'wedlunch', 'blank', 'sir', 'physic', 'le', 'aroundn', 'taunton', 'rec', 'wine', 'cheyyamo', 'debat', 'noon', 'epi', 'doggin', 'belov', 'itna', 'ground', 'duchess', 'probthat', 'place', 'dontignor', 'vodafon', 'india', 'leonardo', 'smaller', 'juswok', 'hectic', 'proverb', 'wet', 'flower', 'duvet', 'creepi', 'wee', 'race', 'mumbai', 'laden', 'rem', 'captain', 'hopeu', 'browser', 'digniti', 'unrecogn', 'poor', 'provinc', 'entitl', 'def', 'spl', 'one', 'opt', 'hubbi', 'surya', 'geoenvironment', 'ilol', 'tue', 'jesu', 'michael', 'field', 'tooo', 'town', 'textbook', 'workout', 'afterward', 'jeevithathil', 'haughaighgtujhyguj', 'tog', 'blame', 'iam', 'tote', 'skill', 'document', 'mari', 'doin', 'relationship', 'bakrid', 'yovil', 'enketa', 'lou', 'ps', 'imprtant', 'bday', 'mandara', 'alibi', 'felt', 'minapn', 'evil', 'click', 'goodtim', 'legitimat', 'stdtxtrate', 'dubsack', 'ptbo', 'linear', 'baig', 'fantast', 'unconsci', 'eldest', 'perhap', 'nw', 'medic', 'wrld', 'gandhipuram', 'pei', 'compani', 'eleph', 'play', 'maximum', 'dread', 'dare', 'shade', 'possess', 'dead', 'invnt', 'info', 'westonzoyland', 'across', 'textin', 'hhahhaahahah', 'goodmorn', 'ranjith', 'std', 'sall', 'offc', 'siguviri', 'everyth', 'revis', 'tap', 'keralacircl', 'await', 'snake', 'orchard', 'didnt', 'hmv', 'pole', 'tkt', 'sick', 'wid', 'gym', 'weird', 'next', 'maneg', 'surnam', 'coher', 'haiyoh', 'evri', 'sankranti', 'swashbuckl', 'cream', 'uwana', 'checkbox', 'laugh', 'resiz', 'sun', 'mack', 'arrow', 'virgil', 'harish', 'sad', 'pin', 'maraikara', 'dancc', 'gt', 'depress', 'siva', 'dedic', 'bootydeli', 'voic', 'baaaaab', 'languag', 'grahmbel', 'hun', 'aa', 'patient', 'makin', 'nosh', 'knock', 'mob', 'ac', 'arngd', 'narcot', 'gnun', 'still', 'practic', 'talent', 'edrunk', 'self', 'video', 'everyboy', 'shoranur', 'serv', 'shija', 'spark', 'cliff', 'tarpon', 'kerala', 'prepay', 'chiong', 'arti', 'mr', 'brilliantli', 'ga', 'headach', 'crave', 'prioriti', 'design', 'westshor', 'request', 'sunroof', 'threw', 'youuuuu', 'glass', 'prasad', 'eachoth', 'but', 'proov', 'daywith', 'snatch', 'drpd', 'daddi', 'tootsi', 'thinl', 'chocol', 'splash', 'maggi', 'slice', 'mu', 'cap', 'bak', 'favour', 'hava', 'explain', 'ahmad', 'file', 'velli', 'north', 'autocorrect', 'doke', 'geniu', 'anythi', 'hittng', 'ana', 'lennon', 'bundl', 'wot', 'gin', 'gee', 'jelli', 'cheap', 'lol', 'khelat', 'kanagu', 'royal', 'aretak', 'mental', 'rip', 'final', 'wish', 'expir', 'peep', 'port', 'yupz', 'mcr', 'thankyou', 'gd', 'add', 'squishi', 'whore', 'perfect', 'uni', 'mind', 'hm', 'censu', 'yam', 'intent', 'marley', 'wit', 'presnt', 'cyst', 'macha', 'ayo', 'windi', 'bead', 'inconveni', 'plumb', 'midnight', 'pan', 'obes', 'welcom', 'beth', 'mca', 'ritten', 'andro', 'soonlot', 'paus', 'refil', 'wherear', 'mask', 'rcv', 'ukp', 'hamper', 'harder', 'eighth', 'necklac', 'balloon', 'payasam', 'soz', 'deduct', 'function', 'aeroplan', 'bergkamp', 'furnitur', 'gold', 'scrape', 'phil', 'upto', 'ard', 'kickoff', 'chees', 'anytim', 'everythin', 'milta', 'kisi', 'hide', 'qatar', 'dryer', 'groov', 'knee', 'net', 'snuggl', 'signin', 'torch', 'money', 'jot', 'wear', 'prize', 'med', 'smoke', 'pillow', 'orig', 'color', 'kvb', 'whatev', 'reader', 'salam', 'longer', 'jap', 'stapati', 'eastend', 'lookin', 'nasdaq', 'howu', 'hopeso', 'e', 'hav', 'dogwood', 'dhanush', 'kinda', 'diaper', 'insect', 'thecd', 'reset', 'nottingham', 'youwanna', 'ts', 'everi', 'yalrigu', 'erupt', 'tome', 'franyxxxxx', 'slap', 'wing', 'amp', 'webpag', 'margin', 'trishul', 'anybodi', 'ore', 'bcm', 'pisc', 'conclus', 'grumpi', 'transfer', 'nickey', 'smsing', 'contain', 'muht', 'vijaykanth', 'own', 'token', 'dual', 'mentor', 'hmmmm', 'ba', 'shakara', 'ennal', 'lick', 'baaaaaaaab', 'moan', 'easili', 'housew', 'swan', 'necessarili', 'neces', 'braini', 'bluetooth', 'memori', 'tobe', 'secret', 'customersqueri', 'ko', 'speedchat', 'kaitlyn', 'meatbal', 'spook', 'impost', 'offlin', 'song', 'betta', 'lanr', 'kind', 'sao', 'overh', 'mark', 'sure', 'tongu', 'behind', 'basket', 'stewarts', 'possibl', 'sapna', 'disappear', 'jokin', 'chrgd', 'signal', 'natalja', 'realis', 'experi', 'anniversari', 'feet', 'coulda', 'imposs', 'geeeee', 'thatmum', 'shitinnit', 'film', 'gotten', 'polic', 'drunkard', 'gent', 'lancast', 'ra', 'none', 'txting', 'all', 'eaten', 'explos', 'aris', 'blog', 'backdoor', 'asthma', 'noisi', 'sane', 'vat', 'fffff', 'va', 'wheellock', 'bbd', 'name', 'snappi', 'bang', 'gailxx', 'upgrad', 'bought', 'petey', 'commun', 'forc', 'sian', 'juici', 'compromis', 'brat', 'drum', 'sitll', 'evo', 'wicklow', 'abbey', 'splat', 'aid', 'hmm', 'southern', 'june', 'happier', 'certif', 'robinson', 'fathima', 'zealand', 'dhort', 'broth', 'abta', 'blimey', 'concern', 'pooja', 'prsn', 'initi', 'though', 'remembr', 'hogli', 'satisfi', 'evn', 'trip', 'yup', 'haha', 'breez', 'thought', 'affidavit', 'subscrit', 'kay', 'smell', 'pooki', 'gravi', 'becoz', 'zoe', 'cust', 'hex', 'st', 'vday', 'flood', 'sterl', 'needa', 'deck', 'btw', 'bakra', 'unredeem', 'sponsor', 'wrking', 'talkbut', 'unsubscrib', 'warwick', 'area', 'chex', 'gravel', 'rounder', 'fat', 'ham', 'neway', 'fastest', 'seen', 'healer', 'mile', 'frnd', 'peril', 'loo', 'dri', 'machan', 'busetop', 'geti', 'parent', 'smiley', 'reali', 'burrito', 'timi', 'shoppin', 'wiskey', 'free', 'hotel', 'smidgin', 'massiv', 'someth', 'differ', 'lov', 'gdeve', 'loko', 'jerri', 'letter', 'nig', 'account', 'chore', 'yourjob', 'ryan', 'worm', 'admir', 'support', 'citi', 'coop', 'plaza', 'depart', 'nightnight', 'wate', 'alett', 'volcano', 'might', 'math', 'cre', 'santa', 'egbon', 'landmark', 'twink', 'impress', 'flake', 'correctli', 'seem', 'gain', 'around', 'terribl', 'unlik', 'couch', 'brain', 'trial', 'posit', 'wall', 'gopalettan', 'frontiervil', 'despit', 'flim', 'advis', 'ent', 'shampain', 'netflix', 'vasai', 'strict', 'diamond', 'somewheresomeon', 'slurp', 'babysit', 'fedex', 'august', 'lock', 'notic', 'worthless', 'inning', 'whether', 'jide', 'jen', 'mobilesdirect', 'lifei', 'thanx', 'feelingood', 'jolt', 'gift', 'am', 'sugar', 'treacl', 'everyon', 'hotmix', 'randi', 'boooo', 'wotz', 'tgxxrz', 'flyng', 'pig', 'spirit', 'birthdat', 'sp', 'accordingli', 'kalaachutaarama', 'ecstasi', 'behalf', 'nz', 'devour', 'nap', 'cd', 'favorit', 'meow', 'bk', 'reason', 'viva', 'fren', 'helplin', 'dabook', 'upload', 'passion', 'tai', 'escal', 'darkest', 'hank', 'batt', 'warner', 'outbid', 'togeth', 'food', 'canteen', 'willpow', 'sparkl', 'violenc', 'spot', 'ela', 'ppl', 'wereth', 'borin', 'psxtra', 'borderlin', 'lighter', 'explicitli', 'stair', 'onluy', 'bluetoothhdset', 'fishhead', 'bridgwat', 'steal', 'admit', 'f', 'sauci', 'authoris', 'lyf', 'pest', 'yorg', 'bore', 'like', 'februari', 'nobodi', 'everybodi', 'aldrin', 'financ', 'bloodi', 'hidden', 'offens', 'paragraph', 'car', 'icon', 'woulda', 'copi', 'budget', 'student', 'wt', 'banter', 'beat', 'winterston', 'rakhesh', 'amanda', 'slp', 'poker', 'hunni', 'payback', 'much', 'project', 'howz', 'stressful', 'achiev', 'type', 'headin', 'arcad', 'petrol', 'drinkin', 'boat', 'ahead', 'kort', 'lil', 'nagar', 'qlynnbv', 'payment', 'check', 'gibe', 'misbehav', 'obey', 'gari', 'site', 'folk', 'asda', 'wind', 'cash', 'pint', 'scotch', 'recoveri', 'half', 'basq', 'idea', 'roast', 'offer', 'pear', 'aww', 'showroom', 'repeat', 'imagin', 'netcollex', 'peski', 'stamp', 'nìte', 'accordin', 'fond', 'icic', 'certainli', 'urgran', 'slaaaaav', 'prey', 'look', 'outta', 'avo', 'ertini', 'ipad', 'an', 'engag', 'pleasant', 'missionari', 'salon', 'yi', 'stabil', 'wrc', 'write', 'pass', 'champney', 'bless', 'increas', 'practicum', 'whoever', 'shock', 'posibl', 'nighter', 'chat', 'ye', 'hook', 'sae', 'reserv', 'remov', 'imf', 'audri', 'teas', 'tall', 'thursday', 'swear', 'ooh', 'carolin', 'auto', 'hyde', 'macho', 'thout', 'loud', 'mood', 'lag', 'dawn', 'funer', 'korli', 'real', 'peak', 'raji', 'mathemat', 'babyjontet', 'sceneri', 'jez', 'said', 'wif', 'spoil', 'payoh', 'mostli', 'trust', 'cc', 'american', 'comfey', 'magazin', 'ideal', 'gsoh', 'muchxxlov', 'passabl', 'drastic', 'jeremiah', 'flow', 'anjola', 'rstm', 'judgement', 'rajitha', 'refer', 'stylist', 'necess', 'duo', 'yalru', 'bridg', 'ummifi', 'dvd', 'lifebook', 'plenti', 'neglet', 'get', 'jenni', 'sagamu', 'yen', 'cocksuck', 'gobi', 'rpli', 'wthout', 'shld', 'today', 'brand', 'slightli', 'anni', 'lie', 'iknow', 'chess', 'horni', 'prap', 'born', 'badrith', 'schedul', 'updat', 'tactless', 'poem', 'melnit', 'combin', 'juli', 'jaya', 'pudunga', 'track', 'jock', 'soo', 'jd', 'somewher', 'brighten', 'innoc', 'progress', 'portion', 'upgrdcentr', 'handset', 'elect', 'beforehand', 'month', 'alon', 'belovd', 'henc', 'cashto', 'interflora', 'hope', 'ntwk', 'apologet', 'develop', 'inc', 'secondari', 'barbi', 'station', 'lv', 'hmmm', 'burn', 'kegger', 'age', 'typic', 'tomarrow', 'sometim', 'asia', 'especi', 'toppoli', 'believ', 'lambu', 'complain', 'garden', 'hate', 'tx', 'ourback', 'tosend', 'monday', 'c', 'prod', 'charg', 'hlp', 'weight', 'socht', 'dontpleas', 'increment', 'hustl', 'datz', 'nob', 'gymnast', 'west', 'unconvinc', 'blown', 'entertain', 'answerin', 'contribut', 'meat', 'txt', 'transcrib', 'perpetu', 'new', 'flip', 'definit', 'complaint', 'answr', 'ashwini', 'refus', 'offici', 'tantrum', 'cuppa', 'heltini', 'bed', 'amrita', 'alertfrom', 'john', 'kath', 'astoundingli', 'arriv', 'death', 'cum', 'cst', 'thepub', 'dobbi', 'uwant', 'sexychat', 'zebra', 'wherr', 'wrench', 'dismay', 'adrink', 'swayz', 'mix', 'outfor', 'sori', 'select', 'weekend', 'vip', 'curfew', 'kate', 'far', 'spice', 'jamster', 'desert', 'followin', 'toa', 'howard', 'sexi', 'mush', 'nic', 'cribb', 'problem', 'omw', 'fuckin', 'alwa', 'underdtand', 'hanumanji', 'lot', 'cbe', 'foley', 'chariti', 'waqt', 'bt', 'lifetim', 'exorc', 'thur', 'wednesday', 'normal', 'load', 'puppi', 'airport', 'mtnl', 'benni', 'chinchilla', 'ajith', 'statu', 'darl', 'discreet', 'incred', 'earth', 'phase', 'movi', 'vu', 'riley', 'ave', 'omg', 'mailbox', 'broadband', 'prepar', 'what', 'brave', 'rs', 'minut', 'murali', 'regard', 'unjalur', 'massag', 'yep', 'ralli', 'uv', 'mid', 'actin', 'tulip', 'stay', 'quiet', 'greatest', 'motor', 'us', 'hogidh', 'tunji', 'watevr', 'basic', 'rais', 'puriti', 'forward', 'sachin', 'saristar', 'havnt', 'fifa', 'squid', 'oreo', 'ceil', 'thi', 'slipperi', 'prescript', 'papa', 'anand', 'lord', 'kfc', 'reloc', 'alian', 'accommodationvouch', 'button', 'callertun', 'mini', 'withdraw', 'gower', 'riddanc', 'gettin', 'gener', 'push', 'bad', 'katexxx', 'fwiw', 'loss', 'bathroom', 'fret', 'co', 'rgd', 'need', 'bike', 'found', 'window', 'duck', 'reallyne', 'magic', 'maki', 'profession', 'success', 'somebodi', 'ogunrind', 'win', 'prepon', 'franxx', 'contract', 'childporn', 'scotsman', 'inr', 'onam', 'obvious', 'chechi', 'entrepreneur', 'flaki', 'breakin', 'bell', 'punish', 'true', 'drop', 'ge', 'bugi', 'nxt', 'weirdi', 'mei', 'stil', 'tau', 'chastiti', 'porteg', 'ikno', 'reject', 'lareadi', 'iccha', 'affect', 'spoon', 'snowman', 'unmit', 'versu', 'pleasur', 'collect', 'rose', 'fine', 'dirtiest', 'howdi', 'que', 'easiest', 'careabout', 'deltomorrow', 'huh', 'sm', 'respond', 'ibm', 'struggl', 'happili', 'intrepid', 'trubl', 'least', 'kappa', 'bare', 'bbc', 'happend', 'coveragd', 'control', 'skateboard', 'spk', 'random', 'ayn', 'edit', 'shortli', 'forgot', 'facebook', 'birth', 'waheeda', 'mous', 'steed', 'glad', 'uteru', 'cnl', 'je', 'theplac', 'forev', 'gete', 'slept', 'eventu', 'sec', 'teresa', 'gudnit', 'evrey', 'beg', 'kiosk', 'red', 'attitud', 'goodnit', 'newest', 'sake', 'elaya', 'scream', 'kept', 'yck', 'angel', 'associ', 'rain', 'buy', 'recept', 'ta', 'church', 'wither', 'sherawat', 'spoilt', 'tke', 'instal', 'textoper', 'waaaat', 'nurs', 'worst', 'friendsar', 'jaykwon', 'tc', 'asusu', 'radio', 'rate', 'morefrmmob', 'boston', 'dancin', 'surgic', 'lambda', 'proze', 'extermin', 'accomod', 'ruin', 'unfortun', 'pic', 'breakfast', 'chinki', 'filthyguy', 'drunken', 'sez', 'plaid', 'head', 'romant', 'variou', 'ach', 'colani', 'swalpa', 'alreadi', 'photo', 'wn', 'jade', 'invest', 'graviti', 'frmcloud', 'toxic', 'sday', 'roommat', 'king', 'build', 'nevamind', 'ton', 'yummi', 'stroke', 'visa', 'forfeit', 'shesil', 'jet', 'attempt', 'armand', 'shortcod', 'zogtoriu', 'seriou', 'mouth', 'doc', 'neva', 'pour', 'sorrow', 'mj', 'donat', 'chapter', 'hasbro', 'inch', 'symptom', 'mwah', 'hack', 'shrub', 'cancel', 'lo', 'tv', 'subscrib', 'trade', 'laundri', 'gmw', 'shb', 'gentli', 'anywher', 'horribl', 'join', 'embarass', 'violet', 'prestig', 'wo', 'user', 'comment', 'knacker', 'visitor', 'carton', 'return', 'two', 'parchi', 'lingeri', 'dat', 'andr', 'driver', 'applebe', 'mecaus', 'invoic', 'compliment', 'mobil', 'bcum', 'sh', 'slowli', 'cold', 'mmmmmmm', 'evng', 'african', 'heater', 'pub', 'accept', 'litr', 'faglord', 'interfu', 'agalla', 'section', 'wesley', 'whassup', 'birthday', 'presid', 'starv', 'ivatt', 'leftov', 'commerci', 'lotta', 'cup', 'raksha', 'carlin', 'uin', 'enna', 'ag', 'wuld', 'farm', 'entir', 'hey', 'asap', 'sore', 'huge', 'intern', 'ate', 'clover', 'spin', 'mandi', 'tuth', 'neck', 'fetch', 'depend', 'hrishi', 'expens', 'intellig', 'ger', 'exhaust', 'devil', 'low', 'hw', 'owo', 'geeee', 'display', 'resolut', 'hannaford', 'rest', 'tonex', 'b', 'platt', 'everyday', 'rto', 'coincid', 'fifteen', 'zaher', 'fuuuuck', 'helloooo', 'sound', 'tiwari', 'violat', 'newport', 'ü', 'illspeak', 'oyster', 'cafe', 'doinat', 'class', 'starshin', 'visit', 'hee', 'dealer', 'vewi', 'big', 'norm', 'seventeen', 'die', 'lk', 'ethnic', 'mission', 'semest', 'feed', 'georg', 'rock', 'rat', 'tat', 'tirunelvali', 'bunker', 'crore', 'overa', 'hvae', 'chik', 'snap', 'dream', 'sleepin', 'spageddi', 'vomit', 'loos', 'knew', 'thasa', 'smeon', 'smear', 'de', 'graze', 'resend', 'dao', 'ext', 'noic', 'odalebeku', 'beverag', 'failur', 'notif', 'muah', 'hussey', 'owl', 'silver', 'enufcredeit', 'proper', 'layin', 'begin', 'level', 'ash', 'holla', 'edukkukaye', 'sura', 'tait', 'stomp', 'freind', 'jeetey', 'premier', 'jia', 'spam', 'sabarish', 'bfore', 'morn', 'dob', 'action', 'loverboy', 'yar', 'dick', 'alwi', 'crazyin', 'freemsg', 'fade', 'ex', 'christ', 'trash', 'inspect', 'xxxx', 'bone', 'camri', 'dismissi', 'shldxxxx', 'claimcod', 'redeem', 'leadership', 'soire', 'ay', 'jason', 'sumf', 'max', 'taylor', 'polo', 'famamu', 'app', 'inlud', 'classic', 'cdgt', 'bpo', 'lei', 'tick', 'thriller', 'legal', 'goggl', 'musthu', 'mg', 'luton', 'land', 'mode', 'den', 'cha', 'appli', 'code', 'inconsider', 'jazz', 'outdoor', 'declar', 'anonym', 'accent', 'problm', 'fell', 'categori', 'ettan', 'beerag', 'lightli', 'listen', 'clash', 'happiest', 'hut', 'laid', 'hunt', 'opinion', 'hell', 'ubandu', 'champ', 'earli', 'bill', 'nh', 'vl', 'bat', 'misss', 'msging', 'henri', 'sportsx', 'compar', 'pull', 'chick', 'worth', 'frog', 'attent', 'gei', 'tt', 'nav', 'tank', 'pod', 'stoner', 'srsli', 'chad', 'theatr', 'extrem', 'friend', 'triumph', 'social', 'emili', 'among', 'thia', 'havin', 'miracl', 'mtalk', 'fee', 'boo', 'swoop', 'besid', 'sway', 'email', 'ad', 'videophon', 'empti', 'hitman', 'selfindepend', 'macedonia', 'mention', 'ref', 'aiya', 'britney', 'taught', 'chef', 'chennai', 'malarki', 'lift', 'sent', 'thanku', 'anoth', 'liverpool', 'pre', 'ahold', 'reliant', 'shove', 'suppli', 'sofa', 'aft', 'ccna', 'nytho', 'warranti', 'ou', 'rcd', 'sweeti', 'everytim', 'yiju', 'punch', 'vatian', 'thandiyachu', 'dirt', 'calm', 'faster', 'atleast', 'nudist', 'divis', 'stranger', 'checkmat', 'ride', 'izzit', 'rdi', 'rael', 'en', 'pressi', 'somerset', 'husband', 'nuther', 'arun', 'nite', 'lanka', 'dark', 'forget', 'grumbl', 'law', 'friday', 'care', 'luckili', 'woul', 'hont', 'complementari', 'ranju', 'content', 'tone', 'pc', 'shindig', 'js', 'lautech', 'contin', 'bck', 'prem', 'dom', 'lit', 'brows', 'deliv', 'priest', 'innu', 'my', 'merememberin', 'ignor', 'came', 'minu', 'mc', 'vibrat', 'alter', 'demand', 'addi', 'singapor', 'avenu', 'mm', 'heavili', 'bet', 'ive', 'svc', 'ish', 'walkin', 'miwa', 'ofic', 'parco', 'uniqu', 'rawr', 'divorc', 'marrg', 'opponent', 'stalk', 'chinatown', 'sweater', 'huai', 'optout', 'dine', 'spend', 'revers', 'announc', 'audit', 'thgt', 'directli', 'comin', 'lage', 'whatsup', 'lac', 'dokey', 'dizze', 'requir', 'realiti', 'size', 'mb', 'freez', 'swhrt', 'wildlif', 'posh', 'full', 'ro', 'bloo', 'moon', 'gotani', 'envelop', 'pharmaci', 'retriev', 'day', 'campu', 'mobno', 'mw', 'string', 'sayin', 'priya', 'yetund', 'nvm', 'resubmit', 'chikku', 'stool', 'ramen', 'grave', 'whose', 'oi', 'closebi', 'walmart', 'usher', 'workag', 'tini', 'canada', 'ujhhhhhhh', 'shirt', 'strip', 'wasnt', 'pool', 'jjc', 'argh', 'recd', 'rightli', 'lyric', 'purs', 'dip', 'experiencehttp', 'paul', 'clark', 'els', 'nevil', 'foward', 'ebay', 'tor', 'xxxxxxxx', 'oic', 'drama', 'web', 'famou', 'motherfuck', 'ear', 'stifl', 'good', 'isnt', 'bangbab', 'dload', 'straight', 'rough', 'result', 'otsid', 'fidalf', 'heard', 'uncondit', 'cantdo', 'ralph', 'mn', 'analysi', 'cloth', 'gloriou', 'uk', 'consent', 'atroci', 'thing', 'interview', 'bf', 'no', 'doublemin', 'kanji', 'memor', 'elliot', 'matra', 'ti', 'fudg', 'cardiff', 'expos', 'laptop', 'lifpartnr', 'em', 'si', 'pen', 'weapon', 'data', 'wnt', 'misplac', 'shit', 'hdd', 'mushi', 'someonon', 'monthlysubscript', 'sunshin', 'l', 'evrydi', 'erm', 'galileo', 'mate', 'lunsford', 'evalu', 'homeown', 'surpris', 'tough', 'advic', 'syrup', 'cer', 'argentina', 'athlet', 'algorithm', 'himso', 'fujitsu', 'period', 'norcorp', 'outsid', 'approx', 'strong', 'persian', 'rice', 'kadeem', 'pocay', 'sunoco', 'nike', 'xoxo', 'identif', 'antibiot', 'dificult', 'vpod', 'hoo', 'till', 'monkeespeopl', 'relat', 'unfortuntli', 'cave', 'told', 'brdget', 'nan', 'someday', 'chief', 'tim', 'burial', 'plm', 'up', 'xxuk', 'brilliant', 'maretar', 'rahul', 'da', 'sunlight', 'optimist', 'gsex', 'centuri', 'somtim', 'lauri', 'hottest', 'appreci', 'muz', 'jontin', 'fifti', 'spacebuck', 'storm', 'page', 'goss', 'rct', 'somethin', 'libertin', 'usf', 'ind', 'guai', 'gimmi', 'ph', 'londn', 'noooooooo', 'channel', 'teenag', 'jam', 'see', 'dunno', 'doggi', 'cancer', 'ct', 'chapel', 'snowboard', 'fowler', 'prabha', 'wrnog', 'decor', 'miiiiiiissssssssss', 'xafter', 'tampa', 'sympathet', 'fgkslpopw', 'meetin', 'plan', 'crazi', 'probpop', 'pobox', 'bbdelux', 'lovin', 'wer', 'stockport', 'youphon', 'nte', 'singl', 'darren', 'rcvd', 'potenti', 'voucher', 'escap', 'middl', 'nichol', 'dental', 'quiz', 'research', 'atlanta', 'anderson', 'gosh', 'men', 'mylif', 'ambiti', 'china', 'ringtonek', 'idiot', 'evict', 'sweetheart', 'cherish', 'earlier', 'chatter', 'mornin', 'infra', 'enjoyin', 'strain', 'forgiven', 'float', 'marandratha', 'person', 'indian', 'sub', 'finalis', 'abdomen', 'xam', 'eta', 'text', 'confirm', 'fox', 'inperialmus', 'spose', 'prescrib', 'six', 'misscal', 'hv', 'grinul', 'promis', 'cab', 'goodmat', 'transact', 'permiss', 'career', 'naughti', 'chequ', 'scienc', 'calicut', 'measur', 'capac', 'gving', 'lane', 'grinder', 'japanes', 'ball', 'auction', 'buddi', 'doesnt', 'cough', 'outfit', 'sip', 'aunt', 'wkend', 'dogbreath', 'voila', 'vivek', 'stupid', 'veggi', 'unemploy', 'prin', 'hella', 'realiz', 'funni', 'mutai', 'desper', 'coast', 'hail', 'lager', 'trebl', 'vitamin', 'fill', 'thesi', 'mojibiola', 'ow', 'twat', 'otbox', 'batchlor', 'capit', 'cud', 'cld', 'weirdo', 'mesag', 'compulsori', 'glasgow', 'missi', 'easier', 'quick', 'csc', 'disc', 'flash', 'bedbut', 'gam', 'locat', 'jetton', 'spiritu', 'flight', 'referin', 'skype', 'disconnect', 'smile', 'hooch', 'acknowledg', 'thirunelvali', 'lionm', 'leagu', 'deposit', 'balanc', 'walik', 'eppolum', 'nope', 'fone', 'put', 'buffi', 'extra', 'pound', 'splashmobil', 'paid', 'wan', 'prakesh', 'callback', 'la', 'disclos', 'expert', 'malaria', 'iff', 'bold', 'plural', 'honi', 'nokia', 'outstand', 'includ', 'xx', 'abiola', 'mt', 'suffer', 'wkli', 'bigger', 'telephon', 'nyc', 'ugo', 'wotu', 'privat', 'headstart', 'pair', 'luv', 'nowher', 'court', 'bmw', 'offic', 'reflex', 'easter', 'fix', 'vill', 'switch', 'lem', 'jumper', 'lavend', 'hogolo', 'jiayin', 'cttergg', 'mokka', 'semiobscur', 'luxuri', 'ecstaci', 'pleas', 'smartcal', 'swatch', 'darlin', 'postpon', 'thanksgiv', 'gauti', 'joanna', 'know', 'barri', 'g', 'evey', 'cmon', 'shifad', 'educ', 'thedailydraw', 'chill', 'except', 'mia', 'settl', 'th', 'adewal', 'trek', 'sometext', 'studentfinanci', 'nver', 'accident', 'fm', 'filth', 'ingredi', 'oper', 'fab', 'kodthini', 'how', 'congratul', 'wale', 'sitter', 'ju', 'aftr', 'object', 'fondli', 'hip', 'score', 'surli', 'hockey', 'goodo', 'sonathaya', 'tuition', 'heal', 'walsal', 'plough', 'equal', 'funk', 'catch', 'purpl', 'cochin', 'shot', 'backward', 'thuglyf', 'elain', 'ago', 'ldn', 'sandiago', 'understood', 'happenin', 'wrongli', 'ese', 'cs', 'cstore', 'describ', 'shinco', 'urn', 'fair', 'lap', 'children', 'ltd', 'lakh', 'highest', 'appropri', 'dint', 'bit', 'phne', 'tirunelvai', 'unlimit', 'yavnt', 'whole', 'tellmiss', 'orh', 'parantella', 'splendid', 'knicker', 'influx', 'reffer', 'gyno', 'looovvv', 'technolog', 'arr', 'urgnt', 'wat', 'boy', 'stream', 'fruit', 'sehwag', 'macleran', 'nuclear', 'machi', 'girl', 'armenia', 'bian', 'tradit', 'theyr', 'coco', 'bodi', 'raviyog', 'fromwrk', 'tol', 'cock', 'favourit', 'xxxxxxxxxxxxxx', 'rum', 'comb', 'reaction', 'lovem', 'hit', 'margaret', 'lodg', 'youdo', 'spree', 'comprehens', 'jealou', 'approach', 'poet', 'mad', 'minecraft', 'err', 'bahama', 'telugu', 'zero', 'ola', 'ador', 'mquiz', 'plumber', 'frndshp', 'baller', 'muhommad', 'workand', 'beggar', 'woodland', 'latest', 'toplay', 'wocay', 'delet', 'logo', 'oru', 'ink', 'mel', 'buzi', 'blacko', 'itxt', 'spell', 'unbreak', 'childish', 'mother', 'biatch', 'jsco', 'purchas', 'anot', 'crap', 'kudi', 'green', 'form', 'nigh', 'internet', 'got', 'entrop', 'nahi', 'kick', 'stereo', 'jolli', 'amplikat', 'futur', 'dorothi', 'templ', 'sutra', 'fassyol', 'whenev', 'guoyang', 'wahay', 'friendship', 'oz', 'mumha', 'yahoo', 'endless', 'okmail', 'termsappli', 'okor', 'nydc', 'attack', 'guessin', 'mallika', 'ibor', 'winner', 'perform', 'fight', 'foundurself', 'callin', 'sweetest', 'bring', 'rvx', 'twin', 'cramp', 'steve', 'lyfu', 'lotto', 'distanc', 'watchng', 'excel', 'lnli', 'nationwid', 'footprint', 'ovul', 'london', 'bambl', 'mine', 'thnx', 'ful', 'amongst', 'php', 'sculptur', 'bognor', 'begun', 'astronom', 'panic', 'jp', 'close', 'excit', 'okden', 'heat', 'appoint', 'venugop', 'rimac', 'skyve', 'out', 'kicchu', 'syd', 'decemb', 'walk', 'alfi', 'ammo', 'charm', 'guilti', 'bun', 'voicemail', 'brison', 'gang', 'shitin', 'back', 'cn', 'claypot', 'hypertens', 'would', 'rush', 'pretsovru', 'mee', 'bro', 'mofo', 'ffffffffff', 'theacus', 'saturday', 'grate', 'freephon', 'awww', 'defeat', 'absenc', 'howda', 'thekingshead', 'burger', 'gf', 'eruku', 'madstini', 'joy', 'coupla', 'crucial', 'hug', 'slower', 'apart', 'tape', 'burgundi', 'ym', 'golden', 'sarcasm', 'cumin', 'steer', 'comput', 'u', 'downstem', 'stand', 'everyso', 'skip', 'repair', 'broken', 'consensu', 'nowaday', 'alert', 'postcod', 'crash', 'textcomp', 'kidz', 'donyt', 'celebr', 'scotland', 'stock', 'featur', 'rubber', 'shitstorm', 'anji', 'bilo', 'hardcor', 'administr', 'convers', 'qualiti', 'butt', 'caus', 'del', 'without', 'gal', 'taken', 'snd', 'piggi', 'yeh', 'attract', 'sri', 'hardest', 'jaklin', 'lovingli', 'annonc', 'fuck', 'oja', 'belong', 'pain', 'torrent', 'peach', 'jacuzzi', 'clarifi', 'biro', 'swimsuit', 'parad', 'paye', 'nooooooo', 'grace', 'prevent', 'inner', 'eng', 'noe', 'shine', 'tag', 'missin', 'tiger', 'luvd', 'carri', 'endof', 'ds', 'ahhh', 'lesser', 'hero', 'within', 'face', 'suppos', 'spinout', 'il', 'refresh', 'sooo', 'perumbavoor', 'alway', 'skillgam', 'instruct', 'sight', 'jb', 'giv', 'hassl', 'nordstrom', 'madam', 'panason', 'blanket', 'craigslist', 'amus', 'fault', 'dasara', 'wlcome', 'dinero', 'clair', 'instantli', 'blood', 'weiyi', 'plane', 'teeth', 'unsecur', 'bag', 'dlf', 'olol', 'instead', 'plu', 'venaam', 'wendi', 'road', 'leav', 'buzzzz', 'amma', 'europ', 'dramastorm', 'bay', 'ia', 'tension', 'cheaper', 'classmat', 'sender', 'genuin', 'registr', 'watev', 'prayer', 'aspect', 'vari', 'nimya', 'cyclist', 'situat', 'con', 'bowa', 'flippin', 'keep', 'ooooooh', 'r', 'quickli', 'mac', 'parkin', 'custcar', 'lastest', 'medicin', 'ocean', 'sariyag', 'gender', 'electr', 'petexxx', 'insid', 'art', 'program', 'maga', 'confus', 'better', 'lovejen', 'sim', 'syllabu', 'plyr', 'problum', 'dungere', 'gist', 'firsg', 'familiar', 'quit', 'brb', 'pai', 'lotsof', 'cutter', 'satthen', 'peac', 'start', 'nasti', 'nearbi', 'dem', 'passport', 'cuti', 'neekunna', 'watch', 'adult', 'philosoph', 'monster', 'hlday', 'wiv', 'cost', 'boggi', 'guarante', 'diddi', 'dog', 'patti', 'reward', 'ass', 'realli', 'daili', 'aint', 'onword', 'egg', 'someon', 'album', 'doesdiscount', 'fran', 'exam', 'silent', 'mumtaz', 'cutest', 'shrek', 'epsilon', 'she', 'swiss', 'gigolo', 'okay', 'n', 'lect', 'bishan', 'tiempo', 'train', 'speechless', 'tour', 'lonlin', 'lush', 'bar', 'make', 'liver', 'swap', 'loosu', 'split', 'subscript', 'mummi', 'outreach', 'bari', 'lekdog', 'march', 'gene', 'manki', 'oblising', 'conserv', 'stink', 'tyler', 'wrong', 'showr', 'gbp', 'rummer', 'natwest', 'bettr', 'nalli', 'jacket', 'hoodi', 'oblivi', 'frequent', 'din', 'soil', 'kittum', 'hillsborough', 'elvi', 'littl', 'clock', 'occas', 'rub', 'took', 'essay', 'ijust', 'myspac', 'doctor', 'veget', 'glori', 'gurl', 'tune', 'aig', 'summon', 'secretli', 'limp', 'brah', 'particip', 'radiat', 'screen', 'ill', 'oooh', 'prix', 'melt', 'gossip', 'bruv', 'method', 'phd', 'scarcasim', 'mani', 'organ', 'suprman', 'keen', 'shortag', 'j', 'spider', 'num', 'yah', 'wildest', 'lazi', 'locaxx', 'sol', 'pouch', 'solv', 'asssssholeee', 'kothi', 'pl', 'nri', 'psychologist', 'say', 'fne', 'spoken', 'oil', 'mom', 'squat', 'rememberi', 'girli', 'starer', 'abil', 'key', 'ew', 'reunion', 'newspap', 'elama', 'cooper', 'nimbomson', 'minnaminungint', 'odi', 'pretend', 'tohar', 'habit', 'thousand', 'twelv', 'tast', 'pataistha', 'gre', 'jod', 'overdid', 'edg', 'hiphop', 'enjoy', 'bc', 'gone', 'rd', 'pete', 'strike', 'ak', 'adsens', 'luck', 'babi', 'salesman', 'lili', 'havent', 'yer', 'babygoodby', 'messag', 'privaci', 'writh', 'qi', 'adp', 'notebook', 'uncomfort', 'spring', 'allday', 'videochat', 'garbag', 'pile', 'arestaur', 'stick', 'chatlin', 'clip', 'forevr', 'flea', 'xchat', 'implic', 'fanci', 'goldvik', 'valid', 'distract', 'ms', 'dai', 'addamsfa', 'karaok', 'beehoon', 'paperwork', 'risk', 'kid', 'semi', 'villa', 'modul', 'bb', 'discount', 'nbme', 'avbl', 'specialis', 'attribut', 'olav', 'exist', 'nino', 'loneli', 'blake', 'raiden', 'werebor', 'sky', 'janarig', 'inst', 'franki', 'com', 'carli', 'turn', 'someplac', 'tel', 'dormitori', 'propsd', 'checkup', 'oredi', 'dhoni', 'talk', 'studi', 'cr', 'oki', 'steam', 'immedi', 'nok', 'eg', 'sit', 'jame', 'amk', 'oni', 'wicket', 'log', 'gong', 'superb', 'gap', 'axi', 'valu', 'ape', 'emerg', 'week', 'fresher', 'bslvyl', 'victor', 'dena', 'haventcn', 'boundari', 'woman', 'olymp', 'luci', 'suddenli', 'qing', 'adress', 'lunchtim', 'neft', 'shuhui', 'gentl', 'bcoz', 'shanil', 'wifi', 'taxi', 'aquariu', 'uncut', 'hungov', 'ned', 'grown', 'chile', 'nitro', 'wad', 'tb', 'cupboard', 'zindgi', 'kodstini', 'tonight', 'independ', 'necessari', 'euro', 'havebeen', 'drivin', 'linerent', 'strtd', 'supervisor', 'computerless', 'sr', 'hypotheticalhuagauahahuagahyuhagga', 'membership', 'small', 'energi', 'infern', 'issu', 'report', 'minimum', 'sheffield', 'decim', 'tattoo', 'lik', 'celeb', 'guid', 'entey', 'uworld', 'even', 'smart', 'voda', 'cast', 'suffici', 'tip', 'yun', 'breaker', 'ileav', 'tomeandsaid', 'broad', 'individu', 'mon', 'weddin', 'smash', 'cut', 'wknd', 'agidhan', 'unicef', 'pimpl', 'saibaba', 'textbuddi', 'claim', 'vagu', 'rumour', 'dislik', 'bandag', 'ctla', 'aiyah', 'deep', 'taco', 'tax', 'spatula', 'shower', 'talkin', 'aah', 'brum', 'cuck', 'harri', 'prayr', 'btwn', 'teacher', 'poortiyagi', 'dr', 'culdnt', 'attach', 'cricket', 'drove', 'outsomewher', 'tex', 'spele', 'suzi', 'feb', 'smsservic', 'so', 'jenn', 'match', 'prolli', 'kalisidar', 'deal', 'randomlli', 'blow', 'jaz', 'difficult', 'sat', 'arnt', 'screwd', 'sara', 'postal', 'could', 'wihtuot', 'dudett', 'jst', 'canal', 'reciev', 'soladha', 'truck', 'ctagg', 'phew', 'sth', 'sup', 'question', 'hundr', 'kickbox', 'pace', 'whilltak', 'conect', 'shake', 'wood', 'bhayandar', 'punj', 'wtf', 'lindsay', 'deer', 'repli', 'bewar', 'happen', 'fed', 'stu', 'appar', 'sudn', 'react', 'keluviri', 'dane', 'graduat', 'base', 'shijutta', 'breather', 'ar', 'preview', 'complac', 'delux', 'tri', 'resolv', 'sleepi', 'french', 'getstop', 'sentenc', 'optin', 'fizz', 'haf', 'bellearli', 'met', 'naseeb', 'theater', 'skinni', 'swell', 'freefon', 'ip', 'hurrican', 'avent', 'bud', 'dust', 'velacheri', 'aka', 'der', 'brown', 'erot', 'woah', 'fave', 'rental', 'yeah', 'asa', 'competit', 'gran', 'iriv', 'beeen', 'troubleshoot', 'market', 'quiteamuz', 'hitler', 'convert', 'keri', 'onward', 'late', 'insur', 'stare', 'champlaxig', 'ne', 'lor', 'jersey', 'sleepwel', 'current', 'uncl', 'flavour', 'aiyar', 'fring', 'sorri', 'brotha', 'kane', 'acc', 'pump', 'inde', 'dodda', 'textpod', 'oath', 'enc', 'woke', 'sprint', 'prasanth', 'afford', 'link', 'overtim', 'billion', 'tmr', 'photoshop', 'dearer', 'honestli', 'ugh', 'engalnd', 'accommod', 'kusruthi', 'chart', 'hour', 'fightng', 'shape', 'weekli', 'saeed', 'coin', 'fixd', 'process', 'anyhow', 'walkabout', 'soup', 'feel', 'chest', 'benefit', 'dude', 'tsunami', 'fresh', 'bettersn', 'penc', 'oscar', 'lionp', 'unclaim', 'irulina', 'aliv', 'purpos', 'checkin', 'crab', 'predict', 'kavalan', 'treasur', 'dd', 'menu', 'syria', 'pale', 'mi', 'shitload', 'varaya', 'psychic', 'grin', 'nake', 'pm', 'anymor', 'embassi', 'ultim', 'april', 'coimbator', 'effect', 'coccoon', 'outrag', 'toke', 'kg', 'othr', 'sar', 'nelson', 'kano', 'dang', 'phoni', 'pray', 'custom', 'ibhltd', 'sell', 'caller', 'lotsli', 'ubi', 'urself', 'undrstndng', 'wana', 'cool', 'txtstar', 'facil', 'lapdanc', 'recent', 'decid', 'paracetamol', 'vargu', 'anyplac', 'sweatter', 'shoot', 'team', 'east', 'fuckinnic', 'maniac', 'audrey', 'misfit', 'snow', 'sea', 'lst', 'uhhhhrmm', 'meant', 'brief', 'product', 'palm', 'fundament', 'evr', 'england', 'fact', 'wishlist', 'likeyour', 'intrud', 'complimentari', 'inclu', 'nah', 'jack', 'tabl', 'recreat', 'gep', 'grow', 'known', 'soc', 'gautham', 'overdos', 'wenwecan', 'scratch', 'gumbi', 'xma', 'main', 'onlyfound', 'quarter', 'global', 'mail', 'nacho', 'esplanad', 'brin', 'supos', 'fold', 'woozl', 'pathaya', 'alcohol', 'hcl', 'albi', 'amrca', 'korch', 'academ', 'sens', 'oral', 'ali', 'bra', 'clearli', 'stage', 'eir', 'well', 'crckt', 'address', 'stuff', 'tih', 'mathew', 'finn', 'busti', 'tell', 'guidanc', 'ken', 'ishtamayoo', 'popcorn', 'mina', 'browsin', 'run', 'wld', 'dreamz', 'signific', 'sport', 'coffe', 'complet', 'funki', 'lyricalladi', 'dontcha', 'faith', 'bash', 'dice', 'ditto', 'shorter', 'foreg', 'accid', 'seh', 'canari', 'clearer', 'corrct', 'submit', 'buck', 'biola', 'sathya', 'breadstick', 'flew', 'goodnight', 'frndship', 'cheeto', 'mobilesvari', 'gua', 'argument', 'opposit', 'buen', 'chicken', 'mth', 'nicki', 'callfreefon', 'quot', 'underwear', 'step', 'worc', 'kalstiya', 'winnersclub', 'perf', 'dear', 'newscast', 'ron', 'anna', 'sindu', 'ghodbandar', 'properli', 'rearrang', 'tm', 'protect', 'poo', 'bout', 'iyo', 'kingdom', 'statement', 'bhaji', 'tens', 'tallahasse', 'basketbal', 'needi', 'juan', 'sayi', 'ipaditan', 'tenerif', 'gpu', 'print', 'undrstnd', 'sept', 'freeli', 'public', 'shall', 'almost', 'sue', 'sing', 'sale', 'kiss', 'divert', 'oclock', 'coach', 'trend', 'previous', 'nanni', 'gud', 'miser', 'sink', 'pg', 'fusion', 'sinc', 'three', 'bank', 'durham', 'although', 'txtno', 'fa', 'nb', 'erod', 'whn', 'di', 'loser', 'junna', 'ten', 'vikki', 'music', 'loyal', 'dwn', 'hen', 'exmpel', 'mmm', 'peopl', 'thm', 'paru', 'groovi', 'tree', 'gn', 'collag', 'feng', 'downon', 'wright', 'lesson', 'warm', 'tigress', 'spi', 'alrit', 'wannatel', 'unintent', 'ran', 'club', 'acnt', 'bob', 'mo', 'lamp', 'mat', 'rinu', 'rebtel', 'deepak', 'fulfil', 'tonsolitusaswel', 'jordan', 'meet', 'abt', 'tomorw', 'telphon', 'aproach', 'liquor', 'vibrant', 'seper', 'janx', 'multi', 'dump', 'sexiest', 'shadow', 'vava', 'tsandc', 'pa', 'sucker', 'greet', 'keypad', 'tackl', 'dollar', 'ericsson', 'style', 'ring', 'algebra', 'model', 'obedi', 'specif', 'amnow', 'packag', 'ummmmmaah', 'nois', 'nation', 'ciao', 'prabu', 'rayan', 'repres', 'tuesday', 'superior', 'sporad', 'phrase', 'refund', 'occupi', 'yogasana', 'sugardad', 'activ', 'scare', 'option', 'neg', 'id', 'vilikkam', 'sunni', 'casualti', 'bac', 'nutter', 'wherev', 'modl', 'butther', 'bend', 'skin', 'stash', 'pari', 'skye', 'prospect', 'bimbo', 'shore', 'spreadsheet', 'probabl', 'heap', 'reltnship', 'cant', 'sensibl', 'ansr', 'wors', 'move', 'bcaz', 'mahfuuz', 'cheer', 'fromm', 'fortun', 'convey', 'pendent', 'lolnic', 'feelin', 'fml', 'qbank', 'themob', 'filthi', 'konw', 'wishin', 'fr', 'stuck', 'repent', 'woken', 'serious', 'upon', 'fallen', 'usml', 'biggest', 'dec', 'toughest', 'broke', 'vettam', 'ki', 'ktv', 'shop', 'univ', 'souveni', 'mobcudb', 'elsewher', 'farrel', 'cu', 'wrkin', 'understand', 'fellow', 'blu', 'januari', 'behav', 'toward', 'thet', 'waitin', 'convinc', 'al', 'sppok', 'whr', 'finish', 'mymobi', 'opp', 'fear', 'coupl', 'asshol', 'crucifi', 'turkey', 'ymca', 'justifi', 'rajini', 'hamster', 'row', 'suggest', 'bunch', 'decad', 'thread', 'kaaj', 'also', 'bangb', 'adi', 'yard', 'mileag', 'notixiqu', 'urgh', 'madok', 'donno', 'askd', 'nora', 'gucci', 'ji', 'weak', 'mirror', 'sef', 'pretsorginta', 'expiri', 'noth', 'greatli', 'castor', 'poyyarikatur', 'footi', 'abus', 'ltdhelpdesk', 'bsnl', 'mjzgroup', 'use', 'sleep', 'guitar', 'nearer', 'elabor', 'kip', 'traffic', 'sister', 'shini', 'url', 'hollalat', 'lyk', 'prove', 'gyna', 'wth', 'fit', 'unhappi', 'correct', 'healthi', 'receiv', 'pmt', 'neither', 'school', 'fixedlin', 'abouta', 'strewn', 'mistak', 'haircut', 'anti', 'inmind', 'strt', 'um', 'virgin', 'near', 'white', 'cttargg', 'featheri', 'stadium', 'googl', 'hurt', 'slipper', 'cutefrnd', 'tobacco', 'hype', 'abj', 'eight', 'nd', 'sen', 'direct', 'latelyxxx', 'cheesi', 'phonebook', 'let', 'symbol', 'tomorrow', 'scalli', 'xxxxxx', 'fire', 'playng', 'arul', 'sterm', 'asther', 'tonght', 'raja', 'christian', 'panther', 'parachut', 'puzzl', 'paragon', 'pose', 'airtel', 'deliveredtomorrow', 'anal', 'stabl', 'rtm', 'hello', 'urfeel', 'wife', 'txtx', 'handl', 'hand', 'kr', 'brolli', 'ctargg', 'handsom', 'ing', 'bristol', 'k', 'taj', 'firefox', 'tookplac', 'flute', 'listn', 'disagre', 'toaday', 'nigeria', 'nurseri', 'sever', 'grocer', 'washob', 'graphic', 'importantli', 'explicit', 'poli', 'human', 'aom', 'lvblefrnd', 'nauseou', 'game', 'fantasi', 'gayl', 'condit', 'boltblu', 'ic', 'defer', 'cope', 'hum', 'detroit', 'waht', 'surrend', 'aptitud', 'hungri', 'other', 'dorm', 'perfum', 'kote', 'efreefon', 'freeentri', 'booti', 'dresser', 'weekday', 'pock', 'silenc', 'appi', 'creativ', 'li', 'mycal', 'subpoli', 'miss', 'bedrm', 'mango', 'confid', 'mypar', 'somewhat', 'hop', 'amigo', 'profil', 'sonyericsson', 'cine', 'barkley', 'arng', 'spec', 'dont', 'presenc', 'down', 'hunk', 'availa', 'freedom', 'bite', 'definitli', 'derek', 'dvg', 'costa', 'labor', 'echo', 'tessi', 'wahe', 'immunis', 'squeez', 'spile', 'chillaxin', 'network', 'mrt', 'hanger', 'jerk', 'rodger', 'salari', 'skint', 'effici', 'nookii', 'brainless', 'nice', 'poci', 'grandfath', 'amor', 'goe', 'wah', 'conveni', 'wast', 'piec', 'sittin', 'discuss', 'muchand', 'romcapspam', 'disastr', 'jane', 'bid', 'bird', 'philosophi', 'releas', 'arsen', 'wake', 'invit', 'colin', 'forgotten', 'sack', 'squeeeeez', 'mapquest', 'septemb', 'smokin', 'mise', 'corpor', 'feellikw', 'cake', 'remind', 'witin', 'renew', 'strang', 'jackson', 'nmde', 'thru', 'heart', 'tryin', 'shoul', 'store', 'bray', 'becausethey', 'drm', 'yummmm', 'enter', 'yelow', 'frnt', 'stopbcm', 'frndsship', 'fish', 'urin', 'itcould', 'lttr', 'heron', 'manda', 'finishd', 'snowbal', 'when', 'forth', 'ke', 'invent', 'previou', 'dept', 'total', 'telli', 'dosometh', 'h', 'savamob', 'goodfriend', 'monthli', 'rr', 'command', 'playin', 'login', 'sometm', 'paranoid', 'webeburnin', 'dt', 'lay', 'navig', 'despar', 'cappuccino', 'ganesh', 'sigh', 'forgt', 'bthere', 'bong', 'nevr', 'advanc', 'tomorro', 'lower', 'crisi', 'grant', 'astrolog', 'crickit', 'bao', 'offcampu', 'buse', 'fridg', 'professor', 'doubl', 'ouch', 'women', 'scroung', 'kaiez', 'tool', 'honeymoon', 'nusstu', 'cnn', 'becz', 'wont', 'drizzl', 'compens', 'rugbi', 'bein', 'absolut', 'gona', 'board', 'countri', 'batsman', 'germani', 'appear', 'origin', 'fletcher', 'wise', 'publish', 'yuo', 'exp', 'batch', 'annoyin', 'lccltd', 'member', 'noncomitt', 'alright', 'devic', 'gonnamissu', 'fite', 'multipli', 'mean', 'bomb', 'pro', 'impati', 'rob', 'comfort', 'find', 'dumb', 'hl', 'lib', 'pierr', 'italian', 'tablet', 'sha', 'sn', 'life', 'master', 'missunderstd', 'darker', 'safe', 'hasnt', 'group', 'exactli', 'rent', 'calld', 'bluff', 'bonu', 'westlif', 'choos', 'yeovil', 'kuch', 'rather', 'republ', 'dent', 'tming', 'swing', 'abroad', 'ceri', 'banneduk', 'habba', 'lion', 'tho', 'lover', 'stitch', 'ibh', 'fool', 'soundtrack', 'dled', 'chines', 'truro', 'often', 'nigro', 'lubli', 'justthought', 'centr', 'onto', 'quizz', 'kz', 'tix', 'bright', 'pay', 'send', 'shud', 'stori', 'thot', 'scenario', 'festiv', 'watt', 'offdam', 'didntgiv', 'mint', 'useless', 'woo', 'recess', 'cat', 'openin', 'dot', 'hehe', 'exe', 'stress', 'nt', 'crack', 'flung', 'vital', 'gnarl', 'bani', 'polyph', 'first', 'horniest', 'rape', 'sticki', 'answer', 'wk', 'reppurcuss', 'ree', 'front', 'simpl', 'ctxt', 'infront', 'sinco', 'thu', 'ppm', 'bloke', 'teach', 'masteriast', 'truth', 'honesti', 'jone', 'rang', 'chuckin', 'seven', 'samantha', 'alot', 'ofsi', 'selfless', 'built', 'bottom', 'slack', 'inform', 'bloomberg', 'arent', 'delay', 'cartoon', 'olag', 'unsold', 'unknown', 'novemb', 'beliv', 'provid', 'portal', 'pend', 'minor', 'park', 'slow', 'simpson', 'ihav', 'seeker', 'ava', 'bookshelf', 'suntec', 'munster', 'earliest', 'kaila', 'river', 'pase', 'held', 'jewelri', 'harlem', 'askin', 'hellogorg', 'wreck', 'jeri', 'ie', 'appt', 'uh', 'specifi', 'moral', 'conduct', 'cornwal', 'retard', 'vijay', 'panick', 'scari', 'beneficiari', 'note', 'athom', 'weirdest', 'giggl', 'toot', 'cram', 'patent', 'dimens', 'charli', 'deeraj', 'ntt', 'extract', 'subject', 'aaooooright', 'mundh', 'randomli', 'orang', 'whisper', 'thinkthi', 'yhl', 'sayhey', 'rebel', 'oooooh', 'boyf', 'ipod', 'constantli', 'bcz', 'srt', 'flatter', 'ego', 'indic', 'buff', 'algarv', 'gut', 'mah', 'time', 'round', 'awesom', 'valentin', 'weasel', 'jean', 'stretch', 'four', 'star', 'fo', 'honey', 'onum', 'sipix', 'less', 'bitch', 'wondar', 'transfr', 'spare', 'yowif', 'arithmet', 'til', 'dhina', 'derp', 'yay', 'roomat', 'puzzel', 'gentleman', 'yet', 'paper', 'usc', 'frank', 'jabo', 'exet', 'tui', 'sexual', 'abnorm', 'sooooo', 'speed', 'challeng', 'swt', 'suitem', 'pee', 'clarif', 'soft', 'awak', 'eh', 'anyth', 'aeronaut', 'vote', 'presley', 'help', 'wondarful', 'went', 'unspoken', 'shu', 'samu', 'honest', 'gail', 'daytim', 'caught', 'holiday', 'recognis', 'africa', 'lectur', 'oop', 'wap', 'ari', 'stubborn', 'potter', 'pop', 'california', 'aveng', 'tayseer', 'xxsp', 'hang', 'roller', 'havbeen', 'fireplac', 'embarrass', 'deliveri', 'workin', 'dp', 'mmmmm', 'scrumptiou', 'cosign', 'pap', 'dramat', 'sensit', 'dose', 'nang', 'threat', 'order', 'jackpot', 'abeg', 'appeal', 'ifink', 'bribe', 'cousin', 'stone', 'frosti', 'wherevr', 'tortilla', 'tissco', 'polyh', 'bottl', 'present', 'buyer', 'clean', 'astn', 'fyi', 'hahaha', 'seed', 'rule', 'there', 'un', 'hme']\n",
            "Shape of Bag-of-Words Matrix: (5572, 5925)\n",
            "Shape of TF-IDF Matrix: (5572, 5925)\n"
          ]
        }
      ]
    }
  ]
}