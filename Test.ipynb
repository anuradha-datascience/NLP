{
  "cells": [
    {
      "cell_type": "markdown",
      "metadata": {
        "id": "view-in-github",
        "colab_type": "text"
      },
      "source": [
        "<a href=\"https://colab.research.google.com/github/anuradha-datascience/NLP/blob/main/Test.ipynb\" target=\"_parent\"><img src=\"https://colab.research.google.com/assets/colab-badge.svg\" alt=\"Open In Colab\"/></a>"
      ]
    },
    {
      "cell_type": "markdown",
      "id": "242c5e6e-842e-47d3-9850-54a36bb1f8ab",
      "metadata": {
        "id": "242c5e6e-842e-47d3-9850-54a36bb1f8ab"
      },
      "source": [
        "# Boat Products Review - Mobile Accessories"
      ]
    },
    {
      "cell_type": "markdown",
      "id": "f85eda6f-d556-4074-8345-0446d18b6830",
      "metadata": {
        "id": "f85eda6f-d556-4074-8345-0446d18b6830"
      },
      "source": [
        "Description of Data:\n",
        "\n",
        "\n",
        "\n",
        " Summary — text of the review\n",
        "\n",
        "\n",
        "\n",
        "Perform EDA and necessary pre-processing steps in dataset.\n",
        "\n",
        "(2 Mark)\n",
        "Using the LDA algorithm create the Topics (Min 10) for the Corpus\n",
        " (2 Mark)\n",
        "NOTE: Use Summary Column\n",
        "\n",
        "Compute the coherence score and print Topics Extract\n",
        "ed. (2 Mark)\n",
        "Visualize the to\n",
        "pics (1 Mark)\n",
        "Plot the dependency parser for any two random sentences from the entire\n",
        "corpus/dataset that has at least 10 words in the sentence. Make sure hat dependency\n",
        "\n",
        "parser looks good and should visually understandable. (3 Mark)andable. (3 Mark)andable. (3 Mark)"
      ]
    },
    {
      "cell_type": "markdown",
      "id": "af10143c-d81f-40ee-9dac-7b019d806c5b",
      "metadata": {
        "id": "af10143c-d81f-40ee-9dac-7b019d806c5b"
      },
      "source": [
        "## IMPORT LIBRARIES"
      ]
    },
    {
      "cell_type": "code",
      "execution_count": null,
      "id": "2a35320b-c171-4d64-9e1d-424a0c1eb92d",
      "metadata": {
        "id": "2a35320b-c171-4d64-9e1d-424a0c1eb92d"
      },
      "outputs": [],
      "source": [
        "# data wrangling\n",
        "\n",
        "import re\n",
        "import string\n",
        "import pandas as pd\n",
        "import numpy as np\n",
        "import spacy\n",
        "\n",
        "# data visualization\n",
        "\n",
        "import matplotlib.pyplot as plt\n",
        "import seaborn as sns\n",
        "import pyLDAvis\n",
        "import pyLDAvis.gensim\n",
        "\n",
        "# text modelling\n",
        "\n",
        "import nltk\n",
        "from nltk.corpus import stopwords\n",
        "import en_core_web_sm\n",
        "import gensim\n",
        "from gensim import corpora\n",
        "from gensim.models.coherencemodel import CoherenceModel\n",
        "import random\n",
        "# filter warning\n",
        "\n",
        "import warnings\n",
        "warnings.filterwarnings('ignore')"
      ]
    },
    {
      "cell_type": "markdown",
      "id": "1a9dfb78-ee32-4ea4-a596-912c7849cba3",
      "metadata": {
        "id": "1a9dfb78-ee32-4ea4-a596-912c7849cba3"
      },
      "source": [
        "**1. Perform EDA and necessary pre-processing steps in dataset.**"
      ]
    },
    {
      "cell_type": "code",
      "execution_count": null,
      "id": "d0565c1f-b034-4564-8639-1d9428429f52",
      "metadata": {
        "id": "d0565c1f-b034-4564-8639-1d9428429f52"
      },
      "outputs": [],
      "source": [
        "# load data\n",
        "\n",
        "df = pd.read_csv(\"Mobile Accessories.csv\",encoding = 'latin')"
      ]
    },
    {
      "cell_type": "code",
      "execution_count": null,
      "id": "7c890dcc-30c0-4737-9bce-1e025d7af3ce",
      "metadata": {
        "id": "7c890dcc-30c0-4737-9bce-1e025d7af3ce",
        "outputId": "3c81c07d-ad49-45b4-db9a-e0e04a06776b"
      },
      "outputs": [
        {
          "data": {
            "text/html": [
              "<div>\n",
              "<style scoped>\n",
              "    .dataframe tbody tr th:only-of-type {\n",
              "        vertical-align: middle;\n",
              "    }\n",
              "\n",
              "    .dataframe tbody tr th {\n",
              "        vertical-align: top;\n",
              "    }\n",
              "\n",
              "    .dataframe thead th {\n",
              "        text-align: right;\n",
              "    }\n",
              "</style>\n",
              "<table border=\"1\" class=\"dataframe\">\n",
              "  <thead>\n",
              "    <tr style=\"text-align: right;\">\n",
              "      <th></th>\n",
              "      <th>ProductName</th>\n",
              "      <th>ProductPrice</th>\n",
              "      <th>Discount</th>\n",
              "      <th>NumberofReviews</th>\n",
              "      <th>Rate</th>\n",
              "      <th>Review</th>\n",
              "      <th>Summary</th>\n",
              "    </tr>\n",
              "  </thead>\n",
              "  <tbody>\n",
              "    <tr>\n",
              "      <th>0</th>\n",
              "      <td>Mask</td>\n",
              "      <td>\\nSale priceâ¹ 499</td>\n",
              "      <td>17% off</td>\n",
              "      <td>147 reviews</td>\n",
              "      <td>â",
              "\\n  4.9\\n</td>\n",
              "      <td>Excellent!!</td>\n",
              "      <td>One of the most comfortable masks available in...</td>\n",
              "    </tr>\n",
              "    <tr>\n",
              "      <th>1</th>\n",
              "      <td>Mask</td>\n",
              "      <td>\\nSale priceâ¹ 499</td>\n",
              "      <td>17% off</td>\n",
              "      <td>147 reviews</td>\n",
              "      <td>â",
              "\\n  4.9\\n</td>\n",
              "      <td>Good mask</td>\n",
              "      <td>Quality is good and good to use . size is for ...</td>\n",
              "    </tr>\n",
              "    <tr>\n",
              "      <th>2</th>\n",
              "      <td>Mask</td>\n",
              "      <td>\\nSale priceâ¹ 499</td>\n",
              "      <td>17% off</td>\n",
              "      <td>147 reviews</td>\n",
              "      <td>â",
              "\\n  4.9\\n</td>\n",
              "      <td>The best in range</td>\n",
              "      <td>Super bass with very good spec....  amazing ne...</td>\n",
              "    </tr>\n",
              "    <tr>\n",
              "      <th>3</th>\n",
              "      <td>Mask</td>\n",
              "      <td>\\nSale priceâ¹ 499</td>\n",
              "      <td>17% off</td>\n",
              "      <td>147 reviews</td>\n",
              "      <td>â",
              "\\n  4.9\\n</td>\n",
              "      <td>Excellent Product</td>\n",
              "      <td>Top notch product amongst other items in the m...</td>\n",
              "    </tr>\n",
              "    <tr>\n",
              "      <th>4</th>\n",
              "      <td>Mask</td>\n",
              "      <td>\\nSale priceâ¹ 499</td>\n",
              "      <td>17% off</td>\n",
              "      <td>147 reviews</td>\n",
              "      <td>â",
              "\\n  4.9\\n</td>\n",
              "      <td>Excellent product</td>\n",
              "      <td>Very comfortable..</td>\n",
              "    </tr>\n",
              "  </tbody>\n",
              "</table>\n",
              "</div>"
            ],
            "text/plain": [
              "  ProductName         ProductPrice Discount NumberofReviews              Rate  \\\n",
              "0        Mask  \\nSale priceâ¹ 499  17% off     147 reviews  â\n",
              "\\n  4.9\\n       \n",
              "1        Mask  \\nSale priceâ¹ 499  17% off     147 reviews  â\n",
              "\\n  4.9\\n       \n",
              "2        Mask  \\nSale priceâ¹ 499  17% off     147 reviews  â\n",
              "\\n  4.9\\n       \n",
              "3        Mask  \\nSale priceâ¹ 499  17% off     147 reviews  â\n",
              "\\n  4.9\\n       \n",
              "4        Mask  \\nSale priceâ¹ 499  17% off     147 reviews  â\n",
              "\\n  4.9\\n       \n",
              "\n",
              "              Review                                            Summary  \n",
              "0        Excellent!!  One of the most comfortable masks available in...  \n",
              "1          Good mask  Quality is good and good to use . size is for ...  \n",
              "2  The best in range  Super bass with very good spec....  amazing ne...  \n",
              "3  Excellent Product  Top notch product amongst other items in the m...  \n",
              "4  Excellent product                                 Very comfortable..  "
            ]
          },
          "execution_count": 66,
          "metadata": {},
          "output_type": "execute_result"
        }
      ],
      "source": [
        "# show top 5\n",
        "df.head()"
      ]
    },
    {
      "cell_type": "code",
      "execution_count": null,
      "id": "5780d222-1177-4f4c-8415-ba6d3afc8db6",
      "metadata": {
        "scrolled": true,
        "id": "5780d222-1177-4f4c-8415-ba6d3afc8db6",
        "outputId": "289e2496-a330-4b00-f791-db1fabd7a5bb"
      },
      "outputs": [
        {
          "name": "stdout",
          "output_type": "stream",
          "text": [
            "<class 'pandas.core.frame.DataFrame'>\n",
            "RangeIndex: 118 entries, 0 to 117\n",
            "Data columns (total 7 columns):\n",
            " #   Column           Non-Null Count  Dtype \n",
            "---  ------           --------------  ----- \n",
            " 0   ProductName      118 non-null    object\n",
            " 1   ProductPrice     118 non-null    object\n",
            " 2   Discount         118 non-null    object\n",
            " 3   NumberofReviews  118 non-null    object\n",
            " 4   Rate             118 non-null    object\n",
            " 5   Review           75 non-null     object\n",
            " 6   Summary          118 non-null    object\n",
            "dtypes: object(7)\n",
            "memory usage: 6.6+ KB\n"
          ]
        }
      ],
      "source": [
        "# check info\n",
        "\n",
        "df.info()"
      ]
    },
    {
      "cell_type": "code",
      "execution_count": null,
      "id": "1dfdc2f4-97ab-4b7a-8d61-49f115e5efd7",
      "metadata": {
        "id": "1dfdc2f4-97ab-4b7a-8d61-49f115e5efd7",
        "outputId": "b6b13598-fe12-4ecb-c030-e949aec222a9"
      },
      "outputs": [
        {
          "data": {
            "text/plain": [
              "count    118.000000\n",
              "mean      48.838983\n",
              "std       67.916612\n",
              "min        4.000000\n",
              "25%       14.000000\n",
              "50%       29.000000\n",
              "75%       54.750000\n",
              "max      470.000000\n",
              "Name: Summary, dtype: float64"
            ]
          },
          "execution_count": 68,
          "metadata": {},
          "output_type": "execute_result"
        }
      ],
      "source": [
        "\n",
        "df.Summary.apply(len).describe()"
      ]
    },
    {
      "cell_type": "code",
      "execution_count": null,
      "id": "cae871a6-d753-410a-b7a0-48a79841b0b0",
      "metadata": {
        "id": "cae871a6-d753-410a-b7a0-48a79841b0b0",
        "outputId": "51c64a9f-b039-446f-ca97-e4010ab40f29"
      },
      "outputs": [
        {
          "data": {
            "image/png": "[encoded data removed]",
            "text/plain": [
              "<Figure size 640x480 with 1 Axes>"
            ]
          },
          "metadata": {},
          "output_type": "display_data"
        }
      ],
      "source": [
        "# Tokenize the summary text and count the number of words\n",
        "# Plot histogram using Seaborn\n",
        "sns.histplot(df.Summary.apply(len), bins=20, kde=False)\n",
        "plt.xlabel('Word Count')\n",
        "plt.ylabel('Number of Reviews')\n",
        "plt.title('Histogram of Word Count in Summary Text')\n",
        "plt.show()"
      ]
    },
    {
      "cell_type": "raw",
      "id": "8db655a1-21dc-443b-b71f-c4ec7ed3d9ae",
      "metadata": {
        "id": "8db655a1-21dc-443b-b71f-c4ec7ed3d9ae"
      },
      "source": [
        "Mostly, reviews extend to short 1-2 line . Other range is ofvery short para.There are a few very long reviews that might extend to few lines leading to para of ok size"
      ]
    },
    {
      "cell_type": "code",
      "execution_count": null,
      "id": "8d872c43-cd20-4286-a65f-af3d8eed42c4",
      "metadata": {
        "id": "8d872c43-cd20-4286-a65f-af3d8eed42c4",
        "outputId": "5db4c69c-e368-4139-dd83-c526842c6d25"
      },
      "outputs": [
        {
          "name": "stdout",
          "output_type": "stream",
          "text": [
            "[\"I bought this cable on 3 july 2021, received in 2-3 days for my Samsung Galaxy note 10 lite. My original cable's length is 0.9m and i needed a long\", \"cable. Samsung doesn't offer long cable type C-type C besides 0.9m. Oneplus type C- type C costs 800/- for 1m. This is cable is better than any other\", 'cables in the market. It supports 100W output and hence it charges my cell phone at full power, you can even charger laptop with this cable. Box', 'packaging is pretty simple.']\n",
            "470\n"
          ]
        }
      ],
      "source": [
        "#Longest review\n",
        "import warnings\n",
        "import textwrap\n",
        "\n",
        "max_length_index = df['Summary'].apply(len).idxmax()\n",
        "max_length_text = df.loc[max_length_index, 'Summary']\n",
        "wrapped_text = textwrap.wrap(max_length_text, width=150)\n",
        "print(wrapped_text)\n",
        "print(len(max_length_text))"
      ]
    },
    {
      "cell_type": "markdown",
      "id": "f7b57143-6d42-4ec8-b0cd-5a3f79062931",
      "metadata": {
        "id": "f7b57143-6d42-4ec8-b0cd-5a3f79062931"
      },
      "source": [
        "Max para is just around 3 lines . We can see numerical values(dates and numbers), punctuation, capitalization, contractions(like doesn't), stopwords, and also domain-specific abbreviations(like  type C) or special characters(/-) .We need o ensure the text is cleaned and standardized for further analysis or modeling."
      ]
    },
    {
      "cell_type": "code",
      "execution_count": null,
      "id": "c360622e-12da-457c-866b-307edda17721",
      "metadata": {
        "id": "c360622e-12da-457c-866b-307edda17721",
        "outputId": "1b9224ca-6f88-4cea-e65e-e9d20fc1a0c9"
      },
      "outputs": [
        {
          "data": {
            "text/plain": [
              "ProductName         0\n",
              "ProductPrice        0\n",
              "Discount            0\n",
              "NumberofReviews     0\n",
              "Rate                0\n",
              "Review             43\n",
              "Summary             0\n",
              "dtype: int64"
            ]
          },
          "execution_count": 71,
          "metadata": {},
          "output_type": "execute_result"
        }
      ],
      "source": [
        "# check for null values\n",
        "\n",
        "df.isna().sum()"
      ]
    },
    {
      "cell_type": "markdown",
      "id": "04bc4b76-c9ee-4d31-8d02-840a563dc46e",
      "metadata": {
        "id": "04bc4b76-c9ee-4d31-8d02-840a563dc46e"
      },
      "source": [
        "## PREPROCESSING"
      ]
    },
    {
      "cell_type": "code",
      "execution_count": null,
      "id": "2b0892dc-2df7-4ed7-8e8e-51fd5d25a234",
      "metadata": {
        "id": "2b0892dc-2df7-4ed7-8e8e-51fd5d25a234"
      },
      "outputs": [],
      "source": [
        "#replace null value with empty string\n",
        "df['Review']=df['Review'].fillna(\"\")"
      ]
    },
    {
      "cell_type": "code",
      "execution_count": null,
      "id": "60ed324d-ebb6-4c0a-a7ce-11a25f278ff1",
      "metadata": {
        "id": "60ed324d-ebb6-4c0a-a7ce-11a25f278ff1",
        "outputId": "205eed7d-f7f8-47db-83e3-ef258158cc70"
      },
      "outputs": [
        {
          "data": {
            "text/plain": [
              "ProductName        0\n",
              "ProductPrice       0\n",
              "Discount           0\n",
              "NumberofReviews    0\n",
              "Rate               0\n",
              "Review             0\n",
              "Summary            0\n",
              "dtype: int64"
            ]
          },
          "execution_count": 73,
          "metadata": {},
          "output_type": "execute_result"
        }
      ],
      "source": [
        "df.isna().sum()"
      ]
    },
    {
      "cell_type": "code",
      "execution_count": null,
      "id": "4704df90-7718-4c9b-b331-f534ad6d70ea",
      "metadata": {
        "id": "4704df90-7718-4c9b-b331-f534ad6d70ea",
        "outputId": "0f2d7548-6776-4d8a-86a7-6dff734c8400"
      },
      "outputs": [
        {
          "name": "stdout",
          "output_type": "stream",
          "text": [
            "<class 'pandas.core.frame.DataFrame'>\n",
            "RangeIndex: 118 entries, 0 to 117\n",
            "Data columns (total 7 columns):\n",
            " #   Column           Non-Null Count  Dtype \n",
            "---  ------           --------------  ----- \n",
            " 0   ProductName      118 non-null    object\n",
            " 1   ProductPrice     118 non-null    object\n",
            " 2   Discount         118 non-null    object\n",
            " 3   NumberofReviews  118 non-null    object\n",
            " 4   Rate             118 non-null    object\n",
            " 5   Review           118 non-null    object\n",
            " 6   Summary          118 non-null    object\n",
            "dtypes: object(7)\n",
            "memory usage: 6.6+ KB\n"
          ]
        }
      ],
      "source": [
        "# check info after dropping null\n",
        "\n",
        "df.info()"
      ]
    },
    {
      "cell_type": "code",
      "execution_count": null,
      "id": "ff14b2cb-4fdb-428c-8ab6-eba3a827f869",
      "metadata": {
        "scrolled": true,
        "id": "ff14b2cb-4fdb-428c-8ab6-eba3a827f869",
        "outputId": "e5379591-6c91-41de-ca0d-6e484f8c1ddc"
      },
      "outputs": [
        {
          "data": {
            "text/html": [
              "<div>\n",
              "<style scoped>\n",
              "    .dataframe tbody tr th:only-of-type {\n",
              "        vertical-align: middle;\n",
              "    }\n",
              "\n",
              "    .dataframe tbody tr th {\n",
              "        vertical-align: top;\n",
              "    }\n",
              "\n",
              "    .dataframe thead th {\n",
              "        text-align: right;\n",
              "    }\n",
              "</style>\n",
              "<table border=\"1\" class=\"dataframe\">\n",
              "  <thead>\n",
              "    <tr style=\"text-align: right;\">\n",
              "      <th></th>\n",
              "      <th>ProductName</th>\n",
              "      <th>ProductPrice</th>\n",
              "      <th>Discount</th>\n",
              "      <th>NumberofReviews</th>\n",
              "      <th>Rate</th>\n",
              "      <th>Review</th>\n",
              "      <th>Summary</th>\n",
              "    </tr>\n",
              "  </thead>\n",
              "  <tbody>\n",
              "    <tr>\n",
              "      <th>0</th>\n",
              "      <td>Mask</td>\n",
              "      <td>\\nSale priceâ¹ 499</td>\n",
              "      <td>17% off</td>\n",
              "      <td>147 reviews</td>\n",
              "      <td>â",
              "\\n  4.9\\n</td>\n",
              "      <td>Excellent!!</td>\n",
              "      <td>One of the most comfortable masks available in...</td>\n",
              "    </tr>\n",
              "    <tr>\n",
              "      <th>1</th>\n",
              "      <td>Mask</td>\n",
              "      <td>\\nSale priceâ¹ 499</td>\n",
              "      <td>17% off</td>\n",
              "      <td>147 reviews</td>\n",
              "      <td>â",
              "\\n  4.9\\n</td>\n",
              "      <td>Good mask</td>\n",
              "      <td>Quality is good and good to use . size is for ...</td>\n",
              "    </tr>\n",
              "    <tr>\n",
              "      <th>2</th>\n",
              "      <td>Mask</td>\n",
              "      <td>\\nSale priceâ¹ 499</td>\n",
              "      <td>17% off</td>\n",
              "      <td>147 reviews</td>\n",
              "      <td>â",
              "\\n  4.9\\n</td>\n",
              "      <td>The best in range</td>\n",
              "      <td>Super bass with very good spec....  amazing ne...</td>\n",
              "    </tr>\n",
              "    <tr>\n",
              "      <th>3</th>\n",
              "      <td>Mask</td>\n",
              "      <td>\\nSale priceâ¹ 499</td>\n",
              "      <td>17% off</td>\n",
              "      <td>147 reviews</td>\n",
              "      <td>â",
              "\\n  4.9\\n</td>\n",
              "      <td>Excellent Product</td>\n",
              "      <td>Top notch product amongst other items in the m...</td>\n",
              "    </tr>\n",
              "    <tr>\n",
              "      <th>4</th>\n",
              "      <td>Mask</td>\n",
              "      <td>\\nSale priceâ¹ 499</td>\n",
              "      <td>17% off</td>\n",
              "      <td>147 reviews</td>\n",
              "      <td>â",
              "\\n  4.9\\n</td>\n",
              "      <td>Excellent product</td>\n",
              "      <td>Very comfortable..</td>\n",
              "    </tr>\n",
              "  </tbody>\n",
              "</table>\n",
              "</div>"
            ],
            "text/plain": [
              "  ProductName         ProductPrice Discount NumberofReviews              Rate  \\\n",
              "0        Mask  \\nSale priceâ¹ 499  17% off     147 reviews  â\n",
              "\\n  4.9\\n       \n",
              "1        Mask  \\nSale priceâ¹ 499  17% off     147 reviews  â\n",
              "\\n  4.9\\n       \n",
              "2        Mask  \\nSale priceâ¹ 499  17% off     147 reviews  â\n",
              "\\n  4.9\\n       \n",
              "3        Mask  \\nSale priceâ¹ 499  17% off     147 reviews  â\n",
              "\\n  4.9\\n       \n",
              "4        Mask  \\nSale priceâ¹ 499  17% off     147 reviews  â\n",
              "\\n  4.9\\n       \n",
              "\n",
              "              Review                                            Summary  \n",
              "0        Excellent!!  One of the most comfortable masks available in...  \n",
              "1          Good mask  Quality is good and good to use . size is for ...  \n",
              "2  The best in range  Super bass with very good spec....  amazing ne...  \n",
              "3  Excellent Product  Top notch product amongst other items in the m...  \n",
              "4  Excellent product                                 Very comfortable..  "
            ]
          },
          "execution_count": 75,
          "metadata": {},
          "output_type": "execute_result"
        }
      ],
      "source": [
        "#sanity check\n",
        "df.head()"
      ]
    },
    {
      "cell_type": "code",
      "execution_count": null,
      "id": "898d4756-e694-4f9a-9d29-28922b908c2a",
      "metadata": {
        "scrolled": true,
        "id": "898d4756-e694-4f9a-9d29-28922b908c2a",
        "outputId": "c51b2526-0072-4ca7-fac3-626a3cfaf7ab"
      },
      "outputs": [
        {
          "name": "stderr",
          "output_type": "stream",
          "text": [
            "[nltk_data] Downloading package stopwords to\n",
            "[nltk_data]     C:\\Users\\agaan\\AppData\\Roaming\\nltk_data...\n",
            "[nltk_data]   Package stopwords is already up-to-date!\n"
          ]
        },
        {
          "data": {
            "text/plain": [
              "True"
            ]
          },
          "execution_count": 76,
          "metadata": {},
          "output_type": "execute_result"
        }
      ],
      "source": [
        "# download the stopwords\n",
        "\n",
        "nltk.download('stopwords')"
      ]
    },
    {
      "cell_type": "code",
      "execution_count": null,
      "id": "b3821fe5-ed29-4152-bc92-91068fd7feec",
      "metadata": {
        "id": "b3821fe5-ed29-4152-bc92-91068fd7feec"
      },
      "outputs": [],
      "source": [
        "# create function for case folding\n",
        "\n",
        "def case_fold(text ):\n",
        "    delete_dict = {sp_character: '' for sp_character in string.punctuation}\n",
        "    delete_dict[' '] = ' '\n",
        "    table = str.maketrans(delete_dict)\n",
        "    text = text.translate(table)\n",
        "    textArr= text.split()\n",
        "    text_clean = ' '.join([w for w in textArr if ( not w.isdigit() and  ( not w.isdigit() and len(w)>3))])\n",
        "\n",
        "    return text_clean.lower()"
      ]
    },
    {
      "cell_type": "code",
      "execution_count": null,
      "id": "dffd93b8-f7f6-4169-ae89-61b56d36c759",
      "metadata": {
        "id": "dffd93b8-f7f6-4169-ae89-61b56d36c759",
        "outputId": "a3732cfd-5de1-4a06-9200-35c4c45a578d"
      },
      "outputs": [
        {
          "data": {
            "text/html": [
              "<div>\n",
              "<style scoped>\n",
              "    .dataframe tbody tr th:only-of-type {\n",
              "        vertical-align: middle;\n",
              "    }\n",
              "\n",
              "    .dataframe tbody tr th {\n",
              "        vertical-align: top;\n",
              "    }\n",
              "\n",
              "    .dataframe thead th {\n",
              "        text-align: right;\n",
              "    }\n",
              "</style>\n",
              "<table border=\"1\" class=\"dataframe\">\n",
              "  <thead>\n",
              "    <tr style=\"text-align: right;\">\n",
              "      <th></th>\n",
              "      <th>ProductName</th>\n",
              "      <th>ProductPrice</th>\n",
              "      <th>Discount</th>\n",
              "      <th>NumberofReviews</th>\n",
              "      <th>Rate</th>\n",
              "      <th>Review</th>\n",
              "      <th>Summary</th>\n",
              "      <th>Num_words_text</th>\n",
              "    </tr>\n",
              "  </thead>\n",
              "  <tbody>\n",
              "    <tr>\n",
              "      <th>0</th>\n",
              "      <td>Mask</td>\n",
              "      <td>\\nSale priceâ¹ 499</td>\n",
              "      <td>17% off</td>\n",
              "      <td>147 reviews</td>\n",
              "      <td>â",
              "\\n  4.9\\n</td>\n",
              "      <td>Excellent!!</td>\n",
              "      <td>most comfortable masks available market well d...</td>\n",
              "      <td>18</td>\n",
              "    </tr>\n",
              "    <tr>\n",
              "      <th>1</th>\n",
              "      <td>Mask</td>\n",
              "      <td>\\nSale priceâ¹ 499</td>\n",
              "      <td>17% off</td>\n",
              "      <td>147 reviews</td>\n",
              "      <td>â",
              "\\n  4.9\\n</td>\n",
              "      <td>Good mask</td>\n",
              "      <td>quality good good size person with very face p...</td>\n",
              "      <td>13</td>\n",
              "    </tr>\n",
              "    <tr>\n",
              "      <th>2</th>\n",
              "      <td>Mask</td>\n",
              "      <td>\\nSale priceâ¹ 499</td>\n",
              "      <td>17% off</td>\n",
              "      <td>147 reviews</td>\n",
              "      <td>â",
              "\\n  4.9\\n</td>\n",
              "      <td>The best in range</td>\n",
              "      <td>super bass with very good spec amazing neckband</td>\n",
              "      <td>8</td>\n",
              "    </tr>\n",
              "    <tr>\n",
              "      <th>3</th>\n",
              "      <td>Mask</td>\n",
              "      <td>\\nSale priceâ¹ 499</td>\n",
              "      <td>17% off</td>\n",
              "      <td>147 reviews</td>\n",
              "      <td>â",
              "\\n  4.9\\n</td>\n",
              "      <td>Excellent Product</td>\n",
              "      <td>notch product amongst other items market milit...</td>\n",
              "      <td>10</td>\n",
              "    </tr>\n",
              "    <tr>\n",
              "      <th>4</th>\n",
              "      <td>Mask</td>\n",
              "      <td>\\nSale priceâ¹ 499</td>\n",
              "      <td>17% off</td>\n",
              "      <td>147 reviews</td>\n",
              "      <td>â",
              "\\n  4.9\\n</td>\n",
              "      <td>Excellent product</td>\n",
              "      <td>very comfortable</td>\n",
              "      <td>2</td>\n",
              "    </tr>\n",
              "  </tbody>\n",
              "</table>\n",
              "</div>"
            ],
            "text/plain": [
              "  ProductName         ProductPrice Discount NumberofReviews              Rate  \\\n",
              "0        Mask  \\nSale priceâ¹ 499  17% off     147 reviews  â\n",
              "\\n  4.9\\n       \n",
              "1        Mask  \\nSale priceâ¹ 499  17% off     147 reviews  â\n",
              "\\n  4.9\\n       \n",
              "2        Mask  \\nSale priceâ¹ 499  17% off     147 reviews  â\n",
              "\\n  4.9\\n       \n",
              "3        Mask  \\nSale priceâ¹ 499  17% off     147 reviews  â\n",
              "\\n  4.9\\n       \n",
              "4        Mask  \\nSale priceâ¹ 499  17% off     147 reviews  â\n",
              "\\n  4.9\\n       \n",
              "\n",
              "              Review                                            Summary  \\\n",
              "0        Excellent!!  most comfortable masks available market well d...   \n",
              "1          Good mask  quality good good size person with very face p...   \n",
              "2  The best in range    super bass with very good spec amazing neckband   \n",
              "3  Excellent Product  notch product amongst other items market milit...   \n",
              "4  Excellent product                                   very comfortable   \n",
              "\n",
              "   Num_words_text  \n",
              "0              18  \n",
              "1              13  \n",
              "2               8  \n",
              "3              10  \n",
              "4               2  "
            ]
          },
          "execution_count": 78,
          "metadata": {},
          "output_type": "execute_result"
        }
      ],
      "source": [
        "# apply casefolding and create number words feature\n",
        "\n",
        "df['Summary'] = df['Summary'].apply(case_fold)\n",
        "df['Num_words_text'] = df['Summary'].apply(lambda x:len(str(x).split()))\n",
        "df.head()"
      ]
    },
    {
      "cell_type": "markdown",
      "id": "1f7999d1-f9f5-4d9d-b130-7b88aee24e3e",
      "metadata": {
        "id": "1f7999d1-f9f5-4d9d-b130-7b88aee24e3e"
      },
      "source": [
        "Before going further, let's filter the data first so that the process might not take a long training time."
      ]
    },
    {
      "cell_type": "code",
      "execution_count": null,
      "id": "19ac701f-2328-4b94-a69e-af984ac1aadd",
      "metadata": {
        "id": "19ac701f-2328-4b94-a69e-af984ac1aadd",
        "outputId": "ec7c1f3f-431e-482b-d70c-3d7a22e07191"
      },
      "outputs": [
        {
          "name": "stdout",
          "output_type": "stream",
          "text": [
            "53\n"
          ]
        }
      ],
      "source": [
        "# filter the short reviews only\n",
        "\n",
        "max_review_data_sentence_length = df['Num_words_text'].max()\n",
        "print(max_review_data_sentence_length)\n"
      ]
    },
    {
      "cell_type": "markdown",
      "id": "2eb48974-7f83-42ae-a2b9-1b133f9191f3",
      "metadata": {
        "id": "2eb48974-7f83-42ae-a2b9-1b133f9191f3"
      },
      "source": [
        "Reviews are already short and datset is quite small , we will consider alll the reviews in topic modelling"
      ]
    },
    {
      "cell_type": "markdown",
      "id": "021cf3f6-421a-4c85-ad61-a2b01af90f33",
      "metadata": {
        "id": "021cf3f6-421a-4c85-ad61-a2b01af90f33"
      },
      "source": [
        "Here the dataset is quite small in size , we will not do further filtering"
      ]
    },
    {
      "cell_type": "code",
      "execution_count": null,
      "id": "2aa657b9-428a-43e9-b086-0b164ac7f3e9",
      "metadata": {
        "id": "2aa657b9-428a-43e9-b086-0b164ac7f3e9"
      },
      "outputs": [],
      "source": [
        "# function to remove stopwords\n",
        "\n",
        "def remove_stopwords(text):\n",
        "    textArr = text.split(' ')\n",
        "    stop_clean = \" \".join([i for i in textArr if i not in stop_words])\n",
        "    return stop_clean"
      ]
    },
    {
      "cell_type": "code",
      "execution_count": null,
      "id": "aa632365-9249-4a88-835d-e21675e5abbc",
      "metadata": {
        "id": "aa632365-9249-4a88-835d-e21675e5abbc"
      },
      "outputs": [],
      "source": [
        "# remove stopwords from the cleaned text\n",
        "\n",
        "stop_words = stopwords.words('english')\n",
        "\n",
        "df['Text'] = df['Summary'].apply(remove_stopwords)"
      ]
    },
    {
      "cell_type": "code",
      "execution_count": null,
      "id": "7667374f-7cba-4616-871e-bf4405323e82",
      "metadata": {
        "id": "7667374f-7cba-4616-871e-bf4405323e82"
      },
      "outputs": [],
      "source": [
        "# load spacymodel for lemmatization\n",
        "nlp = en_core_web_sm.load(disable=['parser', 'ner'])\n",
        "\n",
        "# Function to lemmatize text\n",
        "def lemmatization(texts, allowed_postags=['NOUN', 'ADJ']):\n",
        "    for sent in texts:\n",
        "        doc = nlp(sent)\n",
        "        yield [token.lemma_ for token in doc if token.pos_ in allowed_postags]\n",
        "\n",
        "# Apply lemmatization\n",
        "text_list = df['Summary'].tolist()\n",
        "tokenized_reviews = list(lemmatization(text_list))"
      ]
    },
    {
      "cell_type": "code",
      "execution_count": null,
      "id": "6179ff93-55ee-4924-a12e-2a89498fb032",
      "metadata": {
        "id": "6179ff93-55ee-4924-a12e-2a89498fb032",
        "outputId": "7beaddab-25d3-4717-8bc5-5f39d0600293"
      },
      "outputs": [
        {
          "name": "stdout",
          "output_type": "stream",
          "text": [
            "bought this cable july received days samsung galaxy note lite original cables length needed long cable samsung doesnt offer long cable type ctype besides oneplus type type costs this cable better than other cables market supports 100w output hence charges cell phone full power even charger laptop with this cable packaging pretty simple\n"
          ]
        }
      ],
      "source": [
        "# before lemma\n",
        "\n",
        "print(text_list[29])"
      ]
    },
    {
      "cell_type": "code",
      "execution_count": null,
      "id": "4ff62bf8-ea55-47e1-b89f-e4f3974e6a00",
      "metadata": {
        "id": "4ff62bf8-ea55-47e1-b89f-e4f3974e6a00",
        "outputId": "912238f7-6b6d-45ab-a025-2ab4928cb107"
      },
      "outputs": [
        {
          "name": "stdout",
          "output_type": "stream",
          "text": [
            "['cable', 'day', 'note', 'lite', 'original', 'cable', 'length', 'long', 'cable', 'long', 'cable', 'type', 'ctype', 'oneplus', 'type', 'type', 'cost', 'cable', 'other', 'cable', 'market', 'output', 'cell', 'phone', 'full', 'power', 'charger', 'laptop', 'cable', 'simple']\n"
          ]
        }
      ],
      "source": [
        "# after lemma\n",
        "\n",
        "print(tokenized_reviews[29])"
      ]
    },
    {
      "cell_type": "code",
      "execution_count": null,
      "id": "3cc99ed5-3a1d-41cf-ab29-e0e573180b1c",
      "metadata": {
        "id": "3cc99ed5-3a1d-41cf-ab29-e0e573180b1c",
        "outputId": "ed68695c-93ad-4dd4-c7fe-03bc04bd7a6d"
      },
      "outputs": [
        {
          "data": {
            "text/html": [
              "<div>\n",
              "<style scoped>\n",
              "    .dataframe tbody tr th:only-of-type {\n",
              "        vertical-align: middle;\n",
              "    }\n",
              "\n",
              "    .dataframe tbody tr th {\n",
              "        vertical-align: top;\n",
              "    }\n",
              "\n",
              "    .dataframe thead th {\n",
              "        text-align: right;\n",
              "    }\n",
              "</style>\n",
              "<table border=\"1\" class=\"dataframe\">\n",
              "  <thead>\n",
              "    <tr style=\"text-align: right;\">\n",
              "      <th></th>\n",
              "      <th>ProductName</th>\n",
              "      <th>ProductPrice</th>\n",
              "      <th>Discount</th>\n",
              "      <th>NumberofReviews</th>\n",
              "      <th>Rate</th>\n",
              "      <th>Review</th>\n",
              "      <th>Summary</th>\n",
              "      <th>Num_words_text</th>\n",
              "      <th>Text</th>\n",
              "    </tr>\n",
              "  </thead>\n",
              "  <tbody>\n",
              "    <tr>\n",
              "      <th>0</th>\n",
              "      <td>Mask</td>\n",
              "      <td>\\nSale priceâ¹ 499</td>\n",
              "      <td>17% off</td>\n",
              "      <td>147 reviews</td>\n",
              "      <td>â",
              "\\n  4.9\\n</td>\n",
              "      <td>Excellent!!</td>\n",
              "      <td>most comfortable masks available market well d...</td>\n",
              "      <td>18</td>\n",
              "      <td>comfortable masks available market well design...</td>\n",
              "    </tr>\n",
              "    <tr>\n",
              "      <th>1</th>\n",
              "      <td>Mask</td>\n",
              "      <td>\\nSale priceâ¹ 499</td>\n",
              "      <td>17% off</td>\n",
              "      <td>147 reviews</td>\n",
              "      <td>â",
              "\\n  4.9\\n</td>\n",
              "      <td>Good mask</td>\n",
              "      <td>quality good good size person with very face p...</td>\n",
              "      <td>13</td>\n",
              "      <td>quality good good size person face people larg...</td>\n",
              "    </tr>\n",
              "    <tr>\n",
              "      <th>2</th>\n",
              "      <td>Mask</td>\n",
              "      <td>\\nSale priceâ¹ 499</td>\n",
              "      <td>17% off</td>\n",
              "      <td>147 reviews</td>\n",
              "      <td>â",
              "\\n  4.9\\n</td>\n",
              "      <td>The best in range</td>\n",
              "      <td>super bass with very good spec amazing neckband</td>\n",
              "      <td>8</td>\n",
              "      <td>super bass good spec amazing neckband</td>\n",
              "    </tr>\n",
              "    <tr>\n",
              "      <th>3</th>\n",
              "      <td>Mask</td>\n",
              "      <td>\\nSale priceâ¹ 499</td>\n",
              "      <td>17% off</td>\n",
              "      <td>147 reviews</td>\n",
              "      <td>â",
              "\\n  4.9\\n</td>\n",
              "      <td>Excellent Product</td>\n",
              "      <td>notch product amongst other items market milit...</td>\n",
              "      <td>10</td>\n",
              "      <td>notch product amongst items market military st...</td>\n",
              "    </tr>\n",
              "    <tr>\n",
              "      <th>4</th>\n",
              "      <td>Mask</td>\n",
              "      <td>\\nSale priceâ¹ 499</td>\n",
              "      <td>17% off</td>\n",
              "      <td>147 reviews</td>\n",
              "      <td>â",
              "\\n  4.9\\n</td>\n",
              "      <td>Excellent product</td>\n",
              "      <td>very comfortable</td>\n",
              "      <td>2</td>\n",
              "      <td>comfortable</td>\n",
              "    </tr>\n",
              "  </tbody>\n",
              "</table>\n",
              "</div>"
            ],
            "text/plain": [
              "  ProductName         ProductPrice Discount NumberofReviews              Rate  \\\n",
              "0        Mask  \\nSale priceâ¹ 499  17% off     147 reviews  â\n",
              "\\n  4.9\\n       \n",
              "1        Mask  \\nSale priceâ¹ 499  17% off     147 reviews  â\n",
              "\\n  4.9\\n       \n",
              "2        Mask  \\nSale priceâ¹ 499  17% off     147 reviews  â\n",
              "\\n  4.9\\n       \n",
              "3        Mask  \\nSale priceâ¹ 499  17% off     147 reviews  â\n",
              "\\n  4.9\\n       \n",
              "4        Mask  \\nSale priceâ¹ 499  17% off     147 reviews  â\n",
              "\\n  4.9\\n       \n",
              "\n",
              "              Review                                            Summary  \\\n",
              "0        Excellent!!  most comfortable masks available market well d...   \n",
              "1          Good mask  quality good good size person with very face p...   \n",
              "2  The best in range    super bass with very good spec amazing neckband   \n",
              "3  Excellent Product  notch product amongst other items market milit...   \n",
              "4  Excellent product                                   very comfortable   \n",
              "\n",
              "   Num_words_text                                               Text  \n",
              "0              18  comfortable masks available market well design...  \n",
              "1              13  quality good good size person face people larg...  \n",
              "2               8              super bass good spec amazing neckband  \n",
              "3              10  notch product amongst items market military st...  \n",
              "4               2                                        comfortable  "
            ]
          },
          "execution_count": 85,
          "metadata": {},
          "output_type": "execute_result"
        }
      ],
      "source": [
        "df.head()"
      ]
    },
    {
      "cell_type": "markdown",
      "id": "af05807a-6822-4e4f-b026-d33a976a86a1",
      "metadata": {
        "id": "af05807a-6822-4e4f-b026-d33a976a86a1"
      },
      "source": [
        "## MODELLING"
      ]
    },
    {
      "cell_type": "markdown",
      "id": "d2015ab0-72da-4072-8c89-3b5105104374",
      "metadata": {
        "id": "d2015ab0-72da-4072-8c89-3b5105104374"
      },
      "source": [
        "Now we will create vocabulary dictionary and document term matrix."
      ]
    },
    {
      "cell_type": "code",
      "execution_count": null,
      "id": "626a991f-03b1-433d-bddc-429d02949540",
      "metadata": {
        "id": "626a991f-03b1-433d-bddc-429d02949540"
      },
      "outputs": [],
      "source": [
        "# create dict and document matrix\n",
        "\n",
        "dictionary = corpora.Dictionary(tokenized_reviews)\n",
        "doc_term_matrix = [dictionary.doc2bow(rev) for rev in tokenized_reviews]"
      ]
    },
    {
      "cell_type": "markdown",
      "id": "fe80e65e-6b55-46ff-bc42-0813b13ddad6",
      "metadata": {
        "id": "fe80e65e-6b55-46ff-bc42-0813b13ddad6"
      },
      "source": [
        "**2. Using the LDA algorithm create the Topics (Min 10) for the Corpus**"
      ]
    },
    {
      "cell_type": "code",
      "execution_count": null,
      "id": "ec3195d1-b7d9-4f72-b2e7-b33acf186e48",
      "metadata": {
        "id": "ec3195d1-b7d9-4f72-b2e7-b33acf186e48"
      },
      "outputs": [],
      "source": [
        "# Creating the object for LDA model using gensim library\n",
        "\n",
        "LDA = gensim.models.ldamodel.LdaModel"
      ]
    },
    {
      "cell_type": "code",
      "execution_count": null,
      "id": "fb92fadd-d3a2-40d3-a134-ca81c564117b",
      "metadata": {
        "id": "fb92fadd-d3a2-40d3-a134-ca81c564117b"
      },
      "outputs": [],
      "source": [
        "# Build LDA model\n",
        "\n",
        "lda_model = LDA(corpus = doc_term_matrix, id2word = dictionary, num_topics = 10,\n",
        "                random_state = 100, chunksize = 100, passes = 20)"
      ]
    },
    {
      "cell_type": "markdown",
      "id": "01bf87cc-78cc-4b2f-97bf-7bd9f73e9c0a",
      "metadata": {
        "id": "01bf87cc-78cc-4b2f-97bf-7bd9f73e9c0a"
      },
      "source": [
        "**3. Compute the coherence score and print Topics Extracted. (2 Mark)**\n"
      ]
    },
    {
      "cell_type": "code",
      "execution_count": null,
      "id": "1073076b-f726-420d-9f3d-d1383759e8fc",
      "metadata": {
        "id": "1073076b-f726-420d-9f3d-d1383759e8fc",
        "outputId": "299b7d91-b413-4582-ebf9-b261462735cf"
      },
      "outputs": [
        {
          "name": "stdout",
          "output_type": "stream",
          "text": [
            "\n",
            "Coherence Score:  0.4931249994729397\n"
          ]
        }
      ],
      "source": [
        "# coherence score\n",
        "coherence_model_lda = CoherenceModel(model=lda_model, texts=tokenized_reviews, dictionary=dictionary, coherence='c_v')\n",
        "coherence_lda = coherence_model_lda.get_coherence()\n",
        "print('\\nCoherence Score: ', coherence_lda)"
      ]
    },
    {
      "cell_type": "code",
      "execution_count": null,
      "id": "cc3b71d7-1953-4813-bc66-6186df180030",
      "metadata": {
        "scrolled": true,
        "id": "cc3b71d7-1953-4813-bc66-6186df180030",
        "outputId": "d55b07c0-c77d-4b39-8ea3-655c4b651e54"
      },
      "outputs": [
        {
          "data": {
            "text/plain": [
              "[(0,\n",
              "  '0.134*\"perfect\" + 0.008*\"product\" + 0.008*\"meter\" + 0.008*\"nice\" + 0.008*\"size\" + 0.008*\"good\" + 0.008*\"boat\" + 0.008*\"people\" + 0.008*\"quality\" + 0.008*\"person\"'),\n",
              " (1,\n",
              "  '0.153*\"charger\" + 0.117*\"rapid\" + 0.117*\"port\" + 0.117*\"dual\" + 0.112*\"qcpd\" + 0.106*\"boat\" + 0.066*\"cable\" + 0.059*\"amazing\" + 0.038*\"delivery\" + 0.011*\"charging\"'),\n",
              " (2,\n",
              "  '0.112*\"description\" + 0.112*\"same\" + 0.112*\"website\" + 0.112*\"device\" + 0.112*\"performance\" + 0.112*\"satisfied\" + 0.033*\"choice\" + 0.003*\"other\" + 0.003*\"product\" + 0.003*\"awesome\"'),\n",
              " (3,\n",
              "  '0.233*\"good\" + 0.197*\"product\" + 0.124*\"nice\" + 0.091*\"quality\" + 0.087*\"price\" + 0.039*\"design\" + 0.012*\"soft\" + 0.012*\"touch\" + 0.012*\"mask\" + 0.012*\"super\"'),\n",
              " (4,\n",
              "  '0.140*\"product\" + 0.109*\"excellent\" + 0.109*\"brand\" + 0.060*\"year\" + 0.060*\"cable\" + 0.049*\"boat\" + 0.037*\"original\" + 0.026*\"phone\" + 0.026*\"initial\" + 0.026*\"durable\"'),\n",
              " (5,\n",
              "  '0.338*\"good\" + 0.171*\"cable\" + 0.085*\"strong\" + 0.052*\"quality\" + 0.038*\"size\" + 0.020*\"large\" + 0.020*\"face\" + 0.020*\"clothe\" + 0.020*\"person\" + 0.020*\"very\"'),\n",
              " (6,\n",
              "  '0.217*\"cable\" + 0.190*\"type\" + 0.062*\"power\" + 0.062*\"boat\" + 0.041*\"meter\" + 0.028*\"long\" + 0.017*\"charger\" + 0.015*\"other\" + 0.015*\"original\" + 0.015*\"market\"'),\n",
              " (7,\n",
              "  '0.173*\"speed\" + 0.136*\"different\" + 0.136*\"charge\" + 0.077*\"awesome\" + 0.040*\"transfer\" + 0.040*\"data\" + 0.040*\"fast\" + 0.004*\"amazing\" + 0.004*\"brand\" + 0.004*\"product\"'),\n",
              " (8,\n",
              "  '0.202*\"datum\" + 0.164*\"cable\" + 0.077*\"oasum\" + 0.077*\"much\" + 0.044*\"comfortable\" + 0.023*\"mask\" + 0.023*\"available\" + 0.023*\"great\" + 0.023*\"more\" + 0.023*\"option\"'),\n",
              " (9,\n",
              "  '0.263*\"product\" + 0.138*\"boat\" + 0.081*\"market\" + 0.064*\"great\" + 0.064*\"other\" + 0.042*\"beet\" + 0.042*\"low\" + 0.042*\"enough\" + 0.042*\"thank\" + 0.042*\"nice\"')]"
            ]
          },
          "execution_count": 90,
          "metadata": {},
          "output_type": "execute_result"
        }
      ],
      "source": [
        "# print topics\n",
        "\n",
        "lda_model.print_topics()"
      ]
    },
    {
      "cell_type": "markdown",
      "id": "d56e6e48-b118-40c2-b11b-803185d7039a",
      "metadata": {
        "id": "d56e6e48-b118-40c2-b11b-803185d7039a"
      },
      "source": [
        "## VISUALIZE THE TOPICS"
      ]
    },
    {
      "cell_type": "markdown",
      "id": "43504422-67c5-4679-b0e8-13e88786a44f",
      "metadata": {
        "id": "43504422-67c5-4679-b0e8-13e88786a44f"
      },
      "source": [
        "**Visualize the topics (1 Mark)**\n"
      ]
    },
    {
      "cell_type": "markdown",
      "id": "ce732bf3-d13f-485a-9d3a-67f45a2e539a",
      "metadata": {
        "id": "ce732bf3-d13f-485a-9d3a-67f45a2e539a"
      },
      "source": [
        "Perplexity is a measure of how good the model is, the lower the better."
      ]
    },
    {
      "cell_type": "code",
      "execution_count": null,
      "id": "d8446ff2-28c5-4b23-8ac3-00718e48fa7e",
      "metadata": {
        "id": "d8446ff2-28c5-4b23-8ac3-00718e48fa7e",
        "outputId": "77766b04-5646-46c6-bc1b-27c8bab10c20"
      },
      "outputs": [
        {
          "name": "stdout",
          "output_type": "stream",
          "text": [
            "\n",
            "Perplexity:  -3.9838958209781907\n"
          ]
        }
      ],
      "source": [
        "# print perplexity\n",
        "\n",
        "print('\\nPerplexity: ', lda_model.log_perplexity(doc_term_matrix,total_docs=10000))"
      ]
    },
    {
      "cell_type": "code",
      "execution_count": null,
      "id": "cb4c8df9-1a3f-4cbb-a09c-5793aa02375a",
      "metadata": {
        "id": "cb4c8df9-1a3f-4cbb-a09c-5793aa02375a",
        "outputId": "64b64ca0-f687-41bc-bba5-94ecf2d58b18"
      },
      "outputs": [
        {
          "data": {
            "text/html": [
              "\n",
              "<link rel=\"stylesheet\" type=\"text/css\" href=\"https://cdn.jsdelivr.net/gh/bmabey/pyLDAvis@3.4.0/pyLDAvis/js/ldavis.v1.0.0.css\">\n",
              "\n",
              "\n",
              "<div id=\"ldavis_el142824580893157924200315891\" style=\"background-color:white;\"></div>\n",
              "<script type=\"text/javascript\">\n",
              "\n",
              "var ldavis_el142824580893157924200315891_data = {\"mdsDat\": {\"x\": [0.16077565683265607, -0.3171432352464423, -0.17933189728183382, -0.06764696061477556, 0.10959925017152272, -0.02251628294374335, 0.18861255529001275, 0.04610591461655841, 0.051405304235067256, 0.030139694940978234], \"y\": [-0.08126492836558498, 0.0027613545548778214, -0.17481200430761584, 0.060788927386476115, 0.04996324100395269, -0.0739549431106094, -0.21195145669886048, 0.1566263425054321, 0.1939698318051513, 0.0778736352267807], \"topics\": [1, 2, 3, 4, 5, 6, 7, 8, 9, 10], \"cluster\": [1, 1, 1, 1, 1, 1, 1, 1, 1, 1], \"Freq\": [20.832479604393253, 17.14868901018852, 13.031233360940503, 10.854101026000858, 10.454449231490356, 10.45295067244167, 8.041902628565394, 4.118818259871422, 2.954679137559878, 2.1106970685481454]}, \"tinfo\": {\"Term\": [\"good\", \"product\", \"cable\", \"type\", \"datum\", \"boat\", \"charger\", \"nice\", \"speed\", \"excellent\", \"brand\", \"dual\", \"port\", \"rapid\", \"qcpd\", \"price\", \"charge\", \"different\", \"quality\", \"strong\", \"oasum\", \"much\", \"market\", \"perfect\", \"website\", \"same\", \"description\", \"device\", \"satisfied\", \"performance\", \"type\", \"power\", \"meter\", \"long\", \"cell\", \"length\", \"laptop\", \"lite\", \"cost\", \"note\", \"oneplus\", \"output\", \"ctype\", \"day\", \"full\", \"simple\", \"apple\", \"indestructible\", \"lightning\", \"cable\", \"phone\", \"original\", \"boat\", \"other\", \"charger\", \"market\", \"qualcomm\", \"charging\", \"choice\", \"redy\", \"datum\", \"qcpd\", \"delivery\", \"dual\", \"price\", \"design\", \"nice\", \"quality\", \"soft\", \"touch\", \"bass\", \"spec\", \"super\", \"similar\", \"such\", \"superb\", \"good\", \"quantity\", \"happy\", \"purchase\", \"redy\", \"product\", \"mask\", \"available\", \"qualcomm\", \"charging\", \"choice\", \"finish\", \"standard\", \"data\", \"fast\", \"transfer\", \"looking\", \"clothe\", \"military\", \"amazing\", \"market\", \"low\", \"original\", \"other\", \"great\", \"cable\", \"beet\", \"low\", \"enough\", \"thank\", \"great\", \"military\", \"other\", \"market\", \"item\", \"standard\", \"product\", \"boat\", \"nice\", \"quality\", \"qualcomm\", \"charging\", \"choice\", \"redy\", \"quantity\", \"happy\", \"purchase\", \"finish\", \"data\", \"fast\", \"transfer\", \"similar\", \"such\", \"superb\", \"bass\", \"spec\", \"cable\", \"price\", \"strong\", \"available\", \"excellent\", \"money\", \"value\", \"device\", \"performance\", \"satisfied\", \"description\", \"same\", \"strong\", \"size\", \"clothe\", \"face\", \"very\", \"large\", \"people\", \"person\", \"looking\", \"good\", \"finish\", \"quality\", \"cable\", \"qualcomm\", \"charging\", \"choice\", \"redy\", \"quantity\", \"happy\", \"purchase\", \"standard\", \"data\", \"fast\", \"transfer\", \"similar\", \"such\", \"superb\", \"bass\", \"spec\", \"super\", \"enough\", \"thank\", \"nice\", \"charger\", \"product\", \"boat\", \"market\", \"datum\", \"type\", \"check\", \"original\", \"available\", \"colour\", \"comfortable\", \"great\", \"mask\", \"datum\", \"much\", \"oasum\", \"comfortable\", \"option\", \"pricing\", \"colour\", \"check\", \"money\", \"value\", \"available\", \"mask\", \"more\", \"great\", \"cable\", \"market\", \"qualcomm\", \"charging\", \"choice\", \"redy\", \"quantity\", \"happy\", \"purchase\", \"finish\", \"standard\", \"data\", \"fast\", \"transfer\", \"similar\", \"such\", \"product\", \"awesome\", \"type\", \"boat\", \"speed\", \"good\", \"clothe\", \"face\", \"large\", \"people\", \"person\", \"quality\", \"size\", \"very\", \"excellent\", \"brand\", \"year\", \"durable\", \"feedback\", \"hope\", \"initial\", \"next\", \"trust\", \"original\", \"more\", \"phone\", \"product\", \"boat\", \"qualcomm\", \"charging\", \"choice\", \"happy\", \"purchase\", \"redy\", \"quantity\", \"finish\", \"standard\", \"data\", \"fast\", \"transfer\", \"cable\", \"similar\", \"such\", \"superb\", \"type\", \"amazing\", \"charge\", \"different\", \"quality\", \"speed\", \"great\", \"good\", \"datum\", \"available\", \"colour\", \"dual\", \"port\", \"rapid\", \"qcpd\", \"amazing\", \"charger\", \"delivery\", \"charging\", \"qualcomm\", \"boat\", \"cable\", \"choice\", \"redy\", \"quantity\", \"happy\", \"purchase\", \"finish\", \"standard\", \"data\", \"fast\", \"transfer\", \"bass\", \"spec\", \"super\", \"similar\", \"such\", \"superb\", \"soft\", \"touch\", \"looking\", \"power\", \"type\", \"quality\", \"good\", \"brand\", \"product\", \"charge\", \"different\", \"speed\", \"perfect\", \"year\", \"original\", \"phone\", \"comfortable\", \"meter\", \"durable\", \"speed\", \"charge\", \"different\", \"awesome\", \"data\", \"fast\", \"transfer\", \"qualcomm\", \"charging\", \"choice\", \"redy\", \"quantity\", \"happy\", \"purchase\", \"finish\", \"standard\", \"similar\", \"such\", \"superb\", \"bass\", \"spec\", \"super\", \"soft\", \"touch\", \"looking\", \"clothe\", \"face\", \"very\", \"large\", \"people\", \"amazing\", \"brand\", \"product\", \"cable\", \"datum\", \"boat\", \"type\", \"good\", \"comfortable\", \"meter\", \"long\", \"other\", \"ctype\", \"day\", \"full\", \"simple\", \"market\", \"original\", \"phone\", \"cost\", \"note\", \"oneplus\", \"output\", \"description\", \"same\", \"website\", \"device\", \"performance\", \"satisfied\", \"choice\", \"qualcomm\", \"charging\", \"redy\", \"quantity\", \"happy\", \"purchase\", \"finish\", \"standard\", \"data\", \"fast\", \"transfer\", \"similar\", \"such\", \"superb\", \"bass\", \"spec\", \"super\", \"soft\", \"touch\", \"looking\", \"clothe\", \"face\", \"very\", \"other\", \"product\", \"awesome\", \"good\", \"amazing\", \"available\", \"colour\", \"comfortable\", \"great\", \"market\", \"mask\", \"more\", \"option\", \"pricing\", \"large\", \"people\", \"person\", \"perfect\", \"qualcomm\", \"charging\", \"choice\", \"redy\", \"quantity\", \"happy\", \"purchase\", \"finish\", \"standard\", \"data\", \"fast\", \"transfer\", \"similar\", \"such\", \"superb\", \"bass\", \"spec\", \"super\", \"soft\", \"touch\", \"looking\", \"large\", \"people\", \"person\", \"clothe\", \"face\", \"very\", \"money\", \"value\", \"product\", \"meter\", \"nice\", \"size\", \"good\", \"boat\", \"quality\", \"available\", \"colour\", \"comfortable\", \"great\", \"market\", \"mask\", \"more\", \"option\", \"pricing\", \"amazing\", \"item\", \"military\"], \"Freq\": [36.0, 39.0, 43.0, 20.0, 10.0, 21.0, 8.0, 13.0, 4.0, 6.0, 6.0, 5.0, 5.0, 5.0, 5.0, 7.0, 3.0, 3.0, 12.0, 5.0, 4.0, 4.0, 8.0, 2.0, 2.0, 2.0, 2.0, 2.0, 2.0, 2.0, 18.620592741391444, 6.113036628515571, 4.039042694338434, 2.734925752721122, 1.4307965006879724, 1.4307965006879724, 1.4307965006879724, 1.4307965006879724, 1.4307965006879724, 1.4307965006879724, 1.4307965006879724, 1.4307965006879724, 1.4307965006879724, 1.4307965006879724, 1.4307965006879724, 1.4307965006879724, 1.4307942209813358, 1.4307942209813358, 1.4307942209813358, 21.2109624786695, 1.430796044746645, 1.4308002394068562, 6.089689879286519, 1.430828781333945, 1.6573717103102763, 1.4307967742527687, 0.12668880328107085, 0.12668880328107085, 0.12668880328107085, 0.12668881467960402, 0.12671157755036933, 0.12669906196093503, 0.12669737497802402, 0.12669695323229627, 7.0225614123085975, 3.1283498744008753, 9.991770923928321, 7.2968411046926045, 0.9307088053000706, 0.9307088053000706, 0.9306967200736883, 0.9306967200736883, 0.9306967200736883, 0.9306716488587088, 0.9306716488587088, 0.9306716488587088, 18.75313789389995, 0.5065334604045357, 0.5063770655649854, 0.5063770655649854, 0.5062948334811229, 15.903914112852956, 0.9306993472968149, 0.9306667697300451, 0.08240941204054764, 0.08242501586933167, 0.08240941204054764, 0.08244959917144482, 0.08240941204054764, 0.08240941204054764, 0.08240941204054764, 0.08240941204054764, 0.08240950586994501, 0.08240941204054764, 0.08244420398109556, 0.08243821766554281, 0.08242336447193781, 0.08242168492572473, 0.08241990216717454, 0.08241630850125495, 0.08241485414559559, 0.08241451635976502, 2.542361211103407, 2.5423447834322994, 2.5423406765145224, 2.5423406765145224, 3.9211760318312416, 1.4457539298965358, 3.9209629284310443, 4.955297471712084, 1.101075037342812, 0.7563733856197417, 16.105717958353427, 8.453698717437003, 2.5423128407384796, 1.646111054449535, 0.06697279159852326, 0.06697279159852326, 0.06697279159852326, 0.0670976675671749, 0.06697279159852326, 0.06697279159852326, 0.06697279159852326, 0.06697279159852326, 0.06697279159852326, 0.06697279159852326, 0.06697279159852326, 0.06699516574432827, 0.06699516574432827, 0.06699516574432827, 0.06697279159852326, 0.06697279159852326, 0.06709922192147239, 0.06701043121474526, 0.06700981089903939, 0.06699518713452503, 0.06697998583469829, 0.06697706963787413, 0.06697706963787413, 0.06697532277180586, 0.06697532277180586, 0.06697532277180586, 0.06697532277180586, 0.06697532277180586, 4.334519757536245, 1.939154136029231, 1.0144845101369566, 1.0144845101369566, 1.0144845101369566, 1.0144845101369566, 1.0144845101369566, 1.0144845101369566, 1.014482039578168, 17.2279514015832, 0.5520737275080692, 2.67479551269275, 8.740601340857854, 0.08982651843859295, 0.08982651843859295, 0.08982651843859295, 0.08982652437743618, 0.08982651843859295, 0.08982651843859295, 0.08982651843859295, 0.08982651843859295, 0.08982651843859295, 0.08982651843859295, 0.08982651843859295, 0.08982651843859295, 0.08982651843859295, 0.08982651843859295, 0.08982651843859295, 0.08982651843859295, 0.08982651843859295, 0.08984872971231761, 0.08984872971231761, 0.08984717373538822, 0.08983852677962804, 0.0898323681991862, 0.08983201780743494, 0.08982974916931653, 0.08982846637917628, 0.08982764087996566, 0.08982661939892805, 0.08982654219396591, 0.08982651843859295, 0.08982651843859295, 0.08982651843859295, 0.08982651843859295, 0.08982651843859295, 9.934491072506482, 3.7816716894104916, 3.7816716894104916, 2.150557689438325, 1.1250851686029968, 1.1250851686029968, 1.1250851686029968, 1.1250831551021159, 1.1250733621660127, 1.1250733621660127, 1.1250913006284071, 1.125096700471679, 1.1250853516485315, 1.1250913006284071, 8.04617430044892, 1.1250791281003538, 0.09961943189279612, 0.09961943189279612, 0.09961943189279612, 0.09961943189279612, 0.09961943189279612, 0.09961943189279612, 0.09961943189279612, 0.09961943189279612, 0.09961943189279612, 0.09961943189279612, 0.09961943189279612, 0.09961943189279612, 0.09961943189279612, 0.09961943189279612, 0.09963084935801915, 0.09962983116723273, 0.09962790918911903, 0.09962610161446449, 0.09962339025248267, 0.09962115938502926, 0.09961943189279612, 0.09961943189279612, 0.09961943189279612, 0.09961943189279612, 0.09961943189279612, 0.09961943189279612, 0.09961943189279612, 0.09961943189279612, 5.358960569982576, 5.358869060334291, 2.969027976342707, 1.2542402988519394, 1.2542402988519394, 1.2542402988519394, 1.2542402988519394, 1.2542402988519394, 1.2542397497940496, 1.8258151441297563, 1.2542396582844013, 1.2542405733808841, 6.8562498541124315, 2.3975055660933577, 0.1110552055011249, 0.1110552055011249, 0.11105533132689129, 0.11122910814898486, 0.11122910814898486, 0.11105521693983093, 0.1110552055011249, 0.1110552055011249, 0.1110552055011249, 0.1110552055011249, 0.1110552055011249, 0.1110552055011249, 2.9677329318001755, 0.1110552055011249, 0.1110552055011249, 0.1110552055011249, 1.2542098261390604, 0.1111581767328578, 0.11109036808347848, 0.11109036808347848, 0.11106702168445971, 0.11106636967821569, 0.11105955220941845, 0.11105653239102503, 0.1110555944171301, 0.1110552055011249, 0.1110552055011249, 4.4373702657084655, 4.4373702657084655, 4.4373702657084655, 4.24221511345636, 2.219782141361589, 5.770991300344443, 1.4393424662425198, 0.4282021554746212, 0.23305810918401185, 4.025067974970522, 2.4860769787929136, 0.03791631576673293, 0.03791631576673293, 0.03791631576673293, 0.03791631576673293, 0.03791631576673293, 0.03791631576673293, 0.03791631576673293, 0.03791631576673293, 0.03791631576673293, 0.03791631576673293, 0.037919637874866734, 0.037919637874866734, 0.037919637874866734, 0.03791631576673293, 0.03791631576673293, 0.03791631576673293, 0.03791631576673293, 0.03791631576673293, 0.03791631576673293, 0.03799106979995829, 0.0379471211694412, 0.037919976685894946, 0.03791954547185904, 0.03791885024922971, 0.03791854663934728, 0.03791790861857987, 0.03791790861857987, 0.03791720019552087, 0.03791639936945418, 0.03791639936945418, 0.03791636416830839, 0.03791635976816517, 0.037916355368021945, 0.037916355368021945, 0.037916355368021945, 3.3403925839256288, 2.6277924071517127, 2.6277924071517127, 1.4943786179646392, 0.7818042586581009, 0.7818042586581009, 0.7818042586581009, 0.06922380556387155, 0.06922380556387155, 0.06922380556387155, 0.06922381007111097, 0.06922381007111097, 0.06922381007111097, 0.06922381007111097, 0.06922380556387155, 0.06922380556387155, 0.06922380556387155, 0.06922380556387155, 0.06922380556387155, 0.06922380556387155, 0.06922380556387155, 0.06922380556387155, 0.06922380556387155, 0.06922380556387155, 0.06922380556387155, 0.06922380556387155, 0.06922380556387155, 0.06922380556387155, 0.06922380556387155, 0.06922380556387155, 0.06941028808748732, 0.06928125934471291, 0.06926400112498736, 0.06922953877240927, 0.06922806941235951, 0.06922411656339128, 0.06922395881001171, 0.06922388669418104, 0.06922388218694163, 0.06922388218694163, 0.06922385063626571, 0.06922383711454747, 0.06922383711454747, 0.06922383711454747, 0.06922383711454747, 0.06922383711454747, 0.06922382810006864, 0.06922382810006864, 0.06922382810006864, 0.06922382810006864, 0.06922382810006864, 0.06922382810006864, 0.06922382810006864, 1.5547699489512474, 1.5547699489512474, 1.5547699489512474, 1.5547698454850944, 1.5547698454850944, 1.5547698454850944, 0.4625578534031976, 0.0409568439085598, 0.0409568439085598, 0.040956847141877084, 0.0409568439085598, 0.0409568439085598, 0.0409568439085598, 0.0409568439085598, 0.0409568439085598, 0.04095688917500178, 0.04095688917500178, 0.04095688917500178, 0.0409568439085598, 0.0409568439085598, 0.0409568439085598, 0.0409568439085598, 0.0409568439085598, 0.0409568439085598, 0.0409568439085598, 0.0409568439085598, 0.0409568439085598, 0.0409568439085598, 0.0409568439085598, 0.0409568439085598, 0.041064028376544076, 0.04098203468352407, 0.040957341839421624, 0.040956847141877084, 0.040956847141877084, 0.0409568439085598, 0.0409568439085598, 0.0409568439085598, 0.0409568439085598, 0.0409568439085598, 0.0409568439085598, 0.0409568439085598, 0.0409568439085598, 0.0409568439085598, 0.0409568439085598, 0.0409568439085598, 0.0409568439085598, 1.332048536654584, 0.08102091512146843, 0.08102091512146843, 0.08102091512146843, 0.08102093359942289, 0.08102091512146843, 0.08102091512146843, 0.08102091512146843, 0.08102091512146843, 0.08102091512146843, 0.08102091512146843, 0.08102091512146843, 0.08102091512146843, 0.08102091512146843, 0.08102091512146843, 0.08102091512146843, 0.08102091512146843, 0.08102091512146843, 0.08102091512146843, 0.08102091512146843, 0.08102091512146843, 0.08102091512146843, 0.08102098903328624, 0.08102098903328624, 0.08102098903328624, 0.081020979794309, 0.081020979794309, 0.081020979794309, 0.08102091512146843, 0.08102091512146843, 0.08102905466040307, 0.08102140478726133, 0.08102119229078517, 0.0810210537061268, 0.08102104446714958, 0.08102100751124068, 0.08102098903328624, 0.08102091512146843, 0.08102091512146843, 0.08102091512146843, 0.08102091512146843, 0.08102091512146843, 0.08102091512146843, 0.08102091512146843, 0.08102091512146843, 0.08102091512146843, 0.08102091512146843, 0.08102091512146843, 0.08102091512146843], \"Total\": [36.0, 39.0, 43.0, 20.0, 10.0, 21.0, 8.0, 13.0, 4.0, 6.0, 6.0, 5.0, 5.0, 5.0, 5.0, 7.0, 3.0, 3.0, 12.0, 5.0, 4.0, 4.0, 8.0, 2.0, 2.0, 2.0, 2.0, 2.0, 2.0, 2.0, 20.44279036639199, 6.792112644917211, 4.718044611361459, 3.413927046426021, 2.1097977585491474, 2.1097977585491474, 2.109797762949291, 2.109797762949291, 2.1097977674565302, 2.1097977674565302, 2.1097977674565302, 2.1097977674565302, 2.109797776471009, 2.109797776471009, 2.109797776471009, 2.109797776471009, 2.1097954608135536, 2.1097954608135536, 2.1097954608135536, 43.79226906665305, 3.252982718996251, 3.8245720026874777, 21.429036366234666, 5.963934274878194, 8.069459961090196, 8.023599600504559, 1.0008318365305673, 1.1959914866499608, 1.2272911784336926, 1.229700395517109, 10.64059312614579, 5.009999099482779, 2.2071247652860286, 5.205152143006246, 7.745879682997559, 3.8516305054736164, 13.190416765462938, 12.184244543884828, 1.6539894363728112, 1.6539894363728112, 1.6539806732545628, 1.6539806732545628, 1.6539806732545628, 1.6539746540772546, 1.6539746540772546, 1.6539746540772546, 36.61455505564889, 1.2298140959845156, 1.229831706379624, 1.229831706379624, 1.229700395517109, 39.411230284717725, 2.679457268338635, 2.679441665074399, 1.0008318365305673, 1.1959914866499608, 1.2272911784336926, 1.2679774393136618, 1.495090637134507, 1.51827054147396, 1.51827054147396, 1.51827054147396, 1.7303456580822607, 1.7303480994844929, 2.184505973351849, 2.9878741313218056, 8.023599600504559, 3.281074307832242, 3.8245720026874777, 5.963934274878194, 5.685374940894959, 43.79226906665305, 3.281078462618172, 3.281074307832242, 3.2810801393030125, 3.2810801393030125, 5.685374940894959, 2.184505973351849, 5.963934274878194, 8.023599600504559, 1.8397965674780974, 1.495090637134507, 39.411230284717725, 21.429036366234666, 13.190416765462938, 12.184244543884828, 1.0008318365305673, 1.1959914866499608, 1.2272911784336926, 1.229700395517109, 1.2298140959845156, 1.229831706379624, 1.229831706379624, 1.2679774393136618, 1.51827054147396, 1.51827054147396, 1.51827054147396, 1.6539746540772546, 1.6539746540772546, 1.6539746540772546, 1.6539806732545628, 1.6539806732545628, 43.79226906665305, 7.745879682997559, 5.050420395340852, 2.679441665074399, 6.053602601830915, 1.8311482514258561, 1.8311482514258561, 2.3195055758631056, 2.3195055758631056, 2.3195055758631056, 2.3195056793292586, 2.3195056793292586, 5.050420395340852, 2.655017799288585, 1.7303480994844929, 1.7303480994844929, 1.7303480994844929, 1.73034810872347, 1.73034810872347, 1.73034810872347, 1.7303456580822607, 36.61455505564889, 1.2679774393136618, 12.184244543884828, 43.79226906665305, 1.0008318365305673, 1.1959914866499608, 1.2272911784336926, 1.229700395517109, 1.2298140959845156, 1.229831706379624, 1.229831706379624, 1.495090637134507, 1.51827054147396, 1.51827054147396, 1.51827054147396, 1.6539746540772546, 1.6539746540772546, 1.6539746540772546, 1.6539806732545628, 1.6539806732545628, 1.6539806732545628, 3.2810801393030125, 3.2810801393030125, 13.190416765462938, 8.069459961090196, 39.411230284717725, 21.429036366234666, 8.023599600504559, 10.64059312614579, 20.44279036639199, 1.8311538672829435, 3.8245720026874777, 2.679441665074399, 1.8311558083437516, 2.856628445403439, 5.685374940894959, 2.679457268338635, 10.64059312614579, 4.487742300630983, 4.487742300630983, 2.856628445403439, 1.8311558012136857, 1.8311558012136857, 1.8311558083437516, 1.8311538672829435, 1.8311482514258561, 1.8311482514258561, 2.679441665074399, 2.679457268338635, 2.9743405154732185, 5.685374940894959, 43.79226906665305, 8.023599600504559, 1.0008318365305673, 1.1959914866499608, 1.2272911784336926, 1.229700395517109, 1.2298140959845156, 1.229831706379624, 1.229831706379624, 1.2679774393136618, 1.495090637134507, 1.51827054147396, 1.51827054147396, 1.51827054147396, 1.6539746540772546, 1.6539746540772546, 39.411230284717725, 2.230855900900286, 20.44279036639199, 21.429036366234666, 4.076874976621542, 36.61455505564889, 1.7303480994844929, 1.7303480994844929, 1.73034810872347, 1.73034810872347, 1.73034810872347, 12.184244543884828, 2.655017799288585, 1.7303480994844929, 6.053602601830915, 6.053563957510447, 3.6636656863062877, 1.9488751760653922, 1.9488751760653922, 1.9488751760653922, 1.9488751760653922, 1.9488751760653922, 1.9488746587068688, 3.8245720026874777, 2.9743405154732185, 3.252982718996251, 39.411230284717725, 21.429036366234666, 1.0008318365305673, 1.1959914866499608, 1.2272911784336926, 1.229831706379624, 1.229831706379624, 1.229700395517109, 1.2298140959845156, 1.2679774393136618, 1.495090637134507, 1.51827054147396, 1.51827054147396, 1.51827054147396, 43.79226906665305, 1.6539746540772546, 1.6539746540772546, 1.6539746540772546, 20.44279036639199, 2.9878741313218056, 3.3642954001353305, 3.3642954001353305, 12.184244543884828, 4.076874976621542, 5.685374940894959, 36.61455505564889, 10.64059312614579, 2.679441665074399, 1.8311558083437516, 5.205152143006246, 5.205152143006246, 5.205152143006246, 5.009999099482779, 2.9878741313218056, 8.069459961090196, 2.2071247652860286, 1.1959914866499608, 1.0008318365305673, 21.429036366234666, 43.79226906665305, 1.2272911784336926, 1.229700395517109, 1.2298140959845156, 1.229831706379624, 1.229831706379624, 1.2679774393136618, 1.495090637134507, 1.51827054147396, 1.51827054147396, 1.51827054147396, 1.6539806732545628, 1.6539806732545628, 1.6539806732545628, 1.6539746540772546, 1.6539746540772546, 1.6539746540772546, 1.6539894363728112, 1.6539894363728112, 1.7303456580822607, 6.792112644917211, 20.44279036639199, 12.184244543884828, 36.61455505564889, 6.053563957510447, 39.411230284717725, 3.3642954001353305, 3.3642954001353305, 4.076874976621542, 2.056720015609981, 3.6636656863062877, 3.8245720026874777, 3.252982718996251, 2.856628445403439, 4.718044611361459, 1.9488751760653922, 4.076874976621542, 3.3642954001353305, 3.3642954001353305, 2.230855900900286, 1.51827054147396, 1.51827054147396, 1.51827054147396, 1.0008318365305673, 1.1959914866499608, 1.2272911784336926, 1.229700395517109, 1.2298140959845156, 1.229831706379624, 1.229831706379624, 1.2679774393136618, 1.495090637134507, 1.6539746540772546, 1.6539746540772546, 1.6539746540772546, 1.6539806732545628, 1.6539806732545628, 1.6539806732545628, 1.6539894363728112, 1.6539894363728112, 1.7303456580822607, 1.7303480994844929, 1.7303480994844929, 1.7303480994844929, 1.73034810872347, 1.73034810872347, 2.9878741313218056, 6.053563957510447, 39.411230284717725, 43.79226906665305, 10.64059312614579, 21.429036366234666, 20.44279036639199, 36.61455505564889, 2.856628445403439, 4.718044611361459, 3.413927046426021, 5.963934274878194, 2.109797776471009, 2.109797776471009, 2.109797776471009, 2.109797776471009, 8.023599600504559, 3.8245720026874777, 3.252982718996251, 2.1097977674565302, 2.1097977674565302, 2.1097977674565302, 2.1097977674565302, 2.3195056793292586, 2.3195056793292586, 2.3195056793292586, 2.3195055758631056, 2.3195055758631056, 2.3195055758631056, 1.2272911784336926, 1.0008318365305673, 1.1959914866499608, 1.229700395517109, 1.2298140959845156, 1.229831706379624, 1.229831706379624, 1.2679774393136618, 1.495090637134507, 1.51827054147396, 1.51827054147396, 1.51827054147396, 1.6539746540772546, 1.6539746540772546, 1.6539746540772546, 1.6539806732545628, 1.6539806732545628, 1.6539806732545628, 1.6539894363728112, 1.6539894363728112, 1.7303456580822607, 1.7303480994844929, 1.7303480994844929, 1.7303480994844929, 5.963934274878194, 39.411230284717725, 2.230855900900286, 36.61455505564889, 2.9878741313218056, 2.679441665074399, 1.8311558083437516, 2.856628445403439, 5.685374940894959, 8.023599600504559, 2.679457268338635, 2.9743405154732185, 1.8311558012136857, 1.8311558012136857, 1.73034810872347, 1.73034810872347, 1.73034810872347, 2.056720015609981, 1.0008318365305673, 1.1959914866499608, 1.2272911784336926, 1.229700395517109, 1.2298140959845156, 1.229831706379624, 1.229831706379624, 1.2679774393136618, 1.495090637134507, 1.51827054147396, 1.51827054147396, 1.51827054147396, 1.6539746540772546, 1.6539746540772546, 1.6539746540772546, 1.6539806732545628, 1.6539806732545628, 1.6539806732545628, 1.6539894363728112, 1.6539894363728112, 1.7303456580822607, 1.73034810872347, 1.73034810872347, 1.73034810872347, 1.7303480994844929, 1.7303480994844929, 1.7303480994844929, 1.8311482514258561, 1.8311482514258561, 39.411230284717725, 4.718044611361459, 13.190416765462938, 2.655017799288585, 36.61455505564889, 21.429036366234666, 12.184244543884828, 2.679441665074399, 1.8311558083437516, 2.856628445403439, 5.685374940894959, 8.023599600504559, 2.679457268338635, 2.9743405154732185, 1.8311558012136857, 1.8311558012136857, 2.9878741313218056, 1.8397965674780974, 2.184505973351849], \"Category\": [\"Default\", \"Default\", \"Default\", \"Default\", \"Default\", \"Default\", \"Default\", \"Default\", \"Default\", \"Default\", \"Default\", \"Default\", \"Default\", \"Default\", \"Default\", \"Default\", \"Default\", \"Default\", \"Default\", \"Default\", \"Default\", \"Default\", \"Default\", \"Default\", \"Default\", \"Default\", \"Default\", \"Default\", \"Default\", \"Default\", \"Topic1\", \"Topic1\", \"Topic1\", \"Topic1\", \"Topic1\", \"Topic1\", \"Topic1\", \"Topic1\", \"Topic1\", \"Topic1\", \"Topic1\", \"Topic1\", \"Topic1\", \"Topic1\", \"Topic1\", \"Topic1\", \"Topic1\", \"Topic1\", \"Topic1\", \"Topic1\", \"Topic1\", \"Topic1\", \"Topic1\", \"Topic1\", \"Topic1\", \"Topic1\", \"Topic1\", \"Topic1\", \"Topic1\", \"Topic1\", \"Topic1\", \"Topic1\", \"Topic1\", \"Topic1\", \"Topic2\", \"Topic2\", \"Topic2\", \"Topic2\", \"Topic2\", \"Topic2\", \"Topic2\", \"Topic2\", \"Topic2\", \"Topic2\", \"Topic2\", \"Topic2\", \"Topic2\", \"Topic2\", \"Topic2\", \"Topic2\", \"Topic2\", \"Topic2\", \"Topic2\", \"Topic2\", \"Topic2\", \"Topic2\", \"Topic2\", \"Topic2\", \"Topic2\", \"Topic2\", \"Topic2\", \"Topic2\", \"Topic2\", \"Topic2\", \"Topic2\", \"Topic2\", \"Topic2\", \"Topic2\", \"Topic2\", \"Topic2\", \"Topic2\", \"Topic2\", \"Topic3\", \"Topic3\", \"Topic3\", \"Topic3\", \"Topic3\", \"Topic3\", \"Topic3\", \"Topic3\", \"Topic3\", \"Topic3\", \"Topic3\", \"Topic3\", \"Topic3\", \"Topic3\", \"Topic3\", \"Topic3\", \"Topic3\", \"Topic3\", \"Topic3\", \"Topic3\", \"Topic3\", \"Topic3\", \"Topic3\", \"Topic3\", \"Topic3\", \"Topic3\", \"Topic3\", \"Topic3\", \"Topic3\", \"Topic3\", \"Topic3\", \"Topic3\", \"Topic3\", \"Topic3\", \"Topic3\", \"Topic3\", \"Topic3\", \"Topic3\", \"Topic3\", \"Topic3\", \"Topic3\", \"Topic3\", \"Topic4\", \"Topic4\", \"Topic4\", \"Topic4\", \"Topic4\", \"Topic4\", \"Topic4\", \"Topic4\", \"Topic4\", \"Topic4\", \"Topic4\", \"Topic4\", \"Topic4\", \"Topic4\", \"Topic4\", \"Topic4\", \"Topic4\", \"Topic4\", \"Topic4\", \"Topic4\", \"Topic4\", \"Topic4\", \"Topic4\", \"Topic4\", \"Topic4\", \"Topic4\", \"Topic4\", \"Topic4\", \"Topic4\", \"Topic4\", \"Topic4\", \"Topic4\", \"Topic4\", \"Topic4\", \"Topic4\", \"Topic4\", \"Topic4\", \"Topic4\", \"Topic4\", \"Topic4\", \"Topic4\", \"Topic4\", \"Topic4\", \"Topic4\", \"Topic4\", \"Topic4\", \"Topic5\", \"Topic5\", \"Topic5\", \"Topic5\", \"Topic5\", \"Topic5\", \"Topic5\", \"Topic5\", \"Topic5\", \"Topic5\", \"Topic5\", \"Topic5\", \"Topic5\", \"Topic5\", \"Topic5\", \"Topic5\", \"Topic5\", \"Topic5\", \"Topic5\", \"Topic5\", \"Topic5\", \"Topic5\", \"Topic5\", \"Topic5\", \"Topic5\", \"Topic5\", \"Topic5\", \"Topic5\", \"Topic5\", \"Topic5\", \"Topic5\", \"Topic5\", \"Topic5\", \"Topic5\", \"Topic5\", \"Topic5\", \"Topic5\", \"Topic5\", \"Topic5\", \"Topic5\", \"Topic5\", \"Topic5\", \"Topic5\", \"Topic5\", \"Topic6\", \"Topic6\", \"Topic6\", \"Topic6\", \"Topic6\", \"Topic6\", \"Topic6\", \"Topic6\", \"Topic6\", \"Topic6\", \"Topic6\", \"Topic6\", \"Topic6\", \"Topic6\", \"Topic6\", \"Topic6\", \"Topic6\", \"Topic6\", \"Topic6\", \"Topic6\", \"Topic6\", \"Topic6\", \"Topic6\", \"Topic6\", \"Topic6\", \"Topic6\", \"Topic6\", \"Topic6\", \"Topic6\", \"Topic6\", \"Topic6\", \"Topic6\", \"Topic6\", \"Topic6\", \"Topic6\", \"Topic6\", \"Topic6\", \"Topic6\", \"Topic6\", \"Topic6\", \"Topic6\", \"Topic7\", \"Topic7\", \"Topic7\", \"Topic7\", \"Topic7\", \"Topic7\", \"Topic7\", \"Topic7\", \"Topic7\", \"Topic7\", \"Topic7\", \"Topic7\", \"Topic7\", \"Topic7\", \"Topic7\", \"Topic7\", \"Topic7\", \"Topic7\", \"Topic7\", \"Topic7\", \"Topic7\", \"Topic7\", \"Topic7\", \"Topic7\", \"Topic7\", \"Topic7\", \"Topic7\", \"Topic7\", \"Topic7\", \"Topic7\", \"Topic7\", \"Topic7\", \"Topic7\", \"Topic7\", \"Topic7\", \"Topic7\", \"Topic7\", \"Topic7\", \"Topic7\", \"Topic7\", \"Topic7\", \"Topic7\", \"Topic7\", \"Topic7\", \"Topic7\", \"Topic7\", \"Topic8\", \"Topic8\", \"Topic8\", \"Topic8\", \"Topic8\", \"Topic8\", \"Topic8\", \"Topic8\", \"Topic8\", \"Topic8\", \"Topic8\", \"Topic8\", \"Topic8\", \"Topic8\", \"Topic8\", \"Topic8\", \"Topic8\", \"Topic8\", \"Topic8\", \"Topic8\", \"Topic8\", \"Topic8\", \"Topic8\", \"Topic8\", \"Topic8\", \"Topic8\", \"Topic8\", \"Topic8\", \"Topic8\", \"Topic8\", \"Topic8\", \"Topic8\", \"Topic8\", \"Topic8\", \"Topic8\", \"Topic8\", \"Topic8\", \"Topic8\", \"Topic8\", \"Topic8\", \"Topic8\", \"Topic8\", \"Topic8\", \"Topic8\", \"Topic8\", \"Topic8\", \"Topic8\", \"Topic8\", \"Topic8\", \"Topic8\", \"Topic8\", \"Topic8\", \"Topic8\", \"Topic9\", \"Topic9\", \"Topic9\", \"Topic9\", \"Topic9\", \"Topic9\", \"Topic9\", \"Topic9\", \"Topic9\", \"Topic9\", \"Topic9\", \"Topic9\", \"Topic9\", \"Topic9\", \"Topic9\", \"Topic9\", \"Topic9\", \"Topic9\", \"Topic9\", \"Topic9\", \"Topic9\", \"Topic9\", \"Topic9\", \"Topic9\", \"Topic9\", \"Topic9\", \"Topic9\", \"Topic9\", \"Topic9\", \"Topic9\", \"Topic9\", \"Topic9\", \"Topic9\", \"Topic9\", \"Topic9\", \"Topic9\", \"Topic9\", \"Topic9\", \"Topic9\", \"Topic9\", \"Topic9\", \"Topic9\", \"Topic9\", \"Topic9\", \"Topic9\", \"Topic9\", \"Topic9\", \"Topic10\", \"Topic10\", \"Topic10\", \"Topic10\", \"Topic10\", \"Topic10\", \"Topic10\", \"Topic10\", \"Topic10\", \"Topic10\", \"Topic10\", \"Topic10\", \"Topic10\", \"Topic10\", \"Topic10\", \"Topic10\", \"Topic10\", \"Topic10\", \"Topic10\", \"Topic10\", \"Topic10\", \"Topic10\", \"Topic10\", \"Topic10\", \"Topic10\", \"Topic10\", \"Topic10\", \"Topic10\", \"Topic10\", \"Topic10\", \"Topic10\", \"Topic10\", \"Topic10\", \"Topic10\", \"Topic10\", \"Topic10\", \"Topic10\", \"Topic10\", \"Topic10\", \"Topic10\", \"Topic10\", \"Topic10\", \"Topic10\", \"Topic10\", \"Topic10\", \"Topic10\", \"Topic10\", \"Topic10\", \"Topic10\"], \"logprob\": [30.0, 29.0, 28.0, 27.0, 26.0, 25.0, 24.0, 23.0, 22.0, 21.0, 20.0, 19.0, 18.0, 17.0, 16.0, 15.0, 14.0, 13.0, 12.0, 11.0, 10.0, 9.0, 8.0, 7.0, 6.0, 5.0, 4.0, 3.0, 2.0, 1.0, -1.6598, -2.7737, -3.1881, -3.578, -4.2258, -4.2258, -4.2258, -4.2258, -4.2258, -4.2258, -4.2258, -4.2258, -4.2258, -4.2258, -4.2258, -4.2258, -4.2258, -4.2258, -4.2258, -1.5296, -4.2258, -4.2258, -2.7775, -4.2258, -4.0788, -4.2258, -6.6501, -6.6501, -6.6501, -6.6501, -6.6499, -6.65, -6.65, -6.65, -2.4404, -3.249, -2.0877, -2.402, -4.4613, -4.4613, -4.4613, -4.4613, -4.4613, -4.4613, -4.4613, -4.4613, -1.4581, -5.0696, -5.07, -5.07, -5.0701, -1.6229, -4.4613, -4.4613, -6.8855, -6.8854, -6.8855, -6.8851, -6.8855, -6.8855, -6.8855, -6.8855, -6.8855, -6.8855, -6.8851, -6.8852, -6.8854, -6.8854, -6.8854, -6.8855, -6.8855, -6.8855, -3.1818, -3.1818, -3.1818, -3.1818, -2.7485, -3.7463, -2.7486, -2.5145, -4.0186, -4.3941, -1.3357, -1.9803, -3.1818, -3.6165, -6.8184, -6.8184, -6.8184, -6.8165, -6.8184, -6.8184, -6.8184, -6.8184, -6.8184, -6.8184, -6.8184, -6.818, -6.818, -6.818, -6.8184, -6.8184, -6.8165, -6.8178, -6.8178, -6.818, -6.8183, -6.8183, -6.8183, -6.8183, -6.8183, -6.8183, -6.8183, -6.8183, -2.4655, -3.2699, -3.9177, -3.9177, -3.9177, -3.9177, -3.9177, -3.9177, -3.9177, -1.0856, -4.5262, -2.9482, -1.7641, -6.342, -6.342, -6.342, -6.342, -6.342, -6.342, -6.342, -6.342, -6.342, -6.342, -6.342, -6.342, -6.342, -6.342, -6.342, -6.342, -6.342, -6.3417, -6.3417, -6.3418, -6.3418, -6.3419, -6.3419, -6.3419, -6.342, -6.342, -6.342, -6.342, -6.342, -6.342, -6.342, -6.342, -6.342, -1.5986, -2.5644, -2.5644, -3.1289, -3.7767, -3.7767, -3.7767, -3.7767, -3.7767, -3.7767, -3.7767, -3.7767, -3.7767, -3.7767, -1.8094, -3.7767, -6.201, -6.201, -6.201, -6.201, -6.201, -6.201, -6.201, -6.201, -6.201, -6.201, -6.201, -6.201, -6.201, -6.201, -6.2009, -6.2009, -6.2009, -6.2009, -6.2009, -6.201, -6.201, -6.201, -6.201, -6.201, -6.201, -6.201, -6.201, -6.201, -2.2157, -2.2157, -2.8062, -3.6679, -3.6679, -3.6679, -3.6679, -3.6679, -3.6679, -3.2924, -3.6679, -3.6679, -1.9693, -3.02, -6.0922, -6.0922, -6.0922, -6.0906, -6.0906, -6.0922, -6.0922, -6.0922, -6.0922, -6.0922, -6.0922, -6.0922, -2.8066, -6.0922, -6.0922, -6.0922, -3.6679, -6.0912, -6.0919, -6.0919, -6.0921, -6.0921, -6.0921, -6.0922, -6.0922, -6.0922, -6.0922, -2.1422, -2.1422, -2.1422, -2.1871, -2.8348, -1.8794, -3.268, -4.4804, -5.0887, -2.2397, -2.7215, -6.9046, -6.9046, -6.9046, -6.9046, -6.9046, -6.9046, -6.9046, -6.9046, -6.9046, -6.9046, -6.9045, -6.9045, -6.9045, -6.9046, -6.9046, -6.9046, -6.9046, -6.9046, -6.9046, -6.9026, -6.9038, -6.9045, -6.9045, -6.9045, -6.9045, -6.9046, -6.9046, -6.9046, -6.9046, -6.9046, -6.9046, -6.9046, -6.9046, -6.9046, -6.9046, -1.757, -1.997, -1.997, -2.5614, -3.2093, -3.2093, -3.2093, -5.6335, -5.6335, -5.6335, -5.6335, -5.6335, -5.6335, -5.6335, -5.6335, -5.6335, -5.6335, -5.6335, -5.6335, -5.6335, -5.6335, -5.6335, -5.6335, -5.6335, -5.6335, -5.6335, -5.6335, -5.6335, -5.6335, -5.6335, -5.6308, -5.6327, -5.633, -5.6335, -5.6335, -5.6335, -5.6335, -5.6335, -5.6335, -5.6335, -5.6335, -5.6335, -5.6335, -5.6335, -5.6335, -5.6335, -5.6335, -5.6335, -5.6335, -5.6335, -5.6335, -5.6335, -5.6335, -2.1896, -2.1896, -2.1896, -2.1896, -2.1896, -2.1896, -3.4019, -5.8262, -5.8262, -5.8262, -5.8262, -5.8262, -5.8262, -5.8262, -5.8262, -5.8262, -5.8262, -5.8262, -5.8262, -5.8262, -5.8262, -5.8262, -5.8262, -5.8262, -5.8262, -5.8262, -5.8262, -5.8262, -5.8262, -5.8262, -5.8236, -5.8256, -5.8262, -5.8262, -5.8262, -5.8262, -5.8262, -5.8262, -5.8262, -5.8262, -5.8262, -5.8262, -5.8262, -5.8262, -5.8262, -5.8262, -5.8262, -2.0079, -4.8076, -4.8076, -4.8076, -4.8076, -4.8076, -4.8076, -4.8076, -4.8076, -4.8076, -4.8076, -4.8076, -4.8076, -4.8076, -4.8076, -4.8076, -4.8076, -4.8076, -4.8076, -4.8076, -4.8076, -4.8076, -4.8076, -4.8076, -4.8076, -4.8076, -4.8076, -4.8076, -4.8076, -4.8076, -4.8075, -4.8076, -4.8076, -4.8076, -4.8076, -4.8076, -4.8076, -4.8076, -4.8076, -4.8076, -4.8076, -4.8076, -4.8076, -4.8076, -4.8076, -4.8076, -4.8076, -4.8076, -4.8076], \"loglift\": [30.0, 29.0, 28.0, 27.0, 26.0, 25.0, 24.0, 23.0, 22.0, 21.0, 20.0, 19.0, 18.0, 17.0, 16.0, 15.0, 14.0, 13.0, 12.0, 11.0, 10.0, 9.0, 8.0, 7.0, 6.0, 5.0, 4.0, 3.0, 2.0, 1.0, 1.4753, 1.4633, 1.4133, 1.3469, 1.1803, 1.1803, 1.1803, 1.1803, 1.1803, 1.1803, 1.1803, 1.1803, 1.1803, 1.1803, 1.1803, 1.1803, 1.1803, 1.1803, 1.1803, 0.8437, 0.7473, 0.5854, 0.3105, 0.1412, -0.0142, -0.1555, -0.4982, -0.6763, -0.7022, -0.7041, -2.8619, -2.1087, -1.289, -2.1469, 1.6652, 1.5553, 1.4855, 1.2505, 1.1882, 1.1882, 1.1882, 1.1882, 1.1882, 1.1882, 1.1882, 1.1882, 1.0942, 0.8762, 0.8759, 0.8759, 0.8758, 0.8558, 0.7058, 0.7058, -0.7336, -0.9116, -0.9376, -0.9697, -1.135, -1.1504, -1.1504, -1.1504, -1.2811, -1.2811, -1.5138, -1.827, -2.815, -1.9208, -2.0741, -2.5185, -2.4706, -4.5122, 1.7827, 1.7827, 1.7827, 1.7827, 1.6663, 1.6251, 1.6184, 1.5559, 1.5245, 1.3564, 1.1429, 1.1077, 0.3914, 0.0361, -0.6665, -0.8446, -0.8705, -0.8706, -0.8725, -0.8725, -0.8725, -0.9031, -1.0832, -1.0832, -1.0832, -1.1685, -1.1685, -1.1685, -1.1688, -1.1688, -4.4432, -2.7122, -2.2846, -1.6509, -2.4662, -1.2705, -1.2705, -1.507, -1.507, -1.507, -1.507, -1.507, 2.0678, 1.9064, 1.6867, 1.6867, 1.6867, 1.6867, 1.6867, 1.6867, 1.6867, 1.4667, 1.3891, 0.7044, 0.6091, -0.1901, -0.3682, -0.3941, -0.396, -0.3961, -0.3961, -0.3961, -0.5914, -0.6068, -0.6068, -0.6068, -0.6924, -0.6924, -0.6924, -0.6924, -0.6924, -0.6924, -1.3772, -1.3772, -2.7685, -2.2772, -3.8632, -3.2539, -2.2716, -2.5539, -3.2069, -0.7942, -1.5307, -1.1749, -0.7942, -1.2389, -1.9271, -1.1749, 2.1895, 2.087, 2.087, 1.9742, 1.7711, 1.7711, 1.7711, 1.7711, 1.771, 1.771, 1.3904, 1.3904, 1.286, 0.6381, 0.5639, 0.2936, -0.0491, -0.2272, -0.2531, -0.255, -0.2551, -0.2551, -0.2551, -0.2857, -0.4504, -0.4658, -0.4658, -0.4658, -0.5514, -0.5514, -3.7222, -0.8505, -3.0658, -3.1129, -1.4535, -3.6487, -0.5966, -0.5966, -0.5966, -0.5966, -0.5966, -2.5484, -1.0247, -0.5966, 2.1364, 2.1364, 2.0481, 1.8176, 1.8176, 1.8176, 1.8176, 1.8176, 1.8176, 1.5189, 1.3948, 1.3052, 0.5094, 0.068, 0.0597, -0.1184, -0.1443, -0.1448, -0.1448, -0.1462, -0.1463, -0.1769, -0.3416, -0.357, -0.357, -0.357, -0.4334, -0.4426, -0.4426, -0.4426, -0.5328, -1.0331, -1.1523, -1.1523, -2.4395, -1.3447, -1.6773, -3.5399, -2.3041, -0.9251, -0.5444, 2.3609, 2.3609, 2.3609, 2.3542, 2.2234, 2.1853, 2.093, 1.4934, 1.0632, 0.8483, -0.3482, -0.9567, -0.9586, -0.9587, -0.9587, -0.9587, -0.9893, -1.1541, -1.1694, -1.1694, -1.1694, -1.255, -1.255, -1.255, -1.2551, -1.2551, -1.2551, -1.2551, -1.2551, -1.3002, -2.6657, -3.7687, -3.2519, -4.3522, -2.5524, -4.4259, -1.965, -1.965, -2.1572, -1.473, -2.0503, -2.0933, -1.9314, -1.8015, -2.3033, -1.4191, 2.9904, 2.9425, 2.9425, 2.7889, 2.5259, 2.5259, 2.5259, 0.5184, 0.3402, 0.3144, 0.3124, 0.3123, 0.3123, 0.3123, 0.2818, 0.117, 0.016, 0.016, 0.016, 0.016, 0.016, 0.016, 0.016, 0.016, -0.0291, -0.0291, -0.0291, -0.0291, -0.0291, -0.0291, -0.5727, -1.2806, -3.1543, -3.2602, -1.8454, -2.5455, -2.4984, -3.0813, -0.5304, -1.0322, -0.7087, -1.2665, -0.2274, -0.2274, -0.2274, -0.2274, -1.5632, -0.8223, -0.6604, -0.2274, -0.2274, -0.2274, -0.2274, 3.1218, 3.1218, 3.1218, 3.1218, 3.1218, 3.1218, 2.546, 0.3257, 0.1476, 0.1198, 0.1197, 0.1197, 0.1197, 0.0891, -0.0756, -0.091, -0.091, -0.091, -0.1766, -0.1766, -0.1766, -0.1766, -0.1766, -0.1766, -0.1766, -0.1766, -0.2218, -0.2218, -0.2218, -0.2218, -1.4566, -3.3469, -0.4758, -3.2739, -0.768, -0.6591, -0.2784, -0.7231, -1.4114, -1.7558, -0.6591, -0.7635, -0.2784, -0.2784, -0.2218, -0.2218, -0.2218, 3.4238, 1.3443, 1.1661, 1.1403, 1.1383, 1.1382, 1.1382, 1.1382, 1.1077, 0.9429, 0.9275, 0.9275, 0.9275, 0.8419, 0.8419, 0.8419, 0.8419, 0.8419, 0.8419, 0.8419, 0.8419, 0.7968, 0.7968, 0.7968, 0.7968, 0.7968, 0.7968, 0.7968, 0.7402, 0.7402, -2.3288, -0.2063, -1.2344, 0.3687, -2.2553, -1.7196, -1.155, 0.3595, 0.7402, 0.2955, -0.3928, -0.7373, 0.3595, 0.2551, 0.7402, 0.7402, 0.2505, 0.7354, 0.5637]}, \"token.table\": {\"Topic\": [7, 1, 2, 5, 8, 2, 3, 1, 3, 6, 7, 6, 1, 4, 5, 6, 7, 1, 8, 1, 7, 5, 4, 5, 5, 1, 1, 8, 5, 1, 7, 9, 2, 9, 8, 7, 6, 3, 6, 4, 8, 6, 4, 1, 2, 4, 3, 5, 2, 6, 1, 6, 3, 1, 4, 1, 1, 1, 1, 4, 3, 1, 3, 5, 2, 5, 1, 3, 5, 5, 6, 5, 6, 2, 3, 1, 5, 1, 5, 1, 6, 1, 3, 1, 4, 10, 9, 4, 1, 6, 7, 1, 2, 5, 2, 3, 6, 2, 7, 2, 3, 4, 2, 7, 2, 9, 9, 2, 1, 4, 2, 2, 8, 3, 4, 2, 2, 2, 3, 2, 8, 6, 1, 6, 5, 4, 9, 6], \"Freq\": [0.669372239959526, 0.47397959592461736, 0.37321208109684056, 0.37321208109684056, 0.4482584462745618, 0.6046019860874704, 0.9143335138673024, 0.2799939249463447, 0.3733252332617929, 0.09333130831544822, 0.18666261663089645, 0.8259597214293364, 0.47953669557604833, 0.20551572667544926, 0.18268064593373268, 0.06850524222514975, 0.04567016148343317, 0.47397907972358155, 0.8917171779503439, 0.2478480604208608, 0.7435441812625824, 0.5461037534130295, 0.5779183970542812, 0.5461031745324187, 0.7001260535713603, 0.47397907772248304, 0.4739790756973248, 0.6586441432428669, 0.9397972351210628, 0.4739790756973248, 0.45307814751940706, 0.8622526850541485, 0.778890912754131, 0.8622527235166421, 0.8917171779503439, 0.7684693722880869, 0.5131164952385058, 0.9143330466281384, 0.8259544487587851, 0.5779183970542812, 0.6586441432428669, 0.5131164952385058, 0.7886575651860855, 0.4739790756973248, 0.5189193196837355, 0.464296233401237, 0.7035595790223016, 0.1758898947555754, 0.813119384394307, 0.5131164952385058, 0.47397959592461736, 0.5131164952385058, 0.5435383550969175, 0.47397907873506223, 0.5779183939685583, 0.47397907972358155, 0.47397959592461736, 0.47397907873506223, 0.8787534001760953, 0.5779192124585665, 0.9143346716771118, 0.12463234081834239, 0.6231617040917119, 0.12463234081834239, 0.37320990777361335, 0.37320990777361335, 0.8478088550429672, 0.45776940516469544, 0.5461054282313473, 0.33620898306625113, 0.33620898306625113, 0.8913167762412726, 0.5131164952385058, 0.7581261591508959, 0.22743784774526873, 0.47397907772248304, 0.8913167762412726, 0.47397907772248304, 0.5461031766588088, 0.2614671652925642, 0.5229343305851284, 0.16767455070930065, 0.6706982028372026, 0.47397907772248304, 0.5779183939685583, 0.48621105080431687, 0.8622527235166421, 0.5779183939685583, 0.3074101790213514, 0.3074101790213514, 0.7684693722880869, 0.8833775753837095, 0.9037062653277732, 0.5461031766588088, 0.40597565425924376, 0.40597565425924376, 0.17761434873841914, 0.813119384394307, 0.798403337120949, 0.5745124348733827, 0.1641464099638236, 0.2462196149457354, 0.8131310279050427, 0.7684693722880869, 0.8132062115662602, 0.8622526850541485, 0.8622527235166421, 0.6046041863669886, 0.4739790756973248, 0.7532906184417679, 0.604598782802987, 0.6046019860874704, 0.7358577383911008, 0.6688557704545602, 0.7920132755067493, 0.6046041863669886, 0.6046019860874704, 0.6046041863669886, 0.9143330466281384, 0.604598782802987, 0.6586441432428669, 0.513116631453111, 0.9294230219782549, 0.04891700115675026, 0.5461054282313473, 0.5779183970542812, 0.8622526850541485, 0.8188520069429708], \"Term\": [\"amazing\", \"apple\", \"available\", \"available\", \"awesome\", \"bass\", \"beet\", \"boat\", \"boat\", \"boat\", \"boat\", \"brand\", \"cable\", \"cable\", \"cable\", \"cable\", \"cable\", \"cell\", \"charge\", \"charger\", \"charger\", \"check\", \"clothe\", \"colour\", \"comfortable\", \"cost\", \"ctype\", \"data\", \"datum\", \"day\", \"delivery\", \"description\", \"design\", \"device\", \"different\", \"dual\", \"durable\", \"enough\", \"excellent\", \"face\", \"fast\", \"feedback\", \"finish\", \"full\", \"good\", \"good\", \"great\", \"great\", \"happy\", \"hope\", \"indestructible\", \"initial\", \"item\", \"laptop\", \"large\", \"length\", \"lightning\", \"lite\", \"long\", \"looking\", \"low\", \"market\", \"market\", \"market\", \"mask\", \"mask\", \"meter\", \"military\", \"money\", \"more\", \"more\", \"much\", \"next\", \"nice\", \"nice\", \"note\", \"oasum\", \"oneplus\", \"option\", \"original\", \"original\", \"other\", \"other\", \"output\", \"people\", \"perfect\", \"performance\", \"person\", \"phone\", \"phone\", \"port\", \"power\", \"price\", \"pricing\", \"product\", \"product\", \"product\", \"purchase\", \"qcpd\", \"quality\", \"quality\", \"quality\", \"quantity\", \"rapid\", \"redy\", \"same\", \"satisfied\", \"similar\", \"simple\", \"size\", \"soft\", \"spec\", \"speed\", \"standard\", \"strong\", \"such\", \"super\", \"superb\", \"thank\", \"touch\", \"transfer\", \"trust\", \"type\", \"type\", \"value\", \"very\", \"website\", \"year\"]}, \"R\": 30, \"lambda.step\": 0.01, \"plot.opts\": {\"xlab\": \"PC1\", \"ylab\": \"PC2\"}, \"topic.order\": [7, 4, 10, 6, 9, 5, 2, 8, 3, 1]};\n",
              "\n",
              "function LDAvis_load_lib(url, callback){\n",
              "  var s = document.createElement('script');\n",
              "  s.src = url;\n",
              "  s.async = true;\n",
              "  s.onreadystatechange = s.onload = callback;\n",
              "  s.onerror = function(){console.warn(\"failed to load library \" + url);};\n",
              "  document.getElementsByTagName(\"head\")[0].appendChild(s);\n",
              "}\n",
              "\n",
              "if(typeof(LDAvis) !== \"undefined\"){\n",
              "   // already loaded: just create the visualization\n",
              "   !function(LDAvis){\n",
              "       new LDAvis(\"#\" + \"ldavis_el142824580893157924200315891\", ldavis_el142824580893157924200315891_data);\n",
              "   }(LDAvis);\n",
              "}else if(typeof define === \"function\" && define.amd){\n",
              "   // require.js is available: use it to load d3/LDAvis\n",
              "   require.config({paths: {d3: \"https://d3js.org/d3.v5\"}});\n",
              "   require([\"d3\"], function(d3){\n",
              "      window.d3 = d3;\n",
              "      LDAvis_load_lib(\"https://cdn.jsdelivr.net/gh/bmabey/pyLDAvis@3.4.0/pyLDAvis/js/ldavis.v3.0.0.js\", function(){\n",
              "        new LDAvis(\"#\" + \"ldavis_el142824580893157924200315891\", ldavis_el142824580893157924200315891_data);\n",
              "      });\n",
              "    });\n",
              "}else{\n",
              "    // require.js not available: dynamically load d3 & LDAvis\n",
              "    LDAvis_load_lib(\"https://d3js.org/d3.v5.js\", function(){\n",
              "         LDAvis_load_lib(\"https://cdn.jsdelivr.net/gh/bmabey/pyLDAvis@3.4.0/pyLDAvis/js/ldavis.v3.0.0.js\", function(){\n",
              "                 new LDAvis(\"#\" + \"ldavis_el142824580893157924200315891\", ldavis_el142824580893157924200315891_data);\n",
              "            })\n",
              "         });\n",
              "}\n",
              "</script>"
            ],
            "text/plain": [
              "PreparedData(topic_coordinates=              x         y  topics  cluster       Freq\n",
              "topic                                                \n",
              "6      0.160776 -0.081265       1        1  20.832480\n",
              "3     -0.317143  0.002761       2        1  17.148689\n",
              "9     -0.179332 -0.174812       3        1  13.031233\n",
              "5     -0.067647  0.060789       4        1  10.854101\n",
              "8      0.109599  0.049963       5        1  10.454449\n",
              "4     -0.022516 -0.073955       6        1  10.452951\n",
              "1      0.188613 -0.211951       7        1   8.041903\n",
              "7      0.046106  0.156626       8        1   4.118818\n",
              "2      0.051405  0.193970       9        1   2.954679\n",
              "0      0.030140  0.077874      10        1   2.110697, topic_info=        Term       Freq      Total Category  logprob  loglift\n",
              "11      good  36.000000  36.000000  Default  30.0000  30.0000\n",
              "25   product  39.000000  39.000000  Default  29.0000  29.0000\n",
              "33     cable  43.000000  43.000000  Default  28.0000  28.0000\n",
              "40      type  20.000000  20.000000  Default  27.0000  27.0000\n",
              "42     datum  10.000000  10.000000  Default  26.0000  26.0000\n",
              "..       ...        ...        ...      ...      ...      ...\n",
              "7     option   0.081021   1.831156  Topic10  -4.8076   0.7402\n",
              "8    pricing   0.081021   1.831156  Topic10  -4.8076   0.7402\n",
              "18   amazing   0.081021   2.987874  Topic10  -4.8076   0.2505\n",
              "22      item   0.081021   1.839797  Topic10  -4.8076   0.7354\n",
              "23  military   0.081021   2.184506  Topic10  -4.8076   0.5637\n",
              "\n",
              "[470 rows x 6 columns], token_table=      Topic      Freq       Term\n",
              "term                            \n",
              "18        7  0.669372    amazing\n",
              "32        1  0.473980      apple\n",
              "0         2  0.373212  available\n",
              "0         5  0.373212  available\n",
              "41        8  0.448258    awesome\n",
              "...     ...       ...        ...\n",
              "40        6  0.048917       type\n",
              "76        5  0.546105      value\n",
              "17        4  0.577918       very\n",
              "99        9  0.862253    website\n",
              "50        6  0.818852       year\n",
              "\n",
              "[128 rows x 3 columns], R=30, lambda_step=0.01, plot_opts={'xlab': 'PC1', 'ylab': 'PC2'}, topic_order=[7, 4, 10, 6, 9, 5, 2, 8, 3, 1])"
            ]
          },
          "execution_count": 92,
          "metadata": {},
          "output_type": "execute_result"
        }
      ],
      "source": [
        "# visualize topics\n",
        "pyLDAvis.enable_notebook()\n",
        "vis = pyLDAvis.gensim.prepare(lda_model, doc_term_matrix, dictionary)\n",
        "vis"
      ]
    },
    {
      "cell_type": "markdown",
      "id": "da6ce2ed-d089-420a-b120-b73a7dee169f",
      "metadata": {
        "id": "da6ce2ed-d089-420a-b120-b73a7dee169f"
      },
      "source": [
        "# Plot Dependency Parser"
      ]
    },
    {
      "cell_type": "markdown",
      "id": "6da58643-da28-4fba-a203-603373314823",
      "metadata": {
        "id": "6da58643-da28-4fba-a203-603373314823"
      },
      "source": [
        "**Plot the dependency parser for any two random sentences from the entire corpus/dataset that has at least 10 words in the sentence.**\n",
        "\n",
        "Make sure that dependency parser looks good and should visually understandable. (3 Mark)"
      ]
    },
    {
      "cell_type": "code",
      "execution_count": null,
      "id": "ef944885-4991-4c3c-a1ee-d9123ce4240e",
      "metadata": {
        "id": "ef944885-4991-4c3c-a1ee-d9123ce4240e",
        "outputId": "a1ae8ca4-4127-42f4-b7c6-423ad752fd85"
      },
      "outputs": [
        {
          "data": {
            "text/html": [
              "<div>\n",
              "<style scoped>\n",
              "    .dataframe tbody tr th:only-of-type {\n",
              "        vertical-align: middle;\n",
              "    }\n",
              "\n",
              "    .dataframe tbody tr th {\n",
              "        vertical-align: top;\n",
              "    }\n",
              "\n",
              "    .dataframe thead th {\n",
              "        text-align: right;\n",
              "    }\n",
              "</style>\n",
              "<table border=\"1\" class=\"dataframe\">\n",
              "  <thead>\n",
              "    <tr style=\"text-align: right;\">\n",
              "      <th></th>\n",
              "      <th>ProductName</th>\n",
              "      <th>ProductPrice</th>\n",
              "      <th>Discount</th>\n",
              "      <th>NumberofReviews</th>\n",
              "      <th>Rate</th>\n",
              "      <th>Review</th>\n",
              "      <th>Summary</th>\n",
              "    </tr>\n",
              "  </thead>\n",
              "  <tbody>\n",
              "    <tr>\n",
              "      <th>0</th>\n",
              "      <td>Mask</td>\n",
              "      <td>\\nSale price₹ 499</td>\n",
              "      <td>17% off</td>\n",
              "      <td>147 reviews</td>\n",
              "      <td>★\\n  4.9\\n</td>\n",
              "      <td>Excellent!!</td>\n",
              "      <td>One of the most comfortable masks available in...</td>\n",
              "    </tr>\n",
              "    <tr>\n",
              "      <th>1</th>\n",
              "      <td>Mask</td>\n",
              "      <td>\\nSale price₹ 499</td>\n",
              "      <td>17% off</td>\n",
              "      <td>147 reviews</td>\n",
              "      <td>★\\n  4.9\\n</td>\n",
              "      <td>Good mask</td>\n",
              "      <td>Quality is good and good to use . size is for ...</td>\n",
              "    </tr>\n",
              "    <tr>\n",
              "      <th>2</th>\n",
              "      <td>Mask</td>\n",
              "      <td>\\nSale price₹ 499</td>\n",
              "      <td>17% off</td>\n",
              "      <td>147 reviews</td>\n",
              "      <td>★\\n  4.9\\n</td>\n",
              "      <td>The best in range</td>\n",
              "      <td>Super bass with very good spec....  amazing ne...</td>\n",
              "    </tr>\n",
              "    <tr>\n",
              "      <th>3</th>\n",
              "      <td>Mask</td>\n",
              "      <td>\\nSale price₹ 499</td>\n",
              "      <td>17% off</td>\n",
              "      <td>147 reviews</td>\n",
              "      <td>★\\n  4.9\\n</td>\n",
              "      <td>Excellent Product</td>\n",
              "      <td>Top notch product amongst other items in the m...</td>\n",
              "    </tr>\n",
              "    <tr>\n",
              "      <th>4</th>\n",
              "      <td>Mask</td>\n",
              "      <td>\\nSale price₹ 499</td>\n",
              "      <td>17% off</td>\n",
              "      <td>147 reviews</td>\n",
              "      <td>★\\n  4.9\\n</td>\n",
              "      <td>Excellent product</td>\n",
              "      <td>Very comfortable..</td>\n",
              "    </tr>\n",
              "  </tbody>\n",
              "</table>\n",
              "</div>"
            ],
            "text/plain": [
              "  ProductName       ProductPrice Discount NumberofReviews            Rate  \\\n",
              "0        Mask  \\nSale price₹ 499  17% off     147 reviews  ★\\n  4.9\\n       \n",
              "1        Mask  \\nSale price₹ 499  17% off     147 reviews  ★\\n  4.9\\n       \n",
              "2        Mask  \\nSale price₹ 499  17% off     147 reviews  ★\\n  4.9\\n       \n",
              "3        Mask  \\nSale price₹ 499  17% off     147 reviews  ★\\n  4.9\\n       \n",
              "4        Mask  \\nSale price₹ 499  17% off     147 reviews  ★\\n  4.9\\n       \n",
              "\n",
              "              Review                                            Summary  \n",
              "0        Excellent!!  One of the most comfortable masks available in...  \n",
              "1          Good mask  Quality is good and good to use . size is for ...  \n",
              "2  The best in range  Super bass with very good spec....  amazing ne...  \n",
              "3  Excellent Product  Top notch product amongst other items in the m...  \n",
              "4  Excellent product                                 Very comfortable..  "
            ]
          },
          "execution_count": 93,
          "metadata": {},
          "output_type": "execute_result"
        }
      ],
      "source": [
        "df1=pd.read_csv(\"Mobile Accessories.csv\")\n",
        "df1.head()"
      ]
    },
    {
      "cell_type": "code",
      "execution_count": null,
      "id": "02b93a9f-ca53-4c1c-89e5-b806a3f5e813",
      "metadata": {
        "id": "02b93a9f-ca53-4c1c-89e5-b806a3f5e813",
        "outputId": "66c30182-9268-45eb-da5f-d6450d6ea8aa"
      },
      "outputs": [
        {
          "name": "stdout",
          "output_type": "stream",
          "text": [
            "Node (from)-->   Relation     -->Node (to)\n",
            "\n",
            "fox                det                 The\n",
            "fox                amod              quick\n",
            "fox                amod              brown\n",
            "jumping           nsubj                fox\n",
            "jumping            ROOT            jumping\n",
            "jumping            prep               over\n",
            "dog                det                 the\n",
            "dog                amod               lazy\n",
            "over               pobj                dog\n"
          ]
        },
        {
          "data": {
            "text/html": [
              "<span class=\"tex2jax_ignore\"><svg xmlns=\"http://www.w3.org/2000/svg\" xmlns:xlink=\"http://www.w3.org/1999/xlink\" xml:lang=\"en\" id=\"204432c9a7ae4946aeb59f1b741e0ee5-0\" class=\"displacy\" width=\"1625\" height=\"399.5\" direction=\"ltr\" style=\"max-width: none; height: 399.5px; color: #000000; background: #ffffff; font-family: Arial; direction: ltr\">\n",
              "<text class=\"displacy-token\" fill=\"currentColor\" text-anchor=\"middle\" y=\"309.5\">\n",
              "    <tspan class=\"displacy-word\" fill=\"currentColor\" x=\"50\">The</tspan>\n",
              "    <tspan class=\"displacy-tag\" dy=\"2em\" fill=\"currentColor\" x=\"50\">DET</tspan>\n",
              "</text>\n",
              "\n",
              "<text class=\"displacy-token\" fill=\"currentColor\" text-anchor=\"middle\" y=\"309.5\">\n",
              "    <tspan class=\"displacy-word\" fill=\"currentColor\" x=\"225\">quick</tspan>\n",
              "    <tspan class=\"displacy-tag\" dy=\"2em\" fill=\"currentColor\" x=\"225\">ADJ</tspan>\n",
              "</text>\n",
              "\n",
              "<text class=\"displacy-token\" fill=\"currentColor\" text-anchor=\"middle\" y=\"309.5\">\n",
              "    <tspan class=\"displacy-word\" fill=\"currentColor\" x=\"400\">brown</tspan>\n",
              "    <tspan class=\"displacy-tag\" dy=\"2em\" fill=\"currentColor\" x=\"400\">ADJ</tspan>\n",
              "</text>\n",
              "\n",
              "<text class=\"displacy-token\" fill=\"currentColor\" text-anchor=\"middle\" y=\"309.5\">\n",
              "    <tspan class=\"displacy-word\" fill=\"currentColor\" x=\"575\">fox</tspan>\n",
              "    <tspan class=\"displacy-tag\" dy=\"2em\" fill=\"currentColor\" x=\"575\">NOUN</tspan>\n",
              "</text>\n",
              "\n",
              "<text class=\"displacy-token\" fill=\"currentColor\" text-anchor=\"middle\" y=\"309.5\">\n",
              "    <tspan class=\"displacy-word\" fill=\"currentColor\" x=\"750\">jumping</tspan>\n",
              "    <tspan class=\"displacy-tag\" dy=\"2em\" fill=\"currentColor\" x=\"750\">VERB</tspan>\n",
              "</text>\n",
              "\n",
              "<text class=\"displacy-token\" fill=\"currentColor\" text-anchor=\"middle\" y=\"309.5\">\n",
              "    <tspan class=\"displacy-word\" fill=\"currentColor\" x=\"925\">over</tspan>\n",
              "    <tspan class=\"displacy-tag\" dy=\"2em\" fill=\"currentColor\" x=\"925\">ADP</tspan>\n",
              "</text>\n",
              "\n",
              "<text class=\"displacy-token\" fill=\"currentColor\" text-anchor=\"middle\" y=\"309.5\">\n",
              "    <tspan class=\"displacy-word\" fill=\"currentColor\" x=\"1100\">the</tspan>\n",
              "    <tspan class=\"displacy-tag\" dy=\"2em\" fill=\"currentColor\" x=\"1100\">DET</tspan>\n",
              "</text>\n",
              "\n",
              "<text class=\"displacy-token\" fill=\"currentColor\" text-anchor=\"middle\" y=\"309.5\">\n",
              "    <tspan class=\"displacy-word\" fill=\"currentColor\" x=\"1275\">lazy</tspan>\n",
              "    <tspan class=\"displacy-tag\" dy=\"2em\" fill=\"currentColor\" x=\"1275\">ADJ</tspan>\n",
              "</text>\n",
              "\n",
              "<text class=\"displacy-token\" fill=\"currentColor\" text-anchor=\"middle\" y=\"309.5\">\n",
              "    <tspan class=\"displacy-word\" fill=\"currentColor\" x=\"1450\">dog</tspan>\n",
              "    <tspan class=\"displacy-tag\" dy=\"2em\" fill=\"currentColor\" x=\"1450\">NOUN</tspan>\n",
              "</text>\n",
              "\n",
              "<g class=\"displacy-arrow\">\n",
              "    <path class=\"displacy-arc\" id=\"arrow-204432c9a7ae4946aeb59f1b741e0ee5-0-0\" stroke-width=\"2px\" d=\"M70,264.5 C70,2.0 575.0,2.0 575.0,264.5\" fill=\"none\" stroke=\"currentColor\"/>\n",
              "    <text dy=\"1.25em\" style=\"font-size: 0.8em; letter-spacing: 1px\">\n",
              "        <textPath xlink:href=\"#arrow-204432c9a7ae4946aeb59f1b741e0ee5-0-0\" class=\"displacy-label\" startOffset=\"50%\" side=\"left\" fill=\"currentColor\" text-anchor=\"middle\">det</textPath>\n",
              "    </text>\n",
              "    <path class=\"displacy-arrowhead\" d=\"M70,266.5 L62,254.5 78,254.5\" fill=\"currentColor\"/>\n",
              "</g>\n",
              "\n",
              "<g class=\"displacy-arrow\">\n",
              "    <path class=\"displacy-arc\" id=\"arrow-204432c9a7ae4946aeb59f1b741e0ee5-0-1\" stroke-width=\"2px\" d=\"M245,264.5 C245,89.5 570.0,89.5 570.0,264.5\" fill=\"none\" stroke=\"currentColor\"/>\n",
              "    <text dy=\"1.25em\" style=\"font-size: 0.8em; letter-spacing: 1px\">\n",
              "        <textPath xlink:href=\"#arrow-204432c9a7ae4946aeb59f1b741e0ee5-0-1\" class=\"displacy-label\" startOffset=\"50%\" side=\"left\" fill=\"currentColor\" text-anchor=\"middle\">amod</textPath>\n",
              "    </text>\n",
              "    <path class=\"displacy-arrowhead\" d=\"M245,266.5 L237,254.5 253,254.5\" fill=\"currentColor\"/>\n",
              "</g>\n",
              "\n",
              "<g class=\"displacy-arrow\">\n",
              "    <path class=\"displacy-arc\" id=\"arrow-204432c9a7ae4946aeb59f1b741e0ee5-0-2\" stroke-width=\"2px\" d=\"M420,264.5 C420,177.0 565.0,177.0 565.0,264.5\" fill=\"none\" stroke=\"currentColor\"/>\n",
              "    <text dy=\"1.25em\" style=\"font-size: 0.8em; letter-spacing: 1px\">\n",
              "        <textPath xlink:href=\"#arrow-204432c9a7ae4946aeb59f1b741e0ee5-0-2\" class=\"displacy-label\" startOffset=\"50%\" side=\"left\" fill=\"currentColor\" text-anchor=\"middle\">amod</textPath>\n",
              "    </text>\n",
              "    <path class=\"displacy-arrowhead\" d=\"M420,266.5 L412,254.5 428,254.5\" fill=\"currentColor\"/>\n",
              "</g>\n",
              "\n",
              "<g class=\"displacy-arrow\">\n",
              "    <path class=\"displacy-arc\" id=\"arrow-204432c9a7ae4946aeb59f1b741e0ee5-0-3\" stroke-width=\"2px\" d=\"M595,264.5 C595,177.0 740.0,177.0 740.0,264.5\" fill=\"none\" stroke=\"currentColor\"/>\n",
              "    <text dy=\"1.25em\" style=\"font-size: 0.8em; letter-spacing: 1px\">\n",
              "        <textPath xlink:href=\"#arrow-204432c9a7ae4946aeb59f1b741e0ee5-0-3\" class=\"displacy-label\" startOffset=\"50%\" side=\"left\" fill=\"currentColor\" text-anchor=\"middle\">nsubj</textPath>\n",
              "    </text>\n",
              "    <path class=\"displacy-arrowhead\" d=\"M595,266.5 L587,254.5 603,254.5\" fill=\"currentColor\"/>\n",
              "</g>\n",
              "\n",
              "<g class=\"displacy-arrow\">\n",
              "    <path class=\"displacy-arc\" id=\"arrow-204432c9a7ae4946aeb59f1b741e0ee5-0-4\" stroke-width=\"2px\" d=\"M770,264.5 C770,177.0 915.0,177.0 915.0,264.5\" fill=\"none\" stroke=\"currentColor\"/>\n",
              "    <text dy=\"1.25em\" style=\"font-size: 0.8em; letter-spacing: 1px\">\n",
              "        <textPath xlink:href=\"#arrow-204432c9a7ae4946aeb59f1b741e0ee5-0-4\" class=\"displacy-label\" startOffset=\"50%\" side=\"left\" fill=\"currentColor\" text-anchor=\"middle\">prep</textPath>\n",
              "    </text>\n",
              "    <path class=\"displacy-arrowhead\" d=\"M915.0,266.5 L923.0,254.5 907.0,254.5\" fill=\"currentColor\"/>\n",
              "</g>\n",
              "\n",
              "<g class=\"displacy-arrow\">\n",
              "    <path class=\"displacy-arc\" id=\"arrow-204432c9a7ae4946aeb59f1b741e0ee5-0-5\" stroke-width=\"2px\" d=\"M1120,264.5 C1120,89.5 1445.0,89.5 1445.0,264.5\" fill=\"none\" stroke=\"currentColor\"/>\n",
              "    <text dy=\"1.25em\" style=\"font-size: 0.8em; letter-spacing: 1px\">\n",
              "        <textPath xlink:href=\"#arrow-204432c9a7ae4946aeb59f1b741e0ee5-0-5\" class=\"displacy-label\" startOffset=\"50%\" side=\"left\" fill=\"currentColor\" text-anchor=\"middle\">det</textPath>\n",
              "    </text>\n",
              "    <path class=\"displacy-arrowhead\" d=\"M1120,266.5 L1112,254.5 1128,254.5\" fill=\"currentColor\"/>\n",
              "</g>\n",
              "\n",
              "<g class=\"displacy-arrow\">\n",
              "    <path class=\"displacy-arc\" id=\"arrow-204432c9a7ae4946aeb59f1b741e0ee5-0-6\" stroke-width=\"2px\" d=\"M1295,264.5 C1295,177.0 1440.0,177.0 1440.0,264.5\" fill=\"none\" stroke=\"currentColor\"/>\n",
              "    <text dy=\"1.25em\" style=\"font-size: 0.8em; letter-spacing: 1px\">\n",
              "        <textPath xlink:href=\"#arrow-204432c9a7ae4946aeb59f1b741e0ee5-0-6\" class=\"displacy-label\" startOffset=\"50%\" side=\"left\" fill=\"currentColor\" text-anchor=\"middle\">amod</textPath>\n",
              "    </text>\n",
              "    <path class=\"displacy-arrowhead\" d=\"M1295,266.5 L1287,254.5 1303,254.5\" fill=\"currentColor\"/>\n",
              "</g>\n",
              "\n",
              "<g class=\"displacy-arrow\">\n",
              "    <path class=\"displacy-arc\" id=\"arrow-204432c9a7ae4946aeb59f1b741e0ee5-0-7\" stroke-width=\"2px\" d=\"M945,264.5 C945,2.0 1450.0,2.0 1450.0,264.5\" fill=\"none\" stroke=\"currentColor\"/>\n",
              "    <text dy=\"1.25em\" style=\"font-size: 0.8em; letter-spacing: 1px\">\n",
              "        <textPath xlink:href=\"#arrow-204432c9a7ae4946aeb59f1b741e0ee5-0-7\" class=\"displacy-label\" startOffset=\"50%\" side=\"left\" fill=\"currentColor\" text-anchor=\"middle\">pobj</textPath>\n",
              "    </text>\n",
              "    <path class=\"displacy-arrowhead\" d=\"M1450.0,266.5 L1458.0,254.5 1442.0,254.5\" fill=\"currentColor\"/>\n",
              "</g>\n",
              "</svg></span>"
            ],
            "text/plain": [
              "<IPython.core.display.HTML object>"
            ]
          },
          "metadata": {},
          "output_type": "display_data"
        }
      ],
      "source": [
        "import spacy\n",
        "from spacy import displacy\n",
        "nlp = spacy.load(\"en_core_web_sm\")\n",
        "sentence = \"The quick brown fox jumping over the lazy dog\"\n",
        "doc = nlp(sentence)\n",
        "print(f\"{'Node (from)-->':<15} {'Relation':^10} {'-->Node (to)':>15}\\n\")\n",
        "for token in doc:\n",
        "    print(\"{:<15} {:^10} {:>15}\".format(str(token.head.text), str(token.dep_), str(token.text)))\n",
        "displacy.render(doc, style='dep')"
      ]
    },
    {
      "cell_type": "code",
      "execution_count": null,
      "id": "e539ba76-2c96-4218-b17a-d3faa0880b50",
      "metadata": {
        "id": "e539ba76-2c96-4218-b17a-d3faa0880b50",
        "outputId": "f4f69017-b120-49bf-db70-a9b2d235ca33"
      },
      "outputs": [
        {
          "name": "stdout",
          "output_type": "stream",
          "text": [
            "random sentences are:\n",
            "cable day note lite original cable length long cable long cable type ctype oneplus type type cost cable other cable market output cell phone full power charger laptop cable simple\n",
            "quality good good size person very face people large size clothe\n",
            "Dependency Parser for sentence 1\n",
            "Node (from)-->   Relation     -->Node (to)\n",
            "\n",
            "day              compound            cable\n",
            "note             compound              day\n",
            "cable              nmod               note\n",
            "cable              nmod               lite\n",
            "length             amod           original\n",
            "length           compound            cable\n",
            "cable              nmod             length\n",
            "cable              amod               long\n",
            "type               nmod              cable\n",
            "type               amod               long\n",
            "type             compound            cable\n",
            "type               nmod               type\n",
            "oneplus          compound            ctype\n",
            "type             compound          oneplus\n",
            "type             compound             type\n",
            "cost             compound             type\n",
            "cable            compound             cost\n",
            "phone              nmod              cable\n",
            "phone              amod              other\n",
            "market           compound            cable\n",
            "output           compound           market\n",
            "phone              nmod             output\n",
            "phone            compound             cell\n",
            "simple           compound            phone\n",
            "charger            amod               full\n",
            "charger          compound            power\n",
            "cable            compound          charger\n",
            "cable            compound           laptop\n",
            "simple           compound            cable\n",
            "simple             ROOT             simple\n"
          ]
        },
        {
          "data": {
            "text/html": [
              "<span class=\"tex2jax_ignore\"><svg xmlns=\"http://www.w3.org/2000/svg\" xmlns:xlink=\"http://www.w3.org/1999/xlink\" xml:lang=\"en\" id=\"b154fabb734542aba38adc76e0fcc8b4-0\" class=\"displacy\" width=\"5300\" height=\"662.0\" direction=\"ltr\" style=\"max-width: none; height: 662.0px; color: #000000; background: #ffffff; font-family: Arial; direction: ltr\">\n",
              "<text class=\"displacy-token\" fill=\"currentColor\" text-anchor=\"middle\" y=\"572.0\">\n",
              "    <tspan class=\"displacy-word\" fill=\"currentColor\" x=\"50\">cable</tspan>\n",
              "    <tspan class=\"displacy-tag\" dy=\"2em\" fill=\"currentColor\" x=\"50\">NOUN</tspan>\n",
              "</text>\n",
              "\n",
              "<text class=\"displacy-token\" fill=\"currentColor\" text-anchor=\"middle\" y=\"572.0\">\n",
              "    <tspan class=\"displacy-word\" fill=\"currentColor\" x=\"225\">day</tspan>\n",
              "    <tspan class=\"displacy-tag\" dy=\"2em\" fill=\"currentColor\" x=\"225\">NOUN</tspan>\n",
              "</text>\n",
              "\n",
              "<text class=\"displacy-token\" fill=\"currentColor\" text-anchor=\"middle\" y=\"572.0\">\n",
              "    <tspan class=\"displacy-word\" fill=\"currentColor\" x=\"400\">note</tspan>\n",
              "    <tspan class=\"displacy-tag\" dy=\"2em\" fill=\"currentColor\" x=\"400\">NOUN</tspan>\n",
              "</text>\n",
              "\n",
              "<text class=\"displacy-token\" fill=\"currentColor\" text-anchor=\"middle\" y=\"572.0\">\n",
              "    <tspan class=\"displacy-word\" fill=\"currentColor\" x=\"575\">lite</tspan>\n",
              "    <tspan class=\"displacy-tag\" dy=\"2em\" fill=\"currentColor\" x=\"575\">PROPN</tspan>\n",
              "</text>\n",
              "\n",
              "<text class=\"displacy-token\" fill=\"currentColor\" text-anchor=\"middle\" y=\"572.0\">\n",
              "    <tspan class=\"displacy-word\" fill=\"currentColor\" x=\"750\">original</tspan>\n",
              "    <tspan class=\"displacy-tag\" dy=\"2em\" fill=\"currentColor\" x=\"750\">ADJ</tspan>\n",
              "</text>\n",
              "\n",
              "<text class=\"displacy-token\" fill=\"currentColor\" text-anchor=\"middle\" y=\"572.0\">\n",
              "    <tspan class=\"displacy-word\" fill=\"currentColor\" x=\"925\">cable</tspan>\n",
              "    <tspan class=\"displacy-tag\" dy=\"2em\" fill=\"currentColor\" x=\"925\">NOUN</tspan>\n",
              "</text>\n",
              "\n",
              "<text class=\"displacy-token\" fill=\"currentColor\" text-anchor=\"middle\" y=\"572.0\">\n",
              "    <tspan class=\"displacy-word\" fill=\"currentColor\" x=\"1100\">length</tspan>\n",
              "    <tspan class=\"displacy-tag\" dy=\"2em\" fill=\"currentColor\" x=\"1100\">NOUN</tspan>\n",
              "</text>\n",
              "\n",
              "<text class=\"displacy-token\" fill=\"currentColor\" text-anchor=\"middle\" y=\"572.0\">\n",
              "    <tspan class=\"displacy-word\" fill=\"currentColor\" x=\"1275\">long</tspan>\n",
              "    <tspan class=\"displacy-tag\" dy=\"2em\" fill=\"currentColor\" x=\"1275\">ADJ</tspan>\n",
              "</text>\n",
              "\n",
              "<text class=\"displacy-token\" fill=\"currentColor\" text-anchor=\"middle\" y=\"572.0\">\n",
              "    <tspan class=\"displacy-word\" fill=\"currentColor\" x=\"1450\">cable</tspan>\n",
              "    <tspan class=\"displacy-tag\" dy=\"2em\" fill=\"currentColor\" x=\"1450\">NOUN</tspan>\n",
              "</text>\n",
              "\n",
              "<text class=\"displacy-token\" fill=\"currentColor\" text-anchor=\"middle\" y=\"572.0\">\n",
              "    <tspan class=\"displacy-word\" fill=\"currentColor\" x=\"1625\">long</tspan>\n",
              "    <tspan class=\"displacy-tag\" dy=\"2em\" fill=\"currentColor\" x=\"1625\">ADJ</tspan>\n",
              "</text>\n",
              "\n",
              "<text class=\"displacy-token\" fill=\"currentColor\" text-anchor=\"middle\" y=\"572.0\">\n",
              "    <tspan class=\"displacy-word\" fill=\"currentColor\" x=\"1800\">cable</tspan>\n",
              "    <tspan class=\"displacy-tag\" dy=\"2em\" fill=\"currentColor\" x=\"1800\">NOUN</tspan>\n",
              "</text>\n",
              "\n",
              "<text class=\"displacy-token\" fill=\"currentColor\" text-anchor=\"middle\" y=\"572.0\">\n",
              "    <tspan class=\"displacy-word\" fill=\"currentColor\" x=\"1975\">type</tspan>\n",
              "    <tspan class=\"displacy-tag\" dy=\"2em\" fill=\"currentColor\" x=\"1975\">NOUN</tspan>\n",
              "</text>\n",
              "\n",
              "<text class=\"displacy-token\" fill=\"currentColor\" text-anchor=\"middle\" y=\"572.0\">\n",
              "    <tspan class=\"displacy-word\" fill=\"currentColor\" x=\"2150\">ctype</tspan>\n",
              "    <tspan class=\"displacy-tag\" dy=\"2em\" fill=\"currentColor\" x=\"2150\">NOUN</tspan>\n",
              "</text>\n",
              "\n",
              "<text class=\"displacy-token\" fill=\"currentColor\" text-anchor=\"middle\" y=\"572.0\">\n",
              "    <tspan class=\"displacy-word\" fill=\"currentColor\" x=\"2325\">oneplus</tspan>\n",
              "    <tspan class=\"displacy-tag\" dy=\"2em\" fill=\"currentColor\" x=\"2325\">NOUN</tspan>\n",
              "</text>\n",
              "\n",
              "<text class=\"displacy-token\" fill=\"currentColor\" text-anchor=\"middle\" y=\"572.0\">\n",
              "    <tspan class=\"displacy-word\" fill=\"currentColor\" x=\"2500\">type</tspan>\n",
              "    <tspan class=\"displacy-tag\" dy=\"2em\" fill=\"currentColor\" x=\"2500\">NOUN</tspan>\n",
              "</text>\n",
              "\n",
              "<text class=\"displacy-token\" fill=\"currentColor\" text-anchor=\"middle\" y=\"572.0\">\n",
              "    <tspan class=\"displacy-word\" fill=\"currentColor\" x=\"2675\">type</tspan>\n",
              "    <tspan class=\"displacy-tag\" dy=\"2em\" fill=\"currentColor\" x=\"2675\">NOUN</tspan>\n",
              "</text>\n",
              "\n",
              "<text class=\"displacy-token\" fill=\"currentColor\" text-anchor=\"middle\" y=\"572.0\">\n",
              "    <tspan class=\"displacy-word\" fill=\"currentColor\" x=\"2850\">cost</tspan>\n",
              "    <tspan class=\"displacy-tag\" dy=\"2em\" fill=\"currentColor\" x=\"2850\">NOUN</tspan>\n",
              "</text>\n",
              "\n",
              "<text class=\"displacy-token\" fill=\"currentColor\" text-anchor=\"middle\" y=\"572.0\">\n",
              "    <tspan class=\"displacy-word\" fill=\"currentColor\" x=\"3025\">cable</tspan>\n",
              "    <tspan class=\"displacy-tag\" dy=\"2em\" fill=\"currentColor\" x=\"3025\">NOUN</tspan>\n",
              "</text>\n",
              "\n",
              "<text class=\"displacy-token\" fill=\"currentColor\" text-anchor=\"middle\" y=\"572.0\">\n",
              "    <tspan class=\"displacy-word\" fill=\"currentColor\" x=\"3200\">other</tspan>\n",
              "    <tspan class=\"displacy-tag\" dy=\"2em\" fill=\"currentColor\" x=\"3200\">ADJ</tspan>\n",
              "</text>\n",
              "\n",
              "<text class=\"displacy-token\" fill=\"currentColor\" text-anchor=\"middle\" y=\"572.0\">\n",
              "    <tspan class=\"displacy-word\" fill=\"currentColor\" x=\"3375\">cable</tspan>\n",
              "    <tspan class=\"displacy-tag\" dy=\"2em\" fill=\"currentColor\" x=\"3375\">NOUN</tspan>\n",
              "</text>\n",
              "\n",
              "<text class=\"displacy-token\" fill=\"currentColor\" text-anchor=\"middle\" y=\"572.0\">\n",
              "    <tspan class=\"displacy-word\" fill=\"currentColor\" x=\"3550\">market</tspan>\n",
              "    <tspan class=\"displacy-tag\" dy=\"2em\" fill=\"currentColor\" x=\"3550\">NOUN</tspan>\n",
              "</text>\n",
              "\n",
              "<text class=\"displacy-token\" fill=\"currentColor\" text-anchor=\"middle\" y=\"572.0\">\n",
              "    <tspan class=\"displacy-word\" fill=\"currentColor\" x=\"3725\">output</tspan>\n",
              "    <tspan class=\"displacy-tag\" dy=\"2em\" fill=\"currentColor\" x=\"3725\">NOUN</tspan>\n",
              "</text>\n",
              "\n",
              "<text class=\"displacy-token\" fill=\"currentColor\" text-anchor=\"middle\" y=\"572.0\">\n",
              "    <tspan class=\"displacy-word\" fill=\"currentColor\" x=\"3900\">cell</tspan>\n",
              "    <tspan class=\"displacy-tag\" dy=\"2em\" fill=\"currentColor\" x=\"3900\">NOUN</tspan>\n",
              "</text>\n",
              "\n",
              "<text class=\"displacy-token\" fill=\"currentColor\" text-anchor=\"middle\" y=\"572.0\">\n",
              "    <tspan class=\"displacy-word\" fill=\"currentColor\" x=\"4075\">phone</tspan>\n",
              "    <tspan class=\"displacy-tag\" dy=\"2em\" fill=\"currentColor\" x=\"4075\">NOUN</tspan>\n",
              "</text>\n",
              "\n",
              "<text class=\"displacy-token\" fill=\"currentColor\" text-anchor=\"middle\" y=\"572.0\">\n",
              "    <tspan class=\"displacy-word\" fill=\"currentColor\" x=\"4250\">full</tspan>\n",
              "    <tspan class=\"displacy-tag\" dy=\"2em\" fill=\"currentColor\" x=\"4250\">ADJ</tspan>\n",
              "</text>\n",
              "\n",
              "<text class=\"displacy-token\" fill=\"currentColor\" text-anchor=\"middle\" y=\"572.0\">\n",
              "    <tspan class=\"displacy-word\" fill=\"currentColor\" x=\"4425\">power</tspan>\n",
              "    <tspan class=\"displacy-tag\" dy=\"2em\" fill=\"currentColor\" x=\"4425\">NOUN</tspan>\n",
              "</text>\n",
              "\n",
              "<text class=\"displacy-token\" fill=\"currentColor\" text-anchor=\"middle\" y=\"572.0\">\n",
              "    <tspan class=\"displacy-word\" fill=\"currentColor\" x=\"4600\">charger</tspan>\n",
              "    <tspan class=\"displacy-tag\" dy=\"2em\" fill=\"currentColor\" x=\"4600\">NOUN</tspan>\n",
              "</text>\n",
              "\n",
              "<text class=\"displacy-token\" fill=\"currentColor\" text-anchor=\"middle\" y=\"572.0\">\n",
              "    <tspan class=\"displacy-word\" fill=\"currentColor\" x=\"4775\">laptop</tspan>\n",
              "    <tspan class=\"displacy-tag\" dy=\"2em\" fill=\"currentColor\" x=\"4775\">NOUN</tspan>\n",
              "</text>\n",
              "\n",
              "<text class=\"displacy-token\" fill=\"currentColor\" text-anchor=\"middle\" y=\"572.0\">\n",
              "    <tspan class=\"displacy-word\" fill=\"currentColor\" x=\"4950\">cable</tspan>\n",
              "    <tspan class=\"displacy-tag\" dy=\"2em\" fill=\"currentColor\" x=\"4950\">NOUN</tspan>\n",
              "</text>\n",
              "\n",
              "<text class=\"displacy-token\" fill=\"currentColor\" text-anchor=\"middle\" y=\"572.0\">\n",
              "    <tspan class=\"displacy-word\" fill=\"currentColor\" x=\"5125\">simple</tspan>\n",
              "    <tspan class=\"displacy-tag\" dy=\"2em\" fill=\"currentColor\" x=\"5125\">NOUN</tspan>\n",
              "</text>\n",
              "\n",
              "<g class=\"displacy-arrow\">\n",
              "    <path class=\"displacy-arc\" id=\"arrow-b154fabb734542aba38adc76e0fcc8b4-0-0\" stroke-width=\"2px\" d=\"M70,527.0 C70,439.5 200.0,439.5 200.0,527.0\" fill=\"none\" stroke=\"currentColor\"/>\n",
              "    <text dy=\"1.25em\" style=\"font-size: 0.8em; letter-spacing: 1px\">\n",
              "        <textPath xlink:href=\"#arrow-b154fabb734542aba38adc76e0fcc8b4-0-0\" class=\"displacy-label\" startOffset=\"50%\" side=\"left\" fill=\"currentColor\" text-anchor=\"middle\">compound</textPath>\n",
              "    </text>\n",
              "    <path class=\"displacy-arrowhead\" d=\"M70,529.0 L62,517.0 78,517.0\" fill=\"currentColor\"/>\n",
              "</g>\n",
              "\n",
              "<g class=\"displacy-arrow\">\n",
              "    <path class=\"displacy-arc\" id=\"arrow-b154fabb734542aba38adc76e0fcc8b4-0-1\" stroke-width=\"2px\" d=\"M245,527.0 C245,439.5 375.0,439.5 375.0,527.0\" fill=\"none\" stroke=\"currentColor\"/>\n",
              "    <text dy=\"1.25em\" style=\"font-size: 0.8em; letter-spacing: 1px\">\n",
              "        <textPath xlink:href=\"#arrow-b154fabb734542aba38adc76e0fcc8b4-0-1\" class=\"displacy-label\" startOffset=\"50%\" side=\"left\" fill=\"currentColor\" text-anchor=\"middle\">compound</textPath>\n",
              "    </text>\n",
              "    <path class=\"displacy-arrowhead\" d=\"M245,529.0 L237,517.0 253,517.0\" fill=\"currentColor\"/>\n",
              "</g>\n",
              "\n",
              "<g class=\"displacy-arrow\">\n",
              "    <path class=\"displacy-arc\" id=\"arrow-b154fabb734542aba38adc76e0fcc8b4-0-2\" stroke-width=\"2px\" d=\"M420,527.0 C420,2.0 3025.0,2.0 3025.0,527.0\" fill=\"none\" stroke=\"currentColor\"/>\n",
              "    <text dy=\"1.25em\" style=\"font-size: 0.8em; letter-spacing: 1px\">\n",
              "        <textPath xlink:href=\"#arrow-b154fabb734542aba38adc76e0fcc8b4-0-2\" class=\"displacy-label\" startOffset=\"50%\" side=\"left\" fill=\"currentColor\" text-anchor=\"middle\">nmod</textPath>\n",
              "    </text>\n",
              "    <path class=\"displacy-arrowhead\" d=\"M420,529.0 L412,517.0 428,517.0\" fill=\"currentColor\"/>\n",
              "</g>\n",
              "\n",
              "<g class=\"displacy-arrow\">\n",
              "    <path class=\"displacy-arc\" id=\"arrow-b154fabb734542aba38adc76e0fcc8b4-0-3\" stroke-width=\"2px\" d=\"M595,527.0 C595,89.5 3020.0,89.5 3020.0,527.0\" fill=\"none\" stroke=\"currentColor\"/>\n",
              "    <text dy=\"1.25em\" style=\"font-size: 0.8em; letter-spacing: 1px\">\n",
              "        <textPath xlink:href=\"#arrow-b154fabb734542aba38adc76e0fcc8b4-0-3\" class=\"displacy-label\" startOffset=\"50%\" side=\"left\" fill=\"currentColor\" text-anchor=\"middle\">nmod</textPath>\n",
              "    </text>\n",
              "    <path class=\"displacy-arrowhead\" d=\"M595,529.0 L587,517.0 603,517.0\" fill=\"currentColor\"/>\n",
              "</g>\n",
              "\n",
              "<g class=\"displacy-arrow\">\n",
              "    <path class=\"displacy-arc\" id=\"arrow-b154fabb734542aba38adc76e0fcc8b4-0-4\" stroke-width=\"2px\" d=\"M770,527.0 C770,352.0 1080.0,352.0 1080.0,527.0\" fill=\"none\" stroke=\"currentColor\"/>\n",
              "    <text dy=\"1.25em\" style=\"font-size: 0.8em; letter-spacing: 1px\">\n",
              "        <textPath xlink:href=\"#arrow-b154fabb734542aba38adc76e0fcc8b4-0-4\" class=\"displacy-label\" startOffset=\"50%\" side=\"left\" fill=\"currentColor\" text-anchor=\"middle\">amod</textPath>\n",
              "    </text>\n",
              "    <path class=\"displacy-arrowhead\" d=\"M770,529.0 L762,517.0 778,517.0\" fill=\"currentColor\"/>\n",
              "</g>\n",
              "\n",
              "<g class=\"displacy-arrow\">\n",
              "    <path class=\"displacy-arc\" id=\"arrow-b154fabb734542aba38adc76e0fcc8b4-0-5\" stroke-width=\"2px\" d=\"M945,527.0 C945,439.5 1075.0,439.5 1075.0,527.0\" fill=\"none\" stroke=\"currentColor\"/>\n",
              "    <text dy=\"1.25em\" style=\"font-size: 0.8em; letter-spacing: 1px\">\n",
              "        <textPath xlink:href=\"#arrow-b154fabb734542aba38adc76e0fcc8b4-0-5\" class=\"displacy-label\" startOffset=\"50%\" side=\"left\" fill=\"currentColor\" text-anchor=\"middle\">compound</textPath>\n",
              "    </text>\n",
              "    <path class=\"displacy-arrowhead\" d=\"M945,529.0 L937,517.0 953,517.0\" fill=\"currentColor\"/>\n",
              "</g>\n",
              "\n",
              "<g class=\"displacy-arrow\">\n",
              "    <path class=\"displacy-arc\" id=\"arrow-b154fabb734542aba38adc76e0fcc8b4-0-6\" stroke-width=\"2px\" d=\"M1120,527.0 C1120,177.0 3015.0,177.0 3015.0,527.0\" fill=\"none\" stroke=\"currentColor\"/>\n",
              "    <text dy=\"1.25em\" style=\"font-size: 0.8em; letter-spacing: 1px\">\n",
              "        <textPath xlink:href=\"#arrow-b154fabb734542aba38adc76e0fcc8b4-0-6\" class=\"displacy-label\" startOffset=\"50%\" side=\"left\" fill=\"currentColor\" text-anchor=\"middle\">nmod</textPath>\n",
              "    </text>\n",
              "    <path class=\"displacy-arrowhead\" d=\"M1120,529.0 L1112,517.0 1128,517.0\" fill=\"currentColor\"/>\n",
              "</g>\n",
              "\n",
              "<g class=\"displacy-arrow\">\n",
              "    <path class=\"displacy-arc\" id=\"arrow-b154fabb734542aba38adc76e0fcc8b4-0-7\" stroke-width=\"2px\" d=\"M1295,527.0 C1295,439.5 1425.0,439.5 1425.0,527.0\" fill=\"none\" stroke=\"currentColor\"/>\n",
              "    <text dy=\"1.25em\" style=\"font-size: 0.8em; letter-spacing: 1px\">\n",
              "        <textPath xlink:href=\"#arrow-b154fabb734542aba38adc76e0fcc8b4-0-7\" class=\"displacy-label\" startOffset=\"50%\" side=\"left\" fill=\"currentColor\" text-anchor=\"middle\">amod</textPath>\n",
              "    </text>\n",
              "    <path class=\"displacy-arrowhead\" d=\"M1295,529.0 L1287,517.0 1303,517.0\" fill=\"currentColor\"/>\n",
              "</g>\n",
              "\n",
              "<g class=\"displacy-arrow\">\n",
              "    <path class=\"displacy-arc\" id=\"arrow-b154fabb734542aba38adc76e0fcc8b4-0-8\" stroke-width=\"2px\" d=\"M1470,527.0 C1470,264.5 1960.0,264.5 1960.0,527.0\" fill=\"none\" stroke=\"currentColor\"/>\n",
              "    <text dy=\"1.25em\" style=\"font-size: 0.8em; letter-spacing: 1px\">\n",
              "        <textPath xlink:href=\"#arrow-b154fabb734542aba38adc76e0fcc8b4-0-8\" class=\"displacy-label\" startOffset=\"50%\" side=\"left\" fill=\"currentColor\" text-anchor=\"middle\">nmod</textPath>\n",
              "    </text>\n",
              "    <path class=\"displacy-arrowhead\" d=\"M1470,529.0 L1462,517.0 1478,517.0\" fill=\"currentColor\"/>\n",
              "</g>\n",
              "\n",
              "<g class=\"displacy-arrow\">\n",
              "    <path class=\"displacy-arc\" id=\"arrow-b154fabb734542aba38adc76e0fcc8b4-0-9\" stroke-width=\"2px\" d=\"M1645,527.0 C1645,352.0 1955.0,352.0 1955.0,527.0\" fill=\"none\" stroke=\"currentColor\"/>\n",
              "    <text dy=\"1.25em\" style=\"font-size: 0.8em; letter-spacing: 1px\">\n",
              "        <textPath xlink:href=\"#arrow-b154fabb734542aba38adc76e0fcc8b4-0-9\" class=\"displacy-label\" startOffset=\"50%\" side=\"left\" fill=\"currentColor\" text-anchor=\"middle\">amod</textPath>\n",
              "    </text>\n",
              "    <path class=\"displacy-arrowhead\" d=\"M1645,529.0 L1637,517.0 1653,517.0\" fill=\"currentColor\"/>\n",
              "</g>\n",
              "\n",
              "<g class=\"displacy-arrow\">\n",
              "    <path class=\"displacy-arc\" id=\"arrow-b154fabb734542aba38adc76e0fcc8b4-0-10\" stroke-width=\"2px\" d=\"M1820,527.0 C1820,439.5 1950.0,439.5 1950.0,527.0\" fill=\"none\" stroke=\"currentColor\"/>\n",
              "    <text dy=\"1.25em\" style=\"font-size: 0.8em; letter-spacing: 1px\">\n",
              "        <textPath xlink:href=\"#arrow-b154fabb734542aba38adc76e0fcc8b4-0-10\" class=\"displacy-label\" startOffset=\"50%\" side=\"left\" fill=\"currentColor\" text-anchor=\"middle\">compound</textPath>\n",
              "    </text>\n",
              "    <path class=\"displacy-arrowhead\" d=\"M1820,529.0 L1812,517.0 1828,517.0\" fill=\"currentColor\"/>\n",
              "</g>\n",
              "\n",
              "<g class=\"displacy-arrow\">\n",
              "    <path class=\"displacy-arc\" id=\"arrow-b154fabb734542aba38adc76e0fcc8b4-0-11\" stroke-width=\"2px\" d=\"M1995,527.0 C1995,352.0 2655.0,352.0 2655.0,527.0\" fill=\"none\" stroke=\"currentColor\"/>\n",
              "    <text dy=\"1.25em\" style=\"font-size: 0.8em; letter-spacing: 1px\">\n",
              "        <textPath xlink:href=\"#arrow-b154fabb734542aba38adc76e0fcc8b4-0-11\" class=\"displacy-label\" startOffset=\"50%\" side=\"left\" fill=\"currentColor\" text-anchor=\"middle\">nmod</textPath>\n",
              "    </text>\n",
              "    <path class=\"displacy-arrowhead\" d=\"M1995,529.0 L1987,517.0 2003,517.0\" fill=\"currentColor\"/>\n",
              "</g>\n",
              "\n",
              "<g class=\"displacy-arrow\">\n",
              "    <path class=\"displacy-arc\" id=\"arrow-b154fabb734542aba38adc76e0fcc8b4-0-12\" stroke-width=\"2px\" d=\"M2170,527.0 C2170,439.5 2300.0,439.5 2300.0,527.0\" fill=\"none\" stroke=\"currentColor\"/>\n",
              "    <text dy=\"1.25em\" style=\"font-size: 0.8em; letter-spacing: 1px\">\n",
              "        <textPath xlink:href=\"#arrow-b154fabb734542aba38adc76e0fcc8b4-0-12\" class=\"displacy-label\" startOffset=\"50%\" side=\"left\" fill=\"currentColor\" text-anchor=\"middle\">compound</textPath>\n",
              "    </text>\n",
              "    <path class=\"displacy-arrowhead\" d=\"M2170,529.0 L2162,517.0 2178,517.0\" fill=\"currentColor\"/>\n",
              "</g>\n",
              "\n",
              "<g class=\"displacy-arrow\">\n",
              "    <path class=\"displacy-arc\" id=\"arrow-b154fabb734542aba38adc76e0fcc8b4-0-13\" stroke-width=\"2px\" d=\"M2345,527.0 C2345,439.5 2475.0,439.5 2475.0,527.0\" fill=\"none\" stroke=\"currentColor\"/>\n",
              "    <text dy=\"1.25em\" style=\"font-size: 0.8em; letter-spacing: 1px\">\n",
              "        <textPath xlink:href=\"#arrow-b154fabb734542aba38adc76e0fcc8b4-0-13\" class=\"displacy-label\" startOffset=\"50%\" side=\"left\" fill=\"currentColor\" text-anchor=\"middle\">compound</textPath>\n",
              "    </text>\n",
              "    <path class=\"displacy-arrowhead\" d=\"M2345,529.0 L2337,517.0 2353,517.0\" fill=\"currentColor\"/>\n",
              "</g>\n",
              "\n",
              "<g class=\"displacy-arrow\">\n",
              "    <path class=\"displacy-arc\" id=\"arrow-b154fabb734542aba38adc76e0fcc8b4-0-14\" stroke-width=\"2px\" d=\"M2520,527.0 C2520,439.5 2650.0,439.5 2650.0,527.0\" fill=\"none\" stroke=\"currentColor\"/>\n",
              "    <text dy=\"1.25em\" style=\"font-size: 0.8em; letter-spacing: 1px\">\n",
              "        <textPath xlink:href=\"#arrow-b154fabb734542aba38adc76e0fcc8b4-0-14\" class=\"displacy-label\" startOffset=\"50%\" side=\"left\" fill=\"currentColor\" text-anchor=\"middle\">compound</textPath>\n",
              "    </text>\n",
              "    <path class=\"displacy-arrowhead\" d=\"M2520,529.0 L2512,517.0 2528,517.0\" fill=\"currentColor\"/>\n",
              "</g>\n",
              "\n",
              "<g class=\"displacy-arrow\">\n",
              "    <path class=\"displacy-arc\" id=\"arrow-b154fabb734542aba38adc76e0fcc8b4-0-15\" stroke-width=\"2px\" d=\"M2695,527.0 C2695,439.5 2825.0,439.5 2825.0,527.0\" fill=\"none\" stroke=\"currentColor\"/>\n",
              "    <text dy=\"1.25em\" style=\"font-size: 0.8em; letter-spacing: 1px\">\n",
              "        <textPath xlink:href=\"#arrow-b154fabb734542aba38adc76e0fcc8b4-0-15\" class=\"displacy-label\" startOffset=\"50%\" side=\"left\" fill=\"currentColor\" text-anchor=\"middle\">compound</textPath>\n",
              "    </text>\n",
              "    <path class=\"displacy-arrowhead\" d=\"M2695,529.0 L2687,517.0 2703,517.0\" fill=\"currentColor\"/>\n",
              "</g>\n",
              "\n",
              "<g class=\"displacy-arrow\">\n",
              "    <path class=\"displacy-arc\" id=\"arrow-b154fabb734542aba38adc76e0fcc8b4-0-16\" stroke-width=\"2px\" d=\"M2870,527.0 C2870,439.5 3000.0,439.5 3000.0,527.0\" fill=\"none\" stroke=\"currentColor\"/>\n",
              "    <text dy=\"1.25em\" style=\"font-size: 0.8em; letter-spacing: 1px\">\n",
              "        <textPath xlink:href=\"#arrow-b154fabb734542aba38adc76e0fcc8b4-0-16\" class=\"displacy-label\" startOffset=\"50%\" side=\"left\" fill=\"currentColor\" text-anchor=\"middle\">compound</textPath>\n",
              "    </text>\n",
              "    <path class=\"displacy-arrowhead\" d=\"M2870,529.0 L2862,517.0 2878,517.0\" fill=\"currentColor\"/>\n",
              "</g>\n",
              "\n",
              "<g class=\"displacy-arrow\">\n",
              "    <path class=\"displacy-arc\" id=\"arrow-b154fabb734542aba38adc76e0fcc8b4-0-17\" stroke-width=\"2px\" d=\"M3045,527.0 C3045,177.0 4065.0,177.0 4065.0,527.0\" fill=\"none\" stroke=\"currentColor\"/>\n",
              "    <text dy=\"1.25em\" style=\"font-size: 0.8em; letter-spacing: 1px\">\n",
              "        <textPath xlink:href=\"#arrow-b154fabb734542aba38adc76e0fcc8b4-0-17\" class=\"displacy-label\" startOffset=\"50%\" side=\"left\" fill=\"currentColor\" text-anchor=\"middle\">nmod</textPath>\n",
              "    </text>\n",
              "    <path class=\"displacy-arrowhead\" d=\"M3045,529.0 L3037,517.0 3053,517.0\" fill=\"currentColor\"/>\n",
              "</g>\n",
              "\n",
              "<g class=\"displacy-arrow\">\n",
              "    <path class=\"displacy-arc\" id=\"arrow-b154fabb734542aba38adc76e0fcc8b4-0-18\" stroke-width=\"2px\" d=\"M3220,527.0 C3220,264.5 4060.0,264.5 4060.0,527.0\" fill=\"none\" stroke=\"currentColor\"/>\n",
              "    <text dy=\"1.25em\" style=\"font-size: 0.8em; letter-spacing: 1px\">\n",
              "        <textPath xlink:href=\"#arrow-b154fabb734542aba38adc76e0fcc8b4-0-18\" class=\"displacy-label\" startOffset=\"50%\" side=\"left\" fill=\"currentColor\" text-anchor=\"middle\">amod</textPath>\n",
              "    </text>\n",
              "    <path class=\"displacy-arrowhead\" d=\"M3220,529.0 L3212,517.0 3228,517.0\" fill=\"currentColor\"/>\n",
              "</g>\n",
              "\n",
              "<g class=\"displacy-arrow\">\n",
              "    <path class=\"displacy-arc\" id=\"arrow-b154fabb734542aba38adc76e0fcc8b4-0-19\" stroke-width=\"2px\" d=\"M3395,527.0 C3395,439.5 3525.0,439.5 3525.0,527.0\" fill=\"none\" stroke=\"currentColor\"/>\n",
              "    <text dy=\"1.25em\" style=\"font-size: 0.8em; letter-spacing: 1px\">\n",
              "        <textPath xlink:href=\"#arrow-b154fabb734542aba38adc76e0fcc8b4-0-19\" class=\"displacy-label\" startOffset=\"50%\" side=\"left\" fill=\"currentColor\" text-anchor=\"middle\">compound</textPath>\n",
              "    </text>\n",
              "    <path class=\"displacy-arrowhead\" d=\"M3395,529.0 L3387,517.0 3403,517.0\" fill=\"currentColor\"/>\n",
              "</g>\n",
              "\n",
              "<g class=\"displacy-arrow\">\n",
              "    <path class=\"displacy-arc\" id=\"arrow-b154fabb734542aba38adc76e0fcc8b4-0-20\" stroke-width=\"2px\" d=\"M3570,527.0 C3570,439.5 3700.0,439.5 3700.0,527.0\" fill=\"none\" stroke=\"currentColor\"/>\n",
              "    <text dy=\"1.25em\" style=\"font-size: 0.8em; letter-spacing: 1px\">\n",
              "        <textPath xlink:href=\"#arrow-b154fabb734542aba38adc76e0fcc8b4-0-20\" class=\"displacy-label\" startOffset=\"50%\" side=\"left\" fill=\"currentColor\" text-anchor=\"middle\">compound</textPath>\n",
              "    </text>\n",
              "    <path class=\"displacy-arrowhead\" d=\"M3570,529.0 L3562,517.0 3578,517.0\" fill=\"currentColor\"/>\n",
              "</g>\n",
              "\n",
              "<g class=\"displacy-arrow\">\n",
              "    <path class=\"displacy-arc\" id=\"arrow-b154fabb734542aba38adc76e0fcc8b4-0-21\" stroke-width=\"2px\" d=\"M3745,527.0 C3745,352.0 4055.0,352.0 4055.0,527.0\" fill=\"none\" stroke=\"currentColor\"/>\n",
              "    <text dy=\"1.25em\" style=\"font-size: 0.8em; letter-spacing: 1px\">\n",
              "        <textPath xlink:href=\"#arrow-b154fabb734542aba38adc76e0fcc8b4-0-21\" class=\"displacy-label\" startOffset=\"50%\" side=\"left\" fill=\"currentColor\" text-anchor=\"middle\">nmod</textPath>\n",
              "    </text>\n",
              "    <path class=\"displacy-arrowhead\" d=\"M3745,529.0 L3737,517.0 3753,517.0\" fill=\"currentColor\"/>\n",
              "</g>\n",
              "\n",
              "<g class=\"displacy-arrow\">\n",
              "    <path class=\"displacy-arc\" id=\"arrow-b154fabb734542aba38adc76e0fcc8b4-0-22\" stroke-width=\"2px\" d=\"M3920,527.0 C3920,439.5 4050.0,439.5 4050.0,527.0\" fill=\"none\" stroke=\"currentColor\"/>\n",
              "    <text dy=\"1.25em\" style=\"font-size: 0.8em; letter-spacing: 1px\">\n",
              "        <textPath xlink:href=\"#arrow-b154fabb734542aba38adc76e0fcc8b4-0-22\" class=\"displacy-label\" startOffset=\"50%\" side=\"left\" fill=\"currentColor\" text-anchor=\"middle\">compound</textPath>\n",
              "    </text>\n",
              "    <path class=\"displacy-arrowhead\" d=\"M3920,529.0 L3912,517.0 3928,517.0\" fill=\"currentColor\"/>\n",
              "</g>\n",
              "\n",
              "<g class=\"displacy-arrow\">\n",
              "    <path class=\"displacy-arc\" id=\"arrow-b154fabb734542aba38adc76e0fcc8b4-0-23\" stroke-width=\"2px\" d=\"M4095,527.0 C4095,264.5 5110.0,264.5 5110.0,527.0\" fill=\"none\" stroke=\"currentColor\"/>\n",
              "    <text dy=\"1.25em\" style=\"font-size: 0.8em; letter-spacing: 1px\">\n",
              "        <textPath xlink:href=\"#arrow-b154fabb734542aba38adc76e0fcc8b4-0-23\" class=\"displacy-label\" startOffset=\"50%\" side=\"left\" fill=\"currentColor\" text-anchor=\"middle\">compound</textPath>\n",
              "    </text>\n",
              "    <path class=\"displacy-arrowhead\" d=\"M4095,529.0 L4087,517.0 4103,517.0\" fill=\"currentColor\"/>\n",
              "</g>\n",
              "\n",
              "<g class=\"displacy-arrow\">\n",
              "    <path class=\"displacy-arc\" id=\"arrow-b154fabb734542aba38adc76e0fcc8b4-0-24\" stroke-width=\"2px\" d=\"M4270,527.0 C4270,352.0 4580.0,352.0 4580.0,527.0\" fill=\"none\" stroke=\"currentColor\"/>\n",
              "    <text dy=\"1.25em\" style=\"font-size: 0.8em; letter-spacing: 1px\">\n",
              "        <textPath xlink:href=\"#arrow-b154fabb734542aba38adc76e0fcc8b4-0-24\" class=\"displacy-label\" startOffset=\"50%\" side=\"left\" fill=\"currentColor\" text-anchor=\"middle\">amod</textPath>\n",
              "    </text>\n",
              "    <path class=\"displacy-arrowhead\" d=\"M4270,529.0 L4262,517.0 4278,517.0\" fill=\"currentColor\"/>\n",
              "</g>\n",
              "\n",
              "<g class=\"displacy-arrow\">\n",
              "    <path class=\"displacy-arc\" id=\"arrow-b154fabb734542aba38adc76e0fcc8b4-0-25\" stroke-width=\"2px\" d=\"M4445,527.0 C4445,439.5 4575.0,439.5 4575.0,527.0\" fill=\"none\" stroke=\"currentColor\"/>\n",
              "    <text dy=\"1.25em\" style=\"font-size: 0.8em; letter-spacing: 1px\">\n",
              "        <textPath xlink:href=\"#arrow-b154fabb734542aba38adc76e0fcc8b4-0-25\" class=\"displacy-label\" startOffset=\"50%\" side=\"left\" fill=\"currentColor\" text-anchor=\"middle\">compound</textPath>\n",
              "    </text>\n",
              "    <path class=\"displacy-arrowhead\" d=\"M4445,529.0 L4437,517.0 4453,517.0\" fill=\"currentColor\"/>\n",
              "</g>\n",
              "\n",
              "<g class=\"displacy-arrow\">\n",
              "    <path class=\"displacy-arc\" id=\"arrow-b154fabb734542aba38adc76e0fcc8b4-0-26\" stroke-width=\"2px\" d=\"M4620,527.0 C4620,352.0 4930.0,352.0 4930.0,527.0\" fill=\"none\" stroke=\"currentColor\"/>\n",
              "    <text dy=\"1.25em\" style=\"font-size: 0.8em; letter-spacing: 1px\">\n",
              "        <textPath xlink:href=\"#arrow-b154fabb734542aba38adc76e0fcc8b4-0-26\" class=\"displacy-label\" startOffset=\"50%\" side=\"left\" fill=\"currentColor\" text-anchor=\"middle\">compound</textPath>\n",
              "    </text>\n",
              "    <path class=\"displacy-arrowhead\" d=\"M4620,529.0 L4612,517.0 4628,517.0\" fill=\"currentColor\"/>\n",
              "</g>\n",
              "\n",
              "<g class=\"displacy-arrow\">\n",
              "    <path class=\"displacy-arc\" id=\"arrow-b154fabb734542aba38adc76e0fcc8b4-0-27\" stroke-width=\"2px\" d=\"M4795,527.0 C4795,439.5 4925.0,439.5 4925.0,527.0\" fill=\"none\" stroke=\"currentColor\"/>\n",
              "    <text dy=\"1.25em\" style=\"font-size: 0.8em; letter-spacing: 1px\">\n",
              "        <textPath xlink:href=\"#arrow-b154fabb734542aba38adc76e0fcc8b4-0-27\" class=\"displacy-label\" startOffset=\"50%\" side=\"left\" fill=\"currentColor\" text-anchor=\"middle\">compound</textPath>\n",
              "    </text>\n",
              "    <path class=\"displacy-arrowhead\" d=\"M4795,529.0 L4787,517.0 4803,517.0\" fill=\"currentColor\"/>\n",
              "</g>\n",
              "\n",
              "<g class=\"displacy-arrow\">\n",
              "    <path class=\"displacy-arc\" id=\"arrow-b154fabb734542aba38adc76e0fcc8b4-0-28\" stroke-width=\"2px\" d=\"M4970,527.0 C4970,439.5 5100.0,439.5 5100.0,527.0\" fill=\"none\" stroke=\"currentColor\"/>\n",
              "    <text dy=\"1.25em\" style=\"font-size: 0.8em; letter-spacing: 1px\">\n",
              "        <textPath xlink:href=\"#arrow-b154fabb734542aba38adc76e0fcc8b4-0-28\" class=\"displacy-label\" startOffset=\"50%\" side=\"left\" fill=\"currentColor\" text-anchor=\"middle\">compound</textPath>\n",
              "    </text>\n",
              "    <path class=\"displacy-arrowhead\" d=\"M4970,529.0 L4962,517.0 4978,517.0\" fill=\"currentColor\"/>\n",
              "</g>\n",
              "</svg></span>"
            ],
            "text/plain": [
              "<IPython.core.display.HTML object>"
            ]
          },
          "metadata": {},
          "output_type": "display_data"
        },
        {
          "name": "stdout",
          "output_type": "stream",
          "text": [
            "Dependency Parser for sentence 2\n",
            "Node (from)-->   Relation     -->Node (to)\n",
            "\n",
            "person             nmod            quality\n",
            "person             amod               good\n",
            "size               amod               good\n",
            "person           compound             size\n",
            "face              nsubj             person\n",
            "face              advmod              very\n",
            "face               ROOT               face\n",
            "face              dative            people\n",
            "clothe             amod              large\n",
            "clothe           compound             size\n",
            "face               dobj             clothe\n"
          ]
        },
        {
          "data": {
            "text/html": [
              "<span class=\"tex2jax_ignore\"><svg xmlns=\"http://www.w3.org/2000/svg\" xmlns:xlink=\"http://www.w3.org/1999/xlink\" xml:lang=\"en\" id=\"eb0f22ad6eed4e94aa78005e7c103829-0\" class=\"displacy\" width=\"1975\" height=\"399.5\" direction=\"ltr\" style=\"max-width: none; height: 399.5px; color: #000000; background: #ffffff; font-family: Arial; direction: ltr\">\n",
              "<text class=\"displacy-token\" fill=\"currentColor\" text-anchor=\"middle\" y=\"309.5\">\n",
              "    <tspan class=\"displacy-word\" fill=\"currentColor\" x=\"50\">quality</tspan>\n",
              "    <tspan class=\"displacy-tag\" dy=\"2em\" fill=\"currentColor\" x=\"50\">NOUN</tspan>\n",
              "</text>\n",
              "\n",
              "<text class=\"displacy-token\" fill=\"currentColor\" text-anchor=\"middle\" y=\"309.5\">\n",
              "    <tspan class=\"displacy-word\" fill=\"currentColor\" x=\"225\">good</tspan>\n",
              "    <tspan class=\"displacy-tag\" dy=\"2em\" fill=\"currentColor\" x=\"225\">ADJ</tspan>\n",
              "</text>\n",
              "\n",
              "<text class=\"displacy-token\" fill=\"currentColor\" text-anchor=\"middle\" y=\"309.5\">\n",
              "    <tspan class=\"displacy-word\" fill=\"currentColor\" x=\"400\">good</tspan>\n",
              "    <tspan class=\"displacy-tag\" dy=\"2em\" fill=\"currentColor\" x=\"400\">ADJ</tspan>\n",
              "</text>\n",
              "\n",
              "<text class=\"displacy-token\" fill=\"currentColor\" text-anchor=\"middle\" y=\"309.5\">\n",
              "    <tspan class=\"displacy-word\" fill=\"currentColor\" x=\"575\">size</tspan>\n",
              "    <tspan class=\"displacy-tag\" dy=\"2em\" fill=\"currentColor\" x=\"575\">NOUN</tspan>\n",
              "</text>\n",
              "\n",
              "<text class=\"displacy-token\" fill=\"currentColor\" text-anchor=\"middle\" y=\"309.5\">\n",
              "    <tspan class=\"displacy-word\" fill=\"currentColor\" x=\"750\">person</tspan>\n",
              "    <tspan class=\"displacy-tag\" dy=\"2em\" fill=\"currentColor\" x=\"750\">NOUN</tspan>\n",
              "</text>\n",
              "\n",
              "<text class=\"displacy-token\" fill=\"currentColor\" text-anchor=\"middle\" y=\"309.5\">\n",
              "    <tspan class=\"displacy-word\" fill=\"currentColor\" x=\"925\">very</tspan>\n",
              "    <tspan class=\"displacy-tag\" dy=\"2em\" fill=\"currentColor\" x=\"925\">ADV</tspan>\n",
              "</text>\n",
              "\n",
              "<text class=\"displacy-token\" fill=\"currentColor\" text-anchor=\"middle\" y=\"309.5\">\n",
              "    <tspan class=\"displacy-word\" fill=\"currentColor\" x=\"1100\">face</tspan>\n",
              "    <tspan class=\"displacy-tag\" dy=\"2em\" fill=\"currentColor\" x=\"1100\">VERB</tspan>\n",
              "</text>\n",
              "\n",
              "<text class=\"displacy-token\" fill=\"currentColor\" text-anchor=\"middle\" y=\"309.5\">\n",
              "    <tspan class=\"displacy-word\" fill=\"currentColor\" x=\"1275\">people</tspan>\n",
              "    <tspan class=\"displacy-tag\" dy=\"2em\" fill=\"currentColor\" x=\"1275\">NOUN</tspan>\n",
              "</text>\n",
              "\n",
              "<text class=\"displacy-token\" fill=\"currentColor\" text-anchor=\"middle\" y=\"309.5\">\n",
              "    <tspan class=\"displacy-word\" fill=\"currentColor\" x=\"1450\">large</tspan>\n",
              "    <tspan class=\"displacy-tag\" dy=\"2em\" fill=\"currentColor\" x=\"1450\">ADJ</tspan>\n",
              "</text>\n",
              "\n",
              "<text class=\"displacy-token\" fill=\"currentColor\" text-anchor=\"middle\" y=\"309.5\">\n",
              "    <tspan class=\"displacy-word\" fill=\"currentColor\" x=\"1625\">size</tspan>\n",
              "    <tspan class=\"displacy-tag\" dy=\"2em\" fill=\"currentColor\" x=\"1625\">NOUN</tspan>\n",
              "</text>\n",
              "\n",
              "<text class=\"displacy-token\" fill=\"currentColor\" text-anchor=\"middle\" y=\"309.5\">\n",
              "    <tspan class=\"displacy-word\" fill=\"currentColor\" x=\"1800\">clothe</tspan>\n",
              "    <tspan class=\"displacy-tag\" dy=\"2em\" fill=\"currentColor\" x=\"1800\">NOUN</tspan>\n",
              "</text>\n",
              "\n",
              "<g class=\"displacy-arrow\">\n",
              "    <path class=\"displacy-arc\" id=\"arrow-eb0f22ad6eed4e94aa78005e7c103829-0-0\" stroke-width=\"2px\" d=\"M70,264.5 C70,2.0 750.0,2.0 750.0,264.5\" fill=\"none\" stroke=\"currentColor\"/>\n",
              "    <text dy=\"1.25em\" style=\"font-size: 0.8em; letter-spacing: 1px\">\n",
              "        <textPath xlink:href=\"#arrow-eb0f22ad6eed4e94aa78005e7c103829-0-0\" class=\"displacy-label\" startOffset=\"50%\" side=\"left\" fill=\"currentColor\" text-anchor=\"middle\">nmod</textPath>\n",
              "    </text>\n",
              "    <path class=\"displacy-arrowhead\" d=\"M70,266.5 L62,254.5 78,254.5\" fill=\"currentColor\"/>\n",
              "</g>\n",
              "\n",
              "<g class=\"displacy-arrow\">\n",
              "    <path class=\"displacy-arc\" id=\"arrow-eb0f22ad6eed4e94aa78005e7c103829-0-1\" stroke-width=\"2px\" d=\"M245,264.5 C245,89.5 745.0,89.5 745.0,264.5\" fill=\"none\" stroke=\"currentColor\"/>\n",
              "    <text dy=\"1.25em\" style=\"font-size: 0.8em; letter-spacing: 1px\">\n",
              "        <textPath xlink:href=\"#arrow-eb0f22ad6eed4e94aa78005e7c103829-0-1\" class=\"displacy-label\" startOffset=\"50%\" side=\"left\" fill=\"currentColor\" text-anchor=\"middle\">amod</textPath>\n",
              "    </text>\n",
              "    <path class=\"displacy-arrowhead\" d=\"M245,266.5 L237,254.5 253,254.5\" fill=\"currentColor\"/>\n",
              "</g>\n",
              "\n",
              "<g class=\"displacy-arrow\">\n",
              "    <path class=\"displacy-arc\" id=\"arrow-eb0f22ad6eed4e94aa78005e7c103829-0-2\" stroke-width=\"2px\" d=\"M420,264.5 C420,177.0 565.0,177.0 565.0,264.5\" fill=\"none\" stroke=\"currentColor\"/>\n",
              "    <text dy=\"1.25em\" style=\"font-size: 0.8em; letter-spacing: 1px\">\n",
              "        <textPath xlink:href=\"#arrow-eb0f22ad6eed4e94aa78005e7c103829-0-2\" class=\"displacy-label\" startOffset=\"50%\" side=\"left\" fill=\"currentColor\" text-anchor=\"middle\">amod</textPath>\n",
              "    </text>\n",
              "    <path class=\"displacy-arrowhead\" d=\"M420,266.5 L412,254.5 428,254.5\" fill=\"currentColor\"/>\n",
              "</g>\n",
              "\n",
              "<g class=\"displacy-arrow\">\n",
              "    <path class=\"displacy-arc\" id=\"arrow-eb0f22ad6eed4e94aa78005e7c103829-0-3\" stroke-width=\"2px\" d=\"M595,264.5 C595,177.0 740.0,177.0 740.0,264.5\" fill=\"none\" stroke=\"currentColor\"/>\n",
              "    <text dy=\"1.25em\" style=\"font-size: 0.8em; letter-spacing: 1px\">\n",
              "        <textPath xlink:href=\"#arrow-eb0f22ad6eed4e94aa78005e7c103829-0-3\" class=\"displacy-label\" startOffset=\"50%\" side=\"left\" fill=\"currentColor\" text-anchor=\"middle\">compound</textPath>\n",
              "    </text>\n",
              "    <path class=\"displacy-arrowhead\" d=\"M595,266.5 L587,254.5 603,254.5\" fill=\"currentColor\"/>\n",
              "</g>\n",
              "\n",
              "<g class=\"displacy-arrow\">\n",
              "    <path class=\"displacy-arc\" id=\"arrow-eb0f22ad6eed4e94aa78005e7c103829-0-4\" stroke-width=\"2px\" d=\"M770,264.5 C770,89.5 1095.0,89.5 1095.0,264.5\" fill=\"none\" stroke=\"currentColor\"/>\n",
              "    <text dy=\"1.25em\" style=\"font-size: 0.8em; letter-spacing: 1px\">\n",
              "        <textPath xlink:href=\"#arrow-eb0f22ad6eed4e94aa78005e7c103829-0-4\" class=\"displacy-label\" startOffset=\"50%\" side=\"left\" fill=\"currentColor\" text-anchor=\"middle\">nsubj</textPath>\n",
              "    </text>\n",
              "    <path class=\"displacy-arrowhead\" d=\"M770,266.5 L762,254.5 778,254.5\" fill=\"currentColor\"/>\n",
              "</g>\n",
              "\n",
              "<g class=\"displacy-arrow\">\n",
              "    <path class=\"displacy-arc\" id=\"arrow-eb0f22ad6eed4e94aa78005e7c103829-0-5\" stroke-width=\"2px\" d=\"M945,264.5 C945,177.0 1090.0,177.0 1090.0,264.5\" fill=\"none\" stroke=\"currentColor\"/>\n",
              "    <text dy=\"1.25em\" style=\"font-size: 0.8em; letter-spacing: 1px\">\n",
              "        <textPath xlink:href=\"#arrow-eb0f22ad6eed4e94aa78005e7c103829-0-5\" class=\"displacy-label\" startOffset=\"50%\" side=\"left\" fill=\"currentColor\" text-anchor=\"middle\">advmod</textPath>\n",
              "    </text>\n",
              "    <path class=\"displacy-arrowhead\" d=\"M945,266.5 L937,254.5 953,254.5\" fill=\"currentColor\"/>\n",
              "</g>\n",
              "\n",
              "<g class=\"displacy-arrow\">\n",
              "    <path class=\"displacy-arc\" id=\"arrow-eb0f22ad6eed4e94aa78005e7c103829-0-6\" stroke-width=\"2px\" d=\"M1120,264.5 C1120,177.0 1265.0,177.0 1265.0,264.5\" fill=\"none\" stroke=\"currentColor\"/>\n",
              "    <text dy=\"1.25em\" style=\"font-size: 0.8em; letter-spacing: 1px\">\n",
              "        <textPath xlink:href=\"#arrow-eb0f22ad6eed4e94aa78005e7c103829-0-6\" class=\"displacy-label\" startOffset=\"50%\" side=\"left\" fill=\"currentColor\" text-anchor=\"middle\">dative</textPath>\n",
              "    </text>\n",
              "    <path class=\"displacy-arrowhead\" d=\"M1265.0,266.5 L1273.0,254.5 1257.0,254.5\" fill=\"currentColor\"/>\n",
              "</g>\n",
              "\n",
              "<g class=\"displacy-arrow\">\n",
              "    <path class=\"displacy-arc\" id=\"arrow-eb0f22ad6eed4e94aa78005e7c103829-0-7\" stroke-width=\"2px\" d=\"M1470,264.5 C1470,89.5 1795.0,89.5 1795.0,264.5\" fill=\"none\" stroke=\"currentColor\"/>\n",
              "    <text dy=\"1.25em\" style=\"font-size: 0.8em; letter-spacing: 1px\">\n",
              "        <textPath xlink:href=\"#arrow-eb0f22ad6eed4e94aa78005e7c103829-0-7\" class=\"displacy-label\" startOffset=\"50%\" side=\"left\" fill=\"currentColor\" text-anchor=\"middle\">amod</textPath>\n",
              "    </text>\n",
              "    <path class=\"displacy-arrowhead\" d=\"M1470,266.5 L1462,254.5 1478,254.5\" fill=\"currentColor\"/>\n",
              "</g>\n",
              "\n",
              "<g class=\"displacy-arrow\">\n",
              "    <path class=\"displacy-arc\" id=\"arrow-eb0f22ad6eed4e94aa78005e7c103829-0-8\" stroke-width=\"2px\" d=\"M1645,264.5 C1645,177.0 1790.0,177.0 1790.0,264.5\" fill=\"none\" stroke=\"currentColor\"/>\n",
              "    <text dy=\"1.25em\" style=\"font-size: 0.8em; letter-spacing: 1px\">\n",
              "        <textPath xlink:href=\"#arrow-eb0f22ad6eed4e94aa78005e7c103829-0-8\" class=\"displacy-label\" startOffset=\"50%\" side=\"left\" fill=\"currentColor\" text-anchor=\"middle\">compound</textPath>\n",
              "    </text>\n",
              "    <path class=\"displacy-arrowhead\" d=\"M1645,266.5 L1637,254.5 1653,254.5\" fill=\"currentColor\"/>\n",
              "</g>\n",
              "\n",
              "<g class=\"displacy-arrow\">\n",
              "    <path class=\"displacy-arc\" id=\"arrow-eb0f22ad6eed4e94aa78005e7c103829-0-9\" stroke-width=\"2px\" d=\"M1120,264.5 C1120,2.0 1800.0,2.0 1800.0,264.5\" fill=\"none\" stroke=\"currentColor\"/>\n",
              "    <text dy=\"1.25em\" style=\"font-size: 0.8em; letter-spacing: 1px\">\n",
              "        <textPath xlink:href=\"#arrow-eb0f22ad6eed4e94aa78005e7c103829-0-9\" class=\"displacy-label\" startOffset=\"50%\" side=\"left\" fill=\"currentColor\" text-anchor=\"middle\">dobj</textPath>\n",
              "    </text>\n",
              "    <path class=\"displacy-arrowhead\" d=\"M1800.0,266.5 L1808.0,254.5 1792.0,254.5\" fill=\"currentColor\"/>\n",
              "</g>\n",
              "</svg></span>"
            ],
            "text/plain": [
              "<IPython.core.display.HTML object>"
            ]
          },
          "metadata": {},
          "output_type": "display_data"
        }
      ],
      "source": [
        "import spacy\n",
        "from spacy import displacy\n",
        "import random\n",
        "# from IPython.core.display import display, HTML\n",
        "# from IPython.display import display, HTML\n",
        "\n",
        "# # Load the English language model\n",
        "# nlp = spacy.load(\"en_core_web_sm\")\n",
        "\n",
        "# df['Summary_tokens']=df['Summary'].apply(lambda x: word_tokenize(x))\n",
        "# summary_list=df['Summary_tokens'].tolist()\n",
        "# # print(summary_list[2:5])\n",
        "\n",
        "\n",
        "# Select two random sentences with at least 10 words\n",
        "random_sentences = [sentence for sentence in tokenized_reviews if len(sentence) >= 10]\n",
        "selected_sentences = random.sample(random_sentences, 2)\n",
        "\n",
        "\n",
        "# Combine tokenized sentences into strings\n",
        "selected_sentences_texts = [' '.join(sentence) for sentence in selected_sentences]\n",
        "\n",
        "# print(selected_sentences_texts)\n",
        "print(\"random sentences are:\")\n",
        "print(selected_sentences_texts[0])\n",
        "print(selected_sentences_texts[1])\n",
        "\n",
        "# Dependency Parser for sentence 1\n",
        "print(\"Dependency Parser for sentence 1\")\n",
        "\n",
        "\n",
        "tree1=nlp(selected_sentences_texts[0])\n",
        "\n",
        "\n",
        "\n",
        "print(f\"{'Node (from)-->':<15} {'Relation':^10} {'-->Node (to)':>15}\\n\")\n",
        "for token in tree1:\n",
        "    print(\"{:<15} {:^10} {:>15}\".format(str(token.head.text), str(token.dep_), str(token.text)))\n",
        "\n",
        "displacy.render(tree1, style=\"dep\",jupyter=True)\n",
        "\n",
        "tree2=nlp(selected_sentences_texts[1])\n",
        "\n",
        "print(\"Dependency Parser for sentence 2\")\n",
        "print(f\"{'Node (from)-->':<15} {'Relation':^10} {'-->Node (to)':>15}\\n\")\n",
        "for token in tree2:\n",
        "    print(\"{:<15} {:^10} {:>15}\".format(str(token.head.text), str(token.dep_), str(token.text)))\n",
        "\n",
        "displacy.render(tree2, style=\"dep\",jupyter=True)"
      ]
    },
    {
      "cell_type": "code",
      "execution_count": null,
      "id": "45f48271-9e5d-42f1-90f6-e14a7d6a7918",
      "metadata": {
        "id": "45f48271-9e5d-42f1-90f6-e14a7d6a7918"
      },
      "outputs": [],
      "source": []
    }
  ],
  "metadata": {
    "kernelspec": {
      "display_name": "Python 3 (ipykernel)",
      "language": "python",
      "name": "python3"
    },
    "language_info": {
      "codemirror_mode": {
        "name": "ipython",
        "version": 3
      },
      "file_extension": ".py",
      "mimetype": "text/x-python",
      "name": "python",
      "nbconvert_exporter": "python",
      "pygments_lexer": "ipython3",
      "version": "3.9.18"
    },
    "colab": {
      "provenance": [],
      "toc_visible": true,
      "include_colab_link": true
    }
  },
  "nbformat": 4,
  "nbformat_minor": 5
}