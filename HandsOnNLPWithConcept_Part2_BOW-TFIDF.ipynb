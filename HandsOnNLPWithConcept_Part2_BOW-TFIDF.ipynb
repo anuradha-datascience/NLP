{
  "nbformat": 4,
  "nbformat_minor": 0,
  "metadata": {
    "colab": {
      "provenance": [],
      "toc_visible": true,
      "authorship_tag": "ABX9TyMgUUVsAMWoTIxSz/Pg0yLe",
      "include_colab_link": true
    },
    "kernelspec": {
      "name": "python3",
      "display_name": "Python 3"
    },
    "language_info": {
      "name": "python"
    }
  },
  "cells": [
    {
      "cell_type": "markdown",
      "metadata": {
        "id": "view-in-github",
        "colab_type": "text"
      },
      "source": [
        "<a href=\"https://colab.research.google.com/github/anuradha-datascience/NLP/blob/main/HandsOnNLPWithConcept_Part2_BOW-TFIDF.ipynb\" target=\"_parent\"><img src=\"https://colab.research.google.com/assets/colab-badge.svg\" alt=\"Open In Colab\"/></a>"
      ]
    },
    {
      "cell_type": "code",
      "execution_count": 173,
      "metadata": {
        "id": "j_BHsgg4wb2C"
      },
      "outputs": [],
      "source": [
        "import pandas as pd\n",
        "import chardet\n",
        "with open('SMSSpamCollection.csv', 'rb') as f:\n",
        "    encoding = chardet.detect(f.read())['encoding']\n"
      ]
    },
    {
      "cell_type": "code",
      "source": [
        "df=pd.read_csv('SMSSpamCollection.csv',sep=\"\\t\",names=[\"label\",\"message\"],encoding=encoding)"
      ],
      "metadata": {
        "id": "uyV8Dnpzx4mj"
      },
      "execution_count": 174,
      "outputs": []
    },
    {
      "cell_type": "code",
      "source": [
        "df.head()"
      ],
      "metadata": {
        "colab": {
          "base_uri": "https://localhost:8080/",
          "height": 206
        },
        "id": "lp9zqksix6A1",
        "outputId": "411437cb-6754-4c86-8a66-91d8b92b8812"
      },
      "execution_count": 175,
      "outputs": [
        {
          "output_type": "execute_result",
          "data": {
            "text/plain": [
              "  label                                            message\n",
              "0   ham  Go until jurong point, crazy.. Available only ...\n",
              "1   ham                      Ok lar... Joking wif u oni...\n",
              "2  spam  Free entry in 2 a wkly comp to win FA Cup fina...\n",
              "3   ham  U dun say so early hor... U c already then say...\n",
              "4   ham  Nah I don't think he goes to usf, he lives aro..."
            ],
            "text/html": [
              "\n",
              "  <div id=\"df-1f5f4f74-eff7-4ceb-9517-697a4843d9d3\" class=\"colab-df-container\">\n",
              "    <div>\n",
              "<style scoped>\n",
              "    .dataframe tbody tr th:only-of-type {\n",
              "        vertical-align: middle;\n",
              "    }\n",
              "\n",
              "    .dataframe tbody tr th {\n",
              "        vertical-align: top;\n",
              "    }\n",
              "\n",
              "    .dataframe thead th {\n",
              "        text-align: right;\n",
              "    }\n",
              "</style>\n",
              "<table border=\"1\" class=\"dataframe\">\n",
              "  <thead>\n",
              "    <tr style=\"text-align: right;\">\n",
              "      <th></th>\n",
              "      <th>label</th>\n",
              "      <th>message</th>\n",
              "    </tr>\n",
              "  </thead>\n",
              "  <tbody>\n",
              "    <tr>\n",
              "      <th>0</th>\n",
              "      <td>ham</td>\n",
              "      <td>Go until jurong point, crazy.. Available only ...</td>\n",
              "    </tr>\n",
              "    <tr>\n",
              "      <th>1</th>\n",
              "      <td>ham</td>\n",
              "      <td>Ok lar... Joking wif u oni...</td>\n",
              "    </tr>\n",
              "    <tr>\n",
              "      <th>2</th>\n",
              "      <td>spam</td>\n",
              "      <td>Free entry in 2 a wkly comp to win FA Cup fina...</td>\n",
              "    </tr>\n",
              "    <tr>\n",
              "      <th>3</th>\n",
              "      <td>ham</td>\n",
              "      <td>U dun say so early hor... U c already then say...</td>\n",
              "    </tr>\n",
              "    <tr>\n",
              "      <th>4</th>\n",
              "      <td>ham</td>\n",
              "      <td>Nah I don't think he goes to usf, he lives aro...</td>\n",
              "    </tr>\n",
              "  </tbody>\n",
              "</table>\n",
              "</div>\n",
              "    <div class=\"colab-df-buttons\">\n",
              "\n",
              "  <div class=\"colab-df-container\">\n",
              "    <button class=\"colab-df-convert\" onclick=\"convertToInteractive('df-1f5f4f74-eff7-4ceb-9517-697a4843d9d3')\"\n",
              "            title=\"Convert this dataframe to an interactive table.\"\n",
              "            style=\"display:none;\">\n",
              "\n",
              "  <svg xmlns=\"http://www.w3.org/2000/svg\" height=\"24px\" viewBox=\"0 -960 960 960\">\n",
              "    <path d=\"M120-120v-720h720v720H120Zm60-500h600v-160H180v160Zm220 220h160v-160H400v160Zm0 220h160v-160H400v160ZM180-400h160v-160H180v160Zm440 0h160v-160H620v160ZM180-180h160v-160H180v160Zm440 0h160v-160H620v160Z\"/>\n",
              "  </svg>\n",
              "    </button>\n",
              "\n",
              "  <style>\n",
              "    .colab-df-container {\n",
              "      display:flex;\n",
              "      gap: 12px;\n",
              "    }\n",
              "\n",
              "    .colab-df-convert {\n",
              "      background-color: #E8F0FE;\n",
              "      border: none;\n",
              "      border-radius: 50%;\n",
              "      cursor: pointer;\n",
              "      display: none;\n",
              "      fill: #1967D2;\n",
              "      height: 32px;\n",
              "      padding: 0 0 0 0;\n",
              "      width: 32px;\n",
              "    }\n",
              "\n",
              "    .colab-df-convert:hover {\n",
              "      background-color: #E2EBFA;\n",
              "      box-shadow: 0px 1px 2px rgba(60, 64, 67, 0.3), 0px 1px 3px 1px rgba(60, 64, 67, 0.15);\n",
              "      fill: #174EA6;\n",
              "    }\n",
              "\n",
              "    .colab-df-buttons div {\n",
              "      margin-bottom: 4px;\n",
              "    }\n",
              "\n",
              "    [theme=dark] .colab-df-convert {\n",
              "      background-color: #3B4455;\n",
              "      fill: #D2E3FC;\n",
              "    }\n",
              "\n",
              "    [theme=dark] .colab-df-convert:hover {\n",
              "      background-color: #434B5C;\n",
              "      box-shadow: 0px 1px 3px 1px rgba(0, 0, 0, 0.15);\n",
              "      filter: drop-shadow(0px 1px 2px rgba(0, 0, 0, 0.3));\n",
              "      fill: #FFFFFF;\n",
              "    }\n",
              "  </style>\n",
              "\n",
              "    <script>\n",
              "      const buttonEl =\n",
              "        document.querySelector('#df-1f5f4f74-eff7-4ceb-9517-697a4843d9d3 button.colab-df-convert');\n",
              "      buttonEl.style.display =\n",
              "        google.colab.kernel.accessAllowed ? 'block' : 'none';\n",
              "\n",
              "      async function convertToInteractive(key) {\n",
              "        const element = document.querySelector('#df-1f5f4f74-eff7-4ceb-9517-697a4843d9d3');\n",
              "        const dataTable =\n",
              "          await google.colab.kernel.invokeFunction('convertToInteractive',\n",
              "                                                    [key], {});\n",
              "        if (!dataTable) return;\n",
              "\n",
              "        const docLinkHtml = 'Like what you see? Visit the ' +\n",
              "          '<a target=\"_blank\" href=https://colab.research.google.com/notebooks/data_table.ipynb>data table notebook</a>'\n",
              "          + ' to learn more about interactive tables.';\n",
              "        element.innerHTML = '';\n",
              "        dataTable['output_type'] = 'display_data';\n",
              "        await google.colab.output.renderOutput(dataTable, element);\n",
              "        const docLink = document.createElement('div');\n",
              "        docLink.innerHTML = docLinkHtml;\n",
              "        element.appendChild(docLink);\n",
              "      }\n",
              "    </script>\n",
              "  </div>\n",
              "\n",
              "\n",
              "<div id=\"df-665afa1b-f585-4baa-b1f1-db3a65bd38d3\">\n",
              "  <button class=\"colab-df-quickchart\" onclick=\"quickchart('df-665afa1b-f585-4baa-b1f1-db3a65bd38d3')\"\n",
              "            title=\"Suggest charts\"\n",
              "            style=\"display:none;\">\n",
              "\n",
              "<svg xmlns=\"http://www.w3.org/2000/svg\" height=\"24px\"viewBox=\"0 0 24 24\"\n",
              "     width=\"24px\">\n",
              "    <g>\n",
              "        <path d=\"M19 3H5c-1.1 0-2 .9-2 2v14c0 1.1.9 2 2 2h14c1.1 0 2-.9 2-2V5c0-1.1-.9-2-2-2zM9 17H7v-7h2v7zm4 0h-2V7h2v10zm4 0h-2v-4h2v4z\"/>\n",
              "    </g>\n",
              "</svg>\n",
              "  </button>\n",
              "\n",
              "<style>\n",
              "  .colab-df-quickchart {\n",
              "      --bg-color: #E8F0FE;\n",
              "      --fill-color: #1967D2;\n",
              "      --hover-bg-color: #E2EBFA;\n",
              "      --hover-fill-color: #174EA6;\n",
              "      --disabled-fill-color: #AAA;\n",
              "      --disabled-bg-color: #DDD;\n",
              "  }\n",
              "\n",
              "  [theme=dark] .colab-df-quickchart {\n",
              "      --bg-color: #3B4455;\n",
              "      --fill-color: #D2E3FC;\n",
              "      --hover-bg-color: #434B5C;\n",
              "      --hover-fill-color: #FFFFFF;\n",
              "      --disabled-bg-color: #3B4455;\n",
              "      --disabled-fill-color: #666;\n",
              "  }\n",
              "\n",
              "  .colab-df-quickchart {\n",
              "    background-color: var(--bg-color);\n",
              "    border: none;\n",
              "    border-radius: 50%;\n",
              "    cursor: pointer;\n",
              "    display: none;\n",
              "    fill: var(--fill-color);\n",
              "    height: 32px;\n",
              "    padding: 0;\n",
              "    width: 32px;\n",
              "  }\n",
              "\n",
              "  .colab-df-quickchart:hover {\n",
              "    background-color: var(--hover-bg-color);\n",
              "    box-shadow: 0 1px 2px rgba(60, 64, 67, 0.3), 0 1px 3px 1px rgba(60, 64, 67, 0.15);\n",
              "    fill: var(--button-hover-fill-color);\n",
              "  }\n",
              "\n",
              "  .colab-df-quickchart-complete:disabled,\n",
              "  .colab-df-quickchart-complete:disabled:hover {\n",
              "    background-color: var(--disabled-bg-color);\n",
              "    fill: var(--disabled-fill-color);\n",
              "    box-shadow: none;\n",
              "  }\n",
              "\n",
              "  .colab-df-spinner {\n",
              "    border: 2px solid var(--fill-color);\n",
              "    border-color: transparent;\n",
              "    border-bottom-color: var(--fill-color);\n",
              "    animation:\n",
              "      spin 1s steps(1) infinite;\n",
              "  }\n",
              "\n",
              "  @keyframes spin {\n",
              "    0% {\n",
              "      border-color: transparent;\n",
              "      border-bottom-color: var(--fill-color);\n",
              "      border-left-color: var(--fill-color);\n",
              "    }\n",
              "    20% {\n",
              "      border-color: transparent;\n",
              "      border-left-color: var(--fill-color);\n",
              "      border-top-color: var(--fill-color);\n",
              "    }\n",
              "    30% {\n",
              "      border-color: transparent;\n",
              "      border-left-color: var(--fill-color);\n",
              "      border-top-color: var(--fill-color);\n",
              "      border-right-color: var(--fill-color);\n",
              "    }\n",
              "    40% {\n",
              "      border-color: transparent;\n",
              "      border-right-color: var(--fill-color);\n",
              "      border-top-color: var(--fill-color);\n",
              "    }\n",
              "    60% {\n",
              "      border-color: transparent;\n",
              "      border-right-color: var(--fill-color);\n",
              "    }\n",
              "    80% {\n",
              "      border-color: transparent;\n",
              "      border-right-color: var(--fill-color);\n",
              "      border-bottom-color: var(--fill-color);\n",
              "    }\n",
              "    90% {\n",
              "      border-color: transparent;\n",
              "      border-bottom-color: var(--fill-color);\n",
              "    }\n",
              "  }\n",
              "</style>\n",
              "\n",
              "  <script>\n",
              "    async function quickchart(key) {\n",
              "      const quickchartButtonEl =\n",
              "        document.querySelector('#' + key + ' button');\n",
              "      quickchartButtonEl.disabled = true;  // To prevent multiple clicks.\n",
              "      quickchartButtonEl.classList.add('colab-df-spinner');\n",
              "      try {\n",
              "        const charts = await google.colab.kernel.invokeFunction(\n",
              "            'suggestCharts', [key], {});\n",
              "      } catch (error) {\n",
              "        console.error('Error during call to suggestCharts:', error);\n",
              "      }\n",
              "      quickchartButtonEl.classList.remove('colab-df-spinner');\n",
              "      quickchartButtonEl.classList.add('colab-df-quickchart-complete');\n",
              "    }\n",
              "    (() => {\n",
              "      let quickchartButtonEl =\n",
              "        document.querySelector('#df-665afa1b-f585-4baa-b1f1-db3a65bd38d3 button');\n",
              "      quickchartButtonEl.style.display =\n",
              "        google.colab.kernel.accessAllowed ? 'block' : 'none';\n",
              "    })();\n",
              "  </script>\n",
              "</div>\n",
              "\n",
              "    </div>\n",
              "  </div>\n"
            ],
            "application/vnd.google.colaboratory.intrinsic+json": {
              "type": "dataframe",
              "variable_name": "df",
              "summary": "{\n  \"name\": \"df\",\n  \"rows\": 5572,\n  \"fields\": [\n    {\n      \"column\": \"label\",\n      \"properties\": {\n        \"dtype\": \"category\",\n        \"samples\": [\n          \"spam\",\n          \"ham\"\n        ],\n        \"num_unique_values\": 2,\n        \"semantic_type\": \"\",\n        \"description\": \"\"\n      }\n    },\n    {\n      \"column\": \"message\",\n      \"properties\": {\n        \"dtype\": \"string\",\n        \"samples\": [\n          \"K, makes sense, btw carlos is being difficult so you guys are gonna smoke while I go pick up the second batch and get gas\",\n          \"URGENT! Your mobile No *********** WON a \\u00a32,000 Bonus Caller Prize on 02/06/03! This is the 2nd attempt to reach YOU! Call 09066362220 ASAP! BOX97N7QP, 150ppm\"\n        ],\n        \"num_unique_values\": 5169,\n        \"semantic_type\": \"\",\n        \"description\": \"\"\n      }\n    }\n  ]\n}"
            }
          },
          "metadata": {},
          "execution_count": 175
        }
      ]
    },
    {
      "cell_type": "code",
      "source": [
        "df.shape"
      ],
      "metadata": {
        "colab": {
          "base_uri": "https://localhost:8080/"
        },
        "id": "ERh49bvv5ndc",
        "outputId": "5e52567c-2919-4374-d214-db61fd2461aa"
      },
      "execution_count": 176,
      "outputs": [
        {
          "output_type": "execute_result",
          "data": {
            "text/plain": [
              "(5572, 2)"
            ]
          },
          "metadata": {},
          "execution_count": 176
        }
      ]
    },
    {
      "cell_type": "code",
      "source": [
        "df['message'].loc[100]"
      ],
      "metadata": {
        "colab": {
          "base_uri": "https://localhost:8080/",
          "height": 35
        },
        "id": "qnf3c6OA6G_-",
        "outputId": "3f48681a-d9ca-4056-e48d-8ea4c6715de0"
      },
      "execution_count": 177,
      "outputs": [
        {
          "output_type": "execute_result",
          "data": {
            "text/plain": [
              "\"Please don't text me anymore. I have nothing else to say.\""
            ],
            "application/vnd.google.colaboratory.intrinsic+json": {
              "type": "string"
            }
          },
          "metadata": {},
          "execution_count": 177
        }
      ]
    },
    {
      "cell_type": "markdown",
      "source": [
        "\n",
        "**Data Cleaning and Preprocessing**\n",
        "\n",
        "\n",
        "1.   Text Preprocessing\n",
        "  *   Tokenization\n",
        "  *   Stop Words\n",
        "  *   Stemming\n",
        "  *   POS Tagging\n",
        "  *   Lemmetization\n",
        "  *   NLTK Library\n",
        "\n",
        "2.   Word Embeddings\n",
        "\n",
        "Frequency-based Embedding\n",
        "  *   BOW\n",
        "  *   TFIDF\n",
        "  *   Glove\n",
        "\n",
        "Prediction-based Embedding\n",
        "  *   Word2Vec\n",
        "  *   AvgWord2Vec\n",
        "  *   BERT\n",
        "\n",
        "\n",
        "\n",
        "\n"
      ],
      "metadata": {
        "id": "Ic0OrPfs6Q_U"
      }
    },
    {
      "cell_type": "code",
      "source": [
        "\n",
        "import nltk\n",
        "import string\n",
        "#download resources\n",
        "nltk.download('stopwords')\n",
        "nltk.download('punkt')\n",
        "nltk.download('wordnet')"
      ],
      "metadata": {
        "colab": {
          "base_uri": "https://localhost:8080/"
        },
        "id": "wxf501Lh6hna",
        "outputId": "b3be219f-b3a9-412f-cf77-a3a3a7920b00"
      },
      "execution_count": 178,
      "outputs": [
        {
          "output_type": "stream",
          "name": "stderr",
          "text": [
            "[nltk_data] Downloading package stopwords to /root/nltk_data...\n",
            "[nltk_data]   Package stopwords is already up-to-date!\n",
            "[nltk_data] Downloading package punkt to /root/nltk_data...\n",
            "[nltk_data]   Package punkt is already up-to-date!\n",
            "[nltk_data] Downloading package wordnet to /root/nltk_data...\n",
            "[nltk_data]   Package wordnet is already up-to-date!\n"
          ]
        },
        {
          "output_type": "execute_result",
          "data": {
            "text/plain": [
              "True"
            ]
          },
          "metadata": {},
          "execution_count": 178
        }
      ]
    },
    {
      "cell_type": "code",
      "source": [
        "from nltk.corpus import stopwords\n",
        "from nltk.tokenize import word_tokenize\n"
      ],
      "metadata": {
        "id": "q8dnbiEo74BY"
      },
      "execution_count": 179,
      "outputs": []
    },
    {
      "cell_type": "code",
      "source": [
        "#tokenize text\n",
        "df[\"message_preprocess\"]=df['message'].apply(lambda x: word_tokenize(x))\n",
        "df[\"message_preprocess\"].head()"
      ],
      "metadata": {
        "colab": {
          "base_uri": "https://localhost:8080/"
        },
        "id": "TW4ZXHNP8S7S",
        "outputId": "849466a1-f026-4a0e-ca35-5c18aa6dfe1e"
      },
      "execution_count": 180,
      "outputs": [
        {
          "output_type": "execute_result",
          "data": {
            "text/plain": [
              "0    [Go, until, jurong, point, ,, crazy, .., Avail...\n",
              "1             [Ok, lar, ..., Joking, wif, u, oni, ...]\n",
              "2    [Free, entry, in, 2, a, wkly, comp, to, win, F...\n",
              "3    [U, dun, say, so, early, hor, ..., U, c, alrea...\n",
              "4    [Nah, I, do, n't, think, he, goes, to, usf, ,,...\n",
              "Name: message_preprocess, dtype: object"
            ]
          },
          "metadata": {},
          "execution_count": 180
        }
      ]
    },
    {
      "cell_type": "code",
      "source": [
        "df[\"message_preprocess\"].loc[100]\n",
        "\n"
      ],
      "metadata": {
        "colab": {
          "base_uri": "https://localhost:8080/"
        },
        "id": "jGobNwW1CAVv",
        "outputId": "88baf575-4d02-4933-c343-008eeed7b6ce"
      },
      "execution_count": 181,
      "outputs": [
        {
          "output_type": "execute_result",
          "data": {
            "text/plain": [
              "['Please',\n",
              " 'do',\n",
              " \"n't\",\n",
              " 'text',\n",
              " 'me',\n",
              " 'anymore',\n",
              " '.',\n",
              " 'I',\n",
              " 'have',\n",
              " 'nothing',\n",
              " 'else',\n",
              " 'to',\n",
              " 'say',\n",
              " '.']"
            ]
          },
          "metadata": {},
          "execution_count": 181
        }
      ]
    },
    {
      "cell_type": "code",
      "source": [
        "# Get the English stopwords list\n",
        "stopwords_list = stopwords.words('english')\n",
        "\n",
        "# Print the stopwords list\n",
        "print(stopwords_list)\n",
        "\n",
        "print(string.punctuation)"
      ],
      "metadata": {
        "colab": {
          "base_uri": "https://localhost:8080/"
        },
        "id": "FUIN7FxLCzjr",
        "outputId": "0e72ed18-cb74-4414-8356-47f5e2193fb8"
      },
      "execution_count": 182,
      "outputs": [
        {
          "output_type": "stream",
          "name": "stdout",
          "text": [
            "['i', 'me', 'my', 'myself', 'we', 'our', 'ours', 'ourselves', 'you', \"you're\", \"you've\", \"you'll\", \"you'd\", 'your', 'yours', 'yourself', 'yourselves', 'he', 'him', 'his', 'himself', 'she', \"she's\", 'her', 'hers', 'herself', 'it', \"it's\", 'its', 'itself', 'they', 'them', 'their', 'theirs', 'themselves', 'what', 'which', 'who', 'whom', 'this', 'that', \"that'll\", 'these', 'those', 'am', 'is', 'are', 'was', 'were', 'be', 'been', 'being', 'have', 'has', 'had', 'having', 'do', 'does', 'did', 'doing', 'a', 'an', 'the', 'and', 'but', 'if', 'or', 'because', 'as', 'until', 'while', 'of', 'at', 'by', 'for', 'with', 'about', 'against', 'between', 'into', 'through', 'during', 'before', 'after', 'above', 'below', 'to', 'from', 'up', 'down', 'in', 'out', 'on', 'off', 'over', 'under', 'again', 'further', 'then', 'once', 'here', 'there', 'when', 'where', 'why', 'how', 'all', 'any', 'both', 'each', 'few', 'more', 'most', 'other', 'some', 'such', 'no', 'nor', 'not', 'only', 'own', 'same', 'so', 'than', 'too', 'very', 's', 't', 'can', 'will', 'just', 'don', \"don't\", 'should', \"should've\", 'now', 'd', 'll', 'm', 'o', 're', 've', 'y', 'ain', 'aren', \"aren't\", 'couldn', \"couldn't\", 'didn', \"didn't\", 'doesn', \"doesn't\", 'hadn', \"hadn't\", 'hasn', \"hasn't\", 'haven', \"haven't\", 'isn', \"isn't\", 'ma', 'mightn', \"mightn't\", 'mustn', \"mustn't\", 'needn', \"needn't\", 'shan', \"shan't\", 'shouldn', \"shouldn't\", 'wasn', \"wasn't\", 'weren', \"weren't\", 'won', \"won't\", 'wouldn', \"wouldn't\"]\n",
            "!\"#$%&'()*+,-./:;<=>?@[\\]^_`{|}~\n"
          ]
        }
      ]
    },
    {
      "cell_type": "code",
      "source": [
        "# remove punctuations and stop words\n",
        "stop_words = stopwords.words('english') + list(string.punctuation)\n"
      ],
      "metadata": {
        "id": "pEtBeyZLCJpr"
      },
      "execution_count": 183,
      "outputs": []
    },
    {
      "cell_type": "code",
      "source": [
        "#word lowering , stop word and punctuation removal, number removal\n",
        "def filter_tokens(tokens):\n",
        "    filtered_tokens = [word.lower() for word in tokens if word.lower() not in stop_words]\n",
        "    filtered_tokens=[token for token in filtered_tokens if token.isalpha()]\n",
        "    return filtered_tokens"
      ],
      "metadata": {
        "id": "WHG5l99FDNCO"
      },
      "execution_count": 184,
      "outputs": []
    },
    {
      "cell_type": "code",
      "source": [
        "df[\"message_preprocess\"]=df['message_preprocess'].apply(lambda x: filter_tokens(x))\n",
        "df[\"message_preprocess\"].head()"
      ],
      "metadata": {
        "colab": {
          "base_uri": "https://localhost:8080/"
        },
        "id": "lNec17W7Dmqm",
        "outputId": "c2f176cc-d4e0-42da-8992-9a4a036520d9"
      },
      "execution_count": 185,
      "outputs": [
        {
          "output_type": "execute_result",
          "data": {
            "text/plain": [
              "0    [go, jurong, point, crazy, available, bugis, n...\n",
              "1                       [ok, lar, joking, wif, u, oni]\n",
              "2    [free, entry, wkly, comp, win, fa, cup, final,...\n",
              "3        [u, dun, say, early, hor, u, c, already, say]\n",
              "4       [nah, think, goes, usf, lives, around, though]\n",
              "Name: message_preprocess, dtype: object"
            ]
          },
          "metadata": {},
          "execution_count": 185
        }
      ]
    },
    {
      "cell_type": "code",
      "source": [
        "df[\"message_preprocess\"].loc[1100]"
      ],
      "metadata": {
        "colab": {
          "base_uri": "https://localhost:8080/"
        },
        "id": "-V9jKxVuD3_t",
        "outputId": "0ba28f55-2f84-4518-ead6-b41a5a9aae5c"
      },
      "execution_count": 186,
      "outputs": [
        {
          "output_type": "execute_result",
          "data": {
            "text/plain": [
              "['ne',\n",
              " 'thing',\n",
              " 'interesting',\n",
              " 'good',\n",
              " 'birthday',\n",
              " 'u',\n",
              " 'wrking',\n",
              " 'nxt',\n",
              " 'started',\n",
              " 'uni',\n",
              " 'today']"
            ]
          },
          "metadata": {},
          "execution_count": 186
        }
      ]
    },
    {
      "cell_type": "code",
      "source": [
        "#stemming vs lemmatization\n",
        "from nltk.stem.porter import PorterStemmer\n",
        "stemmer = PorterStemmer()\n",
        "def stemming(tokens):\n",
        "\n",
        "  tokens = [stemmer.stem(token) for token in tokens]\n",
        "  return tokens"
      ],
      "metadata": {
        "id": "JNUg3UazEAwy"
      },
      "execution_count": 187,
      "outputs": []
    },
    {
      "cell_type": "code",
      "source": [],
      "metadata": {
        "id": "ww_8BSBMUYS0"
      },
      "execution_count": 187,
      "outputs": []
    },
    {
      "cell_type": "code",
      "source": [
        "# df[\"message_preprocess_new\"]=df['message_preprocess'].apply(lambda x: stemming(x))\n",
        "# df[\"message_preprocess_new\"].head()"
      ],
      "metadata": {
        "id": "q3JFWsOcUAkk"
      },
      "execution_count": 188,
      "outputs": []
    },
    {
      "cell_type": "code",
      "source": [
        "tokens =[\"ok\", \"lar\", \"jokinging\", \"wif\", \"u\", \"oni\",\"joining\"]\n",
        "new=stemming(tokens)\n",
        "print(new)"
      ],
      "metadata": {
        "colab": {
          "base_uri": "https://localhost:8080/"
        },
        "id": "oCzLMcLpW674",
        "outputId": "84abef5a-9a71-4314-e816-58e7a699d8a1"
      },
      "execution_count": 189,
      "outputs": [
        {
          "output_type": "stream",
          "name": "stdout",
          "text": [
            "['ok', 'lar', 'joking', 'wif', 'u', 'oni', 'join']\n"
          ]
        }
      ]
    },
    {
      "cell_type": "code",
      "source": [
        "from nltk.stem import WordNetLemmatizer\n",
        "from nltk.corpus import wordnet\n",
        "nltk.download('averaged_perceptron_tagger')\n",
        "nltk.download('wordnet')\n",
        "\n",
        "def get_wordnet_pos(word):\n",
        "    \"\"\"Map POS tag to first character lemmatize() accepts\"\"\"\n",
        "    tag = nltk.pos_tag([word])[0][1][0].upper()\n",
        "    tag_dict = {\"J\": wordnet.ADJ,\n",
        "                \"N\": wordnet.NOUN,\n",
        "                \"V\": wordnet.VERB,\n",
        "                \"R\": wordnet.ADV}\n",
        "    return tag_dict.get(tag, wordnet.NOUN)\n",
        "\n",
        "def lemmatization(tokens):\n",
        "    # Lemmatization with POS tagging\n",
        "    lemmatizer = WordNetLemmatizer()\n",
        "    lem_tokens = [lemmatizer.lemmatize(token, get_wordnet_pos(token)) for token in tokens]\n",
        "    return lem_tokens\n",
        "\n",
        "# Example usage\n",
        "tokens = [\"running\", \"cars\", \"swimming\"]\n",
        "lemmatized_tokens = lemmatization(tokens)\n",
        "print(lemmatized_tokens)"
      ],
      "metadata": {
        "colab": {
          "base_uri": "https://localhost:8080/"
        },
        "id": "bMF_TlYWYU7z",
        "outputId": "f961f513-68d7-4b02-b6cd-6de18e468c00"
      },
      "execution_count": 190,
      "outputs": [
        {
          "output_type": "stream",
          "name": "stdout",
          "text": [
            "['run', 'car', 'swim']\n"
          ]
        },
        {
          "output_type": "stream",
          "name": "stderr",
          "text": [
            "[nltk_data] Downloading package averaged_perceptron_tagger to\n",
            "[nltk_data]     /root/nltk_data...\n",
            "[nltk_data]   Package averaged_perceptron_tagger is already up-to-\n",
            "[nltk_data]       date!\n",
            "[nltk_data] Downloading package wordnet to /root/nltk_data...\n",
            "[nltk_data]   Package wordnet is already up-to-date!\n"
          ]
        }
      ]
    },
    {
      "cell_type": "code",
      "source": [
        "df[\"message_preprocess\"]=df['message_preprocess'].apply(lambda x: stemming(x))\n",
        "df[\"message_preprocess\"].head()"
      ],
      "metadata": {
        "colab": {
          "base_uri": "https://localhost:8080/"
        },
        "id": "ByZNsWmCZty6",
        "outputId": "f044bf95-4926-47f9-b06e-f8d61bfc6f29"
      },
      "execution_count": 191,
      "outputs": [
        {
          "output_type": "execute_result",
          "data": {
            "text/plain": [
              "0    [go, jurong, point, crazi, avail, bugi, n, gre...\n",
              "1                         [ok, lar, joke, wif, u, oni]\n",
              "2    [free, entri, wkli, comp, win, fa, cup, final,...\n",
              "3        [u, dun, say, earli, hor, u, c, alreadi, say]\n",
              "4         [nah, think, goe, usf, live, around, though]\n",
              "Name: message_preprocess, dtype: object"
            ]
          },
          "metadata": {},
          "execution_count": 191
        }
      ]
    },
    {
      "cell_type": "code",
      "source": [
        "# let's make a single function for preprocessing using nltk\n",
        "def get_wordnet_pos(word):\n",
        "  \"\"\"Map POS tag to first character lemmatize() accepts\"\"\"\n",
        "  tag = nltk.pos_tag([word])[0][1][0].upper()\n",
        "  tag_dict = {\"J\": wordnet.ADJ,\n",
        "              \"N\": wordnet.NOUN,\n",
        "              \"V\": wordnet.VERB,\n",
        "              \"R\": wordnet.ADV}\n",
        "  return tag_dict.get(tag, wordnet.NOUN)\n",
        "\n",
        "def preprocess_data(text):\n",
        "  #tokenizing\n",
        "  preprocess_tokens=word_tokenize(text)\n",
        "\n",
        "  #stop word| lowering | punctuation| only alpha\n",
        "  stopwords_list = stopwords.words('english')\n",
        "  preprocess_tokens = [word.lower() for word in preprocess_tokens if word.lower() not in stop_words]\n",
        "  preprocess_tokens=[token for token in preprocess_tokens if token.isalpha()]\n",
        "\n",
        "  # Lemmatization with POS tagging\n",
        "  lemmatizer = WordNetLemmatizer()\n",
        "  preprocess_tokens = [lemmatizer.lemmatize(token, get_wordnet_pos(token)) for token in preprocess_tokens]\n",
        "  return preprocess_tokens\n",
        "\n",
        "sample_df=pd.read_csv('SMSSpamCollection.csv',sep=\"\\t\",names=[\"label\",\"message\"],encoding=encoding)\n",
        "\n",
        "sample_df[\"message_preprocess\"]=sample_df['message'].apply(lambda x: preprocess_data(x))"
      ],
      "metadata": {
        "id": "UVev7FlGAdrS"
      },
      "execution_count": 197,
      "outputs": []
    },
    {
      "cell_type": "code",
      "source": [
        "sample_df.head()"
      ],
      "metadata": {
        "colab": {
          "base_uri": "https://localhost:8080/",
          "height": 206
        },
        "id": "VlYrLX0jBQov",
        "outputId": "5c5e0b59-13b4-40c4-b169-4bf2a650f429"
      },
      "execution_count": 198,
      "outputs": [
        {
          "output_type": "execute_result",
          "data": {
            "text/plain": [
              "  label                                            message  \\\n",
              "0   ham  Go until jurong point, crazy.. Available only ...   \n",
              "1   ham                      Ok lar... Joking wif u oni...   \n",
              "2  spam  Free entry in 2 a wkly comp to win FA Cup fina...   \n",
              "3   ham  U dun say so early hor... U c already then say...   \n",
              "4   ham  Nah I don't think he goes to usf, he lives aro...   \n",
              "\n",
              "                                  message_preprocess  \n",
              "0  [go, jurong, point, crazy, available, bugis, n...  \n",
              "1                     [ok, lar, joking, wif, u, oni]  \n",
              "2  [free, entry, wkly, comp, win, fa, cup, final,...  \n",
              "3      [u, dun, say, early, hor, u, c, already, say]  \n",
              "4        [nah, think, go, usf, life, around, though]  "
            ],
            "text/html": [
              "\n",
              "  <div id=\"df-aad374b5-0186-47e9-8c2b-1bea7020521f\" class=\"colab-df-container\">\n",
              "    <div>\n",
              "<style scoped>\n",
              "    .dataframe tbody tr th:only-of-type {\n",
              "        vertical-align: middle;\n",
              "    }\n",
              "\n",
              "    .dataframe tbody tr th {\n",
              "        vertical-align: top;\n",
              "    }\n",
              "\n",
              "    .dataframe thead th {\n",
              "        text-align: right;\n",
              "    }\n",
              "</style>\n",
              "<table border=\"1\" class=\"dataframe\">\n",
              "  <thead>\n",
              "    <tr style=\"text-align: right;\">\n",
              "      <th></th>\n",
              "      <th>label</th>\n",
              "      <th>message</th>\n",
              "      <th>message_preprocess</th>\n",
              "    </tr>\n",
              "  </thead>\n",
              "  <tbody>\n",
              "    <tr>\n",
              "      <th>0</th>\n",
              "      <td>ham</td>\n",
              "      <td>Go until jurong point, crazy.. Available only ...</td>\n",
              "      <td>[go, jurong, point, crazy, available, bugis, n...</td>\n",
              "    </tr>\n",
              "    <tr>\n",
              "      <th>1</th>\n",
              "      <td>ham</td>\n",
              "      <td>Ok lar... Joking wif u oni...</td>\n",
              "      <td>[ok, lar, joking, wif, u, oni]</td>\n",
              "    </tr>\n",
              "    <tr>\n",
              "      <th>2</th>\n",
              "      <td>spam</td>\n",
              "      <td>Free entry in 2 a wkly comp to win FA Cup fina...</td>\n",
              "      <td>[free, entry, wkly, comp, win, fa, cup, final,...</td>\n",
              "    </tr>\n",
              "    <tr>\n",
              "      <th>3</th>\n",
              "      <td>ham</td>\n",
              "      <td>U dun say so early hor... U c already then say...</td>\n",
              "      <td>[u, dun, say, early, hor, u, c, already, say]</td>\n",
              "    </tr>\n",
              "    <tr>\n",
              "      <th>4</th>\n",
              "      <td>ham</td>\n",
              "      <td>Nah I don't think he goes to usf, he lives aro...</td>\n",
              "      <td>[nah, think, go, usf, life, around, though]</td>\n",
              "    </tr>\n",
              "  </tbody>\n",
              "</table>\n",
              "</div>\n",
              "    <div class=\"colab-df-buttons\">\n",
              "\n",
              "  <div class=\"colab-df-container\">\n",
              "    <button class=\"colab-df-convert\" onclick=\"convertToInteractive('df-aad374b5-0186-47e9-8c2b-1bea7020521f')\"\n",
              "            title=\"Convert this dataframe to an interactive table.\"\n",
              "            style=\"display:none;\">\n",
              "\n",
              "  <svg xmlns=\"http://www.w3.org/2000/svg\" height=\"24px\" viewBox=\"0 -960 960 960\">\n",
              "    <path d=\"M120-120v-720h720v720H120Zm60-500h600v-160H180v160Zm220 220h160v-160H400v160Zm0 220h160v-160H400v160ZM180-400h160v-160H180v160Zm440 0h160v-160H620v160ZM180-180h160v-160H180v160Zm440 0h160v-160H620v160Z\"/>\n",
              "  </svg>\n",
              "    </button>\n",
              "\n",
              "  <style>\n",
              "    .colab-df-container {\n",
              "      display:flex;\n",
              "      gap: 12px;\n",
              "    }\n",
              "\n",
              "    .colab-df-convert {\n",
              "      background-color: #E8F0FE;\n",
              "      border: none;\n",
              "      border-radius: 50%;\n",
              "      cursor: pointer;\n",
              "      display: none;\n",
              "      fill: #1967D2;\n",
              "      height: 32px;\n",
              "      padding: 0 0 0 0;\n",
              "      width: 32px;\n",
              "    }\n",
              "\n",
              "    .colab-df-convert:hover {\n",
              "      background-color: #E2EBFA;\n",
              "      box-shadow: 0px 1px 2px rgba(60, 64, 67, 0.3), 0px 1px 3px 1px rgba(60, 64, 67, 0.15);\n",
              "      fill: #174EA6;\n",
              "    }\n",
              "\n",
              "    .colab-df-buttons div {\n",
              "      margin-bottom: 4px;\n",
              "    }\n",
              "\n",
              "    [theme=dark] .colab-df-convert {\n",
              "      background-color: #3B4455;\n",
              "      fill: #D2E3FC;\n",
              "    }\n",
              "\n",
              "    [theme=dark] .colab-df-convert:hover {\n",
              "      background-color: #434B5C;\n",
              "      box-shadow: 0px 1px 3px 1px rgba(0, 0, 0, 0.15);\n",
              "      filter: drop-shadow(0px 1px 2px rgba(0, 0, 0, 0.3));\n",
              "      fill: #FFFFFF;\n",
              "    }\n",
              "  </style>\n",
              "\n",
              "    <script>\n",
              "      const buttonEl =\n",
              "        document.querySelector('#df-aad374b5-0186-47e9-8c2b-1bea7020521f button.colab-df-convert');\n",
              "      buttonEl.style.display =\n",
              "        google.colab.kernel.accessAllowed ? 'block' : 'none';\n",
              "\n",
              "      async function convertToInteractive(key) {\n",
              "        const element = document.querySelector('#df-aad374b5-0186-47e9-8c2b-1bea7020521f');\n",
              "        const dataTable =\n",
              "          await google.colab.kernel.invokeFunction('convertToInteractive',\n",
              "                                                    [key], {});\n",
              "        if (!dataTable) return;\n",
              "\n",
              "        const docLinkHtml = 'Like what you see? Visit the ' +\n",
              "          '<a target=\"_blank\" href=https://colab.research.google.com/notebooks/data_table.ipynb>data table notebook</a>'\n",
              "          + ' to learn more about interactive tables.';\n",
              "        element.innerHTML = '';\n",
              "        dataTable['output_type'] = 'display_data';\n",
              "        await google.colab.output.renderOutput(dataTable, element);\n",
              "        const docLink = document.createElement('div');\n",
              "        docLink.innerHTML = docLinkHtml;\n",
              "        element.appendChild(docLink);\n",
              "      }\n",
              "    </script>\n",
              "  </div>\n",
              "\n",
              "\n",
              "<div id=\"df-8edca651-1931-4d8a-92f8-95c5b6dd2986\">\n",
              "  <button class=\"colab-df-quickchart\" onclick=\"quickchart('df-8edca651-1931-4d8a-92f8-95c5b6dd2986')\"\n",
              "            title=\"Suggest charts\"\n",
              "            style=\"display:none;\">\n",
              "\n",
              "<svg xmlns=\"http://www.w3.org/2000/svg\" height=\"24px\"viewBox=\"0 0 24 24\"\n",
              "     width=\"24px\">\n",
              "    <g>\n",
              "        <path d=\"M19 3H5c-1.1 0-2 .9-2 2v14c0 1.1.9 2 2 2h14c1.1 0 2-.9 2-2V5c0-1.1-.9-2-2-2zM9 17H7v-7h2v7zm4 0h-2V7h2v10zm4 0h-2v-4h2v4z\"/>\n",
              "    </g>\n",
              "</svg>\n",
              "  </button>\n",
              "\n",
              "<style>\n",
              "  .colab-df-quickchart {\n",
              "      --bg-color: #E8F0FE;\n",
              "      --fill-color: #1967D2;\n",
              "      --hover-bg-color: #E2EBFA;\n",
              "      --hover-fill-color: #174EA6;\n",
              "      --disabled-fill-color: #AAA;\n",
              "      --disabled-bg-color: #DDD;\n",
              "  }\n",
              "\n",
              "  [theme=dark] .colab-df-quickchart {\n",
              "      --bg-color: #3B4455;\n",
              "      --fill-color: #D2E3FC;\n",
              "      --hover-bg-color: #434B5C;\n",
              "      --hover-fill-color: #FFFFFF;\n",
              "      --disabled-bg-color: #3B4455;\n",
              "      --disabled-fill-color: #666;\n",
              "  }\n",
              "\n",
              "  .colab-df-quickchart {\n",
              "    background-color: var(--bg-color);\n",
              "    border: none;\n",
              "    border-radius: 50%;\n",
              "    cursor: pointer;\n",
              "    display: none;\n",
              "    fill: var(--fill-color);\n",
              "    height: 32px;\n",
              "    padding: 0;\n",
              "    width: 32px;\n",
              "  }\n",
              "\n",
              "  .colab-df-quickchart:hover {\n",
              "    background-color: var(--hover-bg-color);\n",
              "    box-shadow: 0 1px 2px rgba(60, 64, 67, 0.3), 0 1px 3px 1px rgba(60, 64, 67, 0.15);\n",
              "    fill: var(--button-hover-fill-color);\n",
              "  }\n",
              "\n",
              "  .colab-df-quickchart-complete:disabled,\n",
              "  .colab-df-quickchart-complete:disabled:hover {\n",
              "    background-color: var(--disabled-bg-color);\n",
              "    fill: var(--disabled-fill-color);\n",
              "    box-shadow: none;\n",
              "  }\n",
              "\n",
              "  .colab-df-spinner {\n",
              "    border: 2px solid var(--fill-color);\n",
              "    border-color: transparent;\n",
              "    border-bottom-color: var(--fill-color);\n",
              "    animation:\n",
              "      spin 1s steps(1) infinite;\n",
              "  }\n",
              "\n",
              "  @keyframes spin {\n",
              "    0% {\n",
              "      border-color: transparent;\n",
              "      border-bottom-color: var(--fill-color);\n",
              "      border-left-color: var(--fill-color);\n",
              "    }\n",
              "    20% {\n",
              "      border-color: transparent;\n",
              "      border-left-color: var(--fill-color);\n",
              "      border-top-color: var(--fill-color);\n",
              "    }\n",
              "    30% {\n",
              "      border-color: transparent;\n",
              "      border-left-color: var(--fill-color);\n",
              "      border-top-color: var(--fill-color);\n",
              "      border-right-color: var(--fill-color);\n",
              "    }\n",
              "    40% {\n",
              "      border-color: transparent;\n",
              "      border-right-color: var(--fill-color);\n",
              "      border-top-color: var(--fill-color);\n",
              "    }\n",
              "    60% {\n",
              "      border-color: transparent;\n",
              "      border-right-color: var(--fill-color);\n",
              "    }\n",
              "    80% {\n",
              "      border-color: transparent;\n",
              "      border-right-color: var(--fill-color);\n",
              "      border-bottom-color: var(--fill-color);\n",
              "    }\n",
              "    90% {\n",
              "      border-color: transparent;\n",
              "      border-bottom-color: var(--fill-color);\n",
              "    }\n",
              "  }\n",
              "</style>\n",
              "\n",
              "  <script>\n",
              "    async function quickchart(key) {\n",
              "      const quickchartButtonEl =\n",
              "        document.querySelector('#' + key + ' button');\n",
              "      quickchartButtonEl.disabled = true;  // To prevent multiple clicks.\n",
              "      quickchartButtonEl.classList.add('colab-df-spinner');\n",
              "      try {\n",
              "        const charts = await google.colab.kernel.invokeFunction(\n",
              "            'suggestCharts', [key], {});\n",
              "      } catch (error) {\n",
              "        console.error('Error during call to suggestCharts:', error);\n",
              "      }\n",
              "      quickchartButtonEl.classList.remove('colab-df-spinner');\n",
              "      quickchartButtonEl.classList.add('colab-df-quickchart-complete');\n",
              "    }\n",
              "    (() => {\n",
              "      let quickchartButtonEl =\n",
              "        document.querySelector('#df-8edca651-1931-4d8a-92f8-95c5b6dd2986 button');\n",
              "      quickchartButtonEl.style.display =\n",
              "        google.colab.kernel.accessAllowed ? 'block' : 'none';\n",
              "    })();\n",
              "  </script>\n",
              "</div>\n",
              "\n",
              "    </div>\n",
              "  </div>\n"
            ],
            "application/vnd.google.colaboratory.intrinsic+json": {
              "type": "dataframe",
              "variable_name": "sample_df",
              "repr_error": "unhashable type: 'list'"
            }
          },
          "metadata": {},
          "execution_count": 198
        }
      ]
    },
    {
      "cell_type": "code",
      "source": [
        "#create corpus of messages\n",
        "corpus=df[\"message_preprocess\"].tolist()\n",
        "corpus[2:5]"
      ],
      "metadata": {
        "colab": {
          "base_uri": "https://localhost:8080/"
        },
        "id": "VkTlfcziju31",
        "outputId": "59bfa3b6-ea8e-4460-d8a6-df14c35e9714"
      },
      "execution_count": 199,
      "outputs": [
        {
          "output_type": "execute_result",
          "data": {
            "text/plain": [
              "[['free',\n",
              "  'entry',\n",
              "  'wkly',\n",
              "  'comp',\n",
              "  'win',\n",
              "  'fa',\n",
              "  'cup',\n",
              "  'final',\n",
              "  'tkts',\n",
              "  'may',\n",
              "  'text',\n",
              "  'fa',\n",
              "  'receive',\n",
              "  'entry',\n",
              "  'question',\n",
              "  'std',\n",
              "  'txt',\n",
              "  'rate',\n",
              "  'c',\n",
              "  'apply'],\n",
              " ['u', 'dun', 'say', 'early', 'hor', 'u', 'c', 'already', 'say'],\n",
              " ['nah', 'think', 'go', 'usf', 'life', 'around', 'though']]"
            ]
          },
          "metadata": {},
          "execution_count": 199
        }
      ]
    },
    {
      "cell_type": "code",
      "source": [
        "# create vocab from corpus\n",
        "def create_vocab(corpus):\n",
        "    vocab = set()\n",
        "    for tokens in corpus:\n",
        "        vocab.update(tokens)\n",
        "    return vocab\n",
        "\n",
        "# Create vocabulary\n",
        "vocab = create_vocab(corpus)\n",
        "\n",
        "# Print vocabulary\n",
        "print(vocab)"
      ],
      "metadata": {
        "colab": {
          "base_uri": "https://localhost:8080/"
        },
        "id": "RggxmG0WkehK",
        "outputId": "3971cfd7-68ef-4a8b-88d0-a45f7438a60b"
      },
      "execution_count": 200,
      "outputs": [
        {
          "output_type": "stream",
          "name": "stdout",
          "text": [
            "{'nicky', 'velusamy', 'pace', 'mag', 'phrase', 'prince', 'xx', 'discuss', 'info', 'nag', 'lotsof', 'road', 'uin', 'simpson', 'loko', 'nokia', 'jenne', 'internal', 'uhhhhrmm', 'apology', 'forget', 'lakh', 'late', 'everytime', 'writhe', 'sterm', 'anywhere', 'culture', 'radio', 'milk', 'punish', 'language', 'sac', 'conference', 'curtsey', 'toxic', 'nutter', 'hopeso', 'relationship', 'manageable', 'lor', 'annie', 'rcvd', 'mom', 'oblisingately', 'telephone', 'remains', 'promote', 'ish', 'dancin', 'combination', 'duvet', 'achan', 'superb', 'rgent', 'sporadically', 'biola', 'bout', 'shitinnit', 'spiffing', 'saving', 'prominent', 'jenxxx', 'transaction', 'egg', 'lord', 'cock', 'rudi', 'frndz', 'slap', 'mega', 'fry', 'battle', 'triumphed', 'crisis', 'bye', 'ello', 'pocay', 'announcement', 'lage', 'yifeng', 'arnt', 'espe', 'traffic', 'spoil', 'need', 'rajnikant', 'forgotten', 'j', 'taxi', 'evo', 'libertine', 'necklace', 'sure', 'bet', 'plough', 'chest', 'jide', 'asa', 'ummmmmaah', 'liver', 'wt', 'dudette', 'arab', 'mtnl', 'australia', 'optimistic', 'wrong', 'pleased', 'aaniye', 'orchard', 'jontin', 'posible', 'advance', 'courtroom', 'ramen', 'hold', 'samantha', 'button', 'nottingham', 'dawn', 'shut', 'grasp', 'float', 'ctter', 'ourbacks', 'housework', 'mmm', 'luv', 'thou', 'difficult', 'jen', 'though', 'armand', 'anythiing', 'z', 'difference', 'practicum', 'otherwise', 'function', 'barry', 'fainting', 'afford', 'stil', 'bilo', 'fifteen', 'textoperator', 'ctagg', 'perform', 'module', 'irritates', 'photo', 'might', 'saristar', 'romantic', 'someone', 'kit', 'ofice', 'auction', 'disappointment', 'grown', 'motherfucker', 'psychic', 'cream', 'chance', 'burnt', 'ü', 'insurance', 'thgt', 'past', 'waheeda', 'poem', 'repeat', 'intro', 'message', 'jewelry', 'mn', 'low', 'lie', 'possibly', 'racal', 'deck', 'storm', 'cheque', 'always', 'wil', 'waliking', 'apt', 'occasion', 'surly', 'sar', 'rv', 'cine', 'desert', 'lobby', 'newscaster', 'amore', 'jas', 'mah', 'everyday', 'ditto', 'devour', 'skinny', 'trouser', 'dear', 'reasonable', 'strt', 'bloody', 'sub', 'symbol', 'jacket', 'po', 'result', 'hme', 'groovying', 'thank', 'slack', 'goldviking', 'person', 'manege', 'title', 'fringe', 'survey', 'multimedia', 'ninish', 'mahfuuz', 'shorter', 'card', 'digital', 'amount', 'cartoon', 'ahmad', 'portion', 'hvae', 'philosophy', 'durham', 'south', 'advisor', 'watchin', 'ing', 'que', 'msg', 'boring', 'dai', 'hamper', 'europe', 'sun', 'evrydy', 'allalo', 'left', 'practical', 'hitler', 'browse', 'gold', 'inever', 'taught', 'compass', 'own', 'sooner', 'ash', 'xt', 'expose', 'fall', 'proze', 'noline', 'matthew', 'unbreakable', 'paperwork', 'bread', 'unlike', 'lara', 'meow', 'fulfil', 'useful', 'didnt', 'kingdom', 'irulinae', 'alfie', 'cyclist', 'album', 'dorothy', 'confuse', 'victor', 'ape', 'profit', 'argument', 'four', 'specialise', 'yam', 'appeal', 'lovly', 'ay', 'gim', 'december', 'uncut', 'flavour', 'entry', 'thurs', 'av', 'wishin', 'valentine', 'total', 'lag', 'mon', 'maggi', 'concentrate', 'smile', 'vote', 'weed', 'mandara', 'subject', 'suddenly', 'shag', 'ai', 'asian', 'jaya', 'dt', 'tap', 'orno', 'sexual', 'absence', 'oral', 'tome', 'description', 'experience', 'flower', 'sponsor', 'lyricalladie', 'blow', 'lttrs', 'fever', 'kz', 'creep', 'eppolum', 'txting', 'ana', 'tram', 'shakara', 'ip', 'jaykwon', 'ticket', 'review', 'fgkslpo', 'rat', 'attracts', 'dorm', 'dizzamn', 'hi', 'hrishi', 'rent', 'spec', 'blur', 'relative', 'uawake', 'purse', 'red', 'ac', 'offcampus', 'looovvve', 'fresher', 'laxinorficated', 'perfume', 'supply', 'tkts', 'girlie', 'pg', 'pre', 'identifier', 'abbey', 'weddin', 'punto', 'tul', 'finally', 'perf', 'freek', 'texted', 'antelope', 'nearly', 'healer', 'clark', 'thnk', 'invnted', 'geoenvironmental', 'mre', 'home', 'bite', 'londn', 'store', 'somethin', 'west', 'netcollex', 'bluray', 'silence', 'aboutas', 'information', 'lucy', 'ken', 'buzzzz', 'printing', 'hundred', 'pee', 'brownie', 'uworld', 'useless', 'kotees', 'recount', 'vijay', 'ibh', 'smartcall', 'nowhere', 'mathews', 'virtual', 'custcare', 'gobi', 'prestige', 'qatar', 'truble', 'mymoby', 'kent', 'carry', 'obedient', 'wipe', 'chg', 'rice', 'news', 'shracomorsglsuplt', 'brand', 'human', 'urgoin', 'kaypoh', 'everyones', 'small', 'panasonic', 'poyyarikatur', 'promo', 'gv', 'burial', 'inch', 'organizer', 'chillaxin', 'jjc', 'dull', 'recieve', 'tiger', 'gua', 'andres', 'likely', 'busty', 'seat', 'submit', 'pocked', 'go', 'amnow', 'user', 'whereare', 'exactly', 'tootsie', 'tming', 'either', 'stylish', 'mandan', 'use', 'mb', 'bat', 'snowman', 'cme', 'employer', 'nevamind', 'wotz', 'friend', 'bear', 'wesley', 'whoever', 'run', 'psxtra', 'adp', 'fondly', 'sexychat', 'otside', 'pant', 'broad', 'flim', 'chiong', 'bother', 'itz', 'gang', 'moby', 'accordingly', 'unit', 'mapquest', 'giggle', 'bold', 'snicker', 'fair', 'nearby', 'confuses', 'mood', 'whore', 'bos', 'lightly', 'nino', 'taylor', 'ericsson', 'expires', 'ow', 'cmon', 'greet', 'handsomes', 'pest', 'website', 'dhoni', 'sister', 'alertfrom', 'possibility', 'town', 'pretend', 'bro', 'half', 'ibiza', 'le', 'rightio', 'shipping', 'xmas', 'glo', 'pour', 'rumour', 'meeting', 'atten', 'rang', 'shud', 'pack', 'status', 'eatin', 'falconerf', 'reader', 'hmmm', 'dec', 'hospital', 'loses', 'anything', 'avble', 'situation', 'crashed', 'subscription', 'loneliness', 'hols', 'healthy', 'alone', 'doublemins', 'olympics', 'mint', 'importantly', 'fgkslpopw', 'brainy', 'dependent', 'basket', 'pookie', 'nonetheless', 'cantdo', 'youphone', 'rearrange', 'miracle', 'foned', 'elephant', 'checked', 'kudi', 'yijue', 'cha', 'cousin', 'keris', 'silently', 'rap', 'allah', 'speed', 'shrub', 'easter', 'abdomen', 'porridge', 'cant', 'ny', 'decide', 'oredi', 'soup', 'neekunna', 'pout', 'fro', 'gopalettan', 'lot', 'gdeve', 'seek', 'dislike', 'keep', 'dengra', 'bandage', 'pride', 'lounge', 'prone', 'nri', 'however', 'shopping', 'kick', 'truffle', 'powerful', 'camry', 'tohar', 'limp', 'twat', 'ovr', 'clubsaisai', 'sorry', 'ebay', 'lick', 'nuther', 'fren', 'weasel', 'champ', 'aroundn', 'konw', 'scold', 'bakra', 'chain', 'vic', 'middle', 'network', 'gnun', 'million', 'ki', 'continent', 'version', 'scenery', 'intelligent', 'eighth', 'smidgin', 'ttyl', 'exercise', 'edward', 'acknowledgement', 'jeetey', 'bffs', 'ne', 'pay', 'nite', 'pmt', 'spin', 'dob', 'loss', 'shb', 'sentence', 'id', 'cosign', 'wall', 'studyn', 'howz', 'punch', 'plenty', 'pro', 'hows', 'pending', 'multis', 'xxsp', 'bus', 'jess', 'beg', 'fund', 'shell', 'drunk', 'asleep', 'determine', 'resend', 'shuhui', 'motive', 'price', 'officer', 'mat', 'agent', 'dhanush', 'via', 'spouse', 'murali', 'morning', 'tactful', 'list', 'eng', 'mile', 'tat', 'downstem', 'multiply', 'lib', 'enter', 'accidentally', 'evening', 'ou', 'unicef', 'cooperative', 'win', 'shit', 'affidavit', 'cardiff', 'cheesy', 'success', 'computerless', 'pool', 'unsold', 'thanksgiving', 'mono', 'melody', 'gal', 'nitros', 'asap', 'ego', 'satsgettin', 'sib', 'linux', 'blog', 'prod', 'chart', 'hell', 'social', 'cumin', 'frmcloud', 'portege', 'pub', 'marrge', 'wednesday', 'spare', 'leo', 'sent', 'elaya', 'deepak', 'stewartsize', 'tenant', 'jiu', 'study', 'world', 'sppok', 'entrepreneur', 'iam', 'horniest', 'server', 'haul', 'retard', 'sensitive', 'mentor', 'restriction', 'freeentry', 'wreck', 'plus', 'appear', 'impress', 'xoxo', 'allo', 'predicte', 'shexy', 'developer', 'cake', 'quiz', 'med', 'pa', 'audrie', 'bot', 'tonite', 'initiate', 'spiral', 'charlie', 'becz', 'swtheart', 'justify', 'yogasana', 'transcribe', 'sweatter', 'b', 'missunderstding', 'individual', 'relax', 'parade', 'conacted', 'bluetooth', 'definitly', 'gibe', 'temple', 'postpone', 'embarassing', 'wildlife', 'urination', 'sathy', 'perspective', 'keralacircle', 'cappuccino', 'sundayish', 'preferably', 'vday', 'yelow', 'thatmum', 'fuuuuck', 'layin', 'behalf', 'hotmix', 'serve', 'tex', 'yupz', 'lipo', 'gn', 'mnths', 'cool', 'notebook', 'picked', 'absolutly', 'hope', 'associate', 'barrel', 'thought', 'let', 'transfr', 'anythin', 'abel', 'becomes', 'nxt', 'general', 'voice', 'mailbox', 'century', 'xam', 'seperated', 'min', 'okors', 'tree', 'gud', 'sayy', 'stone', 'turn', 'bak', 'young', 'tonght', 'customer', 'explosive', 'splendid', 'serious', 'wylie', 'gudnyt', 'anonymous', 'ba', 'broadband', 'method', 'poo', 'nit', 'log', 'comedy', 'cruisin', 'southern', 'dracula', 'lekdog', 'paracetamol', 'clarify', 'witot', 'kr', 'plm', 'vodafone', 'yummy', 'mjzgroup', 'jeremiah', 'admin', 'befor', 'wi', 'tunji', 'goody', 'beloved', 'hire', 'bullshit', 'electricity', 'dvd', 'idea', 'boytoy', 'midnight', 'foregate', 'adult', 'master', 'lyfu', 'mallika', 'wind', 'yhl', 'creepy', 'janx', 'reffering', 'dealer', 'venaam', 'alive', 'gaze', 'careabout', 'table', 'division', 'carefully', 'hitman', 'housewife', 'ouch', 'experiment', 'system', 'lac', 'fusion', 'handle', 'gosh', 'desk', 'shes', 'fri', 'wud', 'hor', 'courageous', 'haiyoh', 'listener', 'corect', 'theme', 'kind', 'develop', 'huai', 'marry', 'behind', 'tissco', 'panicks', 'street', 'cardin', 'bari', 'breath', 'resume', 'complexity', 'wtf', 'zac', 'okie', 'nickey', 'scenario', 'reason', 'chop', 'hook', 'magical', 'mary', 'chinese', 'freinds', 'thnx', 'monkeespeople', 'foward', 'madstini', 'reliant', 'morefrmmob', 'flea', 'xxx', 'sumthin', 'gloucesterroad', 'pshew', 'eerie', 'volcano', 'educational', 'lunch', 'kalstiya', 'fridge', 'qi', 'dozen', 'adress', 'spanish', 'quick', 'reading', 'trial', 'iriver', 'realizes', 'large', 'saturday', 'prayrs', 'benefit', 'incomm', 'term', 'elvis', 'brolly', 'nah', 'ew', 'olave', 'understand', 'lst', 'complain', 'phonebook', 'westlife', 'colany', 'identification', 'byatch', 'maretare', 'resort', 'least', 'perfect', 'mentionned', 'short', 'visitor', 'todo', 'lido', 'complementary', 'query', 'superior', 'firsg', 'relation', 'party', 'videophones', 'rayman', 'window', 'doctor', 'necessary', 'experiencehttp', 'great', 'ball', 'badass', 'swann', 'skyving', 'walkabout', 'lautech', 'involve', 'range', 'wif', 'diaper', 'misbehave', 'maybe', 'particularly', 'comfey', 'nigeria', 'whens', 'vilikkam', 'indicate', 'tescos', 'zed', 'matra', 'take', 'remain', 'row', 'mrt', 'xxxxxx', 'spoke', 'science', 'gently', 'nobbing', 'update', 'vava', 'japanese', 'marvel', 'bstfrnd', 'chic', 'retire', 'freemsg', 'rally', 'latelyxxx', 'efreefone', 'comprehensive', 'cer', 'hockey', 'jungle', 'hang', 'book', 'recent', 'pie', 'sc', 'cheyyamo', 'impossible', 'dogwood', 'prakasam', 'darling', 'ultimatum', 'ikno', 'cough', 'available', 'draw', 'contact', 'ph', 'far', 'report', 'sae', 'measure', 'learn', 'team', 'steam', 'beating', 'enjoy', 'kalisidare', 'dict', 'hypertension', 'taxt', 'reflection', 'engin', 'another', 'lion', 'eta', 'dearer', 'malaria', 'display', 'question', 'wrking', 'parachute', 'doke', 'buddy', 'bbq', 'do', 'gandhipuram', 'sarcastic', 'makiing', 'responsibility', 'like', 'bawling', 'gigolo', 'prop', 'bank', 'dun', 'or', 'outreach', 'specific', 'treacle', 'conform', 'spoken', 'theyre', 'kolathupalayam', 'arestaurant', 'aco', 'wld', 'mylife', 'videochat', 'mite', 'jsut', 'hella', 'jobyet', 'sptv', 'yi', 'worthless', 'noisy', 'skilgme', 'thirtyeight', 'noncomittal', 'shanghai', 'vinobanagar', 'pen', 'sugababes', 'tyler', 'mist', 'calld', 'down', 'riley', 'standard', 'wishlist', 'waht', 'junna', 'jean', 'weakness', 'speling', 'recovery', 'brisk', 'comp', 'dimension', 'e', 'r', 'evaporate', 'flame', 'askd', 'wine', 'agalla', 'swat', 'crazyin', 'eightish', 'hugh', 'furniture', 'triple', 'gray', 'education', 'anniversary', 'gnt', 'korli', 'narcotic', 'mfl', 'puppy', 'sitll', 'eh', 'login', 'norm', 'honest', 'bundle', 'surya', 'skip', 'sachin', 'closeby', 'evr', 'whr', 'bunker', 'arrest', 'bbd', 'priscilla', 'disease', 'sleepin', 'blessing', 'successfully', 'bootydelious', 'ban', 'hour', 'buffy', 'capacity', 'sum', 'jersey', 'bcum', 'sync', 'cloth', 'wrc', 'si', 'atleast', 'nmde', 'sup', 'gf', 'tookplace', 'forgt', 'nav', 'dom', 'margaret', 'sura', 'underdtand', 'mg', 'ava', 'bfore', 'yourjob', 'ovarian', 'establish', 'warranty', 'secretly', 'salary', 'lock', 'feng', 'tht', 'player', 'jstfrnd', 'gee', 'problms', 'sign', 'lay', 'wright', 'imprtant', 'prabu', 'sol', 'destination', 'doggin', 'painful', 'aha', 'voucher', 'waheed', 'belive', 'attitude', 'gona', 'quarter', 'textpod', 'tol', 'spam', 'turkey', 'homeowner', 'defeat', 'confirmd', 'whisper', 'dont', 'imagination', 'lush', 'plumber', 'swollen', 'bk', 'pretsorginta', 'imagine', 'ache', 'ibuprofen', 'part', 'talent', 'juan', 'site', 'rajini', 'catch', 'bian', 'yeah', 'carolina', 'bit', 'canada', 'theater', 'fellow', 'yoville', 'diet', 'convey', 'nìte', 'saw', 'wondarfull', 'ugh', 'minute', 'related', 'hail', 'star', 'last', 'beauty', 'noun', 'achieve', 'citylink', 'nightnight', 'lookatme', 'trash', 'brainless', 'roll', 'stitch', 'aeroplane', 'put', 'astronomer', 'tarot', 'rdy', 'trauma', 'unni', 'zaher', 'affection', 'maaaan', 'madam', 'truck', 'nurse', 'punishment', 'magazine', 'onwords', 'buzy', 'contribute', 'youi', 'training', 'onto', 'pure', 'texting', 'mix', 'click', 'impression', 'tomo', 'daytime', 'rakhesh', 'clothes', 'phoenix', 'convert', 'slovely', 'skye', 'business', 'fm', 'audrey', 'mall', 'il', 'flag', 'nanny', 'sport', 'boost', 'collage', 'president', 'gimmi', 'congratulation', 'lovely', 'havnt', 'alex', 'infection', 'swear', 'networking', 'size', 'squat', 'rental', 'may', 'gin', 'thangam', 'usps', 'solihull', 'insha', 'othrs', 'prizeswith', 'panther', 'cudnt', 'ride', 'hut', 'fancy', 'defer', 'document', 'wizzle', 'haircut', 'ansr', 'envy', 'foreign', 'biro', 'tmrw', 'idp', 'order', 'indeed', 'female', 'begin', 'raglan', 'emily', 'willpower', 'poop', 'previous', 'torrent', 'moment', 'bell', 'alle', 'drivin', 'farrell', 'lem', 'abeg', 'modl', 'stuck', 'lift', 'regard', 'cres', 'dontplease', 'gving', 'phone', 'evry', 'stability', 'plum', 'hmv', 'england', 'charles', 'regular', 'cheery', 'basketball', 'carly', 'brief', 'askin', 'purpose', 'longer', 'luxury', 'tok', 'omg', 'cd', 'cumming', 'headin', 'tor', 'ceri', 'remind', 'weiyi', 'customersqueries', 'test', 'nz', 'winterstone', 'advice', 'shesil', 'okmail', 'potato', 'prasanth', 'gamestar', 'attend', 'skin', 'feature', 'olol', 'amy', 'luckily', 'lookin', 'haventcn', 'leftover', 'vth', 'etc', 'sigh', 'bag', 'easily', 'hot', 'nevering', 'shower', 'illspeak', 'qbank', 'pai', 'goodtime', 'hyde', 'guess', 'hangin', 'air', 'magic', 'dodda', 'confirm', 'onum', 'cage', 'tension', 'series', 'julianaland', 'youwanna', 'worm', 'gotten', 'sat', 'stdtxtrate', 'melle', 'luton', 'rush', 'mi', 'subscriber', 'river', 'space', 'brain', 'omw', 'hand', 'tnc', 'spy', 'hardly', 'treasure', 'code', 'secondary', 'ambitious', 'stockport', 'roomate', 'reformat', 'tablet', 'pink', 'outfit', 'irritation', 'ey', 'hype', 'nammanna', 'breakfast', 'flatter', 'roller', 'prizeawaiting', 'breeze', 'badly', 'cu', 'immunisation', 'effect', 'state', 'wont', 'sayin', 'izzit', 'colleague', 'fruit', 'wicket', 'ingredient', 'mate', 'eat', 'reveal', 'risk', 'mandy', 'buy', 'wen', 'garden', 'shitload', 'fonin', 'asshole', 'poker', 'dancce', 'proof', 'torch', 'juz', 'di', 'who', 'bbc', 'cab', 'channel', 'nature', 'vikky', 'responce', 'zyada', 'ta', 'treble', 'ke', 'thecd', 'telephonic', 'sky', 'leave', 'dunno', 'zouk', 'companion', 'golddigger', 'location', 'mf', 'three', 'cutter', 'thus', 'sight', 'ideal', 'tryin', 'fun', 'outrageous', 'despite', 'continued', 'chikku', 'chechi', 'shortly', 'broth', 'um', 'misscall', 'cutefrnd', 'vega', 'grab', 'well', 'release', 'sympathetic', 'shah', 'minimum', 'know', 'athletic', 'madurai', 'necessarily', 'merememberin', 'galileo', 'terrific', 'gender', 'sterling', 'jaklin', 'persevere', 'korte', 'milta', 'mac', 'competition', 'drove', 'blah', 'woozles', 'consistently', 'bristol', 'asks', 'expire', 'addamsfa', 'depends', 'gsex', 'receive', 'samus', 'ola', 'payasam', 'rain', 'everywhere', 'cud', 'till', 'stripe', 'bed', 'soc', 'expression', 'tyrone', 'laready', 'rugby', 'reset', 'bless', 'truth', 'scrounge', 'clearer', 'hop', 'neshanth', 'sariyag', 'bleh', 'happend', 'patrick', 'cafe', 'honesty', 'respect', 'vry', 'tense', 'stalk', 'aust', 'stuffed', 'spider', 'pint', 'soft', 'ya', 'mode', 'build', 'failure', 'uk', 'diesel', 'floppy', 'james', 'nu', 'sip', 'imposter', 'offer', 'curious', 'misundrstud', 'endof', 'province', 'pole', 'lionm', 'phony', 'jump', 'xxuk', 'concerned', 'cdgt', 'sef', 'hhahhaahahah', 'fujitsu', 'helpline', 'prescription', 'goverment', 'donate', 'melnite', 'swan', 'soil', 'wiskey', 'gym', 'type', 'jane', 'chocolate', 'axis', 'abuse', 'mj', 'mila', 'cnl', 'seven', 'spotty', 'surname', 'sonetimes', 'rimac', 'assistance', 'pity', 'gotmarried', 'manda', 'duchess', 'im', 'shade', 'online', 'classic', 'dippeditinadew', 'unintentionally', 'callon', 'gift', 'wuld', 'evil', 'costa', 'okies', 'finger', 'liverpool', 'reg', 'gep', 'aid', 'direct', 'throat', 'taj', 'boooo', 'eviction', 'twelve', 'northampton', 'del', 'gary', 'net', 'gucci', 'num', 'marandratha', 'blogging', 'barbie', 'correct', 'tim', 'enufcredeit', 'andre', 'find', 'khelate', 'hl', 'hopefully', 'uttered', 'shun', 'cup', 'aah', 'fishhead', 'howard', 'g', 'duo', 'showroom', 'teletext', 'aptitude', 'dint', 'cold', 'choose', 'company', 'boyf', 'frndsship', 'require', 'level', 'chad', 'woould', 'saucy', 'deal', 'labor', 'professor', 'dept', 'resubbing', 'length', 'local', 'cuppa', 'think', 'workage', 'wamma', 'sumfing', 'adsense', 'item', 'abj', 'garbage', 'cereal', 'spend', 'decade', 'canlove', 'clarification', 'daywith', 'jurong', 'case', 'buffet', 'probs', 'visa', 'western', 'prix', 'delete', 'bang', 'forgiven', 'romcapspam', 'hardcore', 'manual', 'webeburnin', 'clean', 'salon', 'shant', 'sday', 'erotic', 'jsco', 'chinnu', 'bedbut', 'machan', 'scotch', 'chick', 'age', 'salad', 'seed', 'style', 'http', 'long', 'franxx', 'station', 'inner', 'popped', 'outta', 'restock', 'opposite', 'monthlysubscription', 'shore', 'realise', 'mufti', 'prey', 'credit', 'steed', 'mina', 'grumble', 'award', 'lambda', 'valuable', 'hip', 'nope', 'degree', 'change', 'delhi', 'ability', 'asusual', 'ahhhh', 'spark', 'cover', 'toplay', 'tihs', 'chuck', 'meant', 'careless', 'bloomberg', 'specially', 'upstairs', 'reserve', 'miiiiiiissssssssss', 'huge', 'jo', 'african', 'pin', 'ugo', 'warn', 'neva', 'friendship', 'rememberi', 'texd', 'special', 'cya', 'emerge', 'knee', 'possible', 'secretary', 'affair', 'uniform', 'hmm', 'youre', 'fan', 'hu', 'bowa', 'stash', 'burrito', 'naseeb', 'alrite', 'remb', 'lololo', 'glad', 'travel', 'crab', 'kerala', 'wheat', 'asus', 'elama', 'peaceful', 'fakeye', 'optin', 'ever', 'ref', 'becausethey', 'flew', 'note', 'unsecured', 'gene', 'jeri', 'passion', 'combine', 'cabin', 'lou', 'burden', 'toclaim', 'loxahatchee', 'lim', 'pobox', 'bimbo', 'msn', 'wedlunch', 'yourinclusive', 'closer', 'arcade', 'enna', 'wenever', 'hurricane', 'full', 'shanil', 'model', 'normal', 'haunt', 'ahold', 'acnt', 'country', 'hunt', 'faggy', 'leona', 'guoyang', 'cooky', 'sittin', 'priority', 'goggles', 'hypotheticalhuagauahahuagahyuhagga', 'underwear', 'suggest', 'lool', 'mine', 'correction', 'flake', 'pizza', 'squid', 'taste', 'compare', 'perumbavoor', 'curfew', 'everythin', 'ghodbandar', 'inside', 'locaxx', 'everyso', 'pansy', 'kama', 'train', 'videosound', 'stretch', 'could', 'oscar', 'unfortunately', 'hubby', 'math', 'ruin', 'prefer', 'progress', 'remixed', 'bcums', 'pocket', 'would', 'mei', 'misplace', 'lv', 'popcorn', 'absolutely', 'mouse', 'somone', 'enuff', 'cheek', 'sts', 'exchange', 'malarky', 'avoid', 'ummifying', 'debate', 'see', 'marley', 'year', 'essay', 'prepared', 'chess', 'name', 'enjoyin', 'broken', 'rebtel', 'twinks', 'mobcudb', 'waaaat', 'tone', 'jerry', 'brighten', 'trackmarque', 'cherish', 'surprise', 'pig', 'intrepid', 'someday', 'randomlly', 'pouch', 'interview', 'accessible', 'obese', 'objection', 'ihave', 'rounder', 'hiya', 'polys', 'roast', 'nb', 'blown', 'scrappy', 'request', 'suntec', 'castor', 'avin', 'mad', 'ship', 'beforehand', 'alibi', 'bhayandar', 'kodstini', 'c', 'latest', 'matter', 'deluxe', 'scotland', 'history', 'gauge', 'reapply', 'jackson', 'holla', 'signal', 'pathaya', 'sandiago', 'he', 'flat', 'adjustable', 'salesman', 'hesitant', 'scouse', 'arul', 'family', 'msging', 'loyalty', 'shifad', 'loo', 'greatness', 'directly', 'tel', 'antibiotic', 'ahead', 'plz', 'ctxt', 'sugar', 'path', 'fletcher', 'wallet', 'up', 'opportunity', 'lindsay', 'ltd', 'ofcourse', 'backdoor', 'living', 'vl', 'unemployed', 'tlk', 'dokey', 'cancer', 'bad', 'sportsx', 'sonyericsson', 'jetton', 'anymore', 'nte', 'walsall', 'xin', 'uterus', 'bam', 'suprman', 'empty', 'err', 'value', 'infact', 'wound', 'burn', 'studio', 'celebrate', 'wthout', 'mwahs', 'culdnt', 'rcd', 'ithink', 'shampain', 'atlast', 'tune', 'anti', 'qing', 'newspaper', 'nigh', 'jackpot', 'idu', 'timi', 'hidden', 'boy', 'yeesh', 'booty', 'affectionate', 'certainly', 'seh', 'oni', 'bao', 'accenture', 'adventure', 'dare', 'karnan', 'evrey', 'ooh', 'sickness', 'doc', 'bong', 'percent', 'drunken', 'literally', 'thanx', 'thanks', 'hunk', 'hv', 'nationwide', 'profile', 'hey', 'boob', 'gymnastics', 'mm', 'others', 'lccltd', 'cheer', 'provide', 'stopbcm', 'guarantee', 'slip', 'shinco', 'babysit', 'huiming', 'seriously', 'claimcode', 'sunshine', 'google', 'shoot', 'footy', 'academic', 'donno', 'poet', 'tue', 'recreation', 'gower', 'crucial', 'evey', 'wnt', 'sheffield', 'presnts', 'hoop', 'silly', 'unkempt', 'passable', 'exist', 'noice', 'amongst', 'inconvenient', 'mobilesdirect', 'without', 'weddingfriend', 'room', 'eight', 'readiness', 'memory', 'xxxxx', 'maneesha', 'market', 'flute', 'device', 'fink', 'flow', 'aiyar', 'geeeee', 'txtno', 'pushbutton', 'professional', 'infernal', 'nitz', 'thats', 'blame', 'retrieve', 'video', 'bedreal', 'awesome', 'dream', 'guilty', 'abi', 'billing', 'xxxmobilemovieclub', 'inr', 'dignity', 'cap', 'php', 'sculpture', 'compulsory', 'eg', 'met', 'centre', 'ertini', 'refund', 'toledo', 'sender', 'rule', 'glass', 'shop', 'regret', 'mathematics', 'efficient', 'pass', 'reservation', 'purchase', 'panren', 'physic', 'sian', 'aretaking', 'suffers', 'amigo', 'side', 'tuth', 'wisdom', 'section', 'supervisor', 'petey', 'cali', 'darkness', 'welcome', 'thnq', 'yesterday', 'chef', 'grl', 'dosomething', 'dread', 'batch', 'sweet', 'balance', 'bribe', 'wave', 'smarter', 'hearing', 'havbeen', 'somtimes', 'reslove', 'lip', 'increase', 'swing', 'census', 'sleepwell', 'jod', 'batsman', 'view', 'cl', 'describe', 'wife', 'elliot', 'finance', 'mr', 'granite', 'urfeeling', 'occupy', 'twice', 'rough', 'comb', 'basic', 'blake', 'woo', 'body', 'ivatte', 'childporn', 'warner', 'transport', 'laptop', 'woman', 'parking', 'sux', 'satisfied', 'phews', 'letter', 'dodgey', 'hence', 'kiss', 'dnt', 'explicit', 'song', 'beehoon', 'friendsare', 'still', 'dad', 'hostel', 'respond', 'intention', 'six', 'silent', 'strongly', 'significance', 'kalainar', 'option', 'upgrdcentre', 'work', 'want', 'anybody', 'mayb', 'bitching', 'avent', 'give', 'frndship', 'guy', 'argentina', 'content', 'birla', 'nusstu', 'messenger', 'nig', 'abroad', 'fassyole', 'escalator', 'wee', 'cancel', 'urn', 'believe', 'usf', 'crckt', 'specify', 'track', 'cthen', 'entey', 'pehle', 'avo', 'nange', 'common', 'th', 'truro', 'taka', 'bottle', 'ray', 'dress', 'notification', 'pop', 'norcorp', 'beggar', 'door', 'week', 'imf', 'rock', 'helen', 'sang', 'completely', 'boo', 'heavy', 'reckon', 'yr', 'mum', 'gibbs', 'uploaded', 'pleasure', 'various', 'building', 'touch', 'ji', 'piece', 'hopeful', 'paru', 'familiar', 'helloooo', 'tax', 'burning', 'resize', 'payment', 'bright', 'east', 'clearly', 'forever', 'whn', 'funk', 'usher', 'cute', 'snogs', 'else', 'festival', 'steak', 'cutest', 'giv', 'recorder', 'cramp', 'ful', 'whats', 'clip', 'busy', 'anythingtomorrow', 'paragon', 'spatula', 'jez', 'dabbles', 'payee', 'snowboard', 'personally', 'secure', 'several', 'format', 'havebeen', 'chloe', 'shadow', 'found', 'oil', 'boggy', 'iraq', 'tank', 'listen', 'olayiwola', 'thesis', 'birth', 'bein', 'deliver', 'kath', 'mokka', 'yep', 'latr', 'motivate', 'ym', 'strong', 'oli', 'jokin', 'vale', 'lar', 'intend', 'unknown', 'email', 'inspection', 'wrld', 'legitimat', 'cust', 'copy', 'outsomewhere', 'shu', 'bike', 'slept', 'bone', 'bowl', 'kettoda', 'watch', 'detail', 'first', 'condition', 'cnn', 'headset', 'doinat', 'thru', 'community', 'personality', 'hero', 'fal', 'str', 'outdoors', 'tomorro', 'textbook', 'phd', 'distance', 'toking', 'bar', 'rpl', 'parchi', 'barcelona', 'cooped', 'alwa', 'prospect', 'count', 'vibrator', 'yeh', 'arm', 'forgiveness', 'share', 'ptbo', 'bognor', 'interested', 'leh', 'li', 'lucky', 'thot', 'asssssholeeee', 'otbox', 'maga', 'diamond', 'banter', 'interflora', 'dino', 'rodger', 'action', 'graphic', 'ct', 'held', 'upset', 'forgot', 'steamboat', 'compromise', 'horse', 'karo', 'naked', 'musical', 'sudden', 'bun', 'downon', 'bookshelf', 'novelty', 'fuck', 'cause', 'consent', 'rite', 'ive', 'dump', 'aathi', 'authorise', 'harish', 'xxxxxxxx', 'coast', 'awake', 'lik', 'calculate', 'ard', 'petrol', 'make', 'youuuuu', 'birthdate', 'scar', 'rem', 'freeze', 'stomach', 'baaaaaaaabe', 'computational', 'beerage', 'number', 'resolve', 'uwana', 'gut', 'performance', 'esplanade', 'elaborate', 'fathima', 'mob', 'mess', 'resubmit', 'finn', 'nimya', 'attach', 'sth', 'claypot', 'loverboy', 'outgo', 'mone', 'smsing', 'disconnect', 'unusual', 'sway', 'santa', 'tariff', 'spacebucks', 'owe', 'sunlight', 'july', 'wale', 'howdy', 'orange', 'lk', 'sara', 'bud', 'eve', 'yahoo', 'gentleman', 'surrender', 'foundurself', 'specialisation', 'hudgi', 'thuglyfe', 'kanagu', 'pls', 'played', 'lasagna', 'anna', 'courage', 'brother', 'xxxxxxxxxxxxxx', 'mc', 'lovin', 'extract', 'urgh', 'ill', 'rub', 'da', 'aeronautics', 'tncs', 'pongal', 'justthought', 'postcard', 'plane', 'perpetual', 'tech', 'belt', 'splat', 'crash', 'limited', 'club', 'peripheral', 'factory', 'impressively', 'property', 'uh', 'quiet', 'elaine', 'villa', 'kodthini', 'vaazhthukkal', 'unique', 'manchester', 'iz', 'hasnt', 'speak', 'yaxx', 'echo', 'transfer', 'coherently', 'ela', 'difficulty', 'say', 'mesages', 'eire', 'mummy', 'kicchu', 'incredible', 'o', 'idiot', 'hurt', 'm', 'deposit', 'bonus', 'gran', 'sweetest', 'shatter', 'anyway', 'girl', 'suit', 'steve', 'ethnicity', 'browsin', 'busetop', 'wahala', 'gota', 'sir', 'sochte', 'guide', 'opps', 'kidz', 'spirit', 'instead', 'negative', 'fals', 'trav', 'housing', 'demand', 'needy', 'gonnamissu', 'donyt', 'excite', 'ready', 'brown', 'sed', 'aftr', 'sonathaya', 'stun', 'weigh', 'tight', 'beta', 'gsoh', 'connection', 'true', 'ovulation', 'ibn', 'tendency', 'ashley', 'mouth', 'fifty', 'margin', 'dogbreath', 'nothing', 'callertune', 'pleasured', 'postal', 'out', 'silver', 'fedex', 'recession', 'minapn', 'tp', 'agree', 'rajitha', 'refill', 'toaday', 'porn', 'often', 'parent', 'cal', 'program', 'hall', 'paranoid', 'lapdancer', 'receivea', 'alcohol', 'luks', 'nichols', 'dresser', 'mental', 'swim', 'fold', 'dough', 'dan', 'grateful', 'fly', 'lyk', 'athome', 'near', 'pap', 'twitter', 'raji', 'tke', 'pattern', 'un', 'undrstnd', 'hollalater', 'florida', 'help', 'unconvinced', 'gotany', 'mia', 'something', 'university', 'usmle', 'chord', 'twilight', 'aries', 'antha', 'create', 'flaky', 'canary', 'def', 'temales', 'everybody', 'told', 'txts', 'vco', 'smear', 'tessy', 'search', 'la', 'garment', 'cheaper', 'unclaimed', 'recognises', 'roger', 'oath', 'fight', 'habit', 'finish', 'old', 'bash', 'vill', 'boye', 'cribbs', 'sort', 'pump', 'toa', 'gmw', 'nic', 'error', 'sony', 'file', 'thread', 'successful', 'sofa', 'scratch', 'reply', 'polyphonic', 'aspect', 'tiwary', 'cave', 'dust', 'scream', 'jock', 'way', 'sweetie', 'alaipayuthe', 'savamob', 'feelin', 'priya', 'pura', 'imma', 'oxygen', 'land', 'parantella', 'callfreefone', 'murderer', 'occurs', 'reaction', 't', 'piah', 'exterminator', 'comingdown', 'mean', 'stifle', 'womdarfull', 'drugdealer', 'weekly', 'bird', 'pract', 'brought', 'poor', 'fml', 'ru', 'wo', 'crack', 'fyi', 'isnt', 'engalnd', 'felt', 'propsd', 'mention', 'crap', 'chief', 'amp', 'kalaachutaarama', 'jealous', 'clearing', 'werebored', 'revision', 'srsly', 'guaranteed', 'handsome', 'alot', 'jacuzzi', 'asda', 'yor', 'sam', 'lover', 'lodge', 'guessin', 'watever', 'fell', 'coz', 'ron', 'aletter', 'force', 'typical', 'mushy', 'swiss', 'flung', 'tape', 'ups', 'pillow', 'facebook', 'hm', 'lil', 'except', 'bhaskar', 'thankyou', 'implication', 'dick', 'financial', 'hava', 'inst', 'visit', 'btw', 'fortune', 'gautham', 'able', 'jam', 'weak', 'weekend', 'trainners', 'crowd', 'prakasamanu', 'talkbut', 'member', 'attribute', 'instal', 'hcl', 'domain', 'legal', 'man', 'ton', 'relocate', 'guidance', 'satanic', 'nurungu', 'caroline', 'vague', 'broke', 'fne', 'molest', 'grinder', 'ikea', 'abt', 'hai', 'bitch', 'cocksucker', 'nahi', 'shhhhh', 'creative', 'apps', 'pick', 'everyboy', 'chosen', 'gprs', 'premier', 'significant', 'knew', 'rwm', 'stupid', 'betta', 'undrstndng', 'tire', 'drink', 'aiyah', 'bt', 'stream', 'sao', 'tattoo', 'facility', 'ok', 'registration', 'preponed', 'squeeeeeze', 'aproach', 'nuclear', 'slp', 'apo', 'haughaighgtujhyguj', 'realize', 'dime', 'drms', 'custom', 'marsms', 'onam', 'rob', 'dessert', 'jet', 'tirunelvali', 'naal', 'obviously', 'adi', 'hep', 'eurodisinc', 'sue', 'lnly', 'shivratri', 'lotz', 'loan', 'invest', 'ifink', 'arrow', 'also', 'esaplanade', 'belovd', 'fredericksburg', 'invoice', 'stopcost', 'field', 'installation', 'inform', 'callin', 'nver', 'commercial', 'tiny', 'goodnoon', 'contains', 'unhappy', 'smart', 'kaitlyn', 'ex', 'amplikater', 'black', 'badrith', 'liao', 'diddy', 'danger', 'velachery', 'read', 'front', 'reward', 'skyped', 'westonzoyland', 'stagwood', 'apply', 'must', 'worry', 'w', 'sore', 'stick', 'easy', 'spreadsheet', 'account', 'mecause', 'albi', 'rentl', 'tigress', 'february', 'dled', 'jamster', 'nosy', 'christmassy', 'particular', 'invitation', 'hearin', 'anyways', 'exe', 'leonardo', 'patty', 'dasara', 'dlf', 'onwards', 'plaid', 'speedchat', 'energy', 'september', 'accounting', 'predictive', 'nauseous', 'dog', 'aiya', 'meatball', 'boundary', 'shoranur', 'lo', 'graze', 'mcr', 'beside', 'goal', 'monthly', 'u', 'owo', 'instant', 'bob', 'shijutta', 'pause', 'child', 'fa', 'ennal', 'collapse', 'couch', 'hack', 'pair', 'wocay', 'kanji', 'inde', 'usual', 'thts', 'ponnungale', 'palm', 'lark', 'ridden', 'anjola', 'lrg', 'ctargg', 'raksha', 'iyo', 'platt', 'text', 'tmr', 'splashmobile', 'shitstorm', 'pours', 'collection', 'zebra', 'natwest', 'birthday', 'wer', 'goodmate', 'baller', 'ie', 'ubandu', 'software', 'bin', 'problum', 'inpersonation', 'seventeen', 'thm', 'golden', 'pray', 'sometext', 'simpler', 'hui', 'kadeem', 'football', 'car', 'aburo', 'equally', 'swoop', 'spree', 'ericson', 'british', 'corrct', 'simple', 'puttin', 'favour', 'gpu', 'mack', 'celeb', 'jesus', 'ammae', 'suganya', 'grave', 'funky', 'jones', 'becaus', 'addie', 'iff', 'canal', 'nt', 'dub', 'versus', 'matric', 'textcomp', 'grahmbell', 'tonight', 'logon', 'dr', 'hahaha', 'tmw', 'joke', 'chickened', 'permission', 'arises', 'bck', 'newport', 'english', 'eruku', 'kothi', 'mostly', 'exeter', 'whole', 'oru', 'wkg', 'k', 'calm', 'dl', 'somewheresomeone', 'nelson', 'oclock', 'nosh', 'shite', 'rawring', 'carlin', 'honey', 'pod', 'around', 'pretty', 'swap', 'depression', 'minus', 'farm', 'itxt', 'woke', 'mtalk', 'treadmill', 'guai', 'pthis', 'keyword', 'audiitions', 'fixedline', 'lovingly', 'random', 'invader', 'ammo', 'tonsolitusaswell', 'thrown', 'batt', 'lt', 'teenager', 'guitar', 'dirty', 'ooooooh', 'tayseer', 'answr', 'ext', 'struggle', 'itcould', 'iouri', 'independently', 'arise', 'shove', 'nitw', 'coat', 'dose', 'dane', 'start', 'accommodation', 'promise', 'white', 'woken', 'rofl', 'x', 'jst', 'iphone', 'mcat', 'je', 'willing', 'belong', 'appy', 'mail', 'grownup', 'fixd', 'amrca', 'qlynnbv', 'habba', 'fo', 'ondu', 'infra', 'bunch', 'forevr', 'frosty', 'self', 'spending', 'ti', 'shoe', 'refresh', 'hiding', 'project', 'reboot', 'iscoming', 'spose', 'keen', 'heal', 'meanwhile', 'repair', 'none', 'lecture', 'croydon', 'strange', 'eldest', 'cut', 'prediction', 'polo', 'painting', 'darkest', 'mojibiola', 'gumby', 'wk', 'usually', 'cashto', 'cozy', 'sacrifice', 'ali', 'strike', 'attempt', 'hussey', 'hooked', 'telphone', 'overtime', 'inlude', 'sd', 'uni', 'deliveredtomorrow', 'langport', 'bmw', 'alian', 'macha', 'spain', 'conclusion', 'unless', 'boat', 'maat', 'justbeen', 'purple', 'install', 'tradition', 'natalie', 'sitter', 'hit', 'headstart', 'hehe', 'seeker', 'yes', 'celebration', 'pound', 'moon', 'brings', 'control', 'ge', 'forward', 'reunion', 'fret', 'mee', 'north', 'protect', 'wat', 'trade', 'wks', 'payoh', 'nvm', 'sathya', 'genus', 'court', 'avatar', 'vargu', 'grumpy', 'united', 'sha', 'nokias', 'suggestion', 'island', 'temp', 'stair', 'aint', 'sim', 'polyc', 'upgrade', 'vibrate', 'capital', 'threw', 'wallpaper', 'basically', 'canname', 'apologize', 'necesity', 'breezy', 'apparently', 'speciale', 'yoyyooo', 'bend', 'jolt', 'selection', 'understood', 'graduate', 'yarasu', 'eerulli', 'tot', 'victoria', 'fundamental', 'wherever', 'yuo', 'ago', 'fring', 'edison', 'sn', 'minecraft', 'csc', 'lancaster', 'sashimi', 'cum', 'chastity', 'moan', 'sary', 'board', 'tho', 'reache', 'hardest', 'settle', 'drvgsto', 'babysitting', 'bcz', 'semi', 'tui', 'prepayment', 'aldrine', 'downloads', 'slightly', 'std', 'dent', 'univ', 'finalise', 'stand', 'conversation', 'mumhas', 'remember', 'fireplace', 'f', 'unsub', 'paid', 'evn', 'wap', 'vu', 'mittelschmertz', 'proverb', 'vivek', 'enough', 'restaurant', 'wkend', 'ab', 'fear', 'havin', 'shock', 'deer', 'ppl', 'best', 'outsider', 'jason', 'bf', 'funeral', 'takecare', 'ask', 'nearer', 'luvs', 'anthony', 'offense', 'replacement', 'txtstar', 'hank', 'download', 'damn', 'hard', 'korean', 'straight', 'upon', 'church', 'claim', 'ringtone', 'dontignore', 'lubly', 'sleepy', 'mids', 'youdoing', 'hittng', 'bathroom', 'lucozade', 'barely', 'dot', 'thousand', 'randy', 'especially', 'blood', 'checkboxes', 'deep', 'pisces', 'join', 'acc', 'stressful', 'dip', 'ryan', 'welp', 'syrup', 'aslamalaikkum', 'drive', 'bedroom', 'availa', 'shld', 'den', 'actor', 'arrive', 'mid', 'divert', 'din', 'come', 'claire', 'itwhichturnedinto', 'back', 'oreo', 'anyplaces', 'drpd', 'musta', 'lady', 'accomodations', 'someonone', 'almost', 'watt', 'sullivan', 'wear', 'wannatell', 'henry', 'ringtoneking', 'aom', 'exact', 'chgs', 'quizclub', 'abuser', 'trishul', 'fwiw', 'tx', 'artist', 'kegger', 'crush', 'stage', 'nipost', 'snowball', 'sarasota', 'roommate', 'safe', 'breather', 'butt', 'include', 'offc', 'inning', 'emotion', 'blacko', 'babyjontet', 'stink', 'forfeit', 'die', 'rum', 'raise', 'fourth', 'stranger', 'drama', 'jus', 'argh', 'pressure', 'contention', 'sing', 'janinexx', 'kickoff', 'stayed', 'smiley', 'nice', 'doesdiscount', 'splleing', 'moseley', 'kittum', 'library', 'no', 'pete', 'wing', 'toilet', 'trend', 'dusk', 'miserable', 'sexiest', 'miss', 'scarcasim', 'arun', 'dedicate', 'dave', 'skirt', 'muhommad', 'unintentional', 'theacusations', 'spice', 'okey', 'goodfriend', 'monkeyaround', 'discount', 'period', 'become', 'heard', 'rd', 'okay', 'complacent', 'cttergg', 'firefox', 'usb', 'massive', 'tobacco', 'record', 'joanna', 'envelope', 'fix', 'light', 'parish', 'ashwini', 'rest', 'masked', 'toyota', 'prabha', 'ate', 'getiing', 'topic', 'height', 'beeen', 'hottest', 'andros', 'ilol', 'meetin', 'bslvyl', 'icky', 'calculation', 'dumb', 'samachara', 'pple', 'every', 'honestly', 'hav', 'relieve', 'innocent', 'tulip', 'rr', 'ofsi', 'squishy', 'alwys', 'treatin', 'sunday', 'appreciate', 'cps', 'cn', 'fond', 'sweetheart', 'werethe', 'point', 'txtauction', 'kaaj', 'loose', 'problematic', 'hogli', 'shiny', 'olowoyey', 'kfc', 'immediately', 'ldn', 'foot', 'kitty', 'soz', 'earn', 'missin', 'convenience', 'smash', 'desire', 'yowifes', 'word', 'stop', 'yummmm', 'anal', 'tomorw', 'eye', 'fire', 'spjanuary', 'people', 'frankie', 'autocorrect', 'withdraw', 'unlimited', 'crore', 'animal', 'impatient', 'wewa', 'throw', 'recently', 'boyfriend', 'careful', 'research', 'embarrass', 'publish', 'com', 'appt', 'hmmmm', 'idk', 'pei', 'heltini', 'doubletxt', 'accent', 'certificate', 'january', 'xxxx', 'shake', 'hair', 'lap', 'shall', 'promptly', 'noise', 'wipro', 'fact', 'percentage', 'leg', 'maturity', 'wihtuot', 'ad', 'iwana', 'vegetable', 'wood', 'slice', 'fieldof', 'jogging', 'bthere', 'march', 'dhina', 'servs', 'soiree', 'simulate', 'madoke', 'shy', 'airport', 'stereo', 'definite', 'american', 'detailed', 'contract', 'chinky', 'dock', 'termsapply', 'alter', 'freely', 'inperialmusic', 'minuts', 'chatlines', 'maximum', 'papa', 'fade', 'wasnt', 'insect', 'dinero', 'bangbabes', 'expensive', 'brilliantly', 'stadium', 'ben', 'return', 'deepest', 'irritate', 'corrupt', 'technical', 'problem', 'amaze', 'robinson', 'kb', 'swt', 'captain', 'njan', 'yest', 'unable', 'delicious', 'snow', 'flood', 'worth', 'cop', 'shindig', 'fidalfication', 'lvblefrnd', 'remembr', 'fffff', 'kiosk', 'pleassssssseeeeee', 'durban', 'string', 'thx', 'configure', 'mind', 'asthma', 'french', 'aka', 'woot', 'approach', 'coveragd', 'rightly', 'nora', 'kip', 'missy', 'zogtorius', 'complete', 'permanent', 'panic', 'conected', 'reallyneed', 'groove', 'serena', 'receipt', 'wondar', 'endow', 'watevr', 'datz', 'ho', 'frnd', 'cedar', 'atm', 'bridge', 'pan', 'sophas', 'bottom', 'new', 'prof', 'footie', 'notify', 'derek', 'dial', 'resent', 'belongs', 'laundry', 'varaya', 'heron', 'gate', 'noon', 'admirer', 'jenny', 'fed', 'dammit', 'representative', 'sack', 'reduce', 'gland', 'railway', 'nething', 'gent', 'deduct', 'sehwag', 'tenerife', 'prescribed', 'salam', 'ganesh', 'mmmm', 'arent', 'textbuddy', 'va', 'wait', 'tirunelvai', 'george', 'karaoke', 'entitle', 'bluetoothhdset', 'arng', 'christian', 'starve', 'art', 'epsilon', 'backwards', 'jordan', 'line', 'lane', 'tick', 'jelly', 'activate', 'tear', 'cupboard', 'life', 'holy', 'prepaid', 'updat', 'evaluation', 'boatin', 'frnds', 'purity', 'lesson', 'free', 'diff', 'leadership', 'cornwall', 'urgent', 'kuch', 'ro', 'joking', 'bollox', 'smoothly', 'race', 'inconsiderate', 'surgical', 'bailiff', 'gauti', 'cry', 'xavier', 'menu', 'addict', 'torture', 'tsunami', 'gotto', 'god', 'sometimes', 'knackered', 'someplace', 'litre', 'xclusive', 'goto', 'sec', 'fake', 'tog', 'xxxxxxx', 'atrocious', 'acid', 'jog', 'interviw', 'zero', 'concert', 'tirupur', 'tool', 'page', 'brin', 'bray', 'tag', 'annoyin', 'panalam', 'ayn', 'countinlots', 'jos', 'dance', 'beth', 'distract', 'quite', 'notice', 'anyones', 'nasdaq', 'colin', 'cheese', 'skint', 'laid', 'quit', 'box', 'earlier', 'yavnt', 'vehicle', 'breathe', 'bare', 'dha', 'fill', 'tour', 'xuhui', 'nyc', 'grandfather', 'rael', 'prin', 'hee', 'anand', 'forgive', 'fumble', 'snd', 'gbp', 'drum', 'oja', 'unredeemed', 'sunscreen', 'dual', 'future', 'makin', 'independence', 'wrench', 'depressed', 'defo', 'dormitory', 'bid', 'wth', 'renew', 'ffffffffff', 'practice', 'outstanding', 'ice', 'algebra', 'camera', 'bruv', 'mmmmmm', 'cstore', 'complimentary', 'coupla', 'satthen', 'kindly', 'spile', 'confidence', 'yard', 'freaky', 'tonexs', 'increment', 'ccna', 'dialogue', 'spook', 'gokila', 'monday', 'conduct', 'usc', 'prove', 'merely', 'soon', 'removal', 'payback', 'semester', 'lyf', 'reality', 'yalru', 'base', 'ogunrinde', 'annoncement', 'harri', 'goodnite', 'takin', 'waste', 'borin', 'bishan', 'favor', 'blind', 'oso', 'shortcode', 'meaningful', 'try', 'edge', 'sometme', 'aunty', 'unbelievable', 'persian', 'rise', 'famamus', 'happenin', 'infront', 'exam', 'mornin', 'boston', 'pile', 'planning', 'freedom', 'job', 'marriage', 'hen', 'improve', 'natural', 'lolnice', 'position', 'pimple', 'adrink', 'water', 'activity', 'early', 'designation', 'cbe', 'active', 'proper', 'fart', 'gossip', 'journey', 'britney', 'mudyadhu', 'dramastorm', 'yck', 'chuckin', 'dload', 'service', 'spontaneously', 'loser', 'fromm', 'subscribe', 'chapter', 'hanumanji', 'flirt', 'costume', 'oz', 'lit', 'convince', 'chik', 'real', 'currently', 'ma', 'unconditionally', 'hearted', 'fromwrk', 'brandy', 'probpop', 'hamster', 'friday', 'gari', 'answer', 'landlineonly', 'odi', 'mobno', 'raiden', 'woodland', 'kaila', 'jan', 'kusruthi', 'key', 'jd', 'completes', 'uneventful', 'continue', 'rich', 'hasbro', 'deltomorrow', 'swashbuckling', 'hug', 'munsters', 'app', 'breakin', 'na', 'among', 'pas', 'daddy', 'franyxxxxx', 'grocer', 'afraid', 'tix', 'odalebeku', 'flash', 'nvq', 'chinatown', 'prakesh', 'response', 'ocean', 'soooo', 'webadres', 'somewhr', 'remembrs', 'so', 'lei', 'fool', 'instruction', 'engage', 'unhappiness', 'coulda', 'flippin', 'beer', 'lotto', 'prsn', 'smeone', 'halla', 'apeshit', 'coco', 'disclose', 'goodnight', 'nimbomsons', 'jot', 'bathing', 'sad', 'arsenal', 'suzy', 'deeraj', 'definitely', 'lanre', 'soundtrack', 'rhythm', 'collect', 'actually', 'mys', 'product', 'thk', 'membership', 'orig', 'ciao', 'fat', 'shijas', 'miller', 'sound', 'jolly', 'starshine', 'shangela', 'placement', 'ritten', 'juswoke', 'election', 'ag', 'hairdresser', 'operate', 'snappy', 'course', 'bra', 'iron', 'concentration', 'weight', 'bcaz', 'dice', 'strain', 'desparately', 'together', 'mw', 'thesedays', 'bath', 'ham', 'dysentry', 'shola', 'edition', 'pilate', 'heaven', 'wan', 'rummer', 'ml', 'frndshp', 'sends', 'v', 'hotel', 'semiobscure', 'whenever', 'gay', 'radiator', 'play', 'gam', 'fr', 'participate', 'grr', 'asia', 'slippery', 'howda', 'deus', 'embarassed', 'surround', 'character', 'wana', 'blank', 'enemy', 'rhode', 'pleasant', 'tuesday', 'congrats', 'doggy', 'presence', 'entertain', 'splash', 'unspoken', 'rude', 'viva', 'lect', 'tt', 'frwd', 'thy', 'nothin', 'weirdo', 'cliff', 'bought', 'darlin', 'ned', 'wtc', 'footprint', 'bore', 'meetins', 'mising', 'kinda', 'kisi', 'live', 'umma', 'declare', 'slaaaaave', 'blowing', 'neglet', 'ga', 'sch', 'myparents', 'sublet', 'rvx', 'administrator', 'john', 'spinout', 'barolla', 'toshiba', 'noe', 'ratio', 'brah', 'customercare', 'gail', 'fightng', 'heart', 'muchand', 'innu', 'shrink', 'cash', 'yan', 'icon', 'yoga', 'fast', 'china', 'tiz', 'disagreeable', 'bathe', 'ave', 'grin', 'nigro', 'truly', 'port', 'animation', 'push', 'bookedthe', 'wit', 'rubber', 'ring', 'katexxx', 'whether', 'nw', 'creativity', 'bsnl', 'recpt', 'seem', 'blastin', 'carryin', 'misfit', 'chile', 'argue', 'kay', 'hellogorgeous', 'sunroof', 'dwn', 'urgently', 'toothpaste', 'lotsly', 'dry', 'erutupalam', 'onlyfound', 'brison', 'wonderful', 'checkup', 'haf', 'gravity', 'edukkukayee', 'jamz', 'ure', 'machine', 'thinkin', 'horrible', 'invite', 'rstm', 'lovejen', 'janarige', 'punj', 'tease', 'bloo', 'polyh', 'sensible', 'tell', 'varma', 'chat', 'us', 'mustprovide', 'thursday', 'cook', 'yeovil', 'golf', 'consensus', 'theatre', 'kg', 'virgin', 'yorge', 'dollar', 'scotsman', 'clear', 'epi', 'second', 'loveme', 'grief', 'timin', 'arrival', 'chill', 'supreme', 'afterwards', 'mahal', 'afternon', 'floor', 'recharge', 'heap', 'safety', 'glorious', 'cleaning', 'drunkard', 'unrecognized', 'burger', 'sake', 'attention', 'fudge', 'surprised', 'abiola', 'actual', 'wifi', 'ffffuuuuuuu', 'kilo', 'bull', 'student', 'sh', 'unmits', 'source', 'mother', 'correctly', 'java', 'caller', 'eleven', 'tallahassee', 'reject', 'soladha', 'haiz', 'ntwk', 'yellow', 'adewale', 'tai', 'praise', 'gram', 'cloud', 'five', 'bangb', 'verify', 'meaningless', 'buying', 'residency', 'poorly', 'weapon', 'tee', 'fresh', 'priest', 'penny', 'mission', 'kaiez', 'doesnt', 'vital', 'ko', 'tom', 'nail', 'smsservices', 'arabian', 'scrap', 'soul', 'adore', 'grow', 'career', 'girlfrnd', 'call', 'wild', 'ltdhelpdesk', 'prize', 'se', 'bomb', 'ree', 'cross', 'bedrm', 'cast', 'opinion', 'expect', 'subpoly', 'dirt', 'lousy', 'thout', 'sagamu', 'sparkle', 'starer', 'firmware', 'vitamin', 'swayze', 'scrumptious', 'inc', 'apnt', 'role', 'presley', 'package', 'wish', 'dismay', 'whassup', 'reference', 'form', 'pressies', 'zealand', 'borrow', 'frank', 'puzzle', 'investigate', 'neville', 'royal', 'face', 'hlday', 'suitemates', 'applyed', 'sweater', 'paris', 'propose', 'thinked', 'wendy', 'realy', 'stoner', 'goin', 'scammer', 'ignorant', 'sudn', 'strewn', 'send', 'bc', 'blue', 'spot', 'printer', 'normally', 'office', 'bill', 'look', 'pooja', 'airtel', 'beautiful', 'pl', 'pull', 'rct', 'clas', 'tosend', 'ishtamayoo', 'reminder', 'sooo', 'tallent', 'wow', 'beyond', 'stubborn', 'disk', 'data', 'biatch', 'thirunelvali', 'assume', 'carpark', 'buttheres', 'kavalan', 'philosophical', 'probthat', 'mths', 'myspace', 'shudvetold', 'xy', 'velly', 'shortage', 'ambrith', 'masteriastering', 'cam', 'london', 'dinner', 'jade', 'sausage', 'massage', 'yetunde', 'uncle', 'recd', 'suppose', 'lily', 'august', 'thing', 'mnth', 'match', 'check', 'yetty', 'motorola', 'coach', 'auto', 'chinchilla', 'taunton', 'hdd', 'messy', 'nap', 'cld', 'lov', 'jada', 'aww', 'lambu', 'd', 'tantrum', 'bettr', 'sale', 'overa', 'dao', 'tddnewsletter', 'headache', 'bday', 'linerental', 'apologise', 'lecturer', 'bcoz', 'twiggs', 'fluid', 'cuck', 'faster', 'squeeze', 'pendent', 'cuddle', 'spageddies', 'angry', 'belligerent', 'nuerologist', 'vid', 'yay', 'lunchtime', 'phne', 'weirdy', 'grand', 'sucker', 'frontierville', 'imp', 'venugopal', 'earth', 'egbon', 'load', 'billion', 'disastrous', 'little', 'neglect', 'fail', 'lyric', 'slo', 'genius', 'fishrman', 'laden', 'flurry', 'nalli', 'jerk', 'expiry', 'snuggle', 'petexxx', 'kochi', 'super', 'inshah', 'hoo', 'dehydration', 'woulda', 'panty', 'cooked', 'meaning', 'kate', 'jiayin', 'husband', 'africa', 'select', 'happiness', 'chez', 'concern', 'fine', 'cooking', 'dismissial', 'accidant', 'lingo', 'soonlots', 'oops', 'poly', 'en', 'approx', 'shelf', 'sorrow', 'rose', 'salmon', 'bleak', 'rumble', 'kane', 'nh', 'sp', 'scary', 'constant', 'swimsuit', 'bahamas', 'robs', 'lighter', 'snap', 'aa', 'txt', 'max', 'entire', 'crickiting', 'flip', 'major', 'sexy', 'sm', 'gd', 'harlem', 'loooooool', 'corvette', 'sen', 'aaooooright', 'official', 'neither', 'republic', 'rayan', 'sprint', 'twenty', 'puzzeles', 'chicken', 'wad', 'wed', 'gudnite', 'suffer', 'ortxt', 'quickly', 'lonlines', 'cttargg', 'musthu', 'explain', 'morn', 'dena', 'machi', 'lionp', 'jon', 'king', 'wiv', 'appointment', 'link', 'fraction', 'arr', 'reception', 'bhaji', 'prompt', 'two', 'fifa', 'nowadays', 'gravy', 'application', 'sense', 'indian', 'posh', 'chore', 'mumbai', 'restrict', 'spl', 'crammed', 'break', 'lux', 'paragraph', 'barkley', 'comfort', 'bbdeluxe', 'amuse', 'macedonia', 'sneham', 'tampa', 'split', 'yet', 'lifebook', 'doug', 'eachother', 'fones', 'belly', 'recycle', 'westshore', 'corporation', 'staff', 'wheellock', 'nagar', 'miwa', 'love', 'cheat', 'luvd', 'ore', 'nydc', 'macho', 'top', 'present', 'reassurance', 'ujhhhhhhh', 'since', 'warm', 'category', 'wuldnt', 'less', 'aquarius', 'logo', 'sink', 'detroit', 'q', 'christmas', 'emergency', 'ijust', 'bakrid', 'dizzee', 'ecstacy', 'passport', 'sindu', 'an', 'mutation', 'gm', 'mathe', 'ghost', 'wah', 'screwd', 'hw', 'jaz', 'supose', 'wun', 'mystery', 'teresa', 'immed', 'smth', 'process', 'feed', 'spring', 'stock', 'vpod', 'nok', 'day', 'jack', 'txtstop', 'mu', 'gurl', 'decision', 'erode', 'lose', 'cat', 'digi', 'get', 'cinema', 'mileage', 'hat', 'sayhey', 'ultimately', 'prasad', 'lovable', 'operator', 'avenue', 'prolly', 'hide', 'vomitin', 'gas', 'studentfinancial', 'urgnt', 'bec', 'respectful', 'champlaxigating', 'crucify', 'sic', 'token', 'ax', 'nytho', 'perhaps', 'dark', 'beendropping', 'final', 'handset', 'em', 'duffer', 'doll', 'itna', 'brave', 'hustle', 'movie', 'drinking', 'nigpun', 'fuel', 'jeevithathile', 'craigslist', 'hate', 'april', 'motor', 'peach', 'horny', 'chatter', 'weightloss', 'drizzle', 'follow', 'voila', 'offline', 'korche', 'walk', 'gain', 'allows', 'fave', 'essential', 'doubt', 'main', 'stopcs', 'mark', 'honi', 'hopeu', 'fraud', 'compliment', 'weird', 'privacy', 'dhorte', 'cost', 'sticky', 'ralphs', 'chrgd', 'keluviri', 'ic', 'lanka', 'limit', 'fuckinnice', 'astne', 'selflessness', 'workand', 'heater', 'somebody', 'interest', 'playin', 'theory', 'decorate', 'kid', 'compensation', 'overheat', 'later', 'dobby', 'dictionary', 'ukp', 'honeymoon', 'mush', 'subsequent', 'thinkthis', 'coffee', 'spent', 'famous', 'sugardad', 'eastenders', 'finishd', 'zhong', 'strip', 'dude', 'leaf', 'oic', 'shame', 'charity', 'goodmorning', 'arty', 'arithmetic', 'callback', 'senor', 'bay', 'gei', 'enters', 'skill', 'onluy', 'exp', 'yell', 'never', 'queen', 'baig', 'fb', 'clever', 'interfued', 'ipads', 'piss', 'vat', 'nighters', 'tomarrow', 'yaxxx', 'behave', 'alright', 'filthyguys', 'siguviri', 'soryda', 'terrible', 'avalarr', 'subscrition', 'schedule', 'citizen', 'show', 'italian', 'hont', 'answerin', 'lennon', 'lead', 'hurry', 'announce', 'waqt', 'wml', 'entirely', 'accommodationvouchers', 'slave', 'disappear', 'piggy', 'wkly', 'theoretically', 'fetch', 'disc', 'aberdeen', 'mt', 'differ', 'sherawat', 'p', 'textand', 'afternoon', 'band', 'rcv', 'charge', 'txtin', 'slow', 'diwali', 'breadstick', 'babygoodbye', 'bergkamp', 'maximize', 'happen', 'soo', 'october', 'hmph', 'shirt', 'address', 'billy', 'neighbor', 'plate', 'wither', 'across', 'care', 'lazy', 'lesser', 'idc', 'heehee', 'quote', 'nooooooo', 'applebees', 'unfortuntly', 'ee', 'tb', 'stayin', 'camcorder', 'subscribed', 'carlos', 'wrks', 'checkin', 'hannaford', 'allday', 'judgemental', 'shldxxxx', 'pierre', 'ranjith', 'iq', 'grandma', 'yalrigu', 'shin', 'referin', 'callcost', 'frens', 'apartment', 'shrek', 'angel', 'auntie', 'der', 'clock', 'unfolds', 'ese', 'tough', 'hsbc', 'unsubscribed', 'couple', 'rto', 'ugadi', 'patent', 'offdam', 'iccha', 'kill', 'thinl', 'opener', 'folk', 'grinule', 'delay', 'evng', 'thet', 'rip', 'lager', 'waitin', 'nacho', 'male', 'upload', 'cc', 'clue', 'fran', 'anjie', 'reminds', 'accomodate', 'lifeis', 'dvg', 'caught', 'carton', 'place', 'treat', 'kappa', 'prior', 'muht', 'uup', 'steer', 'passionate', 'vewy', 'mo', 'image', 'tsandcs', 'pm', 'weaseling', 'group', 'bellearlier', 'director', 'canteen', 'photoshop', 'poke', 'night', 'wknd', 'blimey', 'shitin', 'blu', 'gre', 'destiny', 'mini', 'minor', 'away', 'beneficiary', 'fee', 'qet', 'borderline', 'high', 'colour', 'oi', 'saibaba', 'textin', 'partnership', 'end', 'adrian', 'oncall', 'nd', 'recognise', 'cutie', 'good', 'vaguely', 'decimal', 'riddance', 'holiday', 'beware', 'provider', 'dramatic', 'lifetime', 'appendix', 'stress', 'fault', 'parkin', 'nike', 'predict', 'invention', 'cruise', 'arrange', 'ah', 'timing', 'parco', 'lowes', 'satisfy', 'awkward', 'strict', 'tron', 'rebel', 'opt', 'private', 'disaster', 'approve', 'yah', 'dangerous', 'likeyour', 'mistake', 'smell', 'although', 'resolution', 'slot', 'figure', 'india', 'foley', 'really', 'mitsake', 'set', 'afew', 'woohoo', 'advise', 'everything', 'exhaust', 'solve', 'remove', 'mumtaz', 'tc', 'pear', 'embassy', 'faber', 'whatsup', 'sometime', 'zindgi', 'bros', 'positive', 'macleran', 'valid', 'big', 'nattil', 'sleep', 'brdget', 'ipod', 'dang', 'crazy', 'food', 'thedailydraw', 'darren', 'bac', 'raviyog', 'wisheds', 'violence', 'somerset', 'toppoly', 'simply', 'dirtiest', 'as', 'prepare', 'medicine', 'laurie', 'dependable', 'batchlor', 'psychologist', 'chex', 'archive', 'move', 'inclusive', 'wedding', 'hex', 'teju', 'towards', 'steyn', 'missionary', 'pudunga', 'married', 'heat', 'somewhat', 'monkey', 'tues', 'nat', 'teach', 'speechless', 'okden', 'emigrate', 'blackberry', 'wrnog', 'brb', 'topped', 'awww', 'anyone', 'house', 'oppose', 'built', 'dreamz', 'wotu', 'harder', 'web', 'theplace', 'driver', 'browser', 'pix', 'executive', 'lack', 'feb', 'freefone', 'promotion', 'amt', 'management', 'toss', 'eventually', 'smoking', 'phase', 'sell', 'bead', 'technology', 'gon', 'occur', 'greece', 'edhae', 'frnt', 'california', 'religiously', 'mundhe', 'exorcism', 'kintu', 'internet', 'olage', 'drinkin', 'marketing', 'pose', 'tomeandsaid', 'feel', 'november', 'jules', 'step', 'pc', 'memorable', 'tiime', 'dentist', 'yar', 'groovy', 'stool', 'irritated', 'ar', 'armenia', 'tolerance', 'harry', 'hol', 'fantastic', 'witout', 'unconsciously', 'tightly', 'meive', 'worc', 'dartboard', 'rupaul', 'reltnship', 'mango', 'totally', 'pain', 'iter', 'school', 'selfindependence', 'shave', 'basq', 'happens', 'wating', 'extreme', 'openin', 'somewhere', 'crave', 'yup', 'signin', 'bookmark', 'happier', 'kallis', 'jumper', 'close', 'tote', 'throwin', 'dificult', 'dogg', 'ibhltd', 'slipper', 'faith', 'wicklow', 'anytime', 'wellda', 'curry', 'nose', 'tasts', 'tarpon', 'ia', 'kvb', 'stressfull', 'ground', 'commit', 'kickboxing', 'camp', 'desparate', 'issue', 'meet', 'childish', 'prevent', 'thandiyachu', 'humanity', 'taco', 'personal', 'poortiyagi', 'vibrant', 'gettin', 'oh', 'june', 'thekingshead', 'actin', 'hassle', 'paypal', 'deserve', 'national', 'cell', 'uv', 'sapna', 'endless', 'chk', 'smoke', 'vettam', 'lol', 'lifpartnr', 'wid', 'computer', 'whenevr', 'skillgame', 'pandy', 'anyhow', 'stereophonics', 'cyst', 'ileave', 'wake', 'payed', 'tooo', 'studdying', 'nalla', 'boltblue', 'renewal', 'month', 'safely', 'single', 'devil', 'shd', 'bettersn', 'tip', 'loosu', 'wn', 'talkin', 'baby', 'necessity', 'abnormally', 'getstop', 'strtd', 'veggie', 'cm', 'symptom', 'orh', 'buz', 'senthil', 'game', 'al', 'open', 'funny', 'moji', 'premium', 'discreet', 'banneduk', 'meh', 'stamp', 'champneys', 'sane', 'lotta', 'excuse', 'jia', 'polyph', 'yo', 'pesky', 'manky', 'h', 'winnersclub', 'sooooo', 'pokkiri', 'themob', 'possessive', 'forth', 'luck', 'men', 'maraikara', 'fizz', 'fuckin', 'appropriate', 'nobody', 'portal', 'edrunk', 'urself', 'raja', 'mquiz', 'saeed', 'violet', 'accordin', 'prometazine', 'raed', 'gong', 'offering', 'mth', 'dearly', 'doin', 'walkin', 'obey', 'monoc', 'tscs', 'salt', 'father', 'agidhane', 'goigng', 'bruce', 'sleepingwith', 'buen', 'vatian', 'clash', 'landmark', 'sall', 'glory', 'mycalls', 'slurp', 'ranju', 'rtm', 'praps', 'frequently', 'stable', 'happiest', 'reflex', 'checkmate', 'employee', 'swalpa', 'neck', 'ringtones', 'slide', 'abta', 'nasty', 'blanket', 'gist', 'stroke', 'different', 'spell', 'wats', 'transfred', 'meal', 'hun', 'conserve', 'fone', 'svc', 'mirror', 'vodka', 'windy', 'faglord', 'expert', 'bb', 'baaaaabe', 'accumulation', 'wa', 'darker', 'gentle', 'enketa', 'nbme', 'oblivious', 'admit', 'snake', 'swatch', 'dubsack', 'lmao', 'am', 'cst', 'bcm', 'influx', 'needa', 'hourish', 'gayle', 'surely', 'pickle', 'pixel', 'horo', 'right', 'inconvenience', 'prayer', 'bambling', 'generally', 'ignore', 'support', 'n', 'thin', 'extra', 'chip', 'peep', 'knock', 'sorta', 'netflix', 'colleg', 'hr', 'jabo', 'stu', 'hostile', 'honeybee', 'prescripiton', 'feathery', 'urgran', 'cheap', 'next', 'rather', 'tactless', 'spoilt', 'sf', 'sinco', 'tamilnadu', 'eek', 'tackle', 'password', 'everyone', 'ur', 'happily', 'music', 'fowler', 'dey', 'patient', 'comin', 'inclu', 'ca', 'wrkin', 'plan', 'plaza', 'hogolo', 'chapel', 'btwn', 'tiempo', 'er', 'asthere', 'hanger', 'coimbatore', 'muah', 'meat', 'hillsborough', 'cr', 'atlanta', 'dem', 'bridgwater', 'ryder', 'ten', 'stylist', 'chachi', 'save', 'filthy', 'peril', 'sez', 'gyno', 'vasai', 'ding', 'afghanistan', 'optout', 'greeting', 'wahay', 'ami', 'yer', 'randomly', 'color', 'syllabus', 'ear', 'complaint', 'swhrt', 'police', 'ntt', 'cashed', 'audition', 'calicut', 'arngd', 'deny', 'webpage', 'joy', 'wet', 'postcode', 'score', 'playng', 'scallies', 'glasgow', 'mmmmmmm', 'summer', 'act', 'erm', 'unnecessarily', 'violate', 'houseful', 'followin', 'tata', 'proove', 'flight', 'murder', 'hello', 'christ', 'oyster', 'oga', 'reach', 'workout', 'astrology', 'utter', 'organise', 'wrk', 'hlp', 'clover', 'fish', 'cricketer', 'shoul', 'enc', 'chennai', 'fab', 'notixiquating', 'event', 'prashanthettan', 'sept', 'dontcha', 'adam', 'uwant', 'practise', 'console', 'law', 'subtoitles', 'department', 'today', 'l', 'incorrect', 'scorable', 'hungry', 'juliana', 'mature', 'uncountable', 'preview', 'gravel', 'allow', 'smith', 'balloon', 'outside', 'sex', 'telugu', 'washob', 'pussy', 'wheel', 'becoz', 'medical', 'print', 'prob', 'aunt', 'stuff', 'tgxxrz', 'maintain', 'loyal', 'command', 'screen', 'sufficient', 'incident', 'intha', 'colourful', 'fatty', 'caveboy', 'sry', 'post', 'ayo', 'setting', 'paper', 'ak', 'slowly', 'childrens', 'thia', 'apart', 'politician', 'snatch', 'assessment', 'til', 'mrng', 'delayed', 'quiteamuzing', 'lingerie', 'dryer', 'gorgeous', 'michael', 'one', 'siva', 'sabarish', 'nervous', 'mobile', 'syria', 'there', 'thasa', 'oooooh', 'getsleep', 'statement', 'head', 'lonely', 'vomit', 'hunny', 'blonde', 'madodu', 'nan', 'block', 'tahan', 'haha', 'amanda', 'rate', 'access', 'cricket', 'plumbing', 'opponenter', 'txtx', 'accident', 'ipad', 'imat', 'public', 'dental', 'eshxxxxxxxxxxx', 'hp', 'tellmiss', 'plyr', 'await', 'rgds', 'entropication', 'round', 'skype', 'tunde', 'suply', 'carlie', 'beach', 'bloke', 'ran', 'teeth', 'plural', 'escape', 'melt', 'merry', 'picture', 'mmsto', 'lunsford', 'hill', 'double', 'freak', 'toot', 'impressed', 'anderson', 'neft', 'dehydrate', 'secret', 'chase', 'burgundy', 'rinu', 'outfor', 'exmpel', 'formal', 'weekday', 'much', 'important', 'oooh', 'juicy', 'threat', 'trouble', 'replace', 'divorce', 'helpful', 'watchng', 'opening', 'sory', 'shape', 'sr', 'jp', 'geeee', 'per', 'requirement', 'shoulder', 'suck', 'tobed', 'buzz', 'challenge', 'anot', 'st', 'probably', 'html', 'disturb', 'dis', 'filth', 'icic', 'manage', 'map', 'benny', 'amk', 'league', 'reppurcussions', 'algarve', 'wicked', 'trek', 'planet', 'non', 'uve', 'sit', 'nevr', 'morphine', 'area', 'add', 'ha', 'con', 'smack', 'cable', 'press', 'gnarl', 'troubleshoot', 'class', 'agency', 'ibm', 'nursery', 'dat', 'accept', 'lab', 'hesitation', 'bluff', 'liquor', 'dungerees', 'ipaditan', 'forgets', 'buyer', 'reverse', 'tortilla', 'hon', 'yun', 'supplier', 'dead', 'landline', 'sutra', 'dabooks', 'jazz', 'ripped', 'trust', 'explicitly', 'kano', 'repent', 'muz', 'logoff', 'within', 'nookii', 'partner', 'lul', 'impose', 'surf', 'responsible', 'huh', 'woah', 'fox', 'barmed', 'workin', 'sarcasm', 'peak', 'hum', 'penis', 'discus', 'avoids', 'naughty', 'avenge', 'listn', 'converter', 'bx', 'cuz', 'halloween', 'aig', 'park', 'fav', 'oyea', 'mel', 'alert', 'refuse', 'moral', 'fit', 'sunoco', 'kept', 'quality', 'goodo', 'imin', 'tait', 'hogidhe', 'virgil', 'frm', 'upcharge', 'knw', 'ecstasy', 'é', 'reassure', 'outbid', 'gynae', 'cochin', 'url', 'power', 'ktv', 'grace', 'prem', 'express', 'didntgive', 'mountain', 'choice', 'germany', 'tomorrow', 'sunny', 'teacher', 'owl', 'lately', 'tall', 'syd', 'buck', 'tv', 'countin', 'fifth', 'pocy', 'whatever', 'peace', 'coax', 'bw', 'global', 'daily', 'winner', 'witin', 'yen', 'knickers', 'twin', 'rply', 'telly', 'village', 'srt', 'bpo', 'garage', 'illness', 'mofo', 'possession', 'constantly', 'temper', 'dp', 'greatly', 'ubi', 'redeemable', 'monster', 'wlcome', 'noooooooo', 'money', 'possessiveness', 'nyt', 'souveniers', 'campus', 'needle', 'euro', 'lucyxx', 'ctla', 'hoody', 'pataistha', 'favorite', 'ettans', 'whilltake', 'fails', 'overdose', 'uncomfortable', 'coccooning', 'time', 'himso', 'already', 'yuou', 'feelingood', 'tuition', 'rahul', 'analysis', 'derp', 'stomp', 'denis', 'orc', 'route', 'gailxx', 'eckankar', 'swell', 'fps', 'thepub', 'tea', 'xafter', 'exhibition', 'xchat', 'bugis', 'hungover', 'voda', 'pretsovru', 'woul', 'smokin', 'spoon', 'stapati', 'bulb', 'gastroenteritis', 'pale', 'ink', 'apologetic', 'hesitate', 'psychiatrist', 'flyng', 'heavily', 'coin', 'annoy', 'officially', 'nudist', 'forum', 'favourite', 'jay', 'warwick', 'howu', 'guild', 'mmmmm', 'upto', 'college', 'shout', 'whose', 'neway', 'algorithm', 'texas', 'chillin', 'zoe', 'born', 'sem', 'ahhh', 'psp', 'sea', 'lotr', 'paul', 'even', 'unconscious', 'center', 'hole', 'drastic', 'rec', 'weather', 'wherre', 'hooch', 'inmind', 'brilliant', 'co', 'mobilesvary', 'toughest', 'unjalur', 'zoom', 'princess', 'switch', 'havent', 'react', 'developed', 'ultimate', 'vary', 'spiritual', 'brothas', 'abstract', 'trip', 'along', 'gap', 'bring', 'singapore', 'mutai', 'unsubscribe', 'hectic', 'butting', 'breathing', 'wrongly', 'nick', 'death', 'nordstrom', 'ger', 'goodevening', 'ente', 'breaker', 'ymca', 'iknow', 'drop', 'city', 'consider', 'minnaminunginte', 'casualty', 'jb', 'overdid', 'genuine', 'erupt', 'budget', 'loud', 'yunny', 'wherevr', 'story', 'lamp', 'battery', 'pharmacy', 'untamed', 'drug', 'muchxxlove', 'shoppin', 'beneath', 'vip', 'sick', 'tranquility', 'raj', 'comment', 'stay', 'frog', 'date', 'elsewhere', 'hint', 'aiyo', 'buff', 'selfish', 'dd', 'skateboard', 'craziest', 'sipix', 'ibored', 'happy', 'properly', 'walmart', 'laugh', 'vijaykanth', 'el', 'hiphop', 'intrude', 'brum', 'admission', 'tm', 'previously', 'phil', 'steal', 'de', 'jap', 'chap', 'delivery', 'lavender', 'brat', 'green', 'potential', 'classmate', 'okday', 'hppnss', 'wetherspoons', 'hear', 'babe', 'sankranti', 'freephone', 'tongue', 'pic', 'film', 'navigate', 'excellent', 'talk', 'beverage', 'wise', 'toll', 'many', 'potter', 'engagement', 'holder', 'tau', 'register', 'current', 'doom', 'convincing', 'charm', 'duck', 'evone', 'please', 'desperate', 'linear', 'ajith', 'keypad', 'shot', 'original', 'aight', 'amrita', 'digit', 'mca', 'footbl', 'write', 'voicemail', 'wonder', 'coincidence', 'grant', 'worried', 'exorcist', 'sheet', 'attack', 'ppm', 'natalja', 'outage', 'thanku', 'astoundingly', 'maniac', 'shahjahan', 'season', 'suite', 'thkin', 'showr', 'ceiling', 'nitro', 'due', 'instantly', 'feellikw', 'bsn', 'dine', 'wot', 'gt', 'summon', 'cheetos', 'holby', 'wenwecan', 'hallaq', 'connect', 'spk', 'fantasy', 'signing', 'aft', 'thriller'}\n"
          ]
        }
      ]
    },
    {
      "cell_type": "code",
      "source": [
        "\n",
        "\n"
      ],
      "metadata": {
        "id": "XV_VLI2k-zoO"
      },
      "execution_count": 195,
      "outputs": []
    },
    {
      "cell_type": "code",
      "source": [],
      "metadata": {
        "id": "jrcc3vUeAV5J"
      },
      "execution_count": 195,
      "outputs": []
    },
    {
      "cell_type": "markdown",
      "source": [
        "# Frequency based word Embeddings\n",
        " - BOW\n",
        " - TFIDF"
      ],
      "metadata": {
        "id": "LxzSowjm-U64"
      }
    },
    {
      "cell_type": "code",
      "source": [
        "import numpy as np\n",
        "from collections import Counter\n",
        "from math import log\n",
        "\n",
        "# Corpus\n",
        "corpus = [\n",
        "    [\"This\", \"movie\", \"is\", \"very\", \"scary\", \"and\", \"long\"],\n",
        "    [\"This\", \"movie\", \"is\", \"not\", \"scary\", \"and\", \"is\", \"slow\"],\n",
        "    [\"This\", \"movie\", \"is\", \"spooky\", \"and\", \"good\"]\n",
        "]\n",
        "\n",
        "# Function to create Bag-of-Words matrix\n",
        "def create_bow_matrix(corpus):\n",
        "    unique_words = set(word for doc in corpus for word in doc)\n",
        "    word_to_index = {word: i for i, word in enumerate(unique_words)}\n",
        "    bow_matrix = np.zeros((len(corpus), len(unique_words)))\n",
        "    for i, doc in enumerate(corpus):\n",
        "        word_counts = Counter(doc)\n",
        "        for word, count in word_counts.items():\n",
        "            bow_matrix[i, word_to_index[word]] = count\n",
        "    return bow_matrix, list(unique_words)\n",
        "\n",
        "# Function to create TF-IDF matrix\n",
        "def create_tfidf_matrix(corpus):\n",
        "    bow_matrix, unique_words = create_bow_matrix(corpus)\n",
        "    tfidf_matrix = np.zeros(bow_matrix.shape)\n",
        "    doc_count = len(corpus)\n",
        "    for i, doc in enumerate(corpus):\n",
        "        word_counts = Counter(doc)\n",
        "        doc_length = sum(word_counts.values())\n",
        "        for word, count in word_counts.items():\n",
        "            word_index = unique_words.index(word)\n",
        "            tf = log(count / doc_length +1)\n",
        "            idf = log(doc_count / sum(1 for doc in corpus if word in doc))\n",
        "            tfidf_matrix[i, word_index] = tf * idf\n",
        "    return tfidf_matrix, unique_words\n",
        "\n",
        "# Create Bag-of-Words matrix\n",
        "bow_matrix, bow_feature_names = create_bow_matrix(corpus)\n",
        "\n",
        "# Create TF-IDF matrix\n",
        "tfidf_matrix, tfidf_feature_names = create_tfidf_matrix(corpus)\n",
        "\n",
        "# Print Bag-of-Words matrix and feature names\n",
        "print(\"Bag-of-Words Matrix:\")\n",
        "print(bow_matrix)\n",
        "print(\"\\nFeature Names:\")\n",
        "print(bow_feature_names)\n",
        "\n",
        "# Print TF-IDF matrix and feature names\n",
        "print(\"\\nTF-IDF Matrix:\")\n",
        "print(tfidf_matrix)\n",
        "print(\"\\nFeature Names:\")\n",
        "print(tfidf_feature_names)"
      ],
      "metadata": {
        "id": "o4xRBa0pHtjo",
        "outputId": "e0555eb3-1256-47fc-ab30-b1fa9d85ee29",
        "colab": {
          "base_uri": "https://localhost:8080/"
        }
      },
      "execution_count": 2,
      "outputs": [
        {
          "output_type": "stream",
          "name": "stdout",
          "text": [
            "Bag-of-Words Matrix:\n",
            "[[0. 1. 0. 1. 1. 1. 0. 1. 1. 0. 1.]\n",
            " [0. 1. 1. 0. 1. 1. 0. 1. 2. 1. 0.]\n",
            " [1. 1. 0. 0. 1. 1. 1. 0. 1. 0. 0.]]\n",
            "\n",
            "Feature Names:\n",
            "['spooky', 'This', 'not', 'very', 'movie', 'and', 'good', 'scary', 'is', 'slow', 'long']\n",
            "\n",
            "TF-IDF Matrix:\n",
            "[[0.         0.         0.         0.14669923 0.         0.\n",
            "  0.         0.05414232 0.         0.         0.14669923]\n",
            " [0.         0.         0.12939789 0.         0.         0.\n",
            "  0.         0.04775691 0.         0.12939789 0.        ]\n",
            " [0.16935183 0.         0.         0.         0.         0.\n",
            "  0.16935183 0.         0.         0.         0.        ]]\n",
            "\n",
            "Feature Names:\n",
            "['spooky', 'This', 'not', 'very', 'movie', 'and', 'good', 'scary', 'is', 'slow', 'long']\n"
          ]
        }
      ]
    }
  ]
}