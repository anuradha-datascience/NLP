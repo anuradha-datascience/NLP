{
  "nbformat": 4,
  "nbformat_minor": 0,
  "metadata": {
    "colab": {
      "provenance": [],
      "authorship_tag": "ABX9TyNbN64Qi+YuYJUM9NkQWI/0",
      "include_colab_link": true
    },
    "kernelspec": {
      "name": "python3",
      "display_name": "Python 3"
    },
    "language_info": {
      "name": "python"
    }
  },
  "cells": [
    {
      "cell_type": "markdown",
      "metadata": {
        "id": "view-in-github",
        "colab_type": "text"
      },
      "source": [
        "<a href=\"https://colab.research.google.com/github/anuradha-datascience/NLP/blob/main/Assignment_NLP.ipynb\" target=\"_parent\"><img src=\"https://colab.research.google.com/assets/colab-badge.svg\" alt=\"Open In Colab\"/></a>"
      ]
    },
    {
      "cell_type": "markdown",
      "source": [
        "# Assignment Description\n",
        "Description of Data:\n",
        "\n",
        "\n",
        "Summary — text of the review\n",
        "\n",
        " Perform EDA and necessary pre-processing steps in dataset. (2 Mark)\n",
        "\n",
        "Using the LDA algorithm create the Topics (Min 10) for the Corpus (2 Mark)\n",
        "\n",
        "NOTE: Use Summary Column\n",
        "\n",
        "Compute the coherence score and print Topics Extracted. (2 Mark)\n",
        "\n",
        "Visualize the topics (1 Mark)\n",
        "\n",
        "Plot the dependency parser for any two random sentences from the entire\n",
        "corpus/dataset that has at least 10 words in the sentence. Make sure that dependency\n",
        "\n",
        "parser looks good and should visually understandable. (3 Mark)"
      ],
      "metadata": {
        "id": "jlINSs5cMVUD"
      }
    },
    {
      "cell_type": "markdown",
      "source": [
        "# Load Data"
      ],
      "metadata": {
        "id": "6onT_DPdMoNz"
      }
    },
    {
      "cell_type": "code",
      "source": [
        "import pandas as pd\n",
        "df=pd.read_csv(\"Mobile Accessories.csv\")\n",
        "df.head()"
      ],
      "metadata": {
        "id": "k8WBLVYNMouX"
      },
      "execution_count": null,
      "outputs": []
    },
    {
      "cell_type": "markdown",
      "source": [
        "# EDA and Text Preprocessing - Summary Column"
      ],
      "metadata": {
        "id": "C2sp8WskMfQq"
      }
    },
    {
      "cell_type": "code",
      "execution_count": null,
      "metadata": {
        "id": "kKblEoG3MDUe"
      },
      "outputs": [],
      "source": []
    }
  ]
}